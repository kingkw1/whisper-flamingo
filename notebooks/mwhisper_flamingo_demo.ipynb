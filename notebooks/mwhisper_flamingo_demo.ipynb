{
 "cells": [
  {
   "cell_type": "markdown",
   "metadata": {
    "id": "I185Zz0xAowG"
   },
   "source": [
    "# Overview\n",
    "- Decode Whisper fine-tuned and Whisper-Flamingo on MuAViC Es\n",
    "- Default beam size is 1, but the paper uses beam size of 5"
   ]
  },
  {
   "cell_type": "markdown",
   "metadata": {
    "id": "M410iRyyqLwO"
   },
   "source": [
    "# Setup"
   ]
  },
  {
   "cell_type": "code",
   "execution_count": 1,
   "metadata": {
    "colab": {
     "base_uri": "https://localhost:8080/"
    },
    "id": "K8w5-I_mi8N6",
    "outputId": "7778bf79-2844-41e0-d150-817f87b8e84e"
   },
   "outputs": [
    {
     "name": "stdout",
     "output_type": "stream",
     "text": [
      "1.22.0\n",
      "2.14.0\n"
     ]
    }
   ],
   "source": [
    "# Verify the correct versions are loaded\n",
    "import numpy; print(numpy.__version__)\n",
    "import tensorboard; print(tensorboard.__version__)"
   ]
  },
  {
   "cell_type": "code",
   "execution_count": 21,
   "metadata": {},
   "outputs": [
    {
     "name": "stdout",
     "output_type": "stream",
     "text": [
      "Wed Feb 12 11:04:34 2025       \n",
      "+---------------------------------------------------------------------------------------+\n",
      "| NVIDIA-SMI 535.230.02             Driver Version: 535.230.02   CUDA Version: 12.2     |\n",
      "|-----------------------------------------+----------------------+----------------------+\n",
      "| GPU  Name                 Persistence-M | Bus-Id        Disp.A | Volatile Uncorr. ECC |\n",
      "| Fan  Temp   Perf          Pwr:Usage/Cap |         Memory-Usage | GPU-Util  Compute M. |\n",
      "|                                         |                      |               MIG M. |\n",
      "|=========================================+======================+======================|\n",
      "|   0  NVIDIA RTX A5000               On  | 00000000:17:00.0 Off |                  Off |\n",
      "| 30%   25C    P8              20W / 230W |   6001MiB / 24564MiB |      0%      Default |\n",
      "|                                         |                      |                  N/A |\n",
      "+-----------------------------------------+----------------------+----------------------+\n",
      "|   1  NVIDIA RTX A5000               On  | 00000000:31:00.0 Off |                  Off |\n",
      "| 30%   26C    P8              22W / 230W |      4MiB / 24564MiB |      0%      Default |\n",
      "|                                         |                      |                  N/A |\n",
      "+-----------------------------------------+----------------------+----------------------+\n",
      "|   2  NVIDIA RTX A5000               On  | 00000000:B1:00.0 Off |                  Off |\n",
      "| 30%   26C    P8              20W / 230W |      4MiB / 24564MiB |      0%      Default |\n",
      "|                                         |                      |                  N/A |\n",
      "+-----------------------------------------+----------------------+----------------------+\n",
      "|   3  NVIDIA RTX A5000               On  | 00000000:CA:00.0 Off |                  Off |\n",
      "| 30%   27C    P8              18W / 230W |      4MiB / 24564MiB |      0%      Default |\n",
      "|                                         |                      |                  N/A |\n",
      "+-----------------------------------------+----------------------+----------------------+\n",
      "                                                                                         \n",
      "+---------------------------------------------------------------------------------------+\n",
      "| Processes:                                                                            |\n",
      "|  GPU   GI   CI        PID   Type   Process name                            GPU Memory |\n",
      "|        ID   ID                                                             Usage      |\n",
      "|=======================================================================================|\n",
      "|    0   N/A  N/A   3618357      C   ...vs/anaconda3/envs/muavic/bin/python     5994MiB |\n",
      "+---------------------------------------------------------------------------------------+\n"
     ]
    }
   ],
   "source": [
    "!nvidia-smi"
   ]
  },
  {
   "cell_type": "code",
   "execution_count": 3,
   "metadata": {
    "colab": {
     "base_uri": "https://localhost:8080/"
    },
    "id": "w7jq5jSzE8lG",
    "outputId": "4e10dda6-2440-47d3-c117-58c6d7b858b8"
   },
   "outputs": [
    {
     "name": "stderr",
     "output_type": "stream",
     "text": [
      "/usr/users/roudi/vtenvs/anaconda3/envs/muavic/lib/python3.8/site-packages/transformers/utils/hub.py:123: FutureWarning: Using `TRANSFORMERS_CACHE` is deprecated and will be removed in v5 of Transformers. Use `HF_HOME` instead.\n",
      "  warnings.warn(\n",
      "2025-02-12 10:55:14 | INFO | lightning_fabric.utilities.seed | Seed set to 3407\n"
     ]
    }
   ],
   "source": [
    "import sys\n",
    "sys.path.insert(0, 'av_hubert/fairseq')\n",
    "import os\n",
    "import json\n",
    "import argparse\n",
    "import numpy as np\n",
    "import torch\n",
    "from torch import nn\n",
    "from scipy.io import wavfile\n",
    "import pandas as pd\n",
    "import whisper\n",
    "from tqdm import tqdm\n",
    "import sacrebleu\n",
    "from fairseq.scoring.wer import WerScorer, WerScorerConfig\n",
    "#from spec_augment import spec_augment\n",
    "from utils import (\n",
    "    load_data,\n",
    "    WhisperVideoCollatorWithPadding,\n",
    ")\n",
    "from utils_batch_samplers import LengthBatchSampler\n",
    "from whisper_ft_muavic_video import MuavicVideoDataset\n",
    "from pytorch_lightning import LightningModule\n",
    "from pytorch_lightning import Trainer, seed_everything"
   ]
  },
  {
   "cell_type": "code",
   "execution_count": 4,
   "metadata": {
    "colab": {
     "base_uri": "https://localhost:8080/"
    },
    "id": "QbMaE4r4E8lI",
    "outputId": "080b578a-a0d9-4b69-d4c1-35758e0a46e6"
   },
   "outputs": [
    {
     "name": "stdout",
     "output_type": "stream",
     "text": [
      "/data/sls/u/meng/roudi/whisper-flamingo/whisper/__init__.py\n"
     ]
    }
   ],
   "source": [
    "# verify that we are using the local whisper\n",
    "print(whisper.__file__)"
   ]
  },
  {
   "cell_type": "markdown",
   "metadata": {
    "id": "IXyrYOyfE8lJ"
   },
   "source": [
    "# Decode Whisper Fine-tuned Small for Es ASR"
   ]
  },
  {
   "cell_type": "code",
   "execution_count": 10,
   "metadata": {
    "id": "wqqfhutgE8lJ"
   },
   "outputs": [],
   "source": [
    "# general configs\n",
    "lang = 'es'\n",
    "model_type = 'small'\n",
    "\n",
    "noise_snr = 0 # noisy\n",
    "# noise_snr = 1000 # clean\n",
    "\n",
    "noise_fn = 'noise/babble/lrs3/test.tsv'\n",
    "checkpoint_root = ''\n",
    "\n",
    "beam_size = 1\n",
    "# beam_size = 15\n",
    "\n",
    "fp16 = True if torch.cuda.is_available() else False"
   ]
  },
  {
   "cell_type": "code",
   "execution_count": 11,
   "metadata": {
    "id": "TSfaoRVDE8lK"
   },
   "outputs": [],
   "source": [
    "# asr config\n",
    "checkpoint = 'models/whisper_multi-all_small.pt' # audio\n",
    "modalities = 'asr'\n",
    "use_av_hubert_encoder = 0\n",
    "av_fusion = 'early'\n",
    "video_model_path=None,\n",
    "av_hubert_path=None,\n"
   ]
  },
  {
   "cell_type": "code",
   "execution_count": 12,
   "metadata": {
    "colab": {
     "base_uri": "https://localhost:8080/"
    },
    "id": "CdPvGJUKE8lK",
    "outputId": "669ba6cb-f684-407f-be4d-649ef1198685"
   },
   "outputs": [
    {
     "name": "stderr",
     "output_type": "stream",
     "text": [
      "2025-02-12 10:55:35 | INFO | lightning_fabric.utilities.seed | Seed set to 3407\n"
     ]
    },
    {
     "name": "stdout",
     "output_type": "stream",
     "text": [
      "Removed 136 samples with missing video (before filtering lengths)\n",
      "Removed 0 samples with missing text\n",
      "Total hours train : 204.29574397569445\n",
      "es train 124717 123236\n",
      "Removed 0 samples with missing video (before filtering lengths)\n",
      "Removed 0 samples with missing text\n",
      "Total hours valid : 1.450880486111111\n",
      "es valid 905 898\n",
      "Removed 0 samples with missing video (before filtering lengths)\n",
      "Removed 0 samples with missing text\n",
      "Total hours test : 1.728941527777778\n",
      "es test 1012 1012\n",
      "Total data lengths\n",
      "123236\n",
      "898\n",
      "1012\n",
      "Multilingual: {} True\n",
      "Multilingual tokenizer : True\n",
      "Dataloader max length : None\n",
      "Loaded 1 noise wavs\n"
     ]
    }
   ],
   "source": [
    "def setup_data():\n",
    "    checkpoint_path = os.path.join(checkpoint_root, checkpoint)\n",
    "    SAMPLE_RATE = 16000\n",
    "    SEED = 3407\n",
    "    seed_everything(SEED, workers=True)\n",
    "\n",
    "    audio_transcript_pair_list = load_data(480000, 350, [lang], muavic_root='',\n",
    "                                           include_audio_lens=True, lrs2=False, vc2=True)\n",
    "    test_dataset =  audio_transcript_pair_list['test']\n",
    "    test_dataset = [[i[0], i[1].replace('/data/sls/scratch/roudi/datasets/muavic/',\n",
    "                                        ''),\n",
    "                                         i[2], i[3]] for i in test_dataset]# fix paths\n",
    "    \n",
    "    #test_dataset = [[i[0], i[1],i[2], i[3]] for i in test_dataset] # fix paths\n",
    "    multilingual = True if 'large' in model_type or 'en' not in model_type else False\n",
    "    print(\"Multilingual: {}\", multilingual)\n",
    "    tokenizer = whisper.tokenizer.get_tokenizer(multilingual=True, task='transcribe') # NOTE: use transcribe token as hack\n",
    "    print(\"Multilingual tokenizer : {}\".format(multilingual))\n",
    "    special_token_set = set(tokenizer.special_tokens.values())\n",
    "    dataset = MuavicVideoDataset(test_dataset,\n",
    "                                    tokenizer,\n",
    "                                    SAMPLE_RATE,\n",
    "                                    model_type,\n",
    "                                    max_length=None if checkpoint_path else SAMPLE_RATE * 30,\n",
    "                                    spec_augment=\"\", # no spec augment\n",
    "                                    noise_prob=1 if noise_snr == 0 else 0, # TODO: implement non-0 snr\n",
    "                                    noise_fn = noise_fn,\n",
    "                                    train=False, # video center crop, no flip,\n",
    "                                    noise_snr=  noise_snr,\n",
    "                                )\n",
    "\n",
    "    length_sorter = LengthBatchSampler(batch_bins=SAMPLE_RATE * 40 if checkpoint_path and \\\n",
    "                                    beam_size == 1 else 1,\n",
    "                                shapes=[i[3] for i in test_dataset],\n",
    "                                sort_in_batch='descending',\n",
    "                                sort_batch='descending',\n",
    "                                drop_last=False)\n",
    "\n",
    "    dataloader = torch.utils.data.DataLoader(dataset,\n",
    "                        num_workers=8,\n",
    "                        collate_fn=WhisperVideoCollatorWithPadding(),\n",
    "                        batch_sampler=length_sorter\n",
    "                        )\n",
    "    return tokenizer, special_token_set, dataloader\n",
    "tokenizer, special_token_set, dataloader = setup_data()"
   ]
  },
  {
   "cell_type": "code",
   "execution_count": 13,
   "metadata": {
    "colab": {
     "base_uri": "https://localhost:8080/"
    },
    "id": "qSSlNmCKE8lK",
    "outputId": "eea6ffaa-d74a-45c9-b84e-60cb64104872"
   },
   "outputs": [
    {
     "name": "stdout",
     "output_type": "stream",
     "text": [
      "load modelmodels/whisper_multi-all_small.pt\n",
      "Loading Whisper\n"
     ]
    },
    {
     "name": "stdout",
     "output_type": "stream",
     "text": [
      "Whisper dropout rate : 0.0\n",
      "Loading checkpoint\n",
      "dict_keys(['state_dict'])\n"
     ]
    }
   ],
   "source": [
    "def load_model():\n",
    "    checkpoint_path = os.path.join(checkpoint_root, checkpoint)\n",
    "    print(\"load model\" + checkpoint_path)\n",
    "    print(\"Loading Whisper\")\n",
    "    whisper_model = whisper.load_model(model_type,\n",
    "                                    video=True if av_fusion == 'separate' else 0,\n",
    "                                    video_model_path=video_model_path,\n",
    "                                    av_hubert_path=av_hubert_path,\n",
    "                                    av_hubert_encoder=use_av_hubert_encoder,\n",
    "                                    av_fusion=av_fusion,\n",
    "                                    add_gated_x_attn=1 if av_fusion == 'separate' else 0)\n",
    "\n",
    "    if checkpoint_path is not None:\n",
    "        print(\"Loading checkpoint\")\n",
    "        state_dict = torch.load(checkpoint_path, map_location=torch.device('cpu'))\n",
    "        print(state_dict.keys())\n",
    "        state_dict = state_dict['state_dict']\n",
    "        state_dict_updated = {k[6:]: v  for k, v in state_dict.items()} # remove 'model.'\n",
    "        try: # newer models have learnable scaler init 1\n",
    "            whisper_model.load_state_dict(state_dict_updated)\n",
    "        except BaseException as e:\n",
    "            print(str(e))\n",
    "            print(\"Loading weights with strict=False\")\n",
    "            whisper_model.load_state_dict(state_dict_updated, strict=False)\n",
    "\n",
    "    if fp16 and use_av_hubert_encoder == 1:\n",
    "        whisper_model.encoder.video_projection_scalar.half()\n",
    "        whisper_model.encoder.video_model.half()\n",
    "        model_to_num_layers = {'small': 12, 'medium': 24, 'large-v2': 32}\n",
    "        if av_fusion == 'separate':\n",
    "            for i in range(model_to_num_layers[model_type]):\n",
    "                whisper_model.decoder.blocks[i].attn_gate.data = whisper_model.decoder.blocks[i].attn_gate.half()\n",
    "                whisper_model.decoder.blocks[i].ff_gate.data = whisper_model.decoder.blocks[i].ff_gate.half()\n",
    "    return whisper_model\n",
    "whisper_model = load_model()"
   ]
  },
  {
   "cell_type": "code",
   "execution_count": 14,
   "metadata": {
    "id": "QUxdoOi8E8lL"
   },
   "outputs": [],
   "source": [
    "def decode_model(num_batches = -1):\n",
    "    if beam_size == 1: # greedy search\n",
    "        options = whisper.DecodingOptions(language=lang, fp16=fp16, without_timestamps=True)\n",
    "    else:\n",
    "        options = whisper.DecodingOptions(language=lang, fp16=fp16, without_timestamps=True, beam_size=beam_size)\n",
    "    hypo, refs = [], []\n",
    "    whisper_model.eval() # AV-HuBERT batch norm and dropout\n",
    "    for i, b in enumerate(tqdm(dataloader)):\n",
    "        if fp16:\n",
    "            input_ids = b[\"input_ids\"].half().cuda()\n",
    "            video = b[\"video\"].half().cuda()\n",
    "        else:\n",
    "            if torch.cuda.is_available():\n",
    "              input_ids = b[\"input_ids\"].cuda()\n",
    "              video = b[\"video\"].cuda()\n",
    "            else:\n",
    "              input_ids = b[\"input_ids\"]\n",
    "              video = b[\"video\"]\n",
    "        labels = b[\"labels\"]\n",
    "        with torch.no_grad():\n",
    "            if modalities == \"avsr\":\n",
    "                results = whisper_model.decode(input_ids, options, video)\n",
    "            elif modalities == \"asr\":\n",
    "                results = whisper_model.decode(input_ids, options, video, test_a=True)\n",
    "            else:\n",
    "                raise NotImplementedError\n",
    "\n",
    "            for r, l in zip(results, labels):\n",
    "                hypo.append(r.text)\n",
    "                print('HYPO: {}'.format(r.text))\n",
    "\n",
    "                l[l == -100] = tokenizer.eot\n",
    "                ref = tokenizer.decode([t for t in l if t.item() not in special_token_set])\n",
    "                refs.append(ref)\n",
    "                print('REF: {}'.format(ref))\n",
    "        if i + 1 == num_batches:\n",
    "            break\n",
    "    return hypo, refs"
   ]
  },
  {
   "cell_type": "code",
   "execution_count": 15,
   "metadata": {
    "colab": {
     "base_uri": "https://localhost:8080/"
    },
    "id": "gmLw25DqE8lL",
    "outputId": "7be55e10-abeb-4ac9-849c-703cbf238675"
   },
   "outputs": [
    {
     "name": "stderr",
     "output_type": "stream",
     "text": [
      "  1%|          | 1/140 [00:02<06:28,  2.80s/it]"
     ]
    },
    {
     "name": "stdout",
     "output_type": "stream",
     "text": [
      "HYPO: música\n",
      "REF:  música aplausos y ahora os voy a enseñar cómo el agua puede hacer más sonidos que el que hace cuando sale del grifo\n"
     ]
    },
    {
     "name": "stderr",
     "output_type": "stream",
     "text": [
      "  1%|▏         | 2/140 [00:04<04:33,  1.98s/it]"
     ]
    },
    {
     "name": "stdout",
     "output_type": "stream",
     "text": [
      "HYPO: pónganse en situación estas chicas han experimentado llevan mucha carga muchos trastornos postraumático debido a un éxodo a una tierra que nadie les había prometido a mí esto como asesinaban a sus seres queridos a mí esto como incendiaba no bombardeaban sus casas\n",
      "REF:  pónganse en situación estas chicas llevan mucha carga muchos trastornos postraumáticos debido a un éxodo a una tierra que nadie les había prometido han visto cómo asesinaban a sus seres queridos han visto cómo incendiaban o bombardeaban sus casas otras desgraciadamente también han sido testigos o víctimas de violaciones en su particular trasiego desde afganistán irak y siria camino a europa o camino en este caso de alemania\n"
     ]
    },
    {
     "name": "stderr",
     "output_type": "stream",
     "text": [
      "  2%|▏         | 3/140 [00:05<04:04,  1.79s/it]"
     ]
    },
    {
     "name": "stdout",
     "output_type": "stream",
     "text": [
      "HYPO: ahora si vamos a seguir esperando que las violaciones sean lo que muy rara vez son un violador que es un depravado de clase baja y no un joven universitario o un empresario que sale en relevante un viernes a un salario si vamos a seguir esperando que las víctimas sean mujeres modocitas recatadas que se desmayan en la escena\n",
      "REF:  ahora si vamos a seguir esperando que las violaciones sean lo que muy rara vez son un violador que es un depravado de clase baja y no un joven universitario o un empresario que salen de levante un viernes o un sábado si vamos a seguir esperando que las víctimas sean mujeres modositas recatadas que se desmayan en la escena y no mujeres seguras de sí mismas vamos a seguir sin poder escuchar\n",
      "HYPO: una vez que nos dijeron que programar es como una placer entonces tenemos nuestro escenario donde están los actores que actuarán entre sí se ocurren que vamos bien podemos disfrazarnos para conseguir animaciones guañas de imágenes sonidos etcétera esa ley tiene muy buena punta pero un niño solo en su habitación programando\n",
      "REF:  una vez me dijeron que programar es como una obra de teatro tenemos nuestro escenario donde están nuestros actores que actuarán entre sí según les digamos podemos disfrazarlos para conseguir animaciones o añadir imágenes sonidos etc pensaréis tiene muy buena pinta pero un niño solo en su habitación programando no es muy social que digamos\n"
     ]
    },
    {
     "name": "stderr",
     "output_type": "stream",
     "text": [
      "  3%|▎         | 4/140 [00:07<03:45,  1.66s/it]"
     ]
    },
    {
     "name": "stdout",
     "output_type": "stream",
     "text": [
      "HYPO: la identidad es algo que se crea se forja en función de los valores y las creencias que da tu familia que da también tantos amigos y también de cualquier institución que lo que tú realmente quieres ser y lo que tú quieres ser va a ir en función de tu motivación del sentimiento de pertenencia que quedas con otros clubes con los que te sientes adquíneos identificados y también en función de las interacciones con clubes que son totalmente diferentes\n",
      "REF:  la identidad es algo que se crea o se forja en función de los valores y las creencias que te da tu familia te dan tus amigos y también va en función de lo que tú realmente quieres ser y lo que tú quieres realmente ser va en función de tu motivación del sentimiento de pertenencia que tienes con otros grupos con los que te sientes afín o identificado y también en función de las interacciones con grupos que son totalmente diferentes a ti\n",
      "HYPO: aplausos y a continuación voy a necesitar cuatro voluntarios que aquí y ahora vamos a ver a quién suena\n",
      "REF:  risas aplausos música aplausos y a continuación voy a necesitar cuatro voluntarios porque aquí y ahora vamos a ver a qué suenan\n"
     ]
    },
    {
     "name": "stderr",
     "output_type": "stream",
     "text": [
      "  4%|▎         | 5/140 [00:08<03:20,  1.49s/it]"
     ]
    },
    {
     "name": "stdout",
     "output_type": "stream",
     "text": [
      "HYPO: si por ejemplo tienes una pobre competencia lingüística o tienes un extranjero de alejo interpretado de una región o de un mejor tienes un tipo de discapacidad que te afecta la producción de la lengua oral como por ejemplo la tartarugua estos son ejemplos que incluyen cómo las personas te van a aceptar te van a marginar en una sociedad\n",
      "REF:  si por ejemplo tienes una pobre competencia lingüística o tienes un acento extranjero o un dialecto determinado de una región o a lo mejor tienes algún tipo de discapacidad que te afecta a la producción de la lengua oral como por ejemplo la tartamudez todos estos son ejemplos que influyen en cómo las personas te van a aceptar o te van a marginar en una sociedad\n",
      "HYPO: risas yo recuerdo aplausos estoy recordando hace unos cuatro o cinco años atrás que me tocó participar en una convocación que había un sospecho en méxico formado\n",
      "REF:  risas silbido en el público risas aplausos estoy recordando hace unos cuatro o cinco años atrás me tocó participar en una convocación que habíamos hecho en méxico a familiares\n"
     ]
    },
    {
     "name": "stderr",
     "output_type": "stream",
     "text": [
      "  4%|▍         | 6/140 [00:09<03:08,  1.41s/it]"
     ]
    },
    {
     "name": "stdout",
     "output_type": "stream",
     "text": [
      "HYPO: y es verdad que también hay personas que están muy a favor o empatizan con las personas que viven de la guerra pero también puedo constatar que entre esas personas hay una especie de escudar ante los valores políticos para no participar en las iniciativas que puedan resolver por lo menos paliar estos dilemas personales tan graves\n",
      "REF:  y es verdad que también hay personas que están muy a favor o empatizan con las personas que huyen de la guerra pero también puedo constatar que entre esas personas hay una especie de escudarse ante los errores de los políticos para no actuar para no participar en iniciativas que puedan si no resolver por lo menos paliar estos dramas personales tan graves\n",
      "HYPO: y hay otro camino para deshacernos de la incomodidad y que es exactamente el inverso le subimos el volumen a las cosas que no esperábamos escuchar como yo le adquirí a mi casa y le pedí que acabara rápido y se lo bajamos a las cosas que siempre la vamos a escuchar el revuelver en la guantera y la isla blanca\n",
      "REF:  pero hay otro camino para deshacernos de la incomodidad y que es exactamente el inverso le subimos el volumen a las cosas que no esperábamos escuchar como yo le hablé bien le pedí que me lleve a mi casa le pedí que acabara rápido y se lo bajamos a las cosas que sí esperábamos escuchar el revólver en la guantera el aislamiento\n"
     ]
    },
    {
     "name": "stderr",
     "output_type": "stream",
     "text": [
      "  5%|▌         | 7/140 [00:10<02:55,  1.32s/it]"
     ]
    },
    {
     "name": "stdout",
     "output_type": "stream",
     "text": [
      "HYPO: mientras las nuevas tecnologías están poniendo las partes los mayores las utilizáis para cosas de mayores como una vez las tenemos en los coches las hemos hecho en los coches construyendo móviles construir aeropuertos mandar mensajes comprar navegarnos en internet los niños las utilizamos para jugar y para eso somos niños y es lo que más nos gustamos\n",
      "REF:  mientras las nuevas tecnologías están por todas partes y los mayores las utilizáis para cosas de mayores a ver ordenadores a bordo de los coches aunque mis padres a veces se siguen perdiendo móviles consultar el correo mandar mensajes comprar navegar por internet los niños las utilizamos para jugar que para eso somos niños y es lo que más nos gusta\n",
      "HYPO: y han generado también otras identidades transformadas poderosas e interculturales y estas identidades interculturales no se basan en el consenso pero sí en el respeto mutuo en ese respeto mutuo de ponerse en la piel de la otra para así tener ese sentimiento de pertenencia\n",
      "REF:  que han generado también unas identidades transformadas poderosas e interculturales y estas identidades interculturales no se basan en el consenso pero sí en el respeto mutuo en ese respeto mutuo de empatizar con la otra de ponerse en la piel de la otra para así tener ese sentimiento de pertenencia\n"
     ]
    },
    {
     "name": "stderr",
     "output_type": "stream",
     "text": [
      "  6%|▌         | 8/140 [00:11<02:41,  1.23s/it]"
     ]
    },
    {
     "name": "stdout",
     "output_type": "stream",
     "text": [
      "HYPO: y si sí lo venden para tratar de producirla de nuevo y poder tener de nuevo un nombre y devolverla una familia terminar con los años de espera y de incertidumbre y de angustia y para que esa madre continúe se pueda encontrar a un niño con su hijo aún estando en casa de su hijo\n",
      "REF:  obsesivamente insistir para tratar de producir una nueva identidad para poder reescribir de nuevo un nombre devolverlo a una familia terminar con los años de espera de incertidumbre de angustia y para que esa madre pequeñita se pueda encontrar de nuevo con su hijo aun estando ya su hijo muerto\n",
      "HYPO: el año pasado cuando estábamos dando los jueces de los muertos humanos en clases cuando ocurrió hacer un juego de explicación sobre cosas pequeñas mi cole señalde estos juegos y los juegos de los muertos de los muertos humanos estaban mostrando el año pasado en el que el cuerpo humano se pregunta dónde está el discurso\n",
      "REF:  el año pasado cuando estábamos dando los huesos del cuerpo humano en clase se me ocurrió hacer un juego de preguntas y respuestas que es este vídeo os voy a enseñar este juego que hice sobre los huesos del cuerpo humano para mi colegio cuando lo estábamos dando el año pasado en el que el cuerpo humano te pregunta dónde están sus huesos\n"
     ]
    },
    {
     "name": "stderr",
     "output_type": "stream",
     "text": [
      "  6%|▋         | 9/140 [00:12<02:31,  1.16s/it]"
     ]
    },
    {
     "name": "stdout",
     "output_type": "stream",
     "text": [
      "HYPO: aplausos y aquí me veis un chico callado y chico chino chico me ha quedado mucho más que un año sin ninguna p en mí y conseguí hacer eso un trabajo de unos periodistas y de un trabajo con su discriminación con sus retos con sus mejores capacidades de decir quién tiene un punto\n",
      "REF:  aplausos y aquí me veis un chico callado tímido introvertido que con 15 años y sin ninguna fe en sí mismo consiguió hacer el mismo trabajo que unos periodistas con su trabajo su titulación su sueldo y sus mejores capacidades de expresión en público\n",
      "HYPO: ahora cuando no estamos frente a una noticia en los medios o frente a una historia que una persona como yo le cuenta desde un escenario como este cuando estamos frente a alguien que conocemos y que nos eligió para confiarnos su historia lo que le pasó vamos a tener que escucharla\n",
      "REF:  ahora cuando no estamos frente a una noticia en los medios frente a una historia que alguien como yo les cuenta desde un escenario como este cuando estamos frente a alguien que conocemos y que nos eligió para confiarnos su historia lo que le pasó vamos a tener que escucharla\n"
     ]
    },
    {
     "name": "stderr",
     "output_type": "stream",
     "text": [
      "  7%|▋         | 10/140 [00:14<02:36,  1.20s/it]"
     ]
    },
    {
     "name": "stdout",
     "output_type": "stream",
     "text": [
      "HYPO: en este punto él escribió a mí una que en el mundo real la idea de kik que es una sola utilidad que se llama el pedito femenino se llama segundo de ispando de redondres y la gran pizarra donde el secretario que pone la nota cada trope kik en el mundo real se llama atento de calificación que a veces se equivocan las mujeres y a veces se equivocan las mujeres\n",
      "REF:  en este punto yo le expliqué a nina que en el mundo real la idea de quique de ofrecer tranquilidad sobre los papelitos de moncho se llama seguros de impago de deuda y la gran pizarra donde el secretario le pone una nota a cada proyecto en el mundo real se llama agencias de calificación que a veces se equivocan sin querer y a veces se equivocan queriendo\n",
      "HYPO: y entonces tomando unas copas de vino yo estaba impactado por las historias que me contaban estos artistas porque el equipo argentino de antropología africana es una ong que trabaja sobre casos de violación religiosa y mal delictiva tratando de violar\n",
      "REF:  y entonces tomando unas copas de vino yo estaba impactado por las historias que me contaban estos antropólogos porque el equipo argentino de antropología forense es una ong que trabaja sobre casos de violación de derechos humanos universales tratando de identificar gente\n"
     ]
    },
    {
     "name": "stderr",
     "output_type": "stream",
     "text": [
      "  8%|▊         | 11/140 [00:14<02:18,  1.07s/it]"
     ]
    },
    {
     "name": "stdout",
     "output_type": "stream",
     "text": [
      "HYPO: mantienen silencio porque intimamente saben que nadie ni todos nosotros ni su familia ni los terapeutas mucho menos la policía o los magistrados estamos dispuestos a escuchar lo que ana sí hizo en ese momento\n",
      "REF:  ana se mantiene en silencio porque íntimamente sabe que nadie ni todos nosotros ni su familia ni los terapeutas mucho menos la policía o los magistrados estamos dispuestos a escuchar lo que ana sí hizo en ese momento\n",
      "HYPO: más bien las escuché como asombradas y hasta un poco orgullosas de reconocer lo lúcidas que habían estado en ese momento lo atentas a cada detalle como si eso les permitiera tener algún control sobre lo que estaba pasando\n",
      "REF:  más bien las escuché como asombradas y hasta un poco orgullosas de reconocer lo lúcidas que habían estado en ese momento lo atentas a cada detalle como si eso les permitiera tener algún control sobre lo que estaba pasando\n"
     ]
    },
    {
     "name": "stderr",
     "output_type": "stream",
     "text": [
      "  9%|▊         | 12/140 [00:15<02:12,  1.04s/it]"
     ]
    },
    {
     "name": "stdout",
     "output_type": "stream",
     "text": [
      "HYPO: la mayoría de los países los códigos siguen pidiendo que la víctima para probar su inocencia digo bien la víctima para probar su inocencia presenten marcas en el cuerpo que atestiguen que ella sostuvo una lucha tenaz y constante por su adolescente\n",
      "REF:  en la mayoría de los países los códigos siguen pidiendo que la víctima para probar su inocencia digo bien la víctima para probar su inocencia presente marcas en el cuerpo que atestigüen que ella sostuvo una lucha tenaz y constante con su agresor\n",
      "HYPO: cuando bajamos el volumen a todas esas cosas que no esperábamos escuchar y que no queremos escuchar como por ejemplo cuando ella le dice que él también le gustaba o cuando nos cuenta que le hablaba como si fuera la hermana mayor o que le pidió que la llevara a la casa\n",
      "REF:  y le bajamos el volumen a todas esas cosas que no esperábamos escuchar y que no queremos escuchar como por ejemplo cuando ella le dice que él también le gustaba o cuando nos cuenta que le hablaba como si fuera la hermana mayor o que le pidió que la llevara a la casa\n"
     ]
    },
    {
     "name": "stderr",
     "output_type": "stream",
     "text": [
      "  9%|▉         | 13/140 [00:16<02:09,  1.02s/it]"
     ]
    },
    {
     "name": "stdout",
     "output_type": "stream",
     "text": [
      "HYPO: los síntomas pueden incluir pesadillas flashcards dificultad para conversar conversarse dificultad para dormir editar costas y lugares donde enfrentan miedo negativo qué hace la mente cuando se preguntan qué es la salud mental\n",
      "REF:  los síntomas pueden incluir pesadillas reviviscencias dificultad para concentrarse dificultad para dormir evitar cosas y lugares y pensamientos negativos qué os viene a la mente cuando os pregunto qué es la salud mental\n",
      "HYPO: llegó a córdoba un grupo de mujeres y hombres antropólogos antropólogos del equipo argentino de antropología forense que venían caminando por argentina sumando fosas buscando causas de muerte analizando esos nudos tratando de identificarlos y restituirlos a los hombres\n",
      "REF:  llegó a córdoba un grupo de mujeres y hombres antropólogos y antropólogas del equipo argentino de antropología forense que venían caminando por argentina exhumando fosas buscando causas de muerte analizando esos huesos tratando de identificarlos y restituirlos a las familias\n"
     ]
    },
    {
     "name": "stderr",
     "output_type": "stream",
     "text": [
      " 10%|█         | 14/140 [00:17<02:09,  1.03s/it]"
     ]
    },
    {
     "name": "stdout",
     "output_type": "stream",
     "text": [
      "HYPO: aplausos me divertí tanto programando y me ayudaba tanto para aprendérmelo que se lo dejaba que me gustara y lo pedí y podíamos hacer un clase que se quería mostrar para que lo pudiera\n",
      "REF:  aplausos me divertí tanto programándolo y me ayudaba tanto para aprendérmelo que se lo dije a mi profesora y le pedí si podíamos verlo en clase que quería mostrárselo a todos\n",
      "HYPO: pero el resto de esto que a mí me sirve muchísimo y que los gestores sean muy orgullosos creo que lo que más me gusta de lo que más me gusta con mi trabajo es escribo algo una noticia o una crítica un reportaje y recuerdo que me llega a pensar que mis compañeros las mismas maneras son muy diferentes de actividades\n",
      "REF:  pero lejos de todo esto que me sirve muchísimo y de lo que estoy orgulloso creo que lo que más me gusta con lo que más disfruto con mi trabajo es cuando escribo algo una noticia crítica o reportaje lo cuelgo y recibo mensajes de compañeros amigos familiares profesores que dicen felicidades\n"
     ]
    },
    {
     "name": "stderr",
     "output_type": "stream",
     "text": [
      " 11%|█         | 15/140 [00:18<02:09,  1.03s/it]"
     ]
    },
    {
     "name": "stdout",
     "output_type": "stream",
     "text": [
      "HYPO: pero en la igualdad la mayoría de todos nosotros también creía que la violación se parece más a un robo a una normal un tránsito violento que dura 45 minutos y no el chamullo de un joven agradable que dura toda una noche y que termina en un secuestro\n",
      "REF:  ana al igual que la mayoría de nosotros también creía que una violación se parece más a un robo a mano armada un trámite violento que dura 4 o 5 minutos y no al chamuyo de un joven agradable que dura toda una noche y que termina en un secuestro\n",
      "HYPO: y entonces yo le dije a mi hija que estuviera cuidada porque en el mundo real las historias de los peces como el texas de los lugares o las historias de los monjas que quieren ser aviantes para mí y nadie los entiende son casi siempre trofeadas que no suelen tener una lista de los puntos que se tienen\n",
      "REF:  y entonces yo le dije a mi hija que tuviera cuidado porque en el mundo real las historias de los pepes que intentan abrir bares o las historias de los monchos que quieren hacer viajes a la luna y nadie los entiende son casi siempre proyectos que no suelen tener final feliz como en los cuentos infantiles\n"
     ]
    },
    {
     "name": "stderr",
     "output_type": "stream",
     "text": [
      " 11%|█▏        | 16/140 [00:20<02:14,  1.09s/it]"
     ]
    },
    {
     "name": "stdout",
     "output_type": "stream",
     "text": [
      "HYPO: y estaban mirando los tesoros y estaban mirando los objetos y apareció un tipo de probata pelado que le dijo que siempre daba malas noticias fue el que baticinó el funcionamiento de un avión y ese día dije uno tiene un momento se desplomó la bolsa y todo empezó\n",
      "REF:  y estábamos viendo el noticiero estábamos almorzando y viendo el noticiero y apareció un tipo de corbata pelado un periodista que siempre daba malas noticias fue el que vaticinó el tsunami y que se cayó un avión y ese día dijo último momento se desplomó la bolsa en todo el mundo\n",
      "HYPO: además se lo voy a pasar a los 5 años de mi cole que están haciendo un programa sobre los datos que están dando en sus sistemas de datos y seguro que con él se los aprende en todo y eso me hace sentir más feliz porque sé que mis juegos sirven para más cosas que para divertirme a los demás\n",
      "REF:  además se lo voy a pasar a los niños de 5 años de mi cole que están haciendo un programa sobre los planetas del sistema solar y seguro que con él se los aprenden todos y eso me hace sentir más feliz porque sé que mis juegos sirven para más cosas que para divertirme a mí solo\n",
      "HYPO: y al día siguiente cuando estábamos mirando de vuelta los dijeros y cuando volví a preguntar lo que hizo fue preguntar a mi esposa que quiero compartir conmigo le digo al día de hoy que había una vea un pueblo muy transgreso y que había un muchacho que se llamaba pepe el palmo que vivía en la casa más alojada del mundo\n",
      "REF:  y al día siguiente cuando estábamos mirando de vuelta el noticiero y me volvió a preguntar le conté una historia que quiero compartir con uds le dije a nina ese día que había una vez un pueblo muy tranquilo y que había un muchacho que se llamaba pepe el protagonista que vivía en la casa más alejada del pueblo\n"
     ]
    },
    {
     "name": "stderr",
     "output_type": "stream",
     "text": [
      " 12%|█▏        | 17/140 [00:21<02:28,  1.21s/it]"
     ]
    },
    {
     "name": "stdout",
     "output_type": "stream",
     "text": [
      "HYPO: y si nosotros activamos esa expresión y forma conjunta nos desarrolla un espacio para generar cosas primeramente impensables que son mestizcazas de expresiones y ya se pueden pensar a ver cómo se está ojando una convivencia intercultural\n",
      "REF:  y si nosotros activamos esa expresión de forma conjunta primero se desarrolla un espacio para generar cosas primeramente impensables que son mestizajes de expresiones donde ya se puede empezar a ver cómo se está forjando una competencia intercultural\n",
      "HYPO: en los términos refugiados en alemania se ofrece clase de alemán gratuitas y uno podría pensar es natural pensar que estas personas debían estar contentos de poder recibir estos cursos de alemán y también que deberían estar agradecidos\n",
      "REF:  en los centros de refugiados en alemania se ofrecen clases de alemán gratuitas y uno podría pensar es natural pensar que estas personas deberían estar contentas de poder recibir estos cursos de alemán y también que deberían estar agradecidas\n",
      "HYPO: y más al norte de centroamérica el salvador y el de roscoe el circo y aún más al norte de méxico donde se establecen miles de migrantes de todos los ángulos que muchos países que están dejando moto quieren lograr dejar el sueño de la vida de los niños\n",
      "REF:  y más al norte en centroamérica el salvador la guerra de los 80 y aún más al norte en el méxico actual donde desaparecen miles de migrantes todos los años de muchos países que atravesando méxico quieren lograr llegar al sueño del país del norte\n"
     ]
    },
    {
     "name": "stderr",
     "output_type": "stream",
     "text": [
      " 13%|█▎        | 18/140 [00:22<02:29,  1.22s/it]"
     ]
    },
    {
     "name": "stdout",
     "output_type": "stream",
     "text": [
      "HYPO: me contaron historias de todos los países pero ahí en esa reunión con ese asado con ese vino nos dimos cuenta que estaban en un escenario en un fondo que necesitaban incorporar una tecnología nueva a este proceso de cobertura y de disciplinar a los niños\n",
      "REF:  me contaron historias de todos los países pero ahí en esa reunión en ese asado con ese vino nos dimos cuenta que estaban en un escollo había un punto muerto necesitaban incorporar una tecnología nueva a este proceso complejo de la identificación y era la genética\n",
      "HYPO: se trataba de una placa llamada mail y mail y para comentarla con un cándalo ordenador podía ser pinchado en las partes a todas las neuronas como las células las células las células la voz el agua o las células tocando a hacer comprender a las programas un juego de forma mágica\n",
      "REF:  se trataba de una placa llamada makey makey que al conectarla con un cable al ordenador podías ir pinchando más cables a cosas tan originales como gominolas plastilina frutas grafito de lápiz agua o tan solo tocándolos hacer que funcionaran programas y juegos de forma mágica\n",
      "HYPO: el mundo como sabéis se dividió entre fatistas y antifatistas hasta que 1700 años después 1700 años después en 1999 tomaste el libro de nuestro serpato y su culpa y vamos a hacer que lo mejor es usar el futuro\n",
      "REF:  el mundo como sabéis se dividió entre pappistas y antipappistas hasta que 1700 años después 1700 años después en 1999 thomas hales demostró que pappus y las abejas llevaban razón que lo mejor es usar hexágonos\n"
     ]
    },
    {
     "name": "stderr",
     "output_type": "stream",
     "text": [
      " 14%|█▎        | 19/140 [00:23<02:17,  1.13s/it]"
     ]
    },
    {
     "name": "stdout",
     "output_type": "stream",
     "text": [
      "HYPO: aplausos el proyecto tuvo muchísimo más éxito de lo que nos imaginábamos\n",
      "REF:  aplausos el proyecto tuvo muchísimo más éxito de lo que nos imaginábamos\n",
      "HYPO: pero todos sabemos que a nosotros los niños se nos damos un mejor comercio eso se apara desde el demonio que ha muchos mayores quizá porque no tenemos miedo de desearlo a experimentar con ellos a ver qué hay aquí con los enfermedades que nos gusta desmascular la enfermedad\n",
      "REF:  pero todos sabemos que a nosotros los niños se nos da mucho mejor cómo decirlo esos aparatos del demonio que a muchos mayores quizá porque no tenemos miedo a toquetearlos a experimentar con ellos a ver qué hay aquí o a estropearlos ya que luego están los padres para arreglarlo todo\n",
      "HYPO: tuvo miedo de que a la persona que ella hubiera elegido para contarles le pasara lo mismo que nos pasa a todos y que es que surgen dudas y sospechas esas preguntas cada vez que se habla del tema como este\n",
      "REF:  tuvo miedo de que a la persona que ella hubiera elegido para contarle le pasara lo mismo que nos pasa a todos y que es que surgen dudas y sospechas esas preguntas cada vez que se habla de un tema como este\n"
     ]
    },
    {
     "name": "stderr",
     "output_type": "stream",
     "text": [
      " 14%|█▍        | 20/140 [00:24<02:02,  1.02s/it]"
     ]
    },
    {
     "name": "stdout",
     "output_type": "stream",
     "text": [
      "HYPO: otros son esos conocidos que almuerzo secuestros guerras narco violencia ataques terrorísticos accidentes naturales y otros no tan naturales\n",
      "REF:  otros son desaparecidos que han muerto secuestros guerras narcoviolencia ataques terroristas accidentes naturales y otros no tan naturales\n",
      "HYPO: cuando escuchamos o leemos una noticia así inmediatamente se nos representa una imagen el violador un depravado de clase baja la víctima una mujer joven atractiva\n",
      "REF:  cuando escuchamos o leemos una noticia así inmediatamente se nos representa una imagen el violador un depravado de clase baja la víctima una mujer joven atractiva\n",
      "HYPO: podría haber hablado con un amigo con una hermana muy difícilmente con la pareja el menor aquejo de duda en su rostro o en su voz hubiera sido devastador para ella y probablemente el final de la aplicación\n",
      "REF:  podría haber hablado con una amiga con una hermana muy difícilmente con la pareja el menor atisbo de duda en su rostro o en su voz hubiera sido devastador para ella y probablemente el final de la relación\n"
     ]
    },
    {
     "name": "stderr",
     "output_type": "stream",
     "text": [
      " 15%|█▌        | 21/140 [00:25<02:11,  1.11s/it]"
     ]
    },
    {
     "name": "stdout",
     "output_type": "stream",
     "text": [
      "HYPO: y es así que cuando ana llegó a mí me dijo que no sabía si el testimonio de ella me iba a servir porque no estaba segura de que lo que le había pasado hubiera sido una violación\n",
      "REF:  tanto es así que cuando ana llegó a mí me dijo que no sabía si el testimonio de ella me iba a servir porque no estaba segura de que lo que le había pasado hubiera sido una violación\n",
      "HYPO: lo que entra en detalles acerca del futuro político de ángel amerkel es que me gustaría mencionar que ella para mí es una de las personas políticas de la autoridad que tiene una autoridad moral a pesar de sus errores de la que carece la mayoría de los políticos anuales\n",
      "REF:  no quiero entrar en detalles acerca del futuro político de angela merkel pero sí que me gustaría mencionar que ella para mí es una de las personas políticas en la actualidad que tiene una autoridad moral a pesar de sus errores de la que carece la mayoría de los políticos actuales\n",
      "HYPO: aplausos\n",
      "REF:  aplausos\n"
     ]
    },
    {
     "name": "stderr",
     "output_type": "stream",
     "text": [
      " 16%|█▌        | 22/140 [00:27<02:23,  1.21s/it]"
     ]
    },
    {
     "name": "stdout",
     "output_type": "stream",
     "text": [
      "HYPO: pero no solo en argentina porque en argentina producimos algunas identificaciones otras más del cementerio o del centro del centro del muerto de la perla la identificación de alguna de las madres humanas de la que se llamaban que habían sido las armadas o las armadas de la que se llamaban\n",
      "REF:  pero no solo en argentina porque en argentina produjimos algunas identificaciones otras más del cementerio de san vicente del centro de tortura y muerte de la perla la identificación de algunas de las madres fundadoras de plaza de mayo que habían sido arrojadas al mar y que el mar las había devuelto\n",
      "HYPO: tú tienes que responder con el número de correores que tienes que vamos a ir un día con tres o respondes con el 10 que te correto y me dice yay pero si respondes mal risas y yo digo yay\n",
      "REF:  tú tienes que responder con el número correcto si es el 10 el 11 el 1 el 2 el 3 pues respondes con el 10 que es el correcto y te dice biennnn pero si respondes mal te dice ua ua ua\n",
      "HYPO: los sonidos no se han grabado yo y los he añadido al juego también y he hecho que haya ciertos fallos que aquí pongan los números de los aciertos y de los fallos y aquí puedo hacer competiciones con mis amigos para ver si esto es lo que nos ocurre\n",
      "REF:  los sonidos los he grabado yo y los he añadido al juego también y he hecho que haya aciertos y fallos que aquí ponga los números de los aciertos y de los fallos para así poder hacer competiciones con mis amigos para ver quién se sabe mejor los huesos del cuerpo humano\n"
     ]
    },
    {
     "name": "stderr",
     "output_type": "stream",
     "text": [
      " 16%|█▋        | 23/140 [00:28<02:20,  1.20s/it]"
     ]
    },
    {
     "name": "stdout",
     "output_type": "stream",
     "text": [
      "HYPO: para más siempre las familias de estas chicas los padres los hermanos y otros familiares la sentiden que participen en estas actividades porque piensan que a lo mejor las van a dañar aún más\n",
      "REF:  para más inri las familias de estas chicas los padres los hermanos u otros familiares les impiden que participen en estas actividades porque piensan que a lo mejor les van a dañar aún más\n",
      "HYPO: aunque a su todo mundo que no lo ha habido antes les sorprende que si uno cogiera una hoja de papel de 0 a 1 mm de rosor esas sin cruzar nos mandan lo suficiente es inter grande y las pudieras doblar 50 veces el rosor de ese montón ocuparía la costancia de la tierra al sol\n",
      "REF:  a casi todo el mundo que no lo ha oído antes le sorprende que si uno cogiera una hoja de papel de 01 mm de grosor esas que utilizamos normalmente lo suficientemente grande y la pudiera doblar 50 veces el grosor de ese montón ocuparía la distancia de la tierra al sol\n",
      "HYPO: aplausos el cine me ha abierto muchas respuestas de las que yo me invirtí pero no sé pensar\n",
      "REF:  aplausos el cine me ha abierto muchas más puertas de las que pensaba\n"
     ]
    },
    {
     "name": "stderr",
     "output_type": "stream",
     "text": [
      " 17%|█▋        | 24/140 [00:30<02:31,  1.31s/it]"
     ]
    },
    {
     "name": "stdout",
     "output_type": "stream",
     "text": [
      "HYPO: aplausos y no olvidéis nunca de creer siempre que no hay nada en común todos depende de nuestro esfuerzo y van a desarrollarlo y aunque seremos muy pequeños también tenemos muchas cosas que enseñar al mundo a lo mejor\n",
      "REF:  aplausos y no olvidéis nunca y creed siempre que no hay nada imposible todo depende de nuestro esfuerzo y ganas de superarnos y aunque seamos muy pequeños también tenemos muchas cosas que enseñar a los demás\n",
      "HYPO: algunos papelitos eran muy deseados por ejemplo los de beco que trabajaba día y noche en las conexiones de su barrio pero a otros papelitos no teníamos nada por ejemplo los de monizón con que se daban que el pato para hacer viajes a la luna sobre el momento solamente costaba de dos cabajas más altas\n",
      "REF:  algunos papelitos eran muy deseados por ejemplo los de pepe que trabajaba día y noche en la concreción de su bar pero a otros papelitos no los quería nadie por ejemplo los de moncho porque su artefacto para hacer viajes a la luna por el momento solamente constaba de dos caballos y un carro\n",
      "HYPO: risas aplausos y no es lo que nosotros hemos enseñado los 4 personas del equipo sino lo que nos ha enseñado las chicas\n",
      "REF:  aplausos y no es lo que nosotros hemos enseñado las cuatro personas del equipo sino lo que nos han enseñado las chicas\n"
     ]
    },
    {
     "name": "stderr",
     "output_type": "stream",
     "text": [
      " 18%|█▊        | 25/140 [00:31<02:24,  1.26s/it]"
     ]
    },
    {
     "name": "stdout",
     "output_type": "stream",
     "text": [
      "HYPO: en el sueldo se puede creer en mí y aunque no todos somos expertos psicólogos ni psiquiatras todos tenemos el poder de marcar la diferencia en la vida real y jugamos un papel crítico en hacer yo otra persona\n",
      "REF:  el suicidio se puede prevenir y aunque no todos somos expertos psicólogos ni psiquiatras todos tenemos el poder de marcar la diferencia en la vida de alguien y jugamos un papel crítico en la creación de cambios\n",
      "HYPO: bob kubrick el lobrado kubrick ese dijo que lo mejor era usar un octa euro de trinta que como todos sabéis es esto de aquí\n",
      "REF:  lord kelvin el de los grados kelvin y todo eso ese dijo que lo mejor era usar un octaedro truncado risas que como todos sabéis risas es esto de aquí\n",
      "HYPO: risas aplausos música\n",
      "REF:  risas aplausos ponte por ahí tú coge este y tú coge este\n"
     ]
    },
    {
     "name": "stderr",
     "output_type": "stream",
     "text": [
      " 19%|█▊        | 26/140 [00:32<02:17,  1.21s/it]"
     ]
    },
    {
     "name": "stdout",
     "output_type": "stream",
     "text": [
      "HYPO: si lo ven en vez de mostrar las verdaderas causales que aquella gripe se distorsionó la realidad y el bicho estuvo fuera de control\n",
      "REF:  en el siglo xx en vez de mostrar las verdaderas causales de aquella gripe se distorsionó la realidad y el bicho estuvo fuera de control\n",
      "HYPO: el trastorno de estrés cosmático es un trastorno mental que puede desarrollarse después de experimentar o presenciar eventos que ponemos en nuestra cabeza como la guerra accidentes agresiones o desastres naturales\n",
      "REF:  el trastorno de estrés postraumático es un trastorno mental que puede desarrollarse luego de experimentar o presenciar eventos que ponen en peligro la vida como la guerra accidentes agresiones o desastres naturales\n",
      "HYPO: en los 80 yo venía trabajando en hospitales clínicas en la genética de los trastornos buscando la máxima compatibilidad de las clínicas de relanteza y de las esquemas de vida de los pacientes que están en el chaso de los hospitales\n",
      "REF:  en los 80 yo venía trabajando en el hospital de clínicas en la genética de los trasplantes buscando la máxima compatibilidad genética entre donantes y receptores de órganos para evitar el rechazo del injerto\n"
     ]
    },
    {
     "name": "stderr",
     "output_type": "stream",
     "text": [
      " 19%|█▉        | 27/140 [00:33<02:03,  1.09s/it]"
     ]
    },
    {
     "name": "stdout",
     "output_type": "stream",
     "text": [
      "HYPO: como sabéis se dividió entre que el guinista es diante y que el guinista hasta que cientos y pico años después cientos y pico años después alguien me recicló una estructura nueva\n",
      "REF:  el mundo como sabéis se dividió entre kelvinistas y antikelvinistas risas hasta que ciento y pico años después ciento y pico años después alguien encontró una estructura mejor\n",
      "HYPO: desde hace 4 años vivo en colonia en alemania y para mí también es un factor clave el aprendizaje en la lengua para poder ser integrado pero no solamente para los refugiados es un factor clave sino que para todos los inmigrantes en general\n",
      "REF:  desde hace cuatro años vivo en colonia en alemania y para mí también es un factor clave el aprendizaje de la lengua para poderse integrar pero no solo para los refugiados es un factor clave sino para todos los inmigrantes en general\n",
      "HYPO: pero nos queréis ahí enseñáselo al mundo mandándola web para que cada vez seamos más los que nos gustemos no solo jugando sino que también está siendo queridos y los niños también podemos decir cómo queremos que esté en esa situación\n",
      "REF:  pero no os quedéis ahí enseñádselo al mundo mandadlo a la web para que cada vez seamos más los que disfrutemos no solo jugando sino también sabiendo que nosotros los niños también podemos decidir cómo queremos que estén hechas las cosas\n"
     ]
    },
    {
     "name": "stderr",
     "output_type": "stream",
     "text": [
      " 20%|██        | 28/140 [00:33<01:50,  1.01it/s]"
     ]
    },
    {
     "name": "stdout",
     "output_type": "stream",
     "text": [
      "HYPO: es una comunidad pública y abierta de misión mundial a la que podemos pertenecer y no le podemos escuchar más o dejar más o dejar más de ellos para jugar con ellos ver cómo nos han hecho modificarnos o mejorar\n",
      "REF:  es una comunidad pública y abierta a nivel mundial a la que podemos pertenecer y donde podemos publicar nuestros programas o descargar los programas ya hechos para jugar con ellos ver cómo los han hecho modificarlos o mejorarlos\n",
      "HYPO: someten a la penetración porque aunque no puedan creerlo la penetración es lo que más lejos las mantiene de una escena sexual o afectiva\n",
      "REF:  se someten a la penetración porque aunque no puedan creerlo la penetración es lo que más lejos las mantiene de una escena sexual o afectiva\n",
      "HYPO: en esos capítulos estaba libecu esparenzando gokko kocchi pasillo bastert hombres que con microscopias rudimentarias recorren derrotar el enemigo museo\n",
      "REF:  en sus capítulos estaban leeuwenhoek spallanzani koch el del bacilo pasteur hombres que con microscopios rudimentarios buscaban derrotar al enemigo invisible\n"
     ]
    },
    {
     "name": "stderr",
     "output_type": "stream",
     "text": [
      " 21%|██        | 29/140 [00:34<01:38,  1.13it/s]"
     ]
    },
    {
     "name": "stdout",
     "output_type": "stream",
     "text": [
      "HYPO: tanto los argumentos que nos sirven para culpabilizar como para victimizar los tenemos todos todos en la cabeza muy a mano incluidos víctimas y victimarios\n",
      "REF:  tanto los argumentos que nos sirven para culpabilizar como para victimizar los tenemos todos todos en la cabeza muy a mano incluidos víctimas y victimarios\n",
      "HYPO: y ahí son weide y velan encontrando en esta costruta de esta estructura a la que pusieron el imaginativo nombre de estructura de weide y velan risas para\n",
      "REF:  weaire y phelan weaire y phelan encontraron esta cosita de aquí risas esta estructura a la que pusieron el imaginativo nombre de estructura de weaire y phelan\n",
      "HYPO: es más a que os conteste significado lo que genera una sensación de un estizaje una sensación de crear vínculos unos desarrollos interculturales que van más allá de las etiquetas\n",
      "REF:  y es en esa construcción de significado lo que genera una sensación de mestizaje una sensación de crear vínculos unos desarrollos interculturales que van más allá de las etiquetas\n"
     ]
    },
    {
     "name": "stderr",
     "output_type": "stream",
     "text": [
      " 21%|██▏       | 30/140 [00:35<01:37,  1.13it/s]"
     ]
    },
    {
     "name": "stdout",
     "output_type": "stream",
     "text": [
      "HYPO: hoy he traído aquí algunos de esos instrumentos que yo pierdo hoy gracias a mi colegio por dejármelo para enseñaros un poco de esa imagen que lo que hacían de mí podría ser un poco de imaginación son unos cables y unos ordenadores\n",
      "REF:  hoy he traído aquí algunos de esos instrumentos que por cierto doy gracias a mi colegio por dejármelos para enseñaros un poco de esa magia y lo que cualquier niño podría hacer con un poco de imaginación unos cables y un ordenador\n",
      "HYPO: una de las grandes enseñanzas de aquella oportunidad es que vamos a tener que mantenernos en lugar un día a un después de que pase la pregunta\n",
      "REF:  otra de las grandes enseñanzas en aquella oportunidad fue que vamos a tener que mantenernos en guardia aún después de que pase la tormenta\n",
      "HYPO: no hay talento por primera vez las matemáticas es verdad que no tienen muchísimas habilidades es verdad que son un edificio en principio son edificios elógicos probablemente uno de los mayores opuestos productivos que el ser humano ha hecho hablar sobre la discusión\n",
      "REF:  bueno querido 7631 las matemáticas es verdad que no tienen por qué servir para nada es verdad que son un edificio precioso un edificio lógico probablemente uno de los mayores esfuerzos colectivos que el ser humano ha hecho a lo largo de la historia\n"
     ]
    },
    {
     "name": "stderr",
     "output_type": "stream",
     "text": [
      " 22%|██▏       | 31/140 [00:36<01:29,  1.22it/s]"
     ]
    },
    {
     "name": "stdout",
     "output_type": "stream",
     "text": [
      "HYPO: en el siglo xvi en vez de ocuparse de las ratas y de la falta de gente se sostenía que el estilo de vida pecaminoso de muchos había desatado la libreabilidad\n",
      "REF:  en el siglo xiv en vez de ocuparse de las ratas y de la falta de higiene se sostenía que el estilo de vida pecaminoso de muchos había desatado la ira divina\n",
      "HYPO: ahora estoy preparando este juego sobre españa y voy a enseñar este juego que he hecho yo durante muchas veces y es más hablar con el gestor de video y un video final con la cabeza la meta es la diferencia\n",
      "REF:  ahora estoy preparando este juego sobre el espacio vídeo os voy a enseñar este juego que he hecho sobre los planetas del sistema solar con el sensor de vídeo en el que tú tienes que dar con la cabeza a los planetas para que no caigan al mar\n",
      "HYPO: porque todos tenemos una identidad que es la identidad que tenemos un día de vida un día de vida un objetivo de familia cultural de grupos de países pero también tenemos una identidad que es la identidad\n",
      "REF:  porque todos tenemos una identidad tenemos una individualidad una identidad de individuo afectiva de familia cultural de grupo de país pero también tenemos una identidad genética\n"
     ]
    },
    {
     "name": "stderr",
     "output_type": "stream",
     "text": [
      " 23%|██▎       | 32/140 [00:36<01:25,  1.27it/s]"
     ]
    },
    {
     "name": "stdout",
     "output_type": "stream",
     "text": [
      "HYPO: pepe se juntó un oviente de atención de todos y entonces nos fue una valija los mismos papelitos cortados y listos estos importantes mismos mismos mismos cada uno de esos 1000 papelitos fue cerrado en los mismos\n",
      "REF:  pepe se sintió muy bien con la atención de todos y entonces mostró en abanico los 1000 papelitos recortados y dijo esto es importante nina le dije yo dijo pepe cada uno de estos 1000 papelitos cuesta 10 monedas\n",
      "HYPO: en el gusto de tanto a niños y a profesores que este año hemos fundado el club de programación el parano de finanzas y hoy somos quienes hoy niños desde el que nos dedicamos y programamos programas individualmente con equipo\n",
      "REF:  les gustó tanto a niños y a profesores que este año hemos fundado el club de programación el páramo de villanubla donde ya somos 26 niños los que disfrutamos y programamos programas individualmente o en equipo\n",
      "HYPO: risas si queréis decirle a alguien que le queréis para siempre risas no me podréis negar el biomalte pero si queréis decirle que le queréis asiento asiento regalad un teorema\n",
      "REF:  así que bueno si queréis decirle a alguien que le queréis para siempre risas le podéis regalar un diamante pero si le queréis decir que le queréis para siempre siempre regaladle un teorema\n"
     ]
    },
    {
     "name": "stderr",
     "output_type": "stream",
     "text": [
      " 24%|██▎       | 33/140 [00:38<01:42,  1.04it/s]"
     ]
    },
    {
     "name": "stdout",
     "output_type": "stream",
     "text": [
      "HYPO: y por eso me pido si la palabra es molina y en mi cuerpo existe el rígido que los cuchos saben\n",
      "REF:  por eso les pido si la palabra es movimiento y en mi cuerpo existe el ritmo que no escucho saben\n",
      "HYPO: risas porque esto sí que tiene la oportunidad y que aunque pase cientos de años aunque sea dentro de 1700 años alguien demuestre que esta es la información\n",
      "REF:  pero cuidado porque esta sí que tiene la oportunidad de que aunque pasen ciento y pico años aunque sea dentro de 1700 años alguien demuestra que esta es la mejor pieza posible\n",
      "HYPO: la mundo y yo también decían a sus papaditos por venir en el tedx en el futuro que habría que estar llegando y en otras ciudades más lo que más decimos era que aquella era una nueva forma de hacer lo que nunca en la vida en el futuro ocurriera como modelo de vida\n",
      "REF:  ramón y luis también vendieron sus papelitos por menos de 10 monedas y mientras uno corría a comprar cigarros y el otro se iba al cine los demás vecinos vieron que aquella era una nueva forma de hacer negocios aunque nunca en la vida se les hubiera ocurrido una idea de verdad\n"
     ]
    },
    {
     "name": "stderr",
     "output_type": "stream",
     "text": [
      " 24%|██▍       | 34/140 [00:39<01:52,  1.06s/it]"
     ]
    },
    {
     "name": "stdout",
     "output_type": "stream",
     "text": [
      "HYPO: de hecho la prensa nos destacó como proyecto ejemplar para arrastrar las tendencias xenófobas que tristemente cada vez son más no solamente en alemania sino en toda europa\n",
      "REF:  de hecho la prensa nos destacó como proyecto ejemplar para contrarrestar las tendencias xenófobas que tristemente cada vez son más no solamente en alemania sino en toda europa\n",
      "HYPO: siempre intentamos poner las mismas partidas estas acabando antes de ver esas llenas de frustraciones que sea por pasar al siguiente cumpleaños y ver a los demás cuando haciéndolo\n",
      "REF:  siempre intentamos ganarnos unas partidas extras acabando antes los deberes ordenando nuestra habitación lo que sea por pasar al siguiente nivel o superar nuestra puntuación anterior\n",
      "HYPO: las quejas fueron tardes en sufrir hasta que esa villa era chica levantó su papelito y dijo a ver mi cacho dentro de tres semanas que este le va a pagar dos tesoras al teledirante que es papelito que va a comerle al negro\n",
      "REF:  las quejas fueron cada vez mayores hasta que sabino que era astuto levantó su papelito y dijo a ver muchachos dentro de tres semanas pepe le va a pagar 12 monedas al que le devuelva este papelito que yo compré a 10\n"
     ]
    },
    {
     "name": "stderr",
     "output_type": "stream",
     "text": [
      " 25%|██▌       | 35/140 [00:40<01:53,  1.08s/it]"
     ]
    },
    {
     "name": "stdout",
     "output_type": "stream",
     "text": [
      "HYPO: y es que actualmente en esta comunidad hay más de 10 000 programas compartidos que hay apartamentos de niños como están niños y profesores de colegios y institutos universidades\n",
      "REF:  y es que actualmente en esta comunidad hay más de 10 000 programas compartidos y a ella pertenecemos niños no tan niños y profesores de colegios institutos y universidades\n",
      "HYPO: tal que son matemáticos que te dicen que esta pregunta no tiene sentido porque las fábricas tienen un sentido propio y que no es fácil muy difícil ver que es una lógica propia y que no hace falta que el adolescente siente mirando las cosas y las aprendiendo\n",
      "REF:  los del ataque son matemáticos que te dicen que esa pregunta no tiene sentido porque las matemáticas tienen un sentido propio en sí mismas son un edificio bellísimo que tiene una lógica propia que se construye y que no hace falta que uno esté siempre mirando las posibles aplicaciones\n",
      "HYPO: aplausos pero os hayáis gustado el salón rojo os he contado\n",
      "REF:  risas aplausos espero que os haya gustado todo lo que os he contado\n"
     ]
    },
    {
     "name": "stderr",
     "output_type": "stream",
     "text": [
      " 26%|██▌       | 36/140 [00:41<01:55,  1.11s/it]"
     ]
    },
    {
     "name": "stdout",
     "output_type": "stream",
     "text": [
      "HYPO: el juego a los dos hermanos los papás de la ruta tienen lenguaje y los hombres se conectaban con los lópezos con los peces pero el día de la mezquita les convirtió un solo significado cuidado de sí cuidado\n",
      "REF:  el jueves de la segunda semana los fajos de ernesto tuvieron un gran éxito entre los vecinos que buscaban como locos papelitos de pepe o del alcalde pero el viernes quique descubrió el truco y dijo cuidado vecinos cuidado\n",
      "HYPO: empezó a pensar lo que tenían e incluso en pura picante se doy mi jefe triste y dijo amigos el día que moncho puso la venta a su papelito ojo que soy cristiano reconocemos juanito con todos los puntos\n",
      "REF:  empezaron a ofrecer lo que tenían e incluso el cura ricardo llegó de la iglesia triste y dijo amigos el día que moncho puso a la venta sus papelitos yo que soy cristiano le compré unos cuantos porque es tonto\n",
      "HYPO: pero cuando hay uno de estos proyectos sí funcionan inicialmente entre el mar cuando estos proyectos funcionan cuando algo mágico pasa y funciona se llama un sueño y si uno lo está buscando es tomar algo de otro\n",
      "REF:  pero cuando alguno de estos proyectos sí funciona le dije a mi hija para terminar cuando estos proyectos funcionan cuando algo mágico pasa y funcionan se llaman sueños y suelen ser maravillosos\n"
     ]
    },
    {
     "name": "stderr",
     "output_type": "stream",
     "text": [
      " 26%|██▋       | 37/140 [00:43<02:05,  1.22s/it]"
     ]
    },
    {
     "name": "stdout",
     "output_type": "stream",
     "text": [
      "HYPO: si hablamos de cólera la vih la peste negra la agricultura salcia también podríamos agregar la fibra marilla de 1861 que asotó a las ciudades de corrientes y de buenos aires\n",
      "REF:  hablamos del cólera la viruela la peste negra la gripe universal y también podríamos agregar la fiebre amarilla de 1871 que azotó a las ciudades de corrientes y de buenos aires\n",
      "HYPO: un país española que comenzó en estados unidos con soldados norteamericanos preparándose para ir al final de la primera guerra mundial y que contagiaron a las poblaciones de los puertos de francia donde se mataban\n",
      "REF:  gripe española que comenzó en ee uu con soldados norteamericanos preparándose para ir al final de la primera guerra mundial y que contagiaron a las poblaciones de los puertos de francia donde se embarcaban\n",
      "HYPO: lo expliqué que los pasos de remezgo reciben un individuo de doblilación en 9 euros mientras que la casa de juzgue al lugar a donde van los vecinos a las madres y confían en ellos en los fotogramas se llaman panza de inmunodactas\n",
      "REF:  le expliqué que los fajos de ernesto reciben el nombre de obligaciones de deuda mientras que la casa de quique el lugar a donde van los vecinos para saber si confían o no en los fajos de ernesto se llama banca de inversión\n"
     ]
    },
    {
     "name": "stderr",
     "output_type": "stream",
     "text": [
      " 27%|██▋       | 38/140 [00:44<02:03,  1.21s/it]"
     ]
    },
    {
     "name": "stdout",
     "output_type": "stream",
     "text": [
      "HYPO: dictinización porque para poder creer que es inocente que es una víctima necesitamos pensarlas inerte paralizadas mudas\n",
      "REF:  victimización porque para poder creer que es inocente y que es una víctima necesitamos pensarlas inermes paralizadas mudas\n",
      "HYPO: por eso mi proyecto está en creative commons desde este primer escenario tedxfidelic desincrito a todos si quieran participar y poner en marcha su propio proyecto que lo hagan\n",
      "REF:  por eso el proyecto está en creative commons y desde este escenario desde tedxvalladolid les invito a todos los que quieran participar y poner en marcha su propio proyecto que lo hagan\n",
      "HYPO: subimos el volumen a todas esas cosas de la historia que esperábamos escuchar el revolver en la guantera las puertas grabadas el aislamiento del lugar\n",
      "REF:  le subimos el volumen a todas esas cosas de la historia que esperábamos escuchar el revólver en la guantera las puertas trabadas el aislamiento del lugar\n",
      "HYPO: el instituto de la universidad de torres y la independiente debajo de su encuentro será el instituto y de fondo los arquetismos del siglo xix de los estados unidos y en países tan extrematográficamente el trabajo de las universidades es para decirlo en concluir el piso\n",
      "REF:  es un cine de autor cine independiente de bajo presupuesto de denuncia social lejos de los arquetipos del cine de los ee uu cine de países tan raros cinematográficamente como turquía palestina o filipinas\n"
     ]
    },
    {
     "name": "stderr",
     "output_type": "stream",
     "text": [
      " 28%|██▊       | 39/140 [00:45<01:46,  1.06s/it]"
     ]
    },
    {
     "name": "stdout",
     "output_type": "stream",
     "text": [
      "HYPO: las mujeres van a seguir sin poder hablar y vamos a seguir siendo todos responsables de ese silencio y de su sombra\n",
      "REF:  las mujeres van a seguir sin poder hablar y vamos a seguir siendo todos responsables de ese silencio y de su soledad\n",
      "HYPO: los niños y los profes se encargarían de hacer los estudios de cartón y de toma de cartón mientras yo tenía casi 2 o 3 gramas de criterios para construir la vida y llenar la universidad\n",
      "REF:  los niños y sus profes se encargarían de hacer los instrumentos de cartón y goma eva mientras yo tenía que hacer los programas necesarios para que esos instrumentos cobraran vida y sonaran de verdad\n",
      "HYPO: por ejemplo había diez papelitos del rpg 20 papelitos de la heladería de oras con héroe y 70 papelitos del proyecto lunar de monzo abajo sin que nadie viera\n",
      "REF:  por ejemplo había 10 papelitos del bar de pepe arriba 20 papelitos de la heladería de horacio al medio y 70 papelitos del proyecto lunar de moncho abajo sin que nadie los viera\n",
      "HYPO: cuando sintió miedo a que la maten sintió miedo a que le dejen marcas y tuvo que entregar su cuerpo para evitarlo ahí supo que la violación era otra cosa\n",
      "REF:  cuando sintió miedo a que la maten sintió miedo a que le dejen marcas y tuvo que entregar su cuerpo para evitarlo ahí supo que la violación era otra cosa\n"
     ]
    },
    {
     "name": "stderr",
     "output_type": "stream",
     "text": [
      " 29%|██▊       | 40/140 [00:45<01:31,  1.09it/s]"
     ]
    },
    {
     "name": "stdout",
     "output_type": "stream",
     "text": [
      "HYPO: supone que le piden que pague o que se vaya piensen los chicos piensen en su trabajo piensen en la pareja que la abandonó la abra y leis\n",
      "REF:  supone que le piden que pague o que se vaya y piensa en los chicos piensa en su trabajo piensa en la pareja que la abandonó la abre y lee\n",
      "HYPO: y ahí creemos porque cuando una mujer cuenta lo que le pasó dice cosas que no nos imaginamos que nos perturban que no esperamos escuchar que nos asombran\n",
      "REF:  no les creemos porque cuando una mujer cuenta lo que le pasó dice cosas que no imaginamos que nos perturban que no esperamos escuchar que nos asombran\n",
      "HYPO: pero si mi amiga no se hubiese arriesgado a preguntarnos qué tal estamos a lo mejor yo no hubiese hablado mismo\n",
      "REF:  pero si mi amiga no se hubiese arriesgado a preguntarme que tal estaba a lo mejor yo no habría hablado nunca\n",
      "HYPO: de todas maneras para ellas esto es lo determinante para aprender alemán para tener sueños para estar motivadas para querer realmente participar en esta nueva sociedad\n",
      "REF:  de todas maneras para ellas esto no es lo determinante para aprender alemán para tener sueños para estar motivadas para querer realmente participar en esta nueva sociedad\n"
     ]
    },
    {
     "name": "stderr",
     "output_type": "stream",
     "text": [
      " 29%|██▉       | 41/140 [00:46<01:39,  1.01s/it]"
     ]
    },
    {
     "name": "stdout",
     "output_type": "stream",
     "text": [
      "HYPO: tiene que anitar porque el hecho ocurre en el seno mismo de la familia o con alguien conocido y eso lo hace mucho más difícil de vivir y de contar\n",
      "REF:  una mitad porque el hecho ocurre en el seno mismo de la familia o con alguien conocido y eso lo hace mucho más difícil de vivir y de contar\n",
      "HYPO: un día luciano visiendo el tesoro para su hijo pudiera crear sus propias batallas normales de bicicletas vidas extras\n",
      "REF:  un día pensé y si en vez de solo jugar a esos juegos pudiera crear mis propias pantallas héroes y malos golpes y piruetas vidas extras\n",
      "HYPO: y yo seguro que esto se va a quedar para mí para siempre aunque no estudiara aunque no comiera prácticamente aunque no viniera aprendí que se va a quedar para mí así\n",
      "REF:  y os aseguro que eso quedará siempre aunque no estudiara aunque no comiera prácticamente aunque no durmiera aprendí y se va a quedar para mí para siempre\n",
      "HYPO: y el domingo después de mi hijo se fue a la plaza de diccionos vestido con su compras y le dije a todos los vecinos que están en la cárcel queridos vecinos voy a abrir un banco en la cultura del país\n",
      "REF:  y el domingo después de misa se fue a la plaza del pueblo vestido con su mejor traje y le dijo a todos los vecinos en la plaza queridos vecinos voy a abrir un bar en las afueras del pueblo\n"
     ]
    },
    {
     "name": "stderr",
     "output_type": "stream",
     "text": [
      " 30%|███       | 42/140 [00:47<01:37,  1.00it/s]"
     ]
    },
    {
     "name": "stdout",
     "output_type": "stream",
     "text": [
      "HYPO: hasta que no son ciertamente preguntas son adentro juicios y juicios que terminan en una sentencia ella se la buscó\n",
      "REF:  preguntas que no son ciertamente preguntas son más bien juicios y juicios que terminan en una sentencia ella se la buscó\n",
      "HYPO: cojarme de entidad es el comienzo de una serie de inusaciones de acuerdo a la cultura al contexto a las circunstancias que se repiten a lo largo del siglo xxi\n",
      "REF:  despojar de identidad es el comienzo de una serie de humillaciones de acuerdo a la cultura al contexto a las circunstancias que se repite a lo largo de la historia de la humanidad\n",
      "HYPO: las etiquetas lo que hacen es generar estereotipos generar prejuicios que no dan cuenta de la riqueza tan grande que somos cada uno de nosotros que tenemos cada uno de nosotros\n",
      "REF:  las etiquetas lo único que hacen es generar estereotipos y generar prejuicios que no dan cuenta de la riqueza tan grande que somos cada uno de nosotros o que tenemos cada uno de nosotros\n",
      "HYPO: en este tiempo que he nacido hace aproximadamente un año mi habilidad para expresar mi posibilidad de respeto y mi ya de por sí señor de diciembre de siglo ha ido aumentando a pasos en bilbantes\n",
      "REF:  en este tiempo casi un año mi habilidad para escribir para expresarme y mi enorme afición por el cine han ido aumentando y aumentando a pasos agigantados\n"
     ]
    },
    {
     "name": "stderr",
     "output_type": "stream",
     "text": [
      " 31%|███       | 43/140 [00:48<01:37,  1.00s/it]"
     ]
    },
    {
     "name": "stdout",
     "output_type": "stream",
     "text": [
      "HYPO: nadie sabía que mi razón para entrar en este tipo fue ser encontrar un lugar donde lloraba donde nadie me preguntara por qué\n",
      "REF:  nadie sabía que mi razón para entrar en este sitio fuese encontrar un lugar donde llorar donde nadie me preguntara el porqué\n",
      "HYPO: y aunque me veía a mí misma como alguien que tenía todo bajo mi rostro en lo más profundo que me interior me estaba desinformando\n",
      "REF:  y aunque me veía a mí misma como alguien que tenía todo bajo control en lo más profundo de mi interior me estaba desmoronando\n",
      "HYPO: también esta comisión se puede dar cuando eres adulto porque tienes un íclus o porque tienes una accidente o porque tienes una enfermedad neurodegenerativa como es el parkinson\n",
      "REF:  también esta condición se pueda dar cuando ya eres adulto porque tienes un ictus o porque tienes un accidente o porque sufres una enfermedad neurodegenerativa como es el párkinson\n",
      "HYPO: tengo una hija que tenía 3 años y en 2012 cuando fue el colapso financiero se cagieron todas las cosas al mundo todo eso tenía 5 menos que ahora tendría 8 no había ni 6\n",
      "REF:  tengo una hija que tiene 13 años pero en el 2012 cuando fue el colapso financiero que se cayeron todas las bolsas del mundo y todo eso tenía cinco menos que ahora tendría ocho nueve años\n"
     ]
    },
    {
     "name": "stderr",
     "output_type": "stream",
     "text": [
      " 31%|███▏      | 44/140 [00:50<01:40,  1.05s/it]"
     ]
    },
    {
     "name": "stdout",
     "output_type": "stream",
     "text": [
      "HYPO: qué te descubrieron entonces que sin caballo nadie iba a poder ir nunca a jugar en la secuela del pueblo y en absoluta manera que jamás podías devolver las virtudes de nada sin el mundo\n",
      "REF:  pepe descubrió entonces que sin caballo nadie iba a poder ir nunca a su bar en las afueras del pueblo y entendió también que jamás podría devolver las 10 000 monedas a nadie\n",
      "HYPO: se someten a la penetración porque la penetración duele menos que los besos las caricias y las palabras suaves\n",
      "REF:  se someten a la penetración porque la penetración duele menos que los besos las caricias las palabras suaves\n",
      "HYPO: el vocabulario y el murciélgo son las palabras que se refugian más en la lengua espontánea y esto sucede en alemán y también en español en catalán en vasco en inglés etc\n",
      "REF:  el vocabulario núcleo son las palabras que se repiten más en la lengua espontánea y esto sucede no solamente en alemán sino también en español en catalán en vasco en inglés etc\n",
      "HYPO: escuché a ninguna hablar de sidiagna como que hubiera quedado reducida a una cosa sonejida totalmente a la voluntad del otro\n",
      "REF:  y no escuché a ninguna hablar de sí misma como que hubiera quedado reducida a una cosa sometida totalmente a la voluntad del otro\n"
     ]
    },
    {
     "name": "stderr",
     "output_type": "stream",
     "text": [
      " 32%|███▏      | 45/140 [00:50<01:29,  1.06it/s]"
     ]
    },
    {
     "name": "stdout",
     "output_type": "stream",
     "text": [
      "HYPO: el reto a donde era la barrera entre los que están luchando y los que no lo están porque nadie tiene que sentirse a resultados de un nuevo camino\n",
      "REF:  te reto a romper la barrera entre los que están luchando y los que no lo están porque nadie tiene que sentirse avergonzado de no estar bien\n",
      "HYPO: yo recuerdo que en ese momento nos planteamos intentemos de la fosa de sanguisente con el resto peor que se ve más de té de pollo más de té de pollo\n",
      "REF:  recuerdo que en ese momento nos planteamos intentemos con el resto peor preservado de la fosa de san vicente con el resto más degradado más deteriorado\n",
      "HYPO: a ver a quién tú me han recibido anda se suena su ruido\n",
      "REF:  a ver a qué instrumento suenas ruido anda tú suenas a un ruido\n",
      "HYPO: y es verdad que allá donde los científicos y los de los técnicos andan buscando teorías matemáticas modelos que les permitan avanzar ahí está el edificio de la clasificación que le permean todos\n",
      "REF:  pero también es verdad que allá donde los científicos donde los técnicos andan buscando teorías matemáticas modelos que les permitan avanzar ahí están en el edificio de las matemáticas que lo permean todo\n"
     ]
    },
    {
     "name": "stderr",
     "output_type": "stream",
     "text": [
      " 33%|███▎      | 46/140 [00:51<01:18,  1.20it/s]"
     ]
    },
    {
     "name": "stdout",
     "output_type": "stream",
     "text": [
      "HYPO: risas hay un 08 que son su prima su novio y madre que saben que trabajan en algo raro pero no se acordaban en qué y hay un 1 que sigue la conversación\n",
      "REF:  risas hay un 08 que son tu prima tu novia y tu madre risas que saben que trabajas en algo raro pero no se acordaban en qué risas y hay un 1 que sigue la conversación\n",
      "HYPO: nosotros pensamos bueno y si hacemos un proyecto donde no solamente sea tránsito para las chicas trateadas sino también más tránsito para las chicas alemanas\n",
      "REF:  nosotros pensamos y si hacemos un proyecto donde no solamente sea atractivo para las chicas refugiadas sino también atractivo para las chicas alemanas\n",
      "HYPO: entonces nos van a parecer dudas preguntas sospechas y eso nos va a hacer sentir muy mal culpados\n",
      "REF:  entonces nos van a aparecer dudas preguntas sospechas y eso nos va a hacer sentir muy mal culpables\n",
      "HYPO: entonces en tura se fue del salón de los fabricos de los bosques a mi fue la primera vez en muchos años que nadie lo estaba jugando a reconectar de inglés\n",
      "REF:  entonces el cura se fue del salón con los papelitos de moncho cabizbajo y fue la primera vez en muchos años que nadie lo estaba ayudando a reparar la iglesia\n"
     ]
    },
    {
     "name": "stderr",
     "output_type": "stream",
     "text": [
      " 34%|███▎      | 47/140 [00:52<01:12,  1.28it/s]"
     ]
    },
    {
     "name": "stdout",
     "output_type": "stream",
     "text": [
      "HYPO: organizamos un día en el que yo les enseñaba esos proyectos y más a mis compañeros de escuela y les enseñé que ellos también podían hacerlo al igual que lo había hecho yo\n",
      "REF:  organizamos un día en el que yo les enseñaba esos proyectos y más a mis compañeros de curso y les enseñé que ellos también podían hacerlo al igual que lo había hecho yo\n",
      "HYPO: salimos también a caminar el camino que venía el caminar de igual de agua o hilo pero no también los vivimos adultos y desaparecidos no nos seguíamos acostumbrados\n",
      "REF:  salimos también a caminar el camino que venían caminando ellos uruguay paraguay bolivia donde también hubieron dictaduras y desaparecieron nombres e identidades\n",
      "HYPO: una llena con vocatoria de una cantidad de familias que venía a donar su maestro de sangre para hacer un banco de sangre y comparar los datos con la cantidad de cosas que se nos van a desarrollar\n",
      "REF:  era una convocatoria a una cantidad de familias que venían a donar sus muestras de sangre para hacer un banco de sangre y comparar los datos con la cantidad de fosas que se iban descubriendo\n",
      "HYPO: investigo diferentes aspectos de la lengua en entornos multilingües desde hace varios años para mí la lengua no es un producto final que se puede llegar a dominar\n",
      "REF:  investigo diferentes aspectos de la lengua en entornos multilingües desde hace varios años y para mí la lengua no es un producto final que se pueda llegar a dominar\n"
     ]
    },
    {
     "name": "stderr",
     "output_type": "stream",
     "text": [
      " 34%|███▍      | 48/140 [00:52<01:10,  1.30it/s]"
     ]
    },
    {
     "name": "stdout",
     "output_type": "stream",
     "text": [
      "HYPO: siempre hay que estercar en las metáforas de mi familia sobre todo cuando estoy en un viaje de viaje y mi hija me dijo papá esto no tiene nada que ver con lo que dijo el señor pelado de la tele pero está bueno seguir\n",
      "REF:  siempre hay que testear las metáforas con los chicos sobre todo cuando son ideas complejas y ella me dijo papá esto no tiene nada que ver con lo que dijo el señor pelado de la tele pero está bueno seguí\n",
      "HYPO: y entonces mi hija que siempre me preguntaba qué es el tsunami qué es el avión o qué es el avión era fácil explicar los tsunami desde el centro y una sola imagen después se mueve por el río y sí me miraba\n",
      "REF:  y entonces nina mi hija que siempre me preguntaba qué es el tsunami qué es el avión que se cayó y era fácil de explicar lo del tsunami es el epicentro de una cosa en el mar que después se mueren los filipinos es simple\n",
      "HYPO: el que me compre un papelito va a tener que guardar porque dentro de un mes cuando yo abro mi barco voy a pagar 12 pulmeras por cada papelito que uds me doy el dinero\n",
      "REF:  el que me compre un papelito va a tener que guardarlo porque dentro de un mes cuando yo abra mi bar voy a pagar 12 monedas por cada papelito que uds me devuelvan\n",
      "HYPO: y de eso se trata utilizando las letras de nuestro genoma de escribir las letras del nombre y el medio de la fila porque el medio de su genoma\n",
      "REF:  y de eso se trata de utilizando las letras de nuestro genoma reescribir las letras del nombre y apellido de aquellos que perdieron su identidad\n"
     ]
    },
    {
     "name": "stderr",
     "output_type": "stream",
     "text": [
      " 35%|███▌      | 49/140 [00:53<01:05,  1.39it/s]"
     ]
    },
    {
     "name": "stdout",
     "output_type": "stream",
     "text": [
      "HYPO: algunos son desaparecidos porque están vivos y indignados productos de tráfico de niños drogos de bebés tráfico de personas disrupciones ideales\n",
      "REF:  algunos son desaparecidos que están vivos producto de tráfico de niños robo de bebés tráfico de personas adopciones ilegales\n",
      "HYPO: para que eso no suceda yo formo parte de la red argentina de lenguaje claro donde tratamos de acercar el lenguaje de la ley al lenguaje de todos los niños\n",
      "REF:  para que eso no suceda yo formo parte de la red argentina de lenguaje claro donde tratamos de acercar el lenguaje de la ley al lenguaje de todos los días\n",
      "HYPO: esta contenido se puede dar desde el nacimiento y en el caso de niños con trastornos de espectro autista severo son muy pequeños con discapacidades con parálisis cerebral\n",
      "REF:  esta condición se puede dar desde el nacimiento por ejemplo en el caso de niños con trastornos del espectro autista severos o por ejemplo en niños con parálisis cerebral\n",
      "HYPO: podéis imaginar estás en un bar y salte de un espetá y te puedes hablar con una chica y al rato salen las personas que tienen que trabajar\n",
      "REF:  os lo podéis imaginar estáis en un bar y sabes o en una discoteca todo eso y te pones a hablar con una chica y al rato pues sale en la conversación y tú en qué trabajas\n"
     ]
    },
    {
     "name": "stderr",
     "output_type": "stream",
     "text": [
      " 36%|███▌      | 50/140 [00:54<01:03,  1.42it/s]"
     ]
    },
    {
     "name": "stdout",
     "output_type": "stream",
     "text": [
      "HYPO: muchos decimos habían pasado de la misma manera y ríe por el cambio que estos pocos pasaban porque también habían descubierto que tenían tres fechas que no tenían un truco por falta de dinero\n",
      "REF:  muchos vecinos habían pasado la noche entera recortando sus propios papelitos porque también habían descubierto tenían proyectos que no podían cumplir por falta de monedas\n",
      "HYPO: aplausos los matemáticos nos dedicamos a hacer teoremas\n",
      "REF:  aplausos bueno los matemáticos nos dedicamos a hacer teoremas\n",
      "HYPO: en el mundo de la bisforca y en la que no hay otras ideas en el mundo de las cosas el alcalde vendió en cada lado las tareas y las cuentó de la casa\n",
      "REF:  en el medio de la euforia por estas nuevas ideas nadie en el pueblo notó que el alcalde nunca había arreglado las farolas ni la fuente de la plaza\n",
      "HYPO: y esa combinación sigue invariablemente en algún momento aparece una vez que habló el fracaso yo quiero afacar con matemáticas pero nada a tu infamix que el proceso de superhéroe era otro\n",
      "REF:  cuando esa conversación sigue invariablemente en algún momento aparece una de estas 2 frases a yo es que era fatal con las matemáticas pero no era culpa mía es que el profesor era horroroso\n"
     ]
    },
    {
     "name": "stderr",
     "output_type": "stream",
     "text": [
      " 36%|███▋      | 51/140 [00:54<00:57,  1.55it/s]"
     ]
    },
    {
     "name": "stdout",
     "output_type": "stream",
     "text": [
      "HYPO: como mi padre lo fría que me gustaba tanto y iba también a nuestro estudio cuando cumplí los 7 años y regalaron una cosa que cuando la vi es tú\n",
      "REF:  como mis padres veían que me gustaba tanto y me iba tan bien con los estudios cuando cumplí los 7 años me regalaron una cosa que cuando la vi dije qué es esto\n",
      "HYPO: ahora yo me pregunto y les pregunto todo eso que hizo ella no es resistir\n",
      "REF:  ahora yo me pregunto y les pregunto todo eso que hizo ella no es resistir\n",
      "HYPO: 54 de los matemáticos tomaron una postura a la radio y 57 de los matemáticos tomaron una postura a la defensiva\n",
      "REF:  un 5451 de los matemáticos toma una postura al ataque y un 4477 de los matemáticos toma una postura a la defensiva\n",
      "HYPO: los objetivos de este proyecto eran desarrollar y uno detrás los espacios de interacción para poder con ello desarrollar las competencias comunicativas\n",
      "REF:  los objetivos de este proyecto eran desarrollar bueno primero crear estos espacios de interacción para poder con ello desarrollar las competencias comunicativas\n"
     ]
    },
    {
     "name": "stderr",
     "output_type": "stream",
     "text": [
      " 37%|███▋      | 52/140 [00:55<01:05,  1.35it/s]"
     ]
    },
    {
     "name": "stdout",
     "output_type": "stream",
     "text": [
      "HYPO: las 12 monedas que va a pagar pepe cuando el barco entienda o las 20 monedas que dice monzo que va a pagar que yo haga viaje a canadien se llaman valores hormonales de un barco\n",
      "REF:  las 12 monedas que va a pagar pepe cuando el bar funcione o las 20 monedas que dice moncho que va a pagar cuando haga viajes a la luna se llaman valor nominal del bono\n",
      "HYPO: los ojos de ortex probablemente vienen con papelitos de peces o de calcet o de alto de boca dicen bien por ahí compro del paquete hay un montón de papelitos de peces que nunca en la punta vi la basada me voy viajar a la luz\n",
      "REF:  los fajos de ernesto a veces vienen con papelitos de pepe o del alcalde en la parte de arriba y eso está bien pero al fondo del paquete hay muchos papelitos de moncho que nunca en la puta vida va a hacer ningún viaje a la luna\n",
      "HYPO: cuando me dió su casa una botella de vino y vino me descubrí una cosa que nadie había descubierto nunca no había bares en el interior\n",
      "REF:  cuando volvió a su casa abrió una botella de vino y mientras tomaba el vino descubrió una cosa que nadie había descubierto nunca no había bares en el pueblo\n",
      "HYPO: risas con las fotos de las chicas\n",
      "REF:  y a principios de julio del pasado julio se presentó el tranvía con las fotos de las chicas\n"
     ]
    },
    {
     "name": "stderr",
     "output_type": "stream",
     "text": [
      " 38%|███▊      | 53/140 [00:56<01:13,  1.18it/s]"
     ]
    },
    {
     "name": "stdout",
     "output_type": "stream",
     "text": [
      "HYPO: risas el 3351 de las chicas en ese momento simulan una llamada telefónica ausente es hombre\n",
      "REF:  risas el 3351 de las chicas risas en ese momento simulan una llamada telefónica urgente y se van\n",
      "HYPO: yo estoy seguro de que conoce una serie de televisión que es muy muy conocida muy famosa popular siesa new york los angeles los marianos\n",
      "REF:  yo estoy seguro que conocen una serie de televisión sumamente conocida muy famosa popular csi nueva york los ángeles miami\n",
      "HYPO: parlo como si todo lo que estaba pasando en ese momento hubiera sido normal para lo despertar en él el miedo aquello que después lo pudiera denunciar\n",
      "REF:  le habló como si todo lo que estaba pasando en ese momento fuera normal para no despertar en él el miedo a que ella después lo pudiera denunciar\n",
      "HYPO: pero todavía no había ido al pueblo hasta hoy y sería sin saber que la vida de jesús recién suele ser un filósofo de papelistas que iban en el mundo cambiando de precio y de dinero\n",
      "REF:  como todavía no había ido al pueblo pepe él seguía sin saber que la vida de sus vecinos era un quilombo de papelitos que iban y venían cambiando de precio y de dueño\n"
     ]
    },
    {
     "name": "stderr",
     "output_type": "stream",
     "text": [
      " 39%|███▊      | 54/140 [00:57<01:10,  1.22it/s]"
     ]
    },
    {
     "name": "stdout",
     "output_type": "stream",
     "text": [
      "HYPO: todo ese cambio un día me permitió irónicamente a la nueva edición y me dieron esa prueba que dije bueno estamos en chico chica en valladolid y que nos dure esta visión de la secuencia\n",
      "REF:  todo esto cambió un día en el que irónicamente salgo del cine y recibo un mensaje privado de twitter hola buscamos un chico o chica en valladolid que nos cubra esta edición de la seminci\n",
      "HYPO: la verdad es que las niñas aceptaban bastante bien esos instrumentos y los dados recogidos del proyecto demuestran que sí que lo valoran positivamente\n",
      "REF:  la verdad es que las niñas aceptaron muy bien estos instrumentos y los datos recogidos en el proyecto demuestran que sí que lo valoran positivamente\n",
      "HYPO: el que tenga papelitos de moncho que para dos monedas cada noche de acá a 5 euros y si moncho no consigue hacer viajes a la luna yo pago las 20 monedas para hacer las cuatro monedas\n",
      "REF:  el que tenga papelitos de moncho me paga dos monedas cada noche de acá a fin de mes y si moncho no consigue hacer viajes a la luna yo pago las 20 monedas prometidas por moncho\n",
      "HYPO: entonces yo pensé claro lo que las mujeres hacen en estas situaciones es negociar\n",
      "REF:  entonces yo pensé claro lo que las mujeres hacen en estas situaciones es negociar\n"
     ]
    },
    {
     "name": "stderr",
     "output_type": "stream",
     "text": [
      " 39%|███▉      | 55/140 [00:58<01:07,  1.26it/s]"
     ]
    },
    {
     "name": "stdout",
     "output_type": "stream",
     "text": [
      "HYPO: ahora viene el 01 de 3000 millones de décadas es más o menos de 3 millones de veces que se ha ido a la universidad de méxico\n",
      "REF:  ahora bien el 01 de 3000 millones de letras es nada menos que tres millones de letras y eso es un número\n",
      "HYPO: y es una casualidad que ya aprendí muchísimo más cuando hice las más películas y que veinte y siete días fui a muchísimas más verdades de prensa y me puse a jugar un ejemplo con mi manera de vida\n",
      "REF:  os aseguro que este año aprendí muchísimo más porque vi más películas prácticamente 20 en 7 días fui a muchísimas más ruedas de prensa y tuve un encuentro con imanol arias\n",
      "HYPO: al vehículo al hacer viajes de la luna del mundo de juventud ii y haciendo cenas que adivinen a la reforma de la plaza de la alcalde les puso nueve cientos de dólares\n",
      "REF:  al vehículo para hacer viajes a la luna de moncho le puso un dos y haciéndose el distraído a las reformas de la plaza del alcalde les puso un nueve con cincuenta\n",
      "HYPO: risas esta curiosidad que tenemos los niños la que toda ser real me di cuenta de que podía aprender jugando y jugar aprendiendo\n",
      "REF:  risas esta curiosidad que tenemos los niños me ayudó a ser creador de mis propios juegos y me di cuenta de que podía aprender jugando y jugar aprendiendo\n"
     ]
    },
    {
     "name": "stderr",
     "output_type": "stream",
     "text": [
      " 40%|████      | 56/140 [00:58<01:01,  1.36it/s]"
     ]
    },
    {
     "name": "stdout",
     "output_type": "stream",
     "text": [
      "HYPO: parecía un proyecto muy interesante pero era un proyecto muy difícil porque teníamos que hacer que niños y muy pequeños nos escucharan a nosotros otros niños\n",
      "REF:  nos pareció un proyecto muy interesante pero era un reto muy difícil porque teníamos que hacer que niños muy pequeños nos escucharan a nosotros otros niños\n",
      "HYPO: de forma concorda se iban ayudando y no era una cuestión que entendía más miedo ni menos miedo que el grupo era el que entendía más miedo menos era simplemente cada una en su expresión\n",
      "REF:  de forma conjunta se iban ayudando y no era cuestión de quién tenía más miedo o menos miedo qué grupo era el que tenía más miedo o menos era simplemente cada una en su expresión\n",
      "HYPO: aplausos siempre me he preguntado dónde están viviendo\n",
      "REF:  aplausos fin de aplausos siempre me he preguntado dónde está el ritmo\n",
      "HYPO: ese sentimiento ese miedo de vergüenza me llevaba a permanecer en mi vida encontrar consuelo en mi barrio donde llorar parecía estar conmigo\n",
      "REF:  este sentimiento de miedo vergüenza me llevaba a permanecer en silencio encontrar consuelo en un lugar donde llorar parecía estar bien\n"
     ]
    },
    {
     "name": "stderr",
     "output_type": "stream",
     "text": [
      " 41%|████      | 57/140 [00:59<00:55,  1.50it/s]"
     ]
    },
    {
     "name": "stdout",
     "output_type": "stream",
     "text": [
      "HYPO: risas solamente quedaban en el salón de los papeles y no pedrecían a los que nunca le habían abierto el cielo de la fuente de su hijo\n",
      "REF:  risas solamente quedaba en el salón de los papelitos un grupo de vecinos a los que nunca en la vida se les había ocurrido ningún proyecto interesante\n",
      "HYPO: teníamos un problema en los años 80 si necesitábamos células vivas como las dos personas con los que nos encontramos nos podíamos conocer las cosas\n",
      "REF:  teníamos un problema en los 80 necesitábamos células vivas de las dos personas que íbamos a comparar no podíamos analizar un hueso\n",
      "HYPO: la imagen no dura más de 10 o 20 segundos y es oscura es plana no hay movimientos no hay sonidos es como si no hubiera calzadas\n",
      "REF:  la imagen no dura más de 10 o 20 segundos y es oscura es plana no hay movimientos no hay sonidos es como si no hubiera personas\n",
      "HYPO: hice nuevos amigos con los que compartía clases y fui pensando que si se enseñaba los niños del colegio ellos también podrían disfrutar con mucho café\n",
      "REF:  hice nuevos amigos con los que compartía creaciones y fui pensando que si se lo enseñaba a los niños del cole ellos también podrían disfrutar como yo lo hacía\n"
     ]
    },
    {
     "name": "stderr",
     "output_type": "stream",
     "text": [
      " 41%|████▏     | 58/140 [00:59<00:53,  1.52it/s]"
     ]
    },
    {
     "name": "stdout",
     "output_type": "stream",
     "text": [
      "HYPO: por tanto podemos haber aprendido de una vez que la verdad es con la cual debemos alejarnos\n",
      "REF:  por lo tanto podemos haber aprendido de una vez que debemos manejarnos con la verdad\n",
      "HYPO: más cerca en el tiempo en el siglo xx en el siglo de la gripe que estuvimos en 1918 en la gripe española\n",
      "REF:  más cerca en el tiempo en el siglo xx el siglo de las gripes tuvimos en 1918 la gripe española\n",
      "HYPO: nosotros les llamamos a eso efecto y acción porque yo en mi imagen distorsionada complejo por eso les diré que sí o sí\n",
      "REF:  nosotros le llamamos a eso efecto csi porque generan una imagen distorsionada del complejo proceso de identificación\n",
      "HYPO: nuestro deseo era tener una plataforma una plataforma que forma de aclaración política en contra del sexismo y en contra de la xenofobia\n",
      "REF:  nuestro deseo era tener una plataforma una plataforma que fuera una declaración política en contra del sexismo y en contra de la xenofobia\n",
      "HYPO: se le dije a agafa la profesora de la universidad de monto a las universidades de colegio y me pidió si podíamos hacer un proyecto especial frente a la música y nosotros en la universidad\n",
      "REF:  se lo dije a marga la profesora de niños de 4 años de mi cole y me pidió si podíamos hacer un proyecto especial sobre la música y los instrumentos de una orquesta\n"
     ]
    },
    {
     "name": "stderr",
     "output_type": "stream",
     "text": [
      " 42%|████▏     | 59/140 [01:00<00:52,  1.54it/s]"
     ]
    },
    {
     "name": "stdout",
     "output_type": "stream",
     "text": [
      "HYPO: al día siguiente mirábimos y que pepe viajó a la silla sin problemas veros para los cuñadores y propios individuos volvía a su casa y se puso a trabajar\n",
      "REF:  al día siguiente era lunes y pepe viajó a la ciudad y compró madera para construir un mostrador y compró pintura volvió a su casa y se puso a trabajar\n",
      "HYPO: cuando comencé a tener pensamientos positivos mi mejor amiga me dijo que había ayuda de su hijo y me conectó a los servicios sanitarios y psicológicos de la universidad\n",
      "REF:  cuando comencé a tener pensamientos suicidas mi mejor amiga me dijo que había ayuda disponible y me conectó a los servicios sanitarios y psicológicos en la universidad\n",
      "HYPO: de verdad lo que miramos como si fuéramos magos bien con una simple escala y un ordenador habíamos dejado de boca abiertos a pequeños a pequeños\n",
      "REF:  de verdad nos miraban como si fuéramos magos que con unos simples cables y un ordenador habíamos dejado boquiabiertos a pequeños y mayores\n",
      "HYPO: en la primera guerra mundial murieron entre 10 y 30 millones de personas\n",
      "REF:  miren en la primera guerra mundial murieron entre 10 y 30 millones de personas\n",
      "HYPO: y quizás los que no haces eso realmente tu trabajo aparte de irte bien aquí y no hay nada más porque te disfrutan y aprendes con lo que haces\n",
      "REF:  sabes que cuando haces eso tu trabajo aparte de venirte bien a ti le viene bien a los demás porque disfrutan y aprenden con lo que haces\n"
     ]
    },
    {
     "name": "stderr",
     "output_type": "stream",
     "text": [
      " 43%|████▎     | 60/140 [01:01<00:52,  1.53it/s]"
     ]
    },
    {
     "name": "stdout",
     "output_type": "stream",
     "text": [
      "HYPO: en el discurso religioso y en el discurso oficial se destaca como algo clave para la integración de los refugiados y la aprendizaje del alemán\n",
      "REF:  en el discurso oficioso y en el discurso oficial se destaca como algo clave para la integración de los refugiados el aprendizaje del alemán\n",
      "HYPO: esto es no era inútil y hablo bien para todo no exagerar su violencia y no darle ideas\n",
      "REF:  cuando vio que su no era inútil le habló bien trató de no exacerbar su violencia de no darle ideas\n",
      "HYPO: una mañana de marzo el alcalde de la luna de valdés en la glacia un vecino la plaza que vio estropeada después de respirar unos papeles\n",
      "REF:  una mañana de martes el alcalde salió al balcón con megáfono y dijo vecinos la plaza quedó estropeada después del furor de los papelitos\n",
      "HYPO: evidentemente para desarrollar las competencias comunicativas sabía que pasaba el aprendizaje alemán no quedaba otra y utilizamos un todo en lo menos un sapiens en comunicación aumentativa\n",
      "REF:  evidentemente para desarrollar las competencias comunicativas había que pasar por el aprendizaje del alemán no quedaba otra y utilizamos un método novedoso los tableros de comunicación aumentativa\n",
      "HYPO: y os aseguro que no se podrá hacer parte del vídeo pero es bastante frustrada porque una película tiene muchos elementos el guion la versión de los ámbitos mentores la música el vídeo\n",
      "REF:  y no sé si podrá parecer fácil o difícil pero es muy complicado porque una película tiene muchos elementos el guion la dirección los actores la música el sonido\n"
     ]
    },
    {
     "name": "stderr",
     "output_type": "stream",
     "text": [
      " 44%|████▎     | 61/140 [01:01<00:47,  1.66it/s]"
     ]
    },
    {
     "name": "stdout",
     "output_type": "stream",
     "text": [
      "HYPO: una década después precisamente en el año 2003 pasó algo a mí me cambió la vida gran parte de mi profesión y de mi profesión\n",
      "REF:  una década después precisamente en el año 2003 pasó algo que a mí me cambió la vida en gran parte en lo profesional y también en la motivación\n",
      "HYPO: y ese sentimiento de pertenencia es el que ha estado sintiendo ante uds y les estaba contando todo esto y por esto les estoy muy agradecida\n",
      "REF:  y ese sentimiento de pertenencia es el que he estado sintiendo ante uds mientras les estaba contando todo esto y por esto les estoy muy agradecida\n",
      "HYPO: ted recortó mil páginas y escribió en una de las páginas la frase próximamente barrio de ted mil veces más\n",
      "REF:  pepe recortó 1000 papelitos y escribió en cada papelito la frase próximamente bar de pepe 1000 veces escribió eso\n",
      "HYPO: que los sí sorda con los dos pueda sentir allí un momento que mueve los dos\n",
      "REF:  pero sé sorda como estoy puedo sentir el ritmo infinito que mueve mi cuerpo\n",
      "HYPO: el alzheimer ya cumplido con una parte solamente de la pérdida había escapado del pueblo con 18 años\n",
      "REF:  el alcalde había cumplido con una parte solamente de la promesa había escapado del pueblo con un coche a motor\n"
     ]
    },
    {
     "name": "stderr",
     "output_type": "stream",
     "text": [
      " 44%|████▍     | 62/140 [01:02<00:48,  1.62it/s]"
     ]
    },
    {
     "name": "stdout",
     "output_type": "stream",
     "text": [
      "HYPO: risas eso sí y esto lo tendréis que demostrar que vuestro amor no se quede en la sociedad\n",
      "REF:  risas eso sí quieto lo tendréis que demostrar que vuestro amor no se quede en conjetura\n",
      "HYPO: mucha gente cuando les digo que es pido para una página web o para una salida me dice sí mi primer retorno qué pagas\n",
      "REF:  mucha gente cuando les digo que escribo para una página web que escribo para la seminci casi todos me dicen te pagan\n",
      "HYPO: el alcalde tuvo que poner orden y admito un nuevo tratado de la manufetabilidad para que los vecinos pudieran reunirse e intercambiar papelitos y destrozar los ojos\n",
      "REF:  el alcalde tuvo que poner orden y habilitó un lugar cerrado en la municipalidad para que los vecinos pudieran reunirse a intercambiar papelitos sin destrozar la plaza\n",
      "HYPO: y muy curioso esta estructura fue un documental de pedométrica que se utilizó para construir el edificio de la natación en los juegos olímpicos de tokyo\n",
      "REF:  es muy muy curioso que esta estructura por sus propiedades geométricas se utilizó para construir el edificio de la natación en los juegos olímpicos de pekín\n",
      "HYPO: esta imagen de otras imágenes levantaron apoyos en el parlamento alemán y en muchos parlamentos europeos corriendo a hacke a la unión europea\n",
      "REF:  esta imagen y otras semejantes levantaron ampollas en el parlamento alemán y en muchos parlamentos europeos poniendo en jaque a la unión europea\n"
     ]
    },
    {
     "name": "stderr",
     "output_type": "stream",
     "text": [
      " 45%|████▌     | 63/140 [01:03<00:54,  1.42it/s]"
     ]
    },
    {
     "name": "stdout",
     "output_type": "stream",
     "text": [
      "HYPO: la vida de hilo es un proceso que va cambiando el lado de la vida el lado de las experiencias personales que vamos teniendo\n",
      "REF:  para mí la lengua es un proceso que va cambiando a lo largo de la vida a lo largo de las experiencias personales que vamos teniendo\n",
      "HYPO: ni expresificar crear ni barrir entender y razonar cómo están estas las cosas y pasamos a iniciarlo con lo que queramos estudiar\n",
      "REF:  podía experimentar crear compartir entender y razonar cómo están hechas las cosas para luego utilizarlo con lo que estábamos estudiando\n",
      "HYPO: nosotros pensamos si desarrollamos ambas cosas seguro que vamos a crear la posibilidad de que desarrollen también competencias interculturales\n",
      "REF:  nosotros pensábamos si desarrollamos ambas cosas seguro que vamos a crear la posibilidad de que desarrollen también competencias interculturales\n",
      "HYPO: risas cuando alguien te pregunta para qué sirven las matemáticas no te estás preguntando por aplicaciones de las expectativas matemáticas\n",
      "REF:  risas cuando alguien te pregunta para qué sirven las matemáticas no te está preguntando por aplicaciones de las ciencias matemáticas\n",
      "HYPO: y a vosotros y a vuestros padres os pido por favor que montéis talleres de programación en los colegios para que ningún niño se quede sin aprender color\n",
      "REF:  y a vosotros los padres os pido por favor que montéis talleres de programación en los colegios para que ningún niño se quede sin aprender todo esto\n"
     ]
    },
    {
     "name": "stderr",
     "output_type": "stream",
     "text": [
      " 46%|████▌     | 64/140 [01:04<01:00,  1.25it/s]"
     ]
    },
    {
     "name": "stdout",
     "output_type": "stream",
     "text": [
      "HYPO: son encuentros con cerdos culturales porque estábamos fomentando la interacción cara a cara entre unos dos comarcos de referencia totalmente diferentes\n",
      "REF:  son encuentros interculturales porque estábamos fomentando la interacción cara a cara de grupos con marcos de referencia totalmente diferentes\n",
      "HYPO: hace años habíamos ido con las chicas de la oficina al mismo par que vamos siempre\n",
      "REF:  dice ana habíamos ido con las chicas de la oficina al mismo pub que vamos siempre\n",
      "HYPO: entonces aparecen nuevas preguntas por ejemplo quién la manda ir a esos boliches\n",
      "REF:  entonces aparecen nuevas preguntas por ejemplo quién la manda a ir a esos boliches\n",
      "HYPO: después se dio cuenta que ya que compraba mesas chicas copas de mochila un palet con que copiar los clientes de lo barco que hicieron su caballo eran un pedazo más\n",
      "REF:  pepe se dio cuenta de que había que comprar mesas sillas copas pintura un palenque para que los clientes del bar pusieran sus caballos y pudieran entrar a tomar\n",
      "HYPO: entonces lo que ocurrió es que cuando empezó la tercera semilla de hoy hay unos proyectos que estaban casi caminados y en cambio otros seguían en la palimera\n",
      "REF:  entonces le conté a nina que cuando empezó la tercera semana en el pueblo algunos proyectos ya estaban casi terminados y en cambio otros seguían en pañales\n"
     ]
    },
    {
     "name": "stderr",
     "output_type": "stream",
     "text": [
      " 46%|████▋     | 65/140 [01:05<01:02,  1.19it/s]"
     ]
    },
    {
     "name": "stdout",
     "output_type": "stream",
     "text": [
      "HYPO: pero es realmente significativa la ausencia de las chicas adolescentes en estos grupos de alemán en estas actividades\n",
      "REF:  pero es realmente significativa la ausencia de las chicas adolescentes en estos grupos de alemán en estas actividades\n",
      "HYPO: están poniendo las planetas y cómo se van a hacer las planetas y si no me acuerdo a cámara me dicen madre si no me estás hablando\n",
      "REF:  van cayendo los planetas y tú apuntas hacia la cámara te mueves y les vas dando\n",
      "HYPO: y entonces ahora vivimos en un paso ajedrez y podríamos entonces identificar el sexo del muerto entre otras cosas que no eran así entre todos\n",
      "REF:  entonces dimos un paso hacia adelante y podíamos entonces identificar una célula muerta dentro de un cuerpo o un resto óseo\n",
      "HYPO: bueno mi madre dice que soy muy raro pero a mí que los que cuidáis los que sí podéis irnos y tomate un poco más de más no se imaginamos que nos quedemos\n",
      "REF:  bueno mi madre dice que soy muy raro pero es el tipo de cine que más me gusta del que más disfruto con sus personajes e historias\n",
      "HYPO: según un informe de comité publicado hace escasas dos semanas la mitad de las personas que huyen de la guerra son menores de edad\n",
      "REF:  según un informe de unicef publicado hace escasas dos semanas la mitad de las personas que huyen de la guerra son menores de edad\n"
     ]
    },
    {
     "name": "stderr",
     "output_type": "stream",
     "text": [
      " 47%|████▋     | 66/140 [01:05<01:03,  1.17it/s]"
     ]
    },
    {
     "name": "stdout",
     "output_type": "stream",
     "text": [
      "HYPO: como ella se va a tener que arreglar de una forma todos sabemos que muchas veces en la argentina alguna forma es por afuera de la ley\n",
      "REF:  como ella se va a tener que arreglar de alguna forma todos sabemos que muchas veces en la argentina alguna forma es por afuera de la ley\n",
      "HYPO: desde el principio por ser frente a la población alemana ante tal avalancha de los refugiados precedentes de oriente camino de europa\n",
      "REF:  desde el principio no hubo consenso entre la población alemana ante tal avalancha de refugiados procedentes de oriente medio camino de europa\n",
      "HYPO: risas aplausos gracias\n",
      "REF:  aplausos vamos\n",
      "HYPO: pero también esos genes nos permitían justamente porque hacíamos nuestras habilidades enfarentes analizar esta visibilidad\n",
      "REF:  pero también esos genes nos permitían justamente porque lo hacíamos entre familiares emparentados analizar y establecer vínculos de parentesco\n",
      "HYPO: pero como sé que a que saluda y a que me ha salido todo esto me propuse hacer algo así que escribí un cuento y pensé en lo que hice\n",
      "REF:  pero como soy cabeza dura y en ratos libres soy escritor también me propuse hacerlo así que escribí un cuento infantil\n"
     ]
    },
    {
     "name": "stderr",
     "output_type": "stream",
     "text": [
      " 48%|████▊     | 67/140 [01:08<01:33,  1.29s/it]"
     ]
    },
    {
     "name": "stdout",
     "output_type": "stream",
     "text": [
      "HYPO: y su idea fue estupenda traje al siglo xiv en una pizarrilla y empezó a poner de nota de uno al diez a cada tres segundos\n",
      "REF:  y su idea fue estupenda trajo al salón de los papelitos una pizarra y empezó a ponerle nota del uno al diez a cada proyecto\n",
      "HYPO: en esa serie los investigadores no las investigamos ni las investigamos ni las investigamos ni las investigamos ni las investigamos ni las investigamos ni las investigamos ni las investigamos ni las investigamos ni las investigamos ni las investigamos ni las investigamos ni las investigamos ni las investigamos ni las investigamos ni las investigamos ni las investigamos ni las investigamos ni las investigamos ni las investigamos ni las investigamos ni las investigamos ni las investigamos ni las investigamos ni las investigamos ni las investigamos ni las investigamos ni las investigamos ni las investigamos ni las investigamos ni las investigamos ni las investigamos ni las investigamos\n",
      "REF:  en esas series los investigadores en horas días resuelven unos casos dificilísimos\n",
      "HYPO: risas el 64 69 de las chicas intentan desesperadamente cambiar sistemas de diseño social\n",
      "REF:  risas el 6469 de las chicas intentan desesperadamente cambiar de tema y se van\n",
      "HYPO: y la pregunta es qué hacer para que estas chicas empiecen a participar en esta nueva sociedad en que se pueden integrar\n",
      "REF:  y la pregunta es qué hacer para que estas chicas empiecen a participar en esta nueva sociedad y que se puedan integrar\n",
      "HYPO: la sentencia se vería corroborada por el hecho de que ella después no cuenta que haya peleado para evitar la violación\n",
      "REF:  la sentencia se vería corroborada por el hecho de que ella después no cuenta que haya peleado para evitar la violación\n"
     ]
    },
    {
     "name": "stderr",
     "output_type": "stream",
     "text": [
      " 49%|████▊     | 68/140 [01:08<01:15,  1.05s/it]"
     ]
    },
    {
     "name": "stdout",
     "output_type": "stream",
     "text": [
      "HYPO: nadie sabía en ese momento que yo estaba llorando porque había sido agregida sexualmente\n",
      "REF:  nadie sabía en ese momento que yo estaba llorando porque había sido agredida sexualmente\n",
      "HYPO: el 44 de la gente ha preguntado hay un 2341 que se ha callado en un 08 por sus libros y lo que es una cifra\n",
      "REF:  un 7634 de la gente ha preguntado hay un 2341 que se ha callado y un 08 que yo no sé lo que están haciendo esos\n",
      "HYPO: cuando abro los ojos a la mañana me veo un mozo y aquella es una especie galois\n",
      "REF:  cuando abro los ojos a la mañana y digo qué hermoso el día que me está esperando\n",
      "HYPO: 1250 de nosotras sufrió o va a sufrir en algún momento de su vida un ataque sexual\n",
      "REF:  1250 de nosotras sufrió o va a sufrir en algún momento de su vida un ataque sexual\n",
      "HYPO: por qué me van a pagar algo realmente me apuntan la felicidad y el esfuerzo y el esfuerzo encima me sirven para abrirme a recomejar\n",
      "REF:  por qué me van a pagar cuando hago lo que realmente me gusta lo que realmente siento y encima me sirve para abrirme a los demás\n"
     ]
    },
    {
     "name": "stderr",
     "output_type": "stream",
     "text": [
      " 49%|████▉     | 69/140 [01:09<01:10,  1.00it/s]"
     ]
    },
    {
     "name": "stdout",
     "output_type": "stream",
     "text": [
      "HYPO: obviamente la lengua es un poderoso instrumento de integración de inclusión pero también un poderoso instrumento de exclusión social\n",
      "REF:  obviamente la lengua es un poderoso instrumento de integración de inclusión pero también un poderoso instrumento de exclusión social\n",
      "HYPO: sus cabazos estaban cada vez más platos y tristes y se los espejaba el día y noche y no parecía que el cortejato estuviera volando como un gran escenario\n",
      "REF:  sus caballos estaban cada vez más flacos y tristes aunque los cepillaba día y noche y no parecía que su artefacto pudiera volar en menos de una semana\n",
      "HYPO: porque en el mismo aparece un quique aparece una descalca aparece una tirada una caña y lo dejan siempre toda por el lado\n",
      "REF:  porque en el medio aparecen quiques aparecen alcaldes aparecen ernestos y secretarios y lo echan siempre todo a perder\n",
      "HYPO: esta es la recreación del ordenador de nuestra visión teníamos que estas chicas estuvieran siendo un gran día un gran día del deseo\n",
      "REF:  esta es la recreación por ordenador de nuestra visión queríamos que nuestras chicas estuvieran en un tranvía el tranvía del deseo\n",
      "HYPO: y resulta que todo el mundo está aprendiendo esto que los mayores se llaman informáticas creativas\n",
      "REF:  y resulta que todo eso que yo estaba aprendiendo es lo que los mayores llaman informática creativa\n"
     ]
    },
    {
     "name": "stderr",
     "output_type": "stream",
     "text": [
      " 50%|█████     | 70/140 [01:10<01:08,  1.02it/s]"
     ]
    },
    {
     "name": "stdout",
     "output_type": "stream",
     "text": [
      "HYPO: las personas que no la apoyan actualmente cada vez hay más detractores esto le va a pasar factura amplia de advertencias obviamente\n",
      "REF:  las personas que no la apoyan actualmente cada vez son más cada vez hay más detractores y esto le va a pasar factura a angela merkel obviamente\n",
      "HYPO: y otras veces aunque no un dolor es tan tan deteriorado que no podemos decir que no podemos traspagar la palabra que no tenemos\n",
      "REF:  y otras veces aun teniendo los restos están tan deteriorados que no podemos descifrar las letras para compararlas con los familiares\n",
      "HYPO: no digo pronto pero solamente es una cosa solo que sé que la gente puede ir a un barco a caballo pero nadie sube dónde orquesta en montar un caballo\n",
      "REF:  no dijo moncho yo solamente sé una cosa yo lo que sé es que la gente puede ir a un bar a caballo pero nadie puede volver borracho y montando un caballo\n",
      "HYPO: esto se generó en la fin y lejos hasta el pueblo de mi infarcteo y me tengo la cara de decirlo varias líneas había los que se conocían\n",
      "REF:  pepe recorrió las cinco leguas hasta el pueblo poniendo carteles en todos los árboles del camino bar la luna abierto todas las noches\n",
      "HYPO: lo más preocupante es que no lo hace solamente ser inteligente o largué o invisibilmente hay unas autoridades que también crean que no son muy complejas\n",
      "REF:  lo más preocupante es que no lo hacen solamente sobre la gente popularmente sino que algunas autoridades de los gobiernos también creen que es tan fácil\n"
     ]
    },
    {
     "name": "stderr",
     "output_type": "stream",
     "text": [
      " 51%|█████     | 71/140 [01:11<01:07,  1.02it/s]"
     ]
    },
    {
     "name": "stdout",
     "output_type": "stream",
     "text": [
      "HYPO: sin embargo cuando yo he felizado en los ee uu y una de mis primeras y una de mis personajes más viejos que no aportan nada solo es una historia nada más\n",
      "REF:  sin embargo cuando veo películas de los ee uu llenas de efectos especiales de personajes vacíos de historias que no aportan nada solo es una historia nada más\n",
      "HYPO: el secretario que había sido el mando de derecho de la local de guionecía la obstáculos del 35 decidió hacer algo para que nadie los pudo a lo mejor hacer con su vida\n",
      "REF:  el secretario que había sido mano derecha del alcalde y conocía la estafa desde el principio decidió hacer algo para que nadie descubra la ausencia de su jefe\n",
      "HYPO: ponen al agresor que termine rápido para que todo eso se termine igual que es posible con el menor problema\n",
      "REF:  le piden al agresor que termine rápido para que todo termine lo antes posible y con el menor costo\n",
      "HYPO: mientras tanto el intercambio de carteles funcionó en un mundo el llamado el pensado en los lápices para notar quién era el dueño de ella\n",
      "REF:  mientras tanto el intercambio de papelitos siguió en aumento y ya no alcanzaban los lápices para anotar quién era dueño de qué\n",
      "HYPO: este pensamiento que se había unido podía hacer feliz a otros dándolos de tomar y además también pensó que podía ganar algún dinero\n",
      "REF:  pepe pensó que si abría un bar podría hacer felices a otros dándoles de tomar y además también pensó que podía ganar alguna moneda\n"
     ]
    },
    {
     "name": "stderr",
     "output_type": "stream",
     "text": [
      " 51%|█████▏    | 72/140 [01:12<01:04,  1.05it/s]"
     ]
    },
    {
     "name": "stdout",
     "output_type": "stream",
     "text": [
      "HYPO: entonces me lo preguntó finalmente pepe si había logrado dormirse de bares porque estaba desde la cuarta semana y de repente el gimnasio me cayó\n",
      "REF:  entonces nina me preguntó si finalmente pepe había logrado abrir su bar porque ya estábamos en la cuarta semana y le conté el final de la historia\n",
      "HYPO: las parolas privacuentes de las playas estaban destructadas y había un solo caballo en la calle y dos vecinas cantaban merendro hablando todo\n",
      "REF:  las farolas y la fuente de la plaza estaban destrozadas no había un solo caballo en las calles y los vecinos caminaban en redondo hablando solos\n",
      "HYPO: también es la fuerza de tus cuerpos pero cada uno es lo que tengo en el suelo\n",
      "REF:  el ritmo está fuera de tu cuerpo pero qué hermoso lo que tengo en el suelo\n",
      "HYPO: y al final de la historia dijo cuando llegó la cuarta oportunidad y se escuchó el nombre siempre se levantó muy temprano y caminó tranquilo frente a ella\n",
      "REF:  el final de la historia dice así cuando llegó la cuarta semana y se cumplió el mes pepe se levantó muy temprano y caminó tranquilo hasta el pueblo\n",
      "HYPO: hernesto el vecino rijo que había comprado muchos matamixos durante la primera semana ahora se quería sacar de encima los papelitos de un niño\n",
      "REF:  ernesto el vecino rico que había comprado muchos papelitos durante la primera semana ahora se quería sacar de encima los papelitos de moncho\n"
     ]
    },
    {
     "name": "stderr",
     "output_type": "stream",
     "text": [
      " 52%|█████▏    | 73/140 [01:13<00:57,  1.17it/s]"
     ]
    },
    {
     "name": "stdout",
     "output_type": "stream",
     "text": [
      "HYPO: y luego el abrito en barça llegó a la década del 1920 la más fructífera y vanguardista de todos los países\n",
      "REF:  porque luego de la gripe universal llegó la década de 1920 la más fructífera y vanguardista de todos los tiempos\n",
      "HYPO: ese sinceramiento de los datos y de los números terminamos siendo señalados como reclosados de algo que no nos preocupa\n",
      "REF:  por ese sinceramiento de los datos y de los números terminaron siendo señalados como responsables de algo que no les correspondía\n",
      "HYPO: estoy pensando en ese alguien que perdió su nombre y su identidad desapareció su nombre y su identidad\n",
      "REF:  estoy pensando en ese alguien que perdió su nombre y su apellido que desapareció su nombre y su apellido su identidad\n",
      "HYPO: no estoy preparada lo que tengo dentro y lo tengo en posibilidad y da algo dentro\n",
      "REF:  no sirve para nada lo que tengo dentro si no tengo posibilidad de dar al otro\n",
      "HYPO: en 2016 hubo 3559 suicidios en españa según el instituto nacional de internet\n",
      "REF:  en 2016 hubo 3569 suicidios en españa según el instituto nacional de estadística\n"
     ]
    },
    {
     "name": "stderr",
     "output_type": "stream",
     "text": [
      " 53%|█████▎    | 74/140 [01:13<00:56,  1.18it/s]"
     ]
    },
    {
     "name": "stdout",
     "output_type": "stream",
     "text": [
      "HYPO: le extendí la mano y ella me la tomó con las manos y me la tiró con las manos y le dijo esto es superfluo pero sí me cuento un poco\n",
      "REF:  le extendí la mano y ella me la tomó con las dos y la trajo acá así y me dijo doctorcito por favor encuéntremelo\n",
      "HYPO: necesito recaudar un fondo para arreglar los destrozos de la tarola para renovar las fuentes y para comprar un coche emocional\n",
      "REF:  necesito recaudar fondos para arreglar los destrozos de las farolas para renovar la fuente y para comprarme un coche a motor\n",
      "HYPO: la otra pasión es el ordenador de juegos y la programación eso es lo que vengo a hablar hoy\n",
      "REF:  la otra pasión es los ordenadores los videojuegos y la programación que es de lo que vengo a hablaros hoy\n",
      "HYPO: si uds se ponen en su piel tendrían ganas de hacer unas clases de alemán o de cualquier otra cosa\n",
      "REF:  si uds se ponen en su piel tendrían ganas de hacer clases de alemán o de cualquier otra cosa\n",
      "HYPO: cuando nos fuimos todos preparados juntamos a todos los peces del infarto y les enseñamos cómo su instrumento se acaba de funcionar\n",
      "REF:  cuando lo tuvimos todo preparado juntamos a todos los peques del ciclo de infantil y les enseñamos cómo sus instrumentos sonaban de verdad\n"
     ]
    },
    {
     "name": "stderr",
     "output_type": "stream",
     "text": [
      " 54%|█████▎    | 75/140 [01:14<00:57,  1.14it/s]"
     ]
    },
    {
     "name": "stdout",
     "output_type": "stream",
     "text": [
      "HYPO: comencé a experimentar ataques de cáncer a menudo se originaban imágenes lugares en los últimos años que me recordaban en la sábana\n",
      "REF:  comencé a experimentar ataques de pánico a menudo se originaban imágenes lugares y noticias que me recordaban el asalto\n",
      "HYPO: los dos caballos flacos de módulos eran los únicos al final de la semana y arrastraban tres carros de dos ruedas cada uno en el centro de trenes\n",
      "REF:  los dos caballos flacos de moncho eran los únicos animales que quedaban y arrastraban tres carros con dos ruedas cada uno en forma de tren\n",
      "HYPO: queríamos trasladar nuestras fotos nuestra exposición a un espacio urbano y pensamos cuando teníamos una visión\n",
      "REF:  queríamos trasladar nuestras fotos nuestra exposición a un espacio urbano y teníamos una visión\n",
      "HYPO: hoy vamos a hablar del periódico de la segunda mitad del siglo xix de la rivela que están cortando todos los días\n",
      "REF:  podríamos hablar del feroz cólera de la segunda mitad del siglo xix o de la viruela que tanto costó dominar\n",
      "HYPO: el trastenoma el trastenoma humano está constituido por 4 letras que se repiten 3000 millones de veces\n",
      "REF:  nuestro genoma el genoma humano está constituido por cuatro letras que se repiten 3000 millones de veces\n"
     ]
    },
    {
     "name": "stderr",
     "output_type": "stream",
     "text": [
      " 54%|█████▍    | 76/140 [01:15<00:58,  1.10it/s]"
     ]
    },
    {
     "name": "stdout",
     "output_type": "stream",
     "text": [
      "HYPO: cuando acabó la tradición de la sonrisa hace más de años empecé a colaborar de manera natural con la web que traía cultura y sistemas y comunicación\n",
      "REF:  cuando acabó la 58 edición de la seminci empecé a colaborar de manera regular con la web que me había acreditado que se llama esencia cine\n",
      "HYPO: pero no le portó en mí la vocación por la medicina o la química pero sí mi pasión por la historia\n",
      "REF:  el libro no despertó en mí la vocación por la medicina o la química pero sí mi pasión por la historia\n",
      "HYPO: debemos tener un espacio para que ella se interactuara y que ella pudiera contribuir a transformar su identidad\n",
      "REF:  podríamos crear un espacio para que ellas interactuaran y quizá con ello que se pudiera contribuir a transformar su identidad\n",
      "HYPO: nunca me senté tan confiado en quedar solo en el medio sitio tranquilo porque mi amigo don ni siquiera me metieron en el pulicio en el calor de una música que está llena de música\n",
      "REF:  es mucho más interesante para mí quedar un sábado en un sitio tranquilo con un amigo o dos que meterme en el bullicio y calor de una discoteca llena de gente\n",
      "HYPO: es decir el hecho de que no se enterara de un desastre que se iba a ver por el punto de vista de sus familias\n",
      "REF:  es decir le dije a nina pepe no se enteró del desastre que se iba a armar por culpa de sus papelitos\n"
     ]
    },
    {
     "name": "stderr",
     "output_type": "stream",
     "text": [
      " 55%|█████▌    | 77/140 [01:16<00:56,  1.11it/s]"
     ]
    },
    {
     "name": "stdout",
     "output_type": "stream",
     "text": [
      "HYPO: la escuela reproduce en los riesgos embarcados cuando se pregunta ante la presencia de un alumno con esa pasión qué es\n",
      "REF:  y la escuela reproduce lo que los espartanos cuando se pregunta ante la presencia de un alumno con discapacidad qué tiene\n",
      "HYPO: la joven contó que un sujeto la saltó por la espalda y dijo que no gritara que tenía un arma y que se quedara aquí en casa\n",
      "REF:  la joven contó que un sujeto la asaltó por la espalda le dijo que no gritara que tenía un arma que se quedara quieta\n",
      "HYPO: en todo este tiempo he visto miles de situaciones creo que tengo una idea mucho más global del mundo que si nunca hubiera observado ese sujeto de estas personas\n",
      "REF:  en todo este tiempo he visto miles de esas visiones y creo que tengo una idea mucho más global del mundo que si nunca hubiera observado o visto películas\n",
      "HYPO: y así pertenece a todos los que tenían un proyecto que habían conseguido las medidas necesarias para llevarlo a cabo y se habían puesto a su alrededor\n",
      "REF:  y así fue que el viernes todos los que tenían un proyecto ya habían conseguido las monedas necesarias para llevarlo a cabo y se habían puesto a trabajar\n",
      "HYPO: risas uds ven todos los contradores de papelito consultado en siempre aquí que antes de entrar en el parto caliente\n",
      "REF:  risas desde entonces los compradores de papelitos consultaron siempre a quique antes de comprarle fajos a ernesto\n"
     ]
    },
    {
     "name": "stderr",
     "output_type": "stream",
     "text": [
      " 56%|█████▌    | 78/140 [01:17<00:54,  1.14it/s]"
     ]
    },
    {
     "name": "stdout",
     "output_type": "stream",
     "text": [
      "HYPO: y muchos vecinos empezaron a pagarle al triple dos nombres por mes para asegurar el proyecto de vida\n",
      "REF:  y muchos vecinos empezaron a pagarle a quique dos monedas por noche para asegurar el proyecto de moncho\n",
      "HYPO: cada uno de nosotros tenemos que arriesgar los sueños y tender la mano para nosotros pero cómo está esta situación\n",
      "REF:  cada uno de nosotros tenemos que arriesgarnos y tender la mano y preguntar cómo estás hoy\n",
      "HYPO: yo para comparar un padre y un hijo para saber si está en la universidad o si está en el instituto de investigación no vi que fuera de la universidad\n",
      "REF:  para comparar un padre y un hijo para saber si están vinculados en ese parentesco tengo que compararlos\n",
      "HYPO: cuando me miraron se cangó en una lata por un hombre que había dejado y me dijo cómo me hacía\n",
      "REF:  cuando les das se cambia el planeta por su nombre y lo dice y se suma un acierto\n",
      "HYPO: por ese período manda a los cobalos a los pedos insistir en esos casos porque no podemos hacer eso\n",
      "REF:  por ese pedidomandato es que vale la pena insistir e insistir en esos casos complejos que no podemos resolver\n",
      "HYPO: risas de pronto los vecinos se subían a las paredas de la plaza para que los otros vecinos pudieran encontrar su papelita\n",
      "REF:  risas de pronto los vecinos se subían a las farolas de la plaza para que los otros vecinos pudieran comprar esos papelitos\n"
     ]
    },
    {
     "name": "stderr",
     "output_type": "stream",
     "text": [
      " 56%|█████▋    | 79/140 [01:18<00:52,  1.17it/s]"
     ]
    },
    {
     "name": "stdout",
     "output_type": "stream",
     "text": [
      "HYPO: él no era la clase de tipo que necesita hacer eso para estar con el amigo él también me gustaba pero no de esa manera\n",
      "REF:  le dije que él no era la clase de tipo que necesita hacer eso para estar con una mina que él también me gustaba pero no de esa manera\n",
      "HYPO: y surgió la primera identificación el nombre es todo seríais la otra la primera y después se le ocurrió la primera\n",
      "REF:  y surgió la primera identificación de un resto óseo de la dictadura en la argentina en la fosa de san vicente en córdoba\n",
      "HYPO: entonces quiere decir que no resistió quiere decir que consentió\n",
      "REF:  entonces quiere decir que no resistió quiere decir que consintió\n",
      "HYPO: e incluso los papelitos escritos por mommies con disfraz de antropología que decían a miles de miles a desviar de forma normal\n",
      "REF:  e incluso había unos papelitos escritos por moncho con faltas de ortografía que decían a fin de mes aré biajes a la luna\n",
      "HYPO: aplausos a veces muy chulo\n",
      "REF:  aplausos a que es muy chulo\n",
      "HYPO: a sí misma fueron muchas las personas que nos preguntaron si podían replicar el proyecto si ellos podían hacer su especial a los otros\n",
      "REF:  así mismo fueron muchas las personas que nos preguntaron si podían replicar el proyecto si ellos podían hacer su especial hallofoto\n"
     ]
    },
    {
     "name": "stderr",
     "output_type": "stream",
     "text": [
      " 57%|█████▋    | 80/140 [01:18<00:46,  1.29it/s]"
     ]
    },
    {
     "name": "stdout",
     "output_type": "stream",
     "text": [
      "HYPO: para ellas los grandes significativos son los encuentros que formamos y que organizamos el malo en nuestro proyecto\n",
      "REF:  para ellas lo realmente significativo son los encuentros que formamos que organizamos en hallofoto en nuestro proyecto\n",
      "HYPO: ya me cuesta formar la creedización y podría poner mi mano en esa la obra en las 59 de diciembre de la semana\n",
      "REF:  que me volví a colgar la acreditación y volví a ponerme manos a la obra en la 59 edición de la seminci\n",
      "HYPO: aplausos muchas gracias\n",
      "REF:  aplausos muchas gracias\n",
      "HYPO: cuando la gente te habla de las paredes buenas de la arena y te dicen que encuentras a porco voy a derreler dos caballos por pato maras\n",
      "REF:  cuando la fuente eche agua cuando las farolas vuelvan a dar luz y yo tenga un coche a motor voy a devolver dos caballos por papelito\n",
      "HYPO: y llegaron a córdoba a exhumar una cosa masiva y se intentó en participar de esa idea\n",
      "REF:  y llegaron a córdoba a exhumar una fosa masiva del cementerio municipal de san vicente\n",
      "HYPO: ahora mucho lo ven de a siete monedas me dice que valgo el lugar del 20 y por eso dijiste que salía con la luna\n",
      "REF:  ahora moncho los vende a 7 monedas y dice que va a devolver 20 monedas pero es tonto y quiere hacer viajes a la luna\n"
     ]
    },
    {
     "name": "stderr",
     "output_type": "stream",
     "text": [
      " 58%|█████▊    | 81/140 [01:19<00:39,  1.51it/s]"
     ]
    },
    {
     "name": "stdout",
     "output_type": "stream",
     "text": [
      "HYPO: en el mundo real el salón de los papelitos se llama la red o la red mientras que los papelitos tienen dos nombres\n",
      "REF:  en el mundo real el salón de los papelitos se llama la bolsa de valores mientras que los papelitos pueden tener dos nombres\n",
      "HYPO: entonces una gran una que me dijo ahora me parece que empieza a parecerse lo que dijo el pelado de la tierra\n",
      "REF:  entonces la miré a nina que me dijo ahora me parece que empieza a parecerse a lo que dijo el pelado de la tele\n",
      "HYPO: al mal y con su programar también me ayudaba para aprender cómo formar más divertidas lo que damos las personas\n",
      "REF:  además programar también me ayudaba para aprender de una forma más divertida lo que estábamos dando en el cole\n",
      "HYPO: alguna década después llegó una revolución al mundo ahora podemos comparar con moléculas\n",
      "REF:  pero una década después llegó una revolución a los laboratorios ahora podíamos comparar moléculas\n",
      "HYPO: estos tableros utilizamos para el proyecto se compone de pictogramas y del vocabulario noción\n",
      "REF:  estos tableros que utilizamos para el proyecto se componen de pictogramas y del vocabulario núcleo\n",
      "HYPO: todos en el pueblo entregaron sus caballos y la localidad y desde ese día las tareas no eran tan sencillas\n",
      "REF:  todos en el pueblo entregaron sus caballos al alcalde y desde ese día las tareas se empezaron a hacer a pie\n"
     ]
    },
    {
     "name": "stderr",
     "output_type": "stream",
     "text": [
      " 59%|█████▊    | 82/140 [01:19<00:36,  1.59it/s]"
     ]
    },
    {
     "name": "stdout",
     "output_type": "stream",
     "text": [
      "HYPO: y como también tenía los apelitos de pepo y me dejó algo muy difícil en lo que bautizó en los pastos de río\n",
      "REF:  y como también tenía papelitos de pepe inventó algo buenísimo a lo que bautizó los fajos de ernesto\n",
      "HYPO: por supuesto el pepe no tenía 10 años de edad en esta época pero durante la noche se me ocurrió una manera de contener a los vecinos de mi casa\n",
      "REF:  por supuesto pepe no tenía 10 000 monedas porque era pobre pero durante la noche se le ocurrió una manera de conseguir esas 10 000 monedas\n",
      "HYPO: y el gobierno y la prensa de españa decidieron enfrentar un mal comiendo una superficie en las estadísticas\n",
      "REF:  el gobierno y la prensa de españa decidieron enfrentar el mal poniendo en la superficie las estadísticas\n",
      "HYPO: cuando respirás ya te ves fin como a verano\n",
      "REF:  cuando respirás exhalación ya tenés ritmo adentro\n",
      "HYPO: carmen afilaba las fronteras por la compromete de tubería y mónichio había pintado de baño plástico para hacer viajes por el mundo\n",
      "REF:  carmen afilaba las tijeras para su flamante peluquería y moncho había comprado dos caballos flacos para hacer viajes a la luna\n",
      "HYPO: y yo me di cuenta de que no tenía la menor idea de cómo explicar a los niños qué cosa era yo\n",
      "REF:  y yo me di cuenta de que no tenía la menor idea de cómo explicarle a un chico qué cosa era eso\n"
     ]
    },
    {
     "name": "stderr",
     "output_type": "stream",
     "text": [
      " 59%|█████▉    | 83/140 [01:20<00:32,  1.77it/s]"
     ]
    },
    {
     "name": "stdout",
     "output_type": "stream",
     "text": [
      "HYPO: risas de hecho de esto siempre nombran siempre y los cuentos y las computadoras\n",
      "REF:  risas estos siempre nombran siempre nombran los puentes y las computadoras\n",
      "HYPO: y cuando se explica un par de carteles una buena hipotecnología el problema del dígrafo va a funcionar mejor\n",
      "REF:  allá donde se junten un par de catetos y una buena hipotenusa risas el teorema de pitágoras funciona a tope a tope\n",
      "HYPO: el caso es que este enfoque con otros encuentros este es el enfoque que hicimos sobre cocinas ellas ven significado\n",
      "REF:  el caso es que en este junto con otros encuentros este es el encuentro que hicimos sobre cocina ellas ven significado\n",
      "HYPO: no no lo es para todos nosotros casi todos nosotros probablemente porque no lo es para la ley de los ojos\n",
      "REF:  no no lo es para todos o casi todos nosotros probablemente porque no lo es para la ley\n",
      "HYPO: la mía era una pequeña nota bien nata vestida con eso trajetiva\n",
      "REF:  la miré era pequeñita bien nativa vestida con su traje típico\n",
      "HYPO: montamos un laboratorio de genética donde hay chicos jóvenes que están trabajando en la escuela o sea muchísimos\n",
      "REF:  montamos un laboratorio de genética donde hay chicos jóvenes que están trabajando yo lo sé muchísimo\n"
     ]
    },
    {
     "name": "stderr",
     "output_type": "stream",
     "text": [
      " 60%|██████    | 84/140 [01:20<00:29,  1.93it/s]"
     ]
    },
    {
     "name": "stdout",
     "output_type": "stream",
     "text": [
      "HYPO: sí es importante hablarles antes hablar en alto para quien ha vivido o está viviendo de forma\n",
      "REF:  sí es importante arriesgarnos hablar en alto para quien ha vivido o está viviendo el trauma\n",
      "HYPO: es verdad que la ciencia toda la ciencia solamente tiene sentido porque nos hace comprender mejor el mundo de este modo de espectáculos\n",
      "REF:  es verdad que la ciencia toda la ciencia solamente tiene sentido porque nos hace comprender mejor el mundo este hermoso en el que estamos\n",
      "HYPO: la creatividad es la explosión afectiva y cognitiva de cada individuo\n",
      "REF:  la creatividad es la expresión afectiva y cognitiva de cada individuo\n",
      "HYPO: y sus límites de los pesquititos de colores que me hablan son similares\n",
      "REF:  estoy llena de lucecitas de colores que me hablan son estrellas\n",
      "HYPO: el primer grupo es de siria seguido por el grupo que vino de irak el grupo que vende afganistán\n",
      "REF:  el primer grupo es de siria seguido por el grupo que vino de irak y el grupo que vino de afganistán\n",
      "HYPO: segunda organización mundial de la salud cerca de 800000 personas mueren por cinturón cada año\n",
      "REF:  según la organización mundial de la salud cerca de 800 000 personas mueren por suicidio cada año\n"
     ]
    },
    {
     "name": "stderr",
     "output_type": "stream",
     "text": [
      " 61%|██████    | 85/140 [01:21<00:28,  1.96it/s]"
     ]
    },
    {
     "name": "stdout",
     "output_type": "stream",
     "text": [
      "HYPO: los tableros de comunicación aumentativa son ayuda para personas que no son verbales es decir personas que no tienen lenguaje oral\n",
      "REF:  los tableros de comunicación aumentativa son ayudas para las personas que no son verbales es decir personas que no tienen lenguaje oral\n",
      "HYPO: cada de las 85 mujeres pasó en el transcurso de una investigación que hice sobre la violación sexual\n",
      "REF:  una de las 85 mujeres que yo entrevisté en el transcurso de una investigación que hice sobre la violación sexual\n",
      "HYPO: el corazón alejaba lejos crean al viento y no la perseverían o pepe te estaba se acechando de la madera para encontrar otro lugar\n",
      "REF:  horacio ya buscaba leche crema hielo para su heladería pepe ya estaba serruchando la madera para el mostrador del bar\n",
      "HYPO: y empezamos a cuidarnos convocamos familia empezamos a cruzar letras para que pudiéramos hacerlo\n",
      "REF:  y empezamos a caminar convocamos familiares empezamos a cruzar letras para reescribir nombres\n",
      "HYPO: hoy en este lugar somos aproximadamente 5000 mujeres\n",
      "REF:  hoy en este lugar somos aproximadamente 5000 mujeres\n",
      "HYPO: el cine te va a brindar amplia total en muchas de estas ciencias que te van a estudiar y no se compran pero ver la realidad\n",
      "REF:  el cine te da una visión amplia total del mundo de todas sus gentes de todas sus ideas de todas sus formas de ver la realidad\n"
     ]
    },
    {
     "name": "stderr",
     "output_type": "stream",
     "text": [
      " 61%|██████▏   | 86/140 [01:21<00:26,  2.06it/s]"
     ]
    },
    {
     "name": "stdout",
     "output_type": "stream",
     "text": [
      "HYPO: y esa funciona por una cuestión por creatividad y las matemáticas toman la decisión y toman la creatividad\n",
      "REF:  la ciencia funciona por intuición por creatividad y las matemáticas doman la intuición y doman la creatividad\n",
      "HYPO: y hacemos mucho en el sentido de cuando estamos en una casa comemos unas aadas y había vino todo el día\n",
      "REF:  lo que hacemos muchos argentinos cuando nos juntamos nos comimos un asado y había vino también\n",
      "HYPO: me sentía culpable de haberme estado así me sentía vacía y sola\n",
      "REF:  me sentía culpable y avergonzada me sentía vacía y sola\n",
      "HYPO: y esta es una gráfica donde muestra el número de refugiados que entraron en alemania durante el año pasado\n",
      "REF:  esta es una gráfica que muestra el número de refugiados que entraron en alemania durante el año pasado\n",
      "HYPO: las paredes estaban en medio de pintar de acción marín y jefe estaba con gente con los progresos que yo era\n",
      "REF:  las paredes estaban a medio pintar de azul marino y pepe estaba contentísimo con los progresos de su bar\n",
      "HYPO: es muy importante que la peligrosidad de virus se potencia con la desinformación\n",
      "REF:  algo muy importante que la peligrosidad del virus se potencia con la desinformación\n"
     ]
    },
    {
     "name": "stderr",
     "output_type": "stream",
     "text": [
      " 62%|██████▏   | 87/140 [01:22<00:24,  2.14it/s]"
     ]
    },
    {
     "name": "stdout",
     "output_type": "stream",
     "text": [
      "HYPO: y vamos a escuchar cosas que no vamos a poder entender ni aceptar\n",
      "REF:  y vamos a escuchar cosas que no vamos a poder entender ni aceptar\n",
      "HYPO: cuando tuve ataques de panza tenía amigos que estaban solo en un mercado que yo llamaba distancia\n",
      "REF:  cuando tuve ataques de pánico tenía amigos que estaban a solamente un mensaje o llamada de distancia\n",
      "HYPO: en cambio cada uno todavía no había encontrado ningún local para desarrollar su ingeniería porque ya tenía docenas y era desilado\n",
      "REF:  en cambio carmen todavía no había encontrado un buen local para instalar su peluquería aunque ya tenía docenas de tijeras afiladas\n",
      "HYPO: quedaría tranquila y tal vez iría al centro de acceso a justicia donde le dirían que tiene tiempo y que la van a ayudar\n",
      "REF:  y se quedaría tranquila y tal vez se iría al centro de acceso a justicia donde le dirían que tiene tiempo y que la van a ayudar\n",
      "HYPO: con el tiempo recibí la ayuda que necesitábamos y pude recuperarme contra el tono de exceso de su madre\n",
      "REF:  con el tiempo recibí la ayuda que necesitaba y pude recuperarme del trastorno de estrés postraumático\n",
      "HYPO: estoy en casa para daros lo que no se dice mi vida\n",
      "REF:  estoy acá para darles lo que no se dice que se tiene\n"
     ]
    },
    {
     "name": "stderr",
     "output_type": "stream",
     "text": [
      " 63%|██████▎   | 88/140 [01:22<00:26,  1.97it/s]"
     ]
    },
    {
     "name": "stdout",
     "output_type": "stream",
     "text": [
      "HYPO: y siguió el chico se dejó el valor y se puso el territorio por no poderse esperar la reabilidad de los niños\n",
      "REF:  y siguió el tipo dice se disparó el valor nominal del bono por no poder sostener las obligaciones de deuda\n",
      "HYPO: para poder confiar en que realmente ella fue una víctima\n",
      "REF:  para creerle para poder confiar en que realmente ella fue una víctima\n",
      "HYPO: y en pura de tarde sacando algunas maderas de abajo de ese piso dijo eso vivía mucho yendo\n",
      "REF:  y el cura ricardo sacando algunas monedas de abajo de su sotana dijo es una idea muy cristiana\n",
      "HYPO: y además de esto desarrollado también os decido que detrás de la seguridad informática las personas en qué me interesan los números primos\n",
      "REF:  ahora a estos les ha dado también por decirte que detrás de la seguridad informática y las tarjetas de crédito están los números primos\n",
      "HYPO: a la hora de jugar a los niños no suelen tocar sus ojos y las veces se imaginan qué es\n",
      "REF:  a la hora de jugar a los niños nos vuelve locos la wii la psp la nintendo\n",
      "HYPO: sirve para que podamos agarrarnos de las dudas y sentirnos más cómodos por las dudas\n",
      "REF:  sirve para que podamos agarrarnos de las dudas y sentirnos más cómodos con las dudas\n"
     ]
    },
    {
     "name": "stderr",
     "output_type": "stream",
     "text": [
      " 64%|██████▎   | 89/140 [01:23<00:29,  1.71it/s]"
     ]
    },
    {
     "name": "stdout",
     "output_type": "stream",
     "text": [
      "HYPO: esto se me hizo muy orgulloso porque me puedo dar la plaza y me dijo que era el cómic productor\n",
      "REF:  entonces hubo susurros en toda la plaza y moncho que era el tonto del pueblo preguntó pará pepe\n",
      "HYPO: el arte derecho dijo el méxico que era rico porque es el problema más rico y le sacó de los pasos que de 8 mujeres del partidismo\n",
      "REF:  trato hecho dijo ernesto que era rico pero quería ser todavía más rico y le sacó de las manos por ocho monedas el papelito\n",
      "HYPO: todas las participantes del grupo nos han mostrado formas de comunicarse y formas de interactuar\n",
      "REF:  todas las participantes del grupo nos han mostrado formas de comunicarse y formas de interactuar\n",
      "HYPO: en este espacio me sentí como si lo quisiera hacer y me quedé allí todo el tiempo sentida\n",
      "REF:  en este espacio me sentí como si pudiera hacerlo y me quedé allí todo el tiempo que pude\n",
      "HYPO: durante el verano de 2017 viajé sola a amsterdam antes de estudiar en salamanca en españa\n",
      "REF:  durante el verano del 2016 viajé sola a amsterdam antes de estudiar en salamanca en españa\n",
      "HYPO: uds alguna vez se imaginaron cómo llamar o nombrar a alguien que no tiene nombre de regido\n",
      "REF:  uds alguna vez se imaginaron cómo llamar o nombrar a alguien que no tiene nombre ni apellido\n",
      "HYPO: aplausos\n",
      "REF:  aplausos\n"
     ]
    },
    {
     "name": "stderr",
     "output_type": "stream",
     "text": [
      " 64%|██████▍   | 90/140 [01:24<00:32,  1.55it/s]"
     ]
    },
    {
     "name": "stdout",
     "output_type": "stream",
     "text": [
      "HYPO: risas y yo me voy a una pitágoras esto es verdad aunque esta ya muerto pitágoras pero es lo mismo\n",
      "REF:  risas el teorema de pitágoras eso es verdad aunque se haya muerto pitágoras te lo digo yo\n",
      "HYPO: probablemente recuerdan esta imagen de la cantillera que la me ha dado el ácido sello selfie con un refugiado\n",
      "REF:  probablemente recuerdan esta imagen de la cancillera angela merkel haciéndose un selfie con un refugiado\n",
      "HYPO: a esos cargos se iban teniendo muchos residuos y yo trataba de sentir la gasla esperando para solucionar\n",
      "REF:  a esos carros se iban subiendo muchos vecinos y otros hacían una fila larga esperando para subir\n",
      "HYPO: porque si no me importó de la manera de canalizar ese sentimiento que ya se me había empezado le abrimos un montón de ayuda a los demás\n",
      "REF:  por fin encontré la manera de canalizar mis sentimientos hacia el cine de expresarme de abrir mi mundo interior a los demás\n",
      "HYPO: la otra mitad no habla porque temen que no les crean\n",
      "REF:  la otra mitad no habla porque temen que no les crean\n",
      "HYPO: pero cuando yo regres cuando no regres me han ayudado a la vuelta y se sumen\n",
      "REF:  pero cuando no les das suena el sonido del agua y se suma un fallo\n",
      "HYPO: en el siglo xiv se despiste provocada por un piojo que se movía en las ratas\n",
      "REF:  en el siglo xiv la peste negra provocada por un piojo que se movía en las ratas\n"
     ]
    },
    {
     "name": "stderr",
     "output_type": "stream",
     "text": [
      " 65%|██████▌   | 91/140 [01:25<00:35,  1.39it/s]"
     ]
    },
    {
     "name": "stdout",
     "output_type": "stream",
     "text": [
      "HYPO: esta es la pregunta que nos hicimos cuatro amigos con el tercer robot sarracos que yo plina y meta\n",
      "REF:  esta es la pregunta que nos hicimos cuatro amigos con el jersey rojo sandra luego estoy yo lina y peter\n",
      "HYPO: pensé no puedo usar campanarónca por ahí me digo algo y el tico nada que ver y lo vendo\n",
      "REF:  pensé no puedo ser tan paranoica por ahí le digo algo y el tipo nada que ver y lo ofendo\n",
      "HYPO: pero me dijo que me quedara tranquila que yo le gustaba y que no iba a pasar nada si yo no quería y hablaría de ella\n",
      "REF:  pero me dijo que me quedara tranquila que yo le gustaba que no iba a pasar nada si yo no quería me hablaba bien\n",
      "HYPO: puedo llenar el espectro con piezas iguales sin dejar de cruzar puedes hacer todo el tiempo\n",
      "REF:  si quiero llenar el espacio con piezas iguales sin dejar huecos puedo usar cubos verdad\n",
      "HYPO: y no sé si os creáis una cosa no os creéis que lo que veis en mí todo lo que veis en el cerebro que os creéis es un gran empuño\n",
      "REF:  y os voy a decir algo no os fieis de lo que veis de mí todos los días de lo que veis en fotos y videos\n",
      "HYPO: entonces este asesor a munch que se subió al primer carro y dijo vamos todos a la luna\n",
      "REF:  entonces pepe abrazó a moncho se subió al primer carro y gritó vamos todos a la luna\n",
      "HYPO: y hernesto era rico y en vez de decirle a su amigo amorebé le parecen miles de años\n",
      "REF:  y ernesto que era rico y entendía de negocios dijo a mí la idea me parece muy bien\n"
     ]
    },
    {
     "name": "stderr",
     "output_type": "stream",
     "text": [
      " 66%|██████▌   | 92/140 [01:25<00:34,  1.40it/s]"
     ]
    },
    {
     "name": "stdout",
     "output_type": "stream",
     "text": [
      "HYPO: porque nuestro organismo nuestro sistema inmune es profundamente senoso\n",
      "REF:  porque nuestro organismo nuestro sistema inmune es profundamente xenófobo\n",
      "HYPO: a pepe solamente le afectaba clavar el palento para que los caballos de los vecinos bajaran fuera de la casa\n",
      "REF:  a pepe solamente le faltaba clavar el palenque para que los caballos de los vecinos pastaran fuera del bar\n",
      "HYPO: para tocar este suceso de año hecho con niños de 4 años tengo que evitarme los zapatos de él\n",
      "REF:  para tocar este súper piano hecho por niños de cuatro años tengo que quitarme los zapatos\n",
      "HYPO: y entonces hablando por teléfono conmigo me doy cuenta de que cuando yo soy yo\n",
      "REF:  y entonces hablando por teléfono conmigo me doy cuenta cómo\n",
      "HYPO: como les digo hay una directora favorita larga o altruista o película como las llenas de zapatos y como el que ve\n",
      "REF:  como dice uno de mis directores favoritos lars von trier las películas son como las piedras en los zapatos tienen que doler\n",
      "HYPO: yo les expliqué que en el mundo real los papelizos comerciales de la isla lo que se llama un título de 20 años\n",
      "REF:  yo le expliqué que en el mundo real los papelitos oficiales del alcalde se llaman títulos de deuda pública\n",
      "HYPO: se convirtió en un teorema del fanat que va a ser verdad para siempre siempre es la más magia de cualquier diálogo\n",
      "REF:  y eso se convirtió en un teorema el teorema del panal que va a ser verdad para siempre siempre jamás más que cualquier diamante que tengas\n"
     ]
    },
    {
     "name": "stderr",
     "output_type": "stream",
     "text": [
      " 66%|██████▋   | 93/140 [01:26<00:29,  1.59it/s]"
     ]
    },
    {
     "name": "stdout",
     "output_type": "stream",
     "text": [
      "HYPO: muy cosadillo así no se nos vamos a sentir mucha más con infinidad y podremos comprar más papelitos del compro del juego\n",
      "REF:  dijo sabino así vamos a sentir mucha más tranquilidad y podremos comprar más papelitos del tonto del pueblo\n",
      "HYPO: llegué así a casa queriendo borrar ese deporte para que yo me llegara pero todo cambió a que yo llegara\n",
      "REF:  regresé a casa queriendo borrar este recuerdo para siempre pero todo cambió rápidamente\n",
      "HYPO: los talleres de fotografía los hicieron de fita y sábata que son los fotógrafos del grupo\n",
      "REF:  los talleres de fotografía los hicieron peter y sandra que son los fotógrafos del grupo\n",
      "HYPO: voy a compensar por dos maneras más a las que me ayuden a conseguir mi sueño es abrir un nuevo abierto\n",
      "REF:  voy a compensar con dos monedas más a los que me ayuden a cumplir mi sueño que es abrir un bar\n",
      "HYPO: se representamos a nuestros fuertes públicos de colonia y se asóla bastante con el proyecto\n",
      "REF:  se lo presentamos a los transportes públicos de colonia y se entusiasmaron bastante con el proyecto\n",
      "HYPO: los vecinos que tenían papelitos de mucho de carne que estaban muy quietos ya no querían pedirse por nada de esto\n",
      "REF:  los vecinos que tenían papelitos de moncho o de carmen estaban inquietos y ya no podían vendérselos a nadie\n",
      "HYPO: imagina las ideas y compartir y puedo poner un tablet un poco de una generación y un ordenador\n",
      "REF:  imaginas creas y compartes y todo con unos cables un poco de imaginación y un ordenador\n"
     ]
    },
    {
     "name": "stderr",
     "output_type": "stream",
     "text": [
      " 67%|██████▋   | 94/140 [01:26<00:26,  1.72it/s]"
     ]
    },
    {
     "name": "stdout",
     "output_type": "stream",
     "text": [
      "HYPO: nadie pensó que esto fuese extraño ni me habló con el niño niño y madre\n",
      "REF:  nadie pensó que esto fuese extraño ni me habló cuando me vió llorar\n",
      "HYPO: incluso la localidad después de hablarlo de los aspectos de tal manera decidió sumar los que eran los demás\n",
      "REF:  incluso el alcalde después de hablarlo con su secretario decidió sumarse a la nueva moda\n",
      "HYPO: no queríamos una exposición al muso no queríamos una exposición en el museo en una galería de arte\n",
      "REF:  pero no queríamos hacer una exposición al uso no queríamos hacer una exposición en un museo o en una galería de arte\n",
      "HYPO: dejad de ser solo jugadores de juego que convertiros en creadores de historia juegos programas dibujos musicales\n",
      "REF:  dejad de ser solo jugadores de juegos y convertiros en creadores de historias juegos programas proyectos musicales\n",
      "HYPO: todo el mundo sabía que era un profe de los usd pero no tenía absolutamente nadie para comenzar las películas de su vida\n",
      "REF:  todos sabían que era muy cinéfilo pero no tenía a prácticamente nadie con quien comentar las películas que veía\n",
      "HYPO: en un momento determinado simplemente si quedé ahí con la chica y lo veía\n",
      "REF:  en un momento determinado simplemente me quedé allí y lloré\n",
      "HYPO: me he pondido en una barra de madera en un año y he convertido en dos bancos para dama a suerte a la profesión\n",
      "REF:  en el comedor había una barra de madera el baño se había convertido en dos baños uno para damas otro para caballeros\n"
     ]
    },
    {
     "name": "stderr",
     "output_type": "stream",
     "text": [
      " 68%|██████▊   | 95/140 [01:27<00:24,  1.87it/s]"
     ]
    },
    {
     "name": "stdout",
     "output_type": "stream",
     "text": [
      "HYPO: en todo este tiempo desarrollado nunca predecido que rafa salía de la enfermedad de la pata branca que tenía en su vida\n",
      "REF:  en este tiempo he desarrollado un gusto por el cine que va más allá del significado de la palabra entretenimiento\n",
      "HYPO: para hacer exerzo nuestro genoma es 999 de adentro de la persona\n",
      "REF:  para ser exacto nuestro genoma es 999 idéntico entre nosotros\n",
      "HYPO: nosotros organizamos estos encuentros interculturales por temas y los temas nos decidieron ellas\n",
      "REF:  nosotros organizamos estos encuentros interculturales por temas y los temas los decidieron ellas\n",
      "HYPO: son etiquetadas renombradas por un diagnóstico que no habla de la persona\n",
      "REF:  son etiquetadas renombradas por un diagnóstico que no habla de la persona\n",
      "HYPO: resulta que en una semana de cines cines y más cines aprendí muchísimo\n",
      "REF:  el resultado fue una semana de cine cine y más cine en la que aprendí muchísimo\n",
      "HYPO: yo les puedo asegurar que en la mayoría de los casos judiciales no hay marcas de alcance\n",
      "REF:  yo les puedo asegurar que en la mayoría de los casos judiciales no hay marcas que alcancen\n",
      "HYPO: risas hardy por ejemplo es un exponente de estas cosas\n",
      "REF:  risas hardy por ejemplo es un exponente de este ataque\n"
     ]
    },
    {
     "name": "stderr",
     "output_type": "stream",
     "text": [
      " 69%|██████▊   | 96/140 [01:27<00:26,  1.64it/s]"
     ]
    },
    {
     "name": "stdout",
     "output_type": "stream",
     "text": [
      "HYPO: con eso ya que no se vieron a hacer lejos ni frutas con la tecnología y nomás de quedar atrevoados a leer la información\n",
      "REF:  horacio había conseguido batir leche y frutas para su heladería y nomás le quedaba traer barras de hielo desde la ciudad\n",
      "HYPO: risas y se fueron y los mandaron\n",
      "REF:  suspiro ese pedido es un mandato\n",
      "HYPO: la amplitud de la lengua la identidad no salgo estático el salgo se va cambiando\n",
      "REF:  la utilización de la lengua y la identidad no es algo estático es algo que va cambiando\n",
      "HYPO: en casi 10 personas al día una cada dos horas al día\n",
      "REF:  casi diez personas al día una cada dos horas y media\n",
      "HYPO: sin embargo cuando pegó a la plaza del pueblo sin ni siquiera nada de lo que estaba pasando\n",
      "REF:  sin embargo cuando llegó a la plaza del pueblo no entendió nada de lo que estaba pasando\n",
      "HYPO: es para ayudar yo lo hago por uds y así pasó la tercera semana\n",
      "REF:  es para ayudar yo lo hago por uds y así pasó la tercera semana\n",
      "HYPO: de repente me tapó la boca con una mano y con la otra se desabierto el cinturón\n",
      "REF:  de repente me tapó la boca con una mano y con la otra se desabrochó el cinturón\n"
     ]
    },
    {
     "name": "stderr",
     "output_type": "stream",
     "text": [
      " 69%|██████▉   | 97/140 [01:28<00:29,  1.47it/s]"
     ]
    },
    {
     "name": "stdout",
     "output_type": "stream",
     "text": [
      "HYPO: el lenguaje les pertenece a los abogados y a las abogadas a los jueces y a las juezas pero no ud\n",
      "REF:  el lenguaje le pertenece a los abogados y a las abogadas a los jueces y a las juezas pero no a ud\n",
      "HYPO: y eso en asia y de allí pasó a venecia el deporte más cosmopolita de su pueblo\n",
      "REF:  empezó en asia y de allí pasó a venecia el puerto más cosmopolita de su tiempo\n",
      "HYPO: además de las competencias comunicativas también quisimos desarrollar las competencias creativas\n",
      "REF:  además de las competencias comunicativas también quisimos desarrollar las competencias creativas\n",
      "HYPO: así que mi hija fue una amiga mía y entre las dos nos pusimos manos a la otra\n",
      "REF:  así que se lo dije a juanje un amigo mío y entre los dos nos pusimos manos a la obra\n",
      "HYPO: es necesario a ellos devolverles describir su nombre en el que les presentan\n",
      "REF:  es necesario devolverles su identidad reescribir su nombre y su apellido\n",
      "HYPO: y cuando se van a mirar a huerte ponemos en la tele a una persona que se ve a la esposa y nos dice dónde está la mandícola\n",
      "REF:  damos a la bandera verde lo ponemos en pantalla grande para que se vea mejor y te dice dónde está la mandíbula\n",
      "HYPO: aplausos gracias\n",
      "REF:  aplausos gracias\n"
     ]
    },
    {
     "name": "stderr",
     "output_type": "stream",
     "text": [
      " 70%|███████   | 98/140 [01:29<00:29,  1.42it/s]"
     ]
    },
    {
     "name": "stdout",
     "output_type": "stream",
     "text": [
      "HYPO: y puede estar razón pensamos bueno nos vamos a licenciar para que todo mundo lo pueda utilizar\n",
      "REF:  y por esta razón pensamos lo vamos a licenciar para que todo el mundo lo pueda utilizar\n",
      "HYPO: el discurso de los refugiados en torno a los refugiados fue bastante colectivo pues fue aníguel islamizado\n",
      "REF:  el discurso en contra de los refugiados es bastante conocido nos van a islamizar\n",
      "HYPO: esa tarde joaquín lejano chocó por la casa de pepes y le dio un buen más de un recalentazo\n",
      "REF:  esa tarde su amigo moncho pasó por la casa de pepe y le dio un buen nombre para el bar\n",
      "HYPO: risas y yo sentado\n",
      "REF:  risas sonido de tambor suenas a un tambor\n",
      "HYPO: empecé por mi casa con diez mil hormigas en la mochila y se vinieron pensando en su prenda y mi mujer\n",
      "REF:  pepe se fue a su casa con 10 000 monedas en la mochila y se durmió pensando en su sueño abrir un bar\n",
      "HYPO: la remezquita que habían sido amigos durante muchos años de felicidad dejaron de hablar sobre la ciencia\n",
      "REF:  ernesto y quique que habían sido amigos durante muchos años dejaron de hablarse para siempre\n",
      "HYPO: y ahí viste como se viste ellas y las amigas las ninas los escotes\n",
      "REF:  viste cómo se viste ella y las amigas las minis los escotes\n"
     ]
    },
    {
     "name": "stderr",
     "output_type": "stream",
     "text": [
      " 71%|███████   | 99/140 [01:30<00:30,  1.36it/s]"
     ]
    },
    {
     "name": "stdout",
     "output_type": "stream",
     "text": [
      "HYPO: en ese momento del cuento se quedé mirando a mi hijo pero a ver si estaba entendiendo esto de él\n",
      "REF:  en ese momento del cuento yo frené y me quedé mirando a mi hija para ver si estaba entendiendo la historia\n",
      "HYPO: y por eso rechazamos un virus una bacteria cuánto más vamos a rechazar la bacteria\n",
      "REF:  y por eso rechazamos un virus una bacteria cuánto más vamos a rechazar un órgano entero\n",
      "HYPO: la defensiva se dice que el genital es un galísimo las matemáticas están detrás del pobre\n",
      "REF:  y los que están a la defensiva te dicen que aunque no te des cuenta cariño las matemáticas están detrás de todo\n",
      "HYPO: podíamos extraer moléculas de una célula viva o muerta y compartir\n",
      "REF:  podíamos extraer moléculas de una célula viva o muerta y compararlas\n",
      "HYPO: cuando tenía cinco años y empezaba a hablar mi querido abuelo carlos felipe me regaló un libro de aventuras\n",
      "REF:  cuando tenía cinco años y empezaba a leer mi querido abuelo carlos felipe me regaló un libro de aventuras\n",
      "HYPO: todos los días tenía que salir en la celulita con las pelotitas que yo leía que me había gustado de ellos que me había desgastado\n",
      "REF:  cada día tenía que escribir una crónica con las películas que veía lo que me había gustado de ellas lo que me había disgustado\n",
      "HYPO: mientras caminaba con los vacíos de los piscos miraba las imágenes y las historias\n",
      "REF:  mientras caminaba por los pasillos y los pisos miraba las imágenes y las historias\n"
     ]
    },
    {
     "name": "stderr",
     "output_type": "stream",
     "text": [
      " 71%|███████▏  | 100/140 [01:31<00:28,  1.39it/s]"
     ]
    },
    {
     "name": "stdout",
     "output_type": "stream",
     "text": [
      "HYPO: todo el mundo lo rasee con los papelitos con los niños con las niñas con las niñas con todo\n",
      "REF:  todo el mundo enloqueció con los papelitos con los míos con los de carmen con los tuyos con todos\n",
      "HYPO: de esa manera tan simple que en una sola mañana pepe consiguió la copa para vender su bebé\n",
      "REF:  de esa manera tan simple y en una sola mañana pepe consiguió la plata para abrir su bar\n",
      "HYPO: es un absurdo lo mismo que funciona la gente hablar entre la clave entre ellos para hacer un protéiner\n",
      "REF:  disfruto mucho viendo a la gente hablar interactuar entre ellos pasear sin ser un cotilla\n",
      "HYPO: por ejemplo por qué no bajó la ventanilla y pidió auxilio\n",
      "REF:  por ejemplo por qué no bajó la ventanilla y pidió auxilio\n",
      "HYPO: y aquí me pido que no pienso porque no tengo una medicación especialista con garros de coche\n",
      "REF:  y aquí me teníais con 15 años y una acreditación de periodista colgada al cuello\n",
      "HYPO: los que tengamos que sufrir con todas y cada una de las películas tenemos que sentir que emociones se encerran\n",
      "REF:  no es que tengamos que sufrir con todas y cada una de las películas pero tenemos que sentir emociones verdaderas\n",
      "HYPO: mapuz de alejandría mapuz en el año 300 dijo que lo mejor era usar chat o hacer la camisa\n",
      "REF:  pappus de alejandría en el año 300 dijo que lo mejor era usar hexágonos como hacen las abejas\n"
     ]
    },
    {
     "name": "stderr",
     "output_type": "stream",
     "text": [
      " 72%|███████▏  | 101/140 [01:31<00:27,  1.44it/s]"
     ]
    },
    {
     "name": "stdout",
     "output_type": "stream",
     "text": [
      "HYPO: muchas veces tenemos los restos pero han pasado tantos años en posibilidades ya no escenarias\n",
      "REF:  muchas veces tenemos los restos pero han pasado tantos años que los familiares ya no están\n",
      "HYPO: al barrio que le pasó a ocho a la peluquería de campi que se hicieron cinco a la heladería de orax en siete\n",
      "REF:  al bar de pepe le puso un ocho a la peluquería de carmen le puso un cinco a la heladería de horacio un siete\n",
      "HYPO: pero cuando una mujer cuenta lo que le pasó su historia no cabe en eso de ahí que se ve\n",
      "REF:  pero cuando una mujer cuenta lo que le pasó su historia no cabe en 10 o 20 segundos\n",
      "HYPO: y ya se sabe que cuando una idea traslochada tiene un nombre empieza a cambiar la mente\n",
      "REF:  y ya se sabe que cuando una idea trasnochada tiene un nombre ya empieza a caminar esa idea\n",
      "HYPO: para córdoba en muchos casos yo no sabía de dónde venía la policía\n",
      "REF:  para colmo en muchos de los casos no se sabía de dónde venía el contagio\n",
      "HYPO: la cultura de la emprendida que comentaba ángel amerte desde el principio no fue siempre valentada por todos\n",
      "REF:  la cultura de bienvenida fomentada por angela merkel desde un principio no fue siempre valorada por todos\n",
      "HYPO: saber que hay una proporción de esa especie de trámite común que es la propia zoológica\n",
      "REF:  y saber que hay una proporción de esas letras que tienen en común de acuerdo a ese parentesco\n",
      "HYPO: si auto reconoce como tal y se tolera le rechaza todo el costado\n",
      "REF:  se autoreconoce como tal y se tolera y rechaza todo lo extraño\n"
     ]
    },
    {
     "name": "stderr",
     "output_type": "stream",
     "text": [
      " 73%|███████▎  | 102/140 [01:32<00:23,  1.62it/s]"
     ]
    },
    {
     "name": "stdout",
     "output_type": "stream",
     "text": [
      "HYPO: en otros de los secuestros los fuimos a un centro de aventuras donde había tibolinas juegos de equilibrios túneles\n",
      "REF:  en otro de los encuentros nos fuimos a un centro de aventuras donde había tirolinas había juegos de equilibrios túneles\n",
      "HYPO: creo que viene a la mente cuando escucháis las palabras las somos estrés y tormentos\n",
      "REF:  qué os viene a la mente cuando escucháis las palabras trastorno de estrés postraumático\n",
      "HYPO: para que acelere el puente de manilo y lo movimientos\n",
      "REF:  para que a su vez encuentre caminos y movimiento\n",
      "HYPO: el otro día me dijo si es posible que sepa que no tiene dinero\n",
      "REF:  el espejo me dice que sí podés\n",
      "HYPO: primero que pierden las personas con discapacidad coordinación es su identidad\n",
      "REF:  lo primero que pierden las personas con discapacidad cuando nacen es su identidad\n",
      "HYPO: mi ánimo era lindo acá para que me acerques a los chicos\n",
      "REF:  me han traído acá para que me acerque a ustedes\n",
      "HYPO: solo el 01 es la diferencia entre el objetivo y el proceso\n",
      "REF:  solo el 01 de nuestro genoma permite distinguirnos o identificarnos\n",
      "HYPO: es decir en las películas tú no entras en las películas simplemente te digan que no sepa para que te cuesta\n",
      "REF:  en el cine en las películas tú no entras simplemente te dignas a observarlas desde fuera\n"
     ]
    },
    {
     "name": "stderr",
     "output_type": "stream",
     "text": [
      " 74%|███████▎  | 103/140 [01:32<00:21,  1.75it/s]"
     ]
    },
    {
     "name": "stdout",
     "output_type": "stream",
     "text": [
      "HYPO: entonces el flaco me preguntó dónde vivía y me dijo que si me parecía bien en mi acercado\n",
      "REF:  entonces el flaco me preguntó dónde vivía y me dijo que si me parecía bien él me acercaba\n",
      "HYPO: es un proyecto intercultural para chicas adolescentes de 73 a 77 años\n",
      "REF:  es un proyecto intercultural para chicas adolescentes entre 13 y 17 años\n",
      "HYPO: a veces como sad y a veces fueron fotógrafas ellas lo decidieron\n",
      "REF:  a veces posaron y a veces fueron fotógrafas ellas lo decidieron\n",
      "HYPO: que es mi desprender con las manos que es mi vida y mi desfraz\n",
      "REF:  tener estrellas en las manos que nos miran y nos hablan\n",
      "HYPO: en un momento el miñejo tomaba nuestra mano de vuelta\n",
      "REF:  en un momento terminé de tomarle muestra a una madre\n",
      "HYPO: porque sí que habíamos seguras y tercera sonidas que se han llevado a nuestro mundo\n",
      "REF:  porque siempre ha habido segundas y terceras oleadas que se han llevado a los desprevenidos\n",
      "HYPO: el apoyo la acertación y tener a alguien diferente y se me hicieron buscar esta ayuda\n",
      "REF:  el apoyo la aceptación y tener alguien cerca me permitieron buscar esa ayuda\n",
      "HYPO: el mar que estuvo de viaje de borde quién mide a los colegios que querían caminar por la plaza del primer colegio\n",
      "REF:  el martes fue todavía peor y el miércoles ya no se podía caminar por la plaza del quilombo que había\n"
     ]
    },
    {
     "name": "stderr",
     "output_type": "stream",
     "text": [
      " 74%|███████▍  | 104/140 [01:32<00:18,  1.95it/s]"
     ]
    },
    {
     "name": "stdout",
     "output_type": "stream",
     "text": [
      "HYPO: cuando los matemáticos lo preguntan para qué sirven las matemáticas es matemática muy bien\n",
      "REF:  ante esto cuando a un matemático le preguntan para qué sirven las matemáticas los matemáticos nos dividimos en grupos\n",
      "HYPO: este pequeño local se llamó el juego y fue la utilizada para el cerebro salón de los papeles\n",
      "REF:  este pequeño local se inauguró el jueves y fue bautizado con el nombre de el salón de los papelitos\n",
      "HYPO: risas imaginad que tengo aquí un campo grande enorme infinito\n",
      "REF:  por ejemplo imaginaos que tengo aquí un campo grande enorme infinito\n",
      "HYPO: para esto hicieron estos talleres de fotografía para generar esta creatividad\n",
      "REF:  para eso se hicieron estos talleres de fotografía para generar esta creatividad\n",
      "HYPO: están viendo que se vaya ahora que se vaya allá los chicos no están las cosas disparramadas\n",
      "REF:  le están pidiendo que se vaya ahora que se vaya ya los chicos no están las cosas desparramadas\n",
      "HYPO: de repente empezó a ver esos papelitos que me daban y era el saldo que sacó de mi pueblo\n",
      "REF:  de repente empezó a haber más papelitos que monedas y el alcalde se escapó del pueblo\n",
      "HYPO: entonces si soñamos con una identidad la clave es pensar\n",
      "REF:  entonces si soñamos con una sociedad inclusiva la clave está en la escuela\n",
      "HYPO: la buscó y consentió qué violación me habla\n",
      "REF:  si se la buscó y consintió de qué violación me hablan\n"
     ]
    },
    {
     "name": "stderr",
     "output_type": "stream",
     "text": [
      " 75%|███████▌  | 105/140 [01:33<00:16,  2.13it/s]"
     ]
    },
    {
     "name": "stdout",
     "output_type": "stream",
     "text": [
      "HYPO: si tuviera un traductor en el teléfono sin perder ningún informe podría leer a todos uds\n",
      "REF:  si tuviera un traductor en el teléfono sin perder ninguna información podría leer esto\n",
      "HYPO: es de negro la plaza escamación es de gente mucho más con lunes de la mañana\n",
      "REF:  ese lunes la plaza estaba llena de gente mucho más que en un lunes normal\n",
      "HYPO: las fotos nos parecían tan preciosas que pensamos que debíamos hacerlo en una de las cosas\n",
      "REF:  las fotos nos parecieron tan preciosas que pensamos que deberíamos hacer una exposición\n",
      "HYPO: si una señora necesita un dedo para tirar el campanario y nadie le quiere usar el papelito de una señora\n",
      "REF:  yo ahora necesito monedas para arreglar el campanario y nadie me quiere comprar los papelitos de moncho\n",
      "HYPO: en cada movimiento que hacemos estos ritmos que haremos\n",
      "REF:  en cada movimiento que hacemos está el ritmo que has creado\n",
      "HYPO: esto es un cartero con gran la fuente rota que decía no despertaría que fuera libre\n",
      "REF:  pepe vio un cartel colgado en la fuente rota que decía moncho hace viajes a la luna\n",
      "HYPO: también en otros componentes áfrica por ejemplo en la ciudad de áfrica se utilizan las bacterias\n",
      "REF:  también en otros continentes áfrica por ejemplo la sudáfrica que encarceló a mandela\n",
      "HYPO: ahora solamente es causado que lloraran los vecinos de caballo con las grandes neuronas de la escuela\n",
      "REF:  ahora solamente faltaba que llegaran los vecinos a caballo con las gargantas muertas de sed\n"
     ]
    },
    {
     "name": "stderr",
     "output_type": "stream",
     "text": [
      " 76%|███████▌  | 106/140 [01:33<00:15,  2.22it/s]"
     ]
    },
    {
     "name": "stdout",
     "output_type": "stream",
     "text": [
      "HYPO: google dice que es demasiado caro para los pocos que somos la comunidad de los que hacemos de dentro\n",
      "REF:  google dice que es demasiado caro para los pocos que somos la comunidad de los que hacemos derecho\n",
      "HYPO: risas la banca de inversión colapsórica los que están suicidando los atardecer\n",
      "REF:  risas la banca de inversión colapsó dijo se están suicidando los accionistas\n",
      "HYPO: punto renombre y se explica el paso pero cómo le explican a un nene del colapso de los 200 km\n",
      "REF:  un terremoto se explica fácil pero cómo le explican a un nene el colapso del sistema financiero\n",
      "HYPO: aplausos\n",
      "REF:  aplausos ovación\n",
      "HYPO: el eje se vio la fachada de su baño como el cartero de un inicio a todo caso\n",
      "REF:  de lejos se vio la fachada de su bar con el cartel luminoso a todo trapo\n",
      "HYPO: entonces yo me dijo más no quedarme en casa tranquilo cantando chistes yendo en la película\n",
      "REF:  y no os digo más de quedarme en casa tranquilo al calorcito viendo una película\n",
      "HYPO: risas a veces son esta canción\n",
      "REF:  risas a ver si os suena esta canción\n",
      "HYPO: la marcha y ted las dos 8 de la vida de todos y convenció de el mejor nadador de todos los tiempos\n",
      "REF:  allá michael phelps ganó 8 medallas de oro se convirtió en el mejor nadador de todos los tiempos\n"
     ]
    },
    {
     "name": "stderr",
     "output_type": "stream",
     "text": [
      " 76%|███████▋  | 107/140 [01:34<00:14,  2.31it/s]"
     ]
    },
    {
     "name": "stdout",
     "output_type": "stream",
     "text": [
      "HYPO: hace unos días cambié mi último mundo con un papelito de qué pegué el principito tomado\n",
      "REF:  hace unos días cambié mis últimas 10 monedas por un papelito de pepe y ahora necesito fumar\n",
      "HYPO: se pueden llamar doble o algunos países y en otros países se llaman obligaciones\n",
      "REF:  se pueden llamar bonos en algunos países en otros países se llaman obligaciones\n",
      "HYPO: la población mundial se ha reducido en un entre dos y medio a 100 de lo que está sucediendo\n",
      "REF:  la población mundial se redujo entre 25 y 5 por culpa de esa pandemia\n",
      "HYPO: me dedico un poco a lo que he dicho pero creo que lo que saldré de haber hecho es mucho más divertido\n",
      "REF:  me metí un poco en el mundo periodístico pero lo que saqué de ahí fue muchísimo más que eso\n",
      "HYPO: le trataba de calmarle le decía cosas lindas de él\n",
      "REF:  trataba de calmarlo le decía cosas lindas de él\n",
      "HYPO: son otras que las miramos desde lejos con envidia de la familia pero sabiendo que somos sus opuestos\n",
      "REF:  y hay otras que la miramos desde lejos con envidia a veces pero sabiendo que somos su soporte\n",
      "HYPO: la realidad es un poco distinta\n",
      "REF:  la realidad nuestra risas es un poco distinta\n",
      "HYPO: encima de que yo al 7 día fui al café por fin en el auto de europa y a su casa\n",
      "REF:  y qué iba a decir yo a 7 días del mejor cine de autor de europa y encima gratis\n",
      "HYPO: esta canción la voy a dedicar a mi abuela que para muchísimas semanas va a ser como esta\n",
      "REF:  esta canción se la voy a dedicar a mi abuela que para la próxima semana va a ser su cumple\n"
     ]
    },
    {
     "name": "stderr",
     "output_type": "stream",
     "text": [
      " 77%|███████▋  | 108/140 [01:34<00:12,  2.49it/s]"
     ]
    },
    {
     "name": "stdout",
     "output_type": "stream",
     "text": [
      "HYPO: y cuando uno ve estas fotos piensa no está leyes\n",
      "REF:  y cuando una ve estas fotos piensa dónde está el ellas\n",
      "HYPO: ya lo ven en las casas no pueden definir quién es quién y qué es la que tiene miedo\n",
      "REF:  ya lo ven en las caras no lo pueden definir quién es quién la que tiene miedo\n",
      "HYPO: risas al final del túnel nos esperan solos\n",
      "REF:  sí al final del túnel nos espera el sol\n",
      "HYPO: debidas de datos de la primera mano y cómo el juego es construido y aprendido\n",
      "REF:  bebidas gratis la primera noche y todo el pueblo subió y aplaudió\n",
      "HYPO: pero no siempre saber qué es una verdad eterna un teorema es una mera confusión\n",
      "REF:  pero no siempre es tan fácil saber qué es una verdad eterna un teorema y qué es una mera conjetura\n",
      "HYPO: si eso hubiera pasado hubiera sido tal vez peor que la violación misma\n",
      "REF:  y si eso hubiera pasado hubiera sido tal vez peor que la violación misma\n",
      "HYPO: y nos imaginamos generar la felicidad con tu trabajo tecnológico que es lo más importante\n",
      "REF:  si no serás feliz con tu trabajo que creo que es lo más importante\n",
      "HYPO: gracias a los libros de recién conocido abrimos los pasé a hacer realmente bien\n",
      "REF:  gracias a que escribo sobre cine consigo abrirme consigo ser realmente yo\n",
      "HYPO: que están en un colocanza de casa unirada\n",
      "REF:  está dentro de cada mirada\n"
     ]
    },
    {
     "name": "stderr",
     "output_type": "stream",
     "text": [
      " 78%|███████▊  | 109/140 [01:35<00:14,  2.18it/s]"
     ]
    },
    {
     "name": "stdout",
     "output_type": "stream",
     "text": [
      "HYPO: y su suerte sola no me hacía volver\n",
      "REF:  y si yo fuera sorda no me podría mover\n",
      "HYPO: pero es verdad que tenemos que ir un poco más adelante y no hacer un solo y no hacer un segundo\n",
      "REF:  es verdad que tenemos que ir algo más al fondo vamos a ver qué hay detrás de la ciencia\n",
      "HYPO: entonces si no existen los píos nosotros los invertidos en filtros pues hay una cosa en la otra\n",
      "REF:  unos somos más extrovertidos otros más introvertidos y otros ni una cosa ni la otra\n",
      "HYPO: a mí no me gusta y un tipo avance así pero había sido amoroso toda la noche\n",
      "REF:  a mí no me gusta que un tipo avance así pero había sido amoroso toda la noche\n",
      "HYPO: desde ese momento son toda la venta mil papelistas oficiales\n",
      "REF:  desde este momento pongo a la venta 1000 papelitos oficiales\n",
      "HYPO: y el secuestario dice son las posibilidades de gran diversión de cada perfecto\n",
      "REF:  y el secretario dijo son las posibilidades de concreción de cada proyecto\n",
      "HYPO: lo único que tenemos es como decir el pasamiento motociclado\n",
      "REF:  lo único que tenían estos vecinos eran papelitos de otra gente\n",
      "HYPO: y empieza por tener una de cada cinco conceptados en un libro\n",
      "REF:  en aquella oportunidad uno de cada cinco infectados murió\n",
      "HYPO: como viajero frecuente al pasado quería contarles algo de las pandemias que chocaron la vida\n",
      "REF:  y como viajero frecuente al pasado quería contarles algo de las pandemias que azotaron a la humanidad\n"
     ]
    },
    {
     "name": "stderr",
     "output_type": "stream",
     "text": [
      " 79%|███████▊  | 110/140 [01:35<00:14,  2.07it/s]"
     ]
    },
    {
     "name": "stdout",
     "output_type": "stream",
     "text": [
      "HYPO: risas por supuesto soy megafa en el real maría\n",
      "REF:  risas por supuesto soy megafan del real madrid\n",
      "HYPO: yo no le decía nada porque me daba miedo que se enojara que todo fuera de orden\n",
      "REF:  yo no le decía nada porque me daba miedo que se enojara y todo fuera peor\n",
      "HYPO: que nos ayuden a soltear las trampa del mundo y que el dolor es con el que estamos\n",
      "REF:  y porque nos hace nos ayuda a sortear las trampas del mundo este doloroso en el que estamos\n",
      "HYPO: y sandra y elina puedo trabajar también con este grupo de la adolescencia\n",
      "REF:  y sandra y lina por trabajar también con este grupo la adolescencia\n",
      "HYPO: en ese momento pensé que me podía matar a dar cárceles\n",
      "REF:  en ese momento pensé que me podía matar ahorcar sabés\n",
      "HYPO: no pasó por la plaza del pueblo en las siguientes cuatro semanas\n",
      "REF:  no pasó por la plaza del pueblo en las siguientes cuatro semanas\n",
      "HYPO: alrededor de vida al estar tan carismáticamente y de lo que sea\n",
      "REF:  alrededor mío hay tanta cantidad de ritmos\n",
      "HYPO: por tanto las respuestas y las reacciones no eran efectivas para que todo el planeta lo hubiera\n",
      "REF:  por lo tanto las respuestas y las reacciones no eran efectivas para contrarrestar el mal\n",
      "HYPO: cada cartel que comía iba lejos y se quedaba de un uso mirando el cartel\n",
      "REF:  cada cartel que ponía se iba lejos y se quedaba orgulloso mirando el cartel\n"
     ]
    },
    {
     "name": "stderr",
     "output_type": "stream",
     "text": [
      " 79%|███████▉  | 111/140 [01:36<00:13,  2.10it/s]"
     ]
    },
    {
     "name": "stdout",
     "output_type": "stream",
     "text": [
      "HYPO: y hay dos pandemias que quedaron muy marcadas en los últimos años\n",
      "REF:  pero hay dos pandemias que quedaron muy marcadas por sus consecuencias fatales\n",
      "HYPO: yo creo que si hay que pagar la meta a la vista de la frente a la vista de la atrás no hay que la actualizar\n",
      "REF:  yo creo que esa es la gran ventaja de estar detrás de no interactuar\n",
      "HYPO: estas son las fotos que las chicas sintieron a lo largo del proyecto\n",
      "REF:  y estas son las fotos que las chicas se hicieron a lo largo del proyecto\n",
      "HYPO: tal vez os estáis pensando en deprimir a los que habéis hecho yo\n",
      "REF:  tal vez estáis pensando en deprimida yo\n",
      "HYPO: ahí está la escuela de nula que era casi una experta en todo esto que hacíamos\n",
      "REF:  a esa altura nina ya era casi una experta en todo este asunto\n",
      "HYPO: y en tanto tiempo en el medio de la plaza a monza\n",
      "REF:  y entonces vio en el medio de la plaza a moncho\n",
      "HYPO: yo le completo el 26 de que estaba aquí que no era este edificio sino el 20 de la mañana\n",
      "REF:  yo le compré 36 gritaba quique que era codicioso y altanero\n",
      "HYPO: yo soy un extrovertidoso y ahora vamos a terminar así con algo personal\n",
      "REF:  yo siendo un introvertido llevaba mi afición al cine como algo mío algo personal\n",
      "HYPO: podría haberle recorrido a la familia pero no lo hizo\n",
      "REF:  podría haber recurrido a la familia pero no lo hizo\n"
     ]
    },
    {
     "name": "stderr",
     "output_type": "stream",
     "text": [
      " 80%|████████  | 112/140 [01:36<00:11,  2.35it/s]"
     ]
    },
    {
     "name": "stdout",
     "output_type": "stream",
     "text": [
      "HYPO: entonces para defendernos de esa incomodidad queremos un recurso\n",
      "REF:  entonces para defendernos de esa incomodidad tenemos un recurso\n",
      "HYPO: entonces el alcalde que estaba por ahí se aprendió y dijo tiene sentido\n",
      "REF:  entonces el alcalde que estaba por ahí se acercó y dijo tiene sentido\n",
      "HYPO: seguramente desaparecieron varias preguntas\n",
      "REF:  seguramente les aparecieron varias preguntas\n",
      "HYPO: cuando paró el auto cerca de la autorista ahí sitúé el error\n",
      "REF:  cuando paró el auto cerca de la autopista ahí sí tuve miedo\n",
      "HYPO: pero yo estoy pensando en otro ángel que no tiene este tema que me puede decir\n",
      "REF:  pero yo estoy pensando en otro alguien que no tiene nombre ni apellido\n",
      "HYPO: ellos se ponían silenciosos no podían creer en los que se están intentando\n",
      "REF:  pepe se quedó en silencio no podía creer lo que le estaban contando\n",
      "HYPO: el tiempo está en el hacer y el placer\n",
      "REF:  el tiempo está en el hacer y en dar\n",
      "HYPO: uno de estos vecinos ramón se quejó en los alpes y no ha dado nada\n",
      "REF:  uno de estos vecinos ramón se quejó en voz alta caramba\n",
      "HYPO: el mundo ahora en este momento vive en esta situación\n",
      "REF:  en el mundo ahora en este momento miles de personas desaparecen\n"
     ]
    },
    {
     "name": "stderr",
     "output_type": "stream",
     "text": [
      " 81%|████████  | 113/140 [01:36<00:11,  2.43it/s]"
     ]
    },
    {
     "name": "stdout",
     "output_type": "stream",
     "text": [
      "HYPO: unos cuantititos decían hombre eladería violación\n",
      "REF:  unos papelitos decían en breve heladería de horacio\n",
      "HYPO: y este es el testimonio de una mujer a la que vamos a llamar juan\n",
      "REF:  el siguiente es el testimonio de una mujer a la que vamos a llamar ana\n",
      "HYPO: porque la tristeza al mundo la ve cuando no hay luz\n",
      "REF:  porque las estrellas alumbran cuando es la noche\n",
      "HYPO: me ha tocado caso para hablar con uds\n",
      "REF:  me han puesto tantos cables para hablar con ustedes\n",
      "HYPO: risas realmente las computadoras son solo matemáticas\n",
      "REF:  risas realmente las computadoras son todo matemáticas\n",
      "HYPO: el tema no era crear miedo sino superar el miedo\n",
      "REF:  el tema no era crear miedo sino superar el miedo\n",
      "HYPO: risas vale en 76 como tres\n",
      "REF:  el público pregunta vale\n",
      "HYPO: no hay traductor de lenguaje abogadín a un lenguaje que entrenamos nosotros\n",
      "REF:  pero no hay traductor del lenguaje abogadil a un lenguaje que entendamos todos\n",
      "HYPO: y como yo no entiendo más pensé que mi negocio podía ser privado de que se me lo despedía\n",
      "REF:  y como yo no tomo pensé que mi negocio podría ser llevarlos y traerlos de la luna\n",
      "HYPO: el mejor trabajo que tuve en la agricultura fueron los de mi casa\n",
      "REF:  y los únicos caballos que quedaban en el pueblo eran los de moncho\n"
     ]
    },
    {
     "name": "stderr",
     "output_type": "stream",
     "text": [
      " 81%|████████▏ | 114/140 [01:37<00:11,  2.23it/s]"
     ]
    },
    {
     "name": "stdout",
     "output_type": "stream",
     "text": [
      "HYPO: un amigo común en todos los reuniones de clase\n",
      "REF:  un amigo en común nos reunió en su casa\n",
      "HYPO: les fuimos organizando entusiasmos para que todos vinieran de un caso a su distinto\n",
      "REF:  les fuimos organizando en turnos para que todos pudieran tocar sus instrumentos\n",
      "HYPO: lúdicamente el movimiento de la ciudad\n",
      "REF:  y únicamente el movimiento me va a ayudar\n",
      "HYPO: cuando alguien se acerca y me dice que iba a lanzar\n",
      "REF:  cuando alguien se acerca y me dice quiero danzar\n",
      "HYPO: quiero decirles que no hay nada que sea natural para nosotros\n",
      "REF:  quiero decirles que no hay nada como una sonrisa\n",
      "HYPO: entonces pensamos en unir esfuerzos y hacer un cambio\n",
      "REF:  entonces pensamos en unir esfuerzos y hacer algo en común\n",
      "HYPO: ahora pienso por qué no presté atención a lo que sentí\n",
      "REF:  ahora pienso por qué no presté atención a lo que sentí\n",
      "HYPO: no tenían que decir nada solamente escuchaba\n",
      "REF:  no tenían que decir nada solamente escuchaban\n",
      "HYPO: cuando llego lo dibujo la barrera que tengo de la expresión oral que tanto me cuesta\n",
      "REF:  cuando escribo rompo la barrera que tengo de la expresión oral que tanto me cuesta\n",
      "HYPO: pero sobre todo podemos aventurar tiempos maravillosos de visión\n",
      "REF:  pero sobre todo podemos aventurar tiempos maravillosos de crecimiento\n"
     ]
    },
    {
     "name": "stderr",
     "output_type": "stream",
     "text": [
      " 82%|████████▏ | 115/140 [01:37<00:11,  2.14it/s]"
     ]
    },
    {
     "name": "stdout",
     "output_type": "stream",
     "text": [
      "HYPO: ellos venían caminando no solo en la ciudad sino que en muchas ciudades en el mundo\n",
      "REF:  ellos venían caminando no solo en la argentina sino por muchos países del mundo\n",
      "HYPO: claro dice eso es bueno interactuando con la gente pero eso es muy bueno conservando\n",
      "REF:  ya he dicho que no soy bueno interactuando con la gente pero soy muy bueno observando\n",
      "HYPO: no sé lo que es el sonido de la palabra\n",
      "REF:  no sé lo que es el sonido de la palabra\n",
      "HYPO: risas me preguntó qué es esto que pasó a los padres\n",
      "REF:  risas me preguntó qué es esto que pasó ahora papá es grave\n",
      "HYPO: parece una cosa rara pero no esta también está presente en las naturalezas\n",
      "REF:  risas parece una cosa rara pero no es tan rara también está presente en la naturaleza\n",
      "HYPO: sientes cosas con ellas sufres con ellas lloras con ellas y lluvias con ellas\n",
      "REF:  sientes cosas con ellas sufres con ellas lloras con ellas te ríes con ellas\n",
      "HYPO: risas y b pero eso de las matemáticas para qué sirve\n",
      "REF:  risas y b pero eso de las matemáticas para qué sirve\n",
      "HYPO: y así se hunduró una luna en esta tarde\n",
      "REF:  estrellas que iluminan iluminan esta tarde\n",
      "HYPO: el 90 restante se recupe en el silencio\n",
      "REF:  el 90 restante se refugia en el silencio\n",
      "HYPO: y en algún momento aplaudió contenta y tomó ese vestido de género\n",
      "REF:  nina incluso aplaudió contenta el final de la historia\n"
     ]
    },
    {
     "name": "stderr",
     "output_type": "stream",
     "text": [
      " 83%|████████▎ | 116/140 [01:38<00:12,  1.99it/s]"
     ]
    },
    {
     "name": "stdout",
     "output_type": "stream",
     "text": [
      "HYPO: y me está preguntando y yo por qué tuve que escribir esa mierda que no quería estar nunca\n",
      "REF:  te está preguntando y yo por qué tuve que estudiar esa mierda que no volví a usar nunca\n",
      "HYPO: entonces pepe hizo una lista de necesidades para abrir el primer árbol de ciencia\n",
      "REF:  entonces pepe hizo una lista de necesidades para abrir el primer bar del pueblo\n",
      "HYPO: desde un principio había gente que la apoyó y otras personas que no\n",
      "REF:  desde un principio había gente que la apoyó y otras personas que no\n",
      "HYPO: y nuestros niños y nuestros jóvenes pueden ser regalos en ella\n",
      "REF:  y nuestros niños y nuestros jóvenes pueden ser reconocidos\n",
      "HYPO: le conté que la casa de cheque empezó a parecer una casa la casa de cheque para siempre cosa\n",
      "REF:  le conté que la casa de pepe ya no parecía una casa la casa de pepe parecía otra cosa\n",
      "HYPO: por ese gran punto conozco esta curiosidad\n",
      "REF:  puede ser tan simple como escuchar\n",
      "HYPO: igual si salía del auto a dónde iba\n",
      "REF:  igual si salía del auto a dónde iba\n",
      "HYPO: yo he hecho aquí este trabajo es interesante de 16 matemáticas\n",
      "REF:  y como piensas que tu trabajo es interesante le dices soy matemático\n",
      "HYPO: por suerte esto juega en lo que desea\n",
      "REF:  porque el ritmo está afuera en lo que ves\n",
      "HYPO: los papelitos comerciales están en la venta de ordeo oral corran que se acercen\n",
      "REF:  los papelitos oficiales están a la venta desde ahora corran que se acaban\n"
     ]
    },
    {
     "name": "stderr",
     "output_type": "stream",
     "text": [
      " 84%|████████▎ | 117/140 [01:38<00:11,  1.94it/s]"
     ]
    },
    {
     "name": "stdout",
     "output_type": "stream",
     "text": [
      "HYPO: pero es la primera vez que hago algo para mis hijos no sé cómo decirlo\n",
      "REF:  pero no es la primera vez que hago algo para los peques de mi colegio\n",
      "HYPO: a los cuatro le dije a mis amigas que no fuera ellas quisieron quedarse\n",
      "REF:  a eso de las 4 les dije a mis amigas que nos fuéramos ellas quisieron quedarse\n",
      "HYPO: el barco que no era la luna como le había autizado muy bien los primeros días\n",
      "REF:  el bar se llamaba la luna como lo había bautizado moncho el primer día\n",
      "HYPO: los revendidores de francia y europa que yo pudieron parar de años y dejar de niños\n",
      "REF:  los revendedores de tranquilidad de quique no pudieron pagarle a nadie y se escaparon a la noche\n",
      "HYPO: dos millones que se adalucinan más límite de la gestión privada\n",
      "REF:  lo admito no es que sea el cine más típico de la gente de mi edad\n",
      "HYPO: nunca me sentí tan sola como secuestrada\n",
      "REF:  nunca me sentí tan sola como secuestrada\n",
      "HYPO: quizás la palabra cingue era violento o violento\n",
      "REF:  quizás palabras como guerra violencia o ejército\n",
      "HYPO: aplausos\n",
      "REF:  aplausos\n",
      "HYPO: se te paga un descombre para intercambiar tus atentos sobre el miedo\n",
      "REF:  se trepaban a la fuente para intercambiar papelitos por monedas\n",
      "HYPO: por eso tengo que mencionar palabras prácticas y clases de esta vida\n",
      "REF:  pero al final con la práctica casi me sale fluido\n"
     ]
    },
    {
     "name": "stderr",
     "output_type": "stream",
     "text": [
      " 84%|████████▍ | 118/140 [01:39<00:11,  1.90it/s]"
     ]
    },
    {
     "name": "stdout",
     "output_type": "stream",
     "text": [
      "HYPO: dicen que las normáticas no tienen que servir para nada o los que dicen que realmente están en peligro\n",
      "REF:  los que dicen que las matemáticas no tienen por qué servir para nada o los que dicen que realmente está detrás de todo\n",
      "HYPO: por qué no se levantó del auto cuando presentió que algo feo podía pasar\n",
      "REF:  por qué no se bajó del auto cuando presintió que algo feo podría pasar\n",
      "HYPO: y sabido pregunté te dije habrás que no habrás que dibujar si querías salir\n",
      "REF:  y sabino preguntó pepe abriste o no el bar que querías abrir\n",
      "HYPO: y también soy frontera en el equipo de futbol sala de villano de la vida\n",
      "REF:  también soy portero en el equipo de fútbol sala de villanubla\n",
      "HYPO: risas aunque sea un albume de peruana ahorita habrá sería feliz\n",
      "REF:  risas aunque se hunda el mundo el teorema de pitágoras seguiría siendo verdad\n",
      "HYPO: eso es lo que es el aprendizaje pongamos un laboratorio así\n",
      "REF:  eso nos llenó de alegría y dijimos pongamos un laboratorio y así se hizo\n",
      "HYPO: y ese rigor les viene porque son resultados internos\n",
      "REF:  y ese rigor les viene porque sus resultados son eternos\n",
      "HYPO: ese vocablo que nos modifica tanto santa catarina che\n",
      "REF:  ese vocablo que nos identifica tanto a los argentinos che\n",
      "HYPO: como les pasa la estructura de la idea solar es una mejora hasta que salga otra en su posición\n",
      "REF:  cómo le pasa a la estructura de weaire y phelan es la mejor hasta que salga otra mejor\n",
      "HYPO: y entonces se daba una pregunta una verdad para siempre y en otra manera\n",
      "REF:  y entonces será un teorema una verdad para siempre siempre jamás\n",
      "HYPO: imaginad lo de judec es para mí poner un minuto entorofo delante de casa\n",
      "REF:  imaginaos lo difícil que es para mí ponerme en este punto rojo delante de tanta gente\n"
     ]
    },
    {
     "name": "stderr",
     "output_type": "stream",
     "text": [
      " 85%|████████▌ | 119/140 [01:39<00:10,  1.92it/s]"
     ]
    },
    {
     "name": "stdout",
     "output_type": "stream",
     "text": [
      "HYPO: si nos va bien con ese seguramente es muy bien que nos diga que no es así\n",
      "REF:  si nos va bien con ese seguramente nos va a ir bien con los otros\n",
      "HYPO: con esta edad que tengo que buscar hacer que este burbino no haya que pasar\n",
      "REF:  con esta edad que tengo no encontraría a nadie que me pagara por hacer esto\n",
      "HYPO: si yo puedo ser otra puedo ser el otro\n",
      "REF:  si no puedo hacer otro puedo hacer el otro\n",
      "HYPO: pero mira con todo esto como ya he dicho esas necesidades\n",
      "REF:  pero lejos de todo esto ese felicidades\n",
      "HYPO: quiero contarles por qué pienso yo que no les creemos\n",
      "REF:  hoy quiero contarles por qué pienso yo que no les creemos\n",
      "HYPO: aplausos\n",
      "REF:  aplausos\n",
      "HYPO: risas es lo que les hablo en tedx\n",
      "REF:  risas es lo que te está preguntando realmente\n",
      "HYPO: entonces la pregunta correcta es quién es\n",
      "REF:  entonces la pregunta correcta es quién es\n",
      "HYPO: y es la idea básica el soporte de aquello y entre ellos los matemáticos\n",
      "REF:  todas las ciencias básicas son el soporte de aquellas y entre ellas las matemáticas\n",
      "HYPO: y la asociación ee uu llegó en europa con francia\n",
      "REF:  empezó en ee uu y llegó a europa por francia\n",
      "HYPO: y para mí la más bonita que me puede empezar en la vida siempre es a ver qué es\n",
      "REF:  es lo más bonito que me pueden decir en la vida siendo un introvertido\n"
     ]
    },
    {
     "name": "stderr",
     "output_type": "stream",
     "text": [
      " 86%|████████▌ | 120/140 [01:40<00:10,  1.97it/s]"
     ]
    },
    {
     "name": "stdout",
     "output_type": "stream",
     "text": [
      "HYPO: el océano me dijo que yo le gustaba y me tocó la pierna\n",
      "REF:  en un semáforo me dijo que yo le gustaba y me tocó la pierna\n",
      "HYPO: si pasan a la gente mejor la gente puede ayudar a la gente\n",
      "REF:  consigo ser realmente yo plasmar mis ideas tal cual las siento\n",
      "HYPO: seguramente los he visto alguna vez que un diamante pareciera seré\n",
      "REF:  seguramente han dicho o os han dicho alguna vez que un diamante es para siempre verdad\n",
      "HYPO: aplausos\n",
      "REF:  aplausos vítores\n",
      "HYPO: y ahí estoy quedado con lo que escribo porque ahí soy yo realmente yo\n",
      "REF:  fiaos de lo que escribo porque ahí soy yo realmente yo\n",
      "HYPO: nosotros esperamos escuchar historias como esta\n",
      "REF:  nosotros esperamos escuchar historias como esta\n",
      "HYPO: porque siempre vivo con mis evidencias\n",
      "REF:  porque siempre veo el movimiento\n",
      "HYPO: conocimos unos pibes y yo me enganché con un flaco recién\n",
      "REF:  conocimos a unos pibes y yo me enganché con un flaco re piola\n",
      "HYPO: yo prefiero ser tranquilidad de kit que para ellos no es grande\n",
      "REF:  yo les puedo vender tranquilidad de quique para esos papelitos\n",
      "HYPO: a mí me pasó lo muy difícil y al fin me prendí con ellos\n",
      "REF:  a mí me pasa lo mismo dijo luis quiero ir al cine no tengo una moneda\n",
      "HYPO: yo dije no va a hablar porque no va a aprender el lenguaje\n",
      "REF:  soy un megafan a ver si adivináis de qué equipo\n"
     ]
    },
    {
     "name": "stderr",
     "output_type": "stream",
     "text": [
      " 86%|████████▋ | 121/140 [01:40<00:09,  2.05it/s]"
     ]
    },
    {
     "name": "stdout",
     "output_type": "stream",
     "text": [
      "HYPO: esa semana estuve viendo películas películas y películas\n",
      "REF:  esa semana estuve viendo películas películas y películas\n",
      "HYPO: y cuando te dicen esas aves que qué es\n",
      "REF:  y cuando te dicen eso sabes que es genial\n",
      "HYPO: qué aprendimos que toda esa aquella oportunidad\n",
      "REF:  qué aprendimos de todas aquellas fatalidades\n",
      "HYPO: después de todo la ley en democracia es nuestra\n",
      "REF:  después de todo la ley en democracia es nuestra\n",
      "HYPO: le conté lo que pasó en el pueblo durante la realidad\n",
      "REF:  le conté lo que pasó en el pueblo durante la primera semana\n",
      "HYPO: yo sé que se había equivocado y le dije te pasaste\n",
      "REF:  pensé que se había equivocado y le dije 'te pasaste\n",
      "HYPO: ruidte universal mató 50 años\n",
      "REF:  la gripe universal mató a 50 millones\n",
      "HYPO: y sacó la cuenta de que todo eso iba a costar unos 15 000 pesos\n",
      "REF:  y sacó las cuentas y todo eso le iba a costar unas 10 000 monedas\n",
      "HYPO: este por ejemplo es la imagen de uno de los siglos fuertes\n",
      "REF:  esto por ejemplo es la imagen de uno de los encuentros\n",
      "HYPO: hasta que apareció chico con una gran idea\n",
      "REF:  hasta que apareció quique con una gran idea\n",
      "HYPO: el conflicto escaló y ahora no lo podemos resolver charlando\n",
      "REF:  el conflicto escaló y ahora no lo podemos resolver charlando\n",
      "HYPO: me encanta el teatro es con lo mejor te puede invertir en lo mejor\n",
      "REF:  me encanta lo que haces es lo mejor que pueden decirme\n"
     ]
    },
    {
     "name": "stderr",
     "output_type": "stream",
     "text": [
      " 87%|████████▋ | 122/140 [01:41<00:09,  1.96it/s]"
     ]
    },
    {
     "name": "stdout",
     "output_type": "stream",
     "text": [
      "HYPO: pero inicialmente en esta vida tienes que hacer algo así\n",
      "REF:  pero realmente en esta vida si quieres hacer algo hazlo\n",
      "HYPO: esta es la respuesta que le dan al centro de matemáticas y de clases\n",
      "REF:  estas son las respuestas que te va a dar tu profe de matemática si le preguntas\n",
      "HYPO: aplausos sí\n",
      "REF:  aplausos sí los tengo\n",
      "HYPO: me he dado ayuda a muchas niñas de 15 años\n",
      "REF:  peter y yo por tener hijas quinceañeras\n",
      "HYPO: se dice que lloran esos seres que no sienten raros que dicen que no son raros\n",
      "REF:  pero os he dicho que yo era de ese 08 raro que dice otra cosa verdad\n",
      "HYPO: preguntéme pero sabías que todos iban a tener que ir a la universidad\n",
      "REF:  preguntó pepe vos sabías que todos se iban a quedar sin caballo\n",
      "HYPO: y otras veces tenemos a los familiares que nos encuentran en nuestros diarios\n",
      "REF:  y otras veces tenemos los familiares pero no se encuentran los restos\n",
      "HYPO: incluso les enseñamos que ellos también tenían música en su escenario\n",
      "REF:  incluso les enseñamos que ellos también tenían música en su interior\n",
      "HYPO: y me dijeron con esos cables vas a poder hacer una cena\n",
      "REF:  y me dijeron con esos cables vas a poder hacer magia\n",
      "HYPO: tengo de escasez una destrucción\n",
      "REF:  tengo dos pasiones una el fútbol\n",
      "HYPO: por eso buscamos esas alternativas para evitar esa crisis\n",
      "REF:  por eso buscábamos esas compatibilidades para evitar esos rechazos\n",
      "HYPO: y cambiar esos pabelleros de mañana a la vez son un buen pabellero\n",
      "REF:  los familiares estaban serios venían a donar sus muestras de sangre\n"
     ]
    },
    {
     "name": "stderr",
     "output_type": "stream",
     "text": [
      " 88%|████████▊ | 123/140 [01:41<00:08,  1.95it/s]"
     ]
    },
    {
     "name": "stdout",
     "output_type": "stream",
     "text": [
      "HYPO: otros papás me decían muy pronto pero te voy a dejar aquí\n",
      "REF:  otros papelitos decían muy pronto peluquería de carmen\n",
      "HYPO: los cuatro por razones diferentes tenemos mucho que ver con la adolescencia\n",
      "REF:  los cuatro por razones diferentes tenemos mucho que ver con la adolescencia\n",
      "HYPO: o si no se lo han hallado pasado en el futuro quién puede ser\n",
      "REF:  el cine ha sido mi mayor pasión en los últimos 5 o 6 años\n",
      "HYPO: así que antes de comprar un saco de ortesco búsquenme en comunicación\n",
      "REF:  así que antes de comprar fajos de ernesto busquen mi consejo\n",
      "HYPO: entonces le pensé lo que pasó era ser un matemático y una mentira\n",
      "REF:  entonces le conté lo que pasó la segunda semana en el pueblo\n",
      "HYPO: solo el 10 pasará desde el encierro\n",
      "REF:  solo el 10 va a hacer la denuncia\n",
      "HYPO: se pueden escribir algunos libros con 3 millones de libros en el día\n",
      "REF:  se pueden escribir algunos libros con tres millones de letras\n",
      "HYPO: llegamos a esto victimización de las víctimas\n",
      "REF:  yo llamo a esto victimización de las víctimas\n",
      "HYPO: nadie creía que eso empezara a levantar la vida\n",
      "REF:  nadie creía que eso empezara a levantar vuelo\n",
      "HYPO: eso genera un gran empatiz y un gran empatiz\n",
      "REF:  eso genera una gran frustración realmente\n",
      "HYPO: cuando me solté traté de abrir la puerta pero estaba a trabajo\n",
      "REF:  cuando me solté traté de abrir la puerta pero estaba trabada\n",
      "HYPO: no hay caballo en la vida de un partido nacional en el lago de la rica\n",
      "REF:  no hay caballos para ir a buscar hielo a la ciudad y el helado se derrite\n"
     ]
    },
    {
     "name": "stderr",
     "output_type": "stream",
     "text": [
      " 89%|████████▊ | 124/140 [01:42<00:08,  1.95it/s]"
     ]
    },
    {
     "name": "stdout",
     "output_type": "stream",
     "text": [
      "HYPO: el primer y principal ana dijo no\n",
      "REF:  primero y principal ana dijo no\n",
      "HYPO: ni una mirada ni un abierto el cuento cada día en mi casa\n",
      "REF:  nina me miraba con los ojos abiertos el cuento estaba bien hasta ahora\n",
      "HYPO: si os digo la verdad esto es un poco como una idea que se pregunta\n",
      "REF:  si os digo la verdad hasta hace poco no me había hecho esa pregunta\n",
      "HYPO: la carta no se entiende pero manda dos mensajes\n",
      "REF:  la carta no se entiende pero manda dos mensajes\n",
      "HYPO: cuando ves el ritmo de esta cueva\n",
      "REF:  cuando ves el ritmo está afuera\n",
      "HYPO: si quiero cubrir con piezas igualas sin dejarme ir\n",
      "REF:  lo quiero cubrir con piezas iguales sin dejar huecos\n",
      "HYPO: risas se olvidaron de que yo tengo pastores\n",
      "REF:  risas pero se olvidaron de que yo tengo pantalones\n",
      "HYPO: porque luego hay el lado de la piscina una surgió en la segunda\n",
      "REF:  porque luego de la peste negra surgió el renacimiento\n",
      "HYPO: llamo a esto culpabilización de la naturaleza\n",
      "REF:  llamo a esto culpabilización de las víctimas\n",
      "HYPO: no es como las pollas tac milales que yo creo que te acompaña toda la vida\n",
      "REF:  no es como las huellas dactilares que es lo que te acompaña toda la vida\n",
      "HYPO: cubrir y abrir más superficies tiene un volón muy por de más peligro\n",
      "REF:  la que para cubrir la misma superficie tiene un borde más pequeño\n",
      "HYPO: así que vale preguntarme para qué sirve las malas mentiras\n",
      "REF:  así que vale preguntadme para qué sirven las matemáticas\n",
      "HYPO: porque está escrito en nuestros genes en nuestro bienestar\n",
      "REF:  está escrita en nuestros genes nuestra identidad\n"
     ]
    },
    {
     "name": "stderr",
     "output_type": "stream",
     "text": [
      " 89%|████████▉ | 125/140 [01:42<00:07,  1.98it/s]"
     ]
    },
    {
     "name": "stdout",
     "output_type": "stream",
     "text": [
      "HYPO: me mostró me quedó en una ruptatura y me dijo está muy bien\n",
      "REF:  no lo demostró se quedó en una conjetura dijo hexágonos\n",
      "HYPO: sin identidad no podemos ser en sus sueños\n",
      "REF:  sin identidad no podemos ser en sociedad\n",
      "HYPO: de repente se me pudo encima y me quiso besar\n",
      "REF:  de repente se me tiró encima y me quiso besar\n",
      "HYPO: tienen razón porque no les creemos\n",
      "REF:  y tienen razón porque no les creemos\n",
      "HYPO: si no puede hacer esto puede hacer otro\n",
      "REF:  si no puedo hacer esto puedo hacer otro\n",
      "HYPO: la ciencia es el rigor de la matemática\n",
      "REF:  todo lo que hace a la ciencia ser ciencia es el rigor de la matemática\n",
      "HYPO: risas cuál es la mejor pieza que puedes tener\n",
      "REF:  risas cuál es la mejor pieza que puedo usar\n",
      "HYPO: cómo pudo pedirle que la lleve a la casa\n",
      "REF:  cómo pudo pedirle que la lleve a la casa\n",
      "HYPO: la parejera que por ese pueblo hubiera pasado en la tierra\n",
      "REF:  parecía que por ese pueblo hubiera pasado la guerra\n",
      "HYPO: y todo empezaron a comprar a los aprendizos de esta manera\n",
      "REF:  y todos empezaron a comprar papelitos de pepe\n",
      "HYPO: y yo me fui por por grande porque entendía qué quería decir\n",
      "REF:  risas abrió los ojos grandes porque entendía la chica ochos años\n",
      "HYPO: pero por qué se justicia en esta situación\n",
      "REF:  pero por qué te pusiste en esta situación\n",
      "HYPO: ahora en argentina no está desaparecido ni en argentina\n",
      "REF:  ahora en argentina está desapareciendo gente\n"
     ]
    },
    {
     "name": "stderr",
     "output_type": "stream",
     "text": [
      " 90%|█████████ | 126/140 [01:43<00:07,  1.95it/s]"
     ]
    },
    {
     "name": "stdout",
     "output_type": "stream",
     "text": [
      "HYPO: pensó que quería que me lo traiga de camino que estaba en un punto diferente\n",
      "REF:  pensó que se había equivocado de camino y estaba en un pueblo diferente\n",
      "HYPO: y se puso contento como le digo a los ojos de abrir un mar\n",
      "REF:  y se puso contento con la idea de abrir un bar\n",
      "HYPO: y el niño me dijo no sé cómo se va a decir\n",
      "REF:  y mi hija me miró así y yo me puse pálido\n",
      "HYPO: ocurrió en la medianoche cuando volví a su casa\n",
      "REF:  ocurrió en la medianoche cuando volvía a su casa\n",
      "HYPO: en los hospitales o cómo funciona el resto de vida\n",
      "REF:  hospital o cómo funciona nuestra mente\n",
      "HYPO: los que todavía tengan papelitos de mucho puse el papel\n",
      "REF:  los que todavía tengan papelitos de moncho no se preocupen\n",
      "HYPO: las competencias creativas de las chicas\n",
      "REF:  y las competencias creativas de las chicas\n",
      "HYPO: la forma que he encontrado cada vez en el mundo es como una camioneta con nada\n",
      "REF:  la forma que he encontrado de abrirme no la cambiaría por nada\n",
      "HYPO: uds se preguntarán a un asquizo que se va a cuidar de la gente\n",
      "REF:  y uds se preguntarán y eso qué tiene que ver con la identidad\n",
      "HYPO: le pedí que acabara rápido y me llevara a mi casa\n",
      "REF:  le pedí que acabara rápido y me llevara a mi casa\n",
      "HYPO: muchísimas veces nos quedamos en la mitad\n",
      "REF:  muchísimas veces nos quedamos en la mitad\n",
      "HYPO: el primero es puse un abogado\n",
      "REF:  el primero es puse un abogado\n",
      "HYPO: de esta manera se nos paramos con los cinco continentes\n",
      "REF:  de esa manera se desparramó por los cinco continentes\n",
      "HYPO: fue violada en las vías del perrocarrismo y extinción\n",
      "REF:  joven violada en las vías del ferrocarril mitre\n"
     ]
    },
    {
     "name": "stderr",
     "output_type": "stream",
     "text": [
      " 91%|█████████ | 127/140 [01:43<00:06,  2.09it/s]"
     ]
    },
    {
     "name": "stdout",
     "output_type": "stream",
     "text": [
      "HYPO: pero no podía ser que transformar les engañó\n",
      "REF:  como no podía ser de otra forma les encantó\n",
      "HYPO: cuando nos atacaron nos estaban sobreviviendo\n",
      "REF:  que cuando nos atacaron no estábamos advertidos\n",
      "HYPO: no hay límites no hay solos en nuestra imaginación\n",
      "REF:  no hay límite solo el de nuestra imaginación\n",
      "HYPO: de cada cuatro bloqueos a uno se nos llevó la vida\n",
      "REF:  de cada cuatro europeos a uno se lo llevó la peste\n",
      "HYPO: los patritos de la calle produjeron un tiempo de vida\n",
      "REF:  los papelitos del alcalde se vendieron en tiempo récord\n",
      "HYPO: risas se me sacó el caballo\n",
      "REF:  sonido de relincho de caballo uy si se nos ha colado un caballo\n",
      "HYPO: risas pero qué pasa si vamos a tres dimensiones\n",
      "REF:  risas pero qué pasa si vamos a 3 dimensiones\n",
      "HYPO: yo puedo decir que a joré es a una gusta cantar cine\n",
      "REF:  y yo creo que por eso me gusta tanto el cine\n",
      "HYPO: el fin no tiene fuerza\n",
      "REF:  el círculo no tiene puertas\n",
      "HYPO: eran paquetes cerrados con son papelitos de todo tipo\n",
      "REF:  eran paquetes cerrados con 100 papelitos de todos colores\n",
      "HYPO: y viene el poder de volver la condición de espacio\n",
      "REF:  tiene el poder de devolver la condición de persona\n",
      "HYPO: lo quieren que nos vayan a pensar o lo quieren que nos podemos comprar\n",
      "REF:  lo siento padre ricardo dijeron todos no podemos comprar\n",
      "HYPO: vengo a mi objetivo ahora mismo por otro punto\n",
      "REF:  vendo mi papelito ahora mismo por ocho monedas\n",
      "HYPO: pero nombrar es un acto de resistencia\n",
      "REF:  pero nombrar es un acto de resistencia\n"
     ]
    },
    {
     "name": "stderr",
     "output_type": "stream",
     "text": [
      " 91%|█████████▏| 128/140 [01:44<00:05,  2.13it/s]"
     ]
    },
    {
     "name": "stdout",
     "output_type": "stream",
     "text": [
      "HYPO: risas vale pero y quién llevaba\n",
      "REF:  es de los de la defensiva\n",
      "HYPO: pero en realidad a dónde va toda esta gente\n",
      "REF:  preguntó pepe a dónde va toda esta gente\n",
      "HYPO: yo le compré dos montañas a la cole que la tenía en mi vida\n",
      "REF:  yo le compré dos dijo sabino que era pobre pero optimista\n",
      "HYPO: y siempre conozco escuelas de una escena\n",
      "REF:  tan simple como eso la escuela dignifica\n",
      "HYPO: ella acaba de recibir una carta de documento\n",
      "REF:  ella acaba de recibir una carta documento\n",
      "HYPO: mi papelito cuesta en un caballo\n",
      "REF:  dijo el alcalde mis papelitos cuestan un caballo\n",
      "HYPO: y pepe dijo no es regalador es compenso\n",
      "REF:  y pepe dijo no es regalar mocho es compensar\n",
      "HYPO: entre todos los vecinos le compraron los billetes a los vecinos\n",
      "REF:  entre todos los vecinos le compraron los 1000 papelitos\n",
      "HYPO: obviamente que todo el pecho se lo que da pasa en el otro lado\n",
      "REF:  obviamente me asusté porque estaba pasando algo grave\n",
      "HYPO: un niño de mi edad puede hacer sí\n",
      "REF:  un niño de mi edad puede hacerlo\n",
      "HYPO: de todos tiempos hasta que salga otro mejor no\n",
      "REF:  bueno de todos los tiempos hasta que salga otro mejor no\n",
      "HYPO: una tarde de mi hijo salió conmigo y llegaba a la selva\n",
      "REF:  una tarde pepe salió a caminar y le agarró sed\n",
      "HYPO: entonces ponlos y así va ya que el camino está\n",
      "REF:  he puesto fallos y aciertos y aquí está el mar\n",
      "HYPO: estamos de facultad a terroristas\n",
      "REF:  estamos dejando entrar a terroristas\n",
      "HYPO: con un pozo de vino que tenía mucho papelito de monje\n",
      "REF:  preguntó sabino que tenía muchos papelitos de moncho\n"
     ]
    },
    {
     "name": "stderr",
     "output_type": "stream",
     "text": [
      " 92%|█████████▏| 129/140 [01:44<00:05,  2.14it/s]"
     ]
    },
    {
     "name": "stdout",
     "output_type": "stream",
     "text": [
      "HYPO: por eso no le haces eso no se ve aquí que no\n",
      "REF:  por eso mi idea se llama tranquilidad de quique dijo quique\n",
      "HYPO: la escuela tiene el poder de librar\n",
      "REF:  la escuela tiene el poder de nombrar\n",
      "HYPO: y así el cuerpo se vuelve libre\n",
      "REF:  y así el cuerpo se vuelve signo\n",
      "HYPO: este es el tema de maquillaje que no quería\n",
      "REF:  este es el tema maquillaje y peluquería\n",
      "HYPO: pero por qué vas a regalar el cuerpo y el arte\n",
      "REF:  por qué vas a regalar después dos monedas más\n",
      "HYPO: risas pero qué es si no lo vamos a hacer\n",
      "REF:  risas pero kelvin no lo demostró\n",
      "HYPO: esta es la verdad eso es ficción\n",
      "REF:  eso no es verdad eso es ficción\n",
      "HYPO: y otros también se acercaron al reloj de un cáncer de lugar\n",
      "REF:  y otros también se acercaron a preguntar por el bar\n",
      "HYPO: yo os pido a algunos de esos sordolitos\n",
      "REF:  yo quiero algunos de tus papelitos\n",
      "HYPO: identificar necesariamente\n",
      "REF:  identificar necesariamente es comparar\n",
      "HYPO: no lo cuento van a pensar que estás loca\n",
      "REF:  no lo cuentes van a pensar que estás loca\n",
      "HYPO: no entiende no puede entender\n",
      "REF:  no entiende no puede entender\n",
      "HYPO: aplausos\n",
      "REF:  aplausos\n",
      "HYPO: y teniendo los libros les debía demostrar\n",
      "REF:  y tenían razón y os lo voy a demostrar hoy\n",
      "HYPO: vivo en un espejo humano\n",
      "REF:  veo un espejo en mi mano\n"
     ]
    },
    {
     "name": "stderr",
     "output_type": "stream",
     "text": [
      " 93%|█████████▎| 130/140 [01:45<00:04,  2.17it/s]"
     ]
    },
    {
     "name": "stdout",
     "output_type": "stream",
     "text": [
      "HYPO: esto me ayudó a decidir buscar ayuda\n",
      "REF:  esto me ayudó a decidir buscar ayuda\n",
      "HYPO: y yo le he tomado un ejemplo raro de lo que me he traído\n",
      "REF:  hay un 08 raro entre los que me incluyo\n",
      "HYPO: hablaba como si yo fuera su hermana mayor\n",
      "REF:  le hablaba como si yo fuera su hermana mayor\n",
      "HYPO: la escuela se vuelve identidad\n",
      "REF:  la escuela devuelve identidad\n",
      "HYPO: yo estaba en la universidad de méxico\n",
      "REF:  yo tengo que decirlo soy muy introvertido\n",
      "HYPO: pues yo soy yo y eso me mola más\n",
      "REF:  pues lo he hecho yo y eso me mola más\n",
      "HYPO: y lucca yo también tengo la gran cosecha\n",
      "REF:  y luis dijo yo también tengo la garganta seca\n",
      "HYPO: esto y se creó\n",
      "REF:  pague en 48 hs si no será demandada\n",
      "HYPO: no venía nadie jugaba en la guerra\n",
      "REF:  el movimiento saben cuándo comienza\n",
      "HYPO: ahora necesito morir a perder su vida pero no tengo\n",
      "REF:  ahora necesito monedas para comprar cigarros y no tengo\n",
      "HYPO: o el feminino\n",
      "REF:  hoy es mi día\n",
      "HYPO: usando el cerebro comparando\n",
      "REF:  usando la genética comparando\n",
      "HYPO: a ver no es que yo estoy ahí que estás en el reloj\n",
      "REF:  a ver vosotros cuatro de ahí que estáis muy cerca\n",
      "HYPO: yo escuché a mucha afirmación\n",
      "REF:  yo escuché a muchas mujeres\n",
      "HYPO: he hablado de esto nunca con nadie\n",
      "REF:  ana no había hablado de esto nunca con nadie\n",
      "HYPO: cuando tenía que donar siguió de largo\n",
      "REF:  cuando tenía que doblar siguió de largo\n"
     ]
    },
    {
     "name": "stderr",
     "output_type": "stream",
     "text": [
      " 94%|█████████▎| 131/140 [01:45<00:03,  2.28it/s]"
     ]
    },
    {
     "name": "stdout",
     "output_type": "stream",
     "text": [
      "HYPO: qué os parece eso\n",
      "REF:  es un círculo\n",
      "HYPO: y yo creé lo mismo\n",
      "REF:  y los otros lo miraron dijeron oh\n",
      "HYPO: hay diferencias que tocan esa aplicación con la mano\n",
      "REF:  hay ciencias que tocan esa aplicación con la mano\n",
      "HYPO: la violó y luego usó\n",
      "REF:  la violó y luego huyó\n",
      "HYPO: qué pasó escuchando esta historia\n",
      "REF:  qué les pasó escuchando esta historia\n",
      "HYPO: los cazadores de bitcoin o la plata\n",
      "REF:  los cazadores de microbios de paul de kruif\n",
      "HYPO: y yo dije estábamos par de charlar\n",
      "REF:  y me gusta danzar saben\n",
      "HYPO: algunos se subieron a las pichas otros a las mesas\n",
      "REF:  algunos se subieron a las sillas otros a las mesas\n",
      "HYPO: hace falta una demostración\n",
      "REF:  hace falta una demostración\n",
      "HYPO: no se lo podéis explicar porque es un tango\n",
      "REF:  no se lo podés explicar porque es intangible más que nada\n",
      "HYPO: quería empezarlo pero me tenía los brazos\n",
      "REF:  quería empujarlo pero me tenía los brazos\n",
      "HYPO: yo soy de barcelona soy elibuista\n",
      "REF:  yo soy de barcelona yo soy lingüista\n",
      "HYPO: es importante para vuestro sueño\n",
      "REF:  es importante para vuestros hijos\n",
      "HYPO: bueno queréis ver cómo lo hicimos\n",
      "REF:  bueno queréis ver cómo lo hicimos\n",
      "HYPO: y así pasó la primera semana\n",
      "REF:  y así pasó la primera semana\n",
      "HYPO: pero bueno no hay que añadir solo más un chico\n",
      "REF:  bueno creo que ya habéis visto cómo funciona\n",
      "HYPO: vitalizo por cada concejo es don bonetti\n",
      "REF:  mi tarifa por cada consejo es dos monedas\n"
     ]
    },
    {
     "name": "stderr",
     "output_type": "stream",
     "text": [
      " 94%|█████████▍| 132/140 [01:46<00:03,  2.35it/s]"
     ]
    },
    {
     "name": "stdout",
     "output_type": "stream",
     "text": [
      "HYPO: maría me dijo un poco\n",
      "REF:  maría y el ritmo\n",
      "HYPO: siempre se me ayudan cosas a descubrir la crónica\n",
      "REF:  siempre se me olvidaban cosas en la crónica\n",
      "HYPO: me conmovié a lo que veía y me lo veía\n",
      "REF:  me conmovía lo que veía y leía\n",
      "HYPO: las mujeres están como muy dismovidas\n",
      "REF:  las fronteras están como muy diluidas\n",
      "HYPO: lo vendió de la casa de la casa de la casa\n",
      "REF:  los vendedores de fajos de ernesto quebraron\n",
      "HYPO: pensé que podía tener un arma en la guardera\n",
      "REF:  pensé que podía tener un arma en la guantera\n",
      "HYPO: no manera es insegura\n",
      "REF:  no maría es el día\n",
      "HYPO: se me puso a hacer todo algo\n",
      "REF:  se me está cayendo algo\n",
      "HYPO: risas entonces le conté\n",
      "REF:  risas entonces le conté\n",
      "HYPO: primero que rompen estereotipos\n",
      "REF:  primero que rompen estereotipos\n",
      "HYPO: y así pasó la segunda semana\n",
      "REF:  y así pasó la segunda semana\n",
      "HYPO: entonces te crean fuentes\n",
      "REF:  segundo que crean puentes\n",
      "HYPO: los números son esos que ven bastante similares\n",
      "REF:  los números en asia fueron bastante similares\n",
      "HYPO: así nace la iniciativa de jalo rafotó\n",
      "REF:  así nació la inicativa de hallofoto\n",
      "HYPO: no lo mismo es un fracaso y una infracción\n",
      "REF:  no lo mío fue un fracaso dijo horacio\n",
      "HYPO: eso de la que venimos fue el año pasado\n",
      "REF:  eso fue el año pasado\n",
      "HYPO: todo el mundo más que me había jugado en la historia\n",
      "REF:  todos los demás se los había llevado el alcalde\n",
      "HYPO: por lo tanto entre 25 millones\n",
      "REF:  la mortandad fue de entre 25 y 50 millones\n"
     ]
    },
    {
     "name": "stderr",
     "output_type": "stream",
     "text": [
      " 95%|█████████▌| 133/140 [01:46<00:02,  2.35it/s]"
     ]
    },
    {
     "name": "stdout",
     "output_type": "stream",
     "text": [
      "HYPO: negocian sexo por vida\n",
      "REF:  negocian sexo por vida\n",
      "HYPO: pero cómo estoy acá arriba\n",
      "REF:  pero cómo estoy acá arriba\n",
      "HYPO: se digan no es verdad no es verdad que lo es\n",
      "REF:  no te llega no sientes no sufres no lloras\n",
      "HYPO: y él no tiene una cara de voluntad en méxico\n",
      "REF:  quién no tiene un octaedro truncado en casa\n",
      "HYPO: pensaba con la virtud de la venta y pensaba no no no\n",
      "REF:  el tío dijo hexágonos uh lo peta venga hexágonos dámelo\n",
      "HYPO: vamos a recoger cuadras de señas\n",
      "REF:  podría usar cuadrados verdad\n",
      "HYPO: no está muy genial\n",
      "REF:  no parece noche\n",
      "HYPO: le producía un pepe garcia como lo vivía\n",
      "REF:  le preguntó pepe a horacio cuando lo vio\n",
      "HYPO: pero por eso creo que me gusta tanto el cine\n",
      "REF:  pero por eso creo que me gusta tanto el cine\n",
      "HYPO: pero no sé si a mí me debo usar el papelito\n",
      "REF:  pero no cuesta 10 monedas cada papelito\n",
      "HYPO: eso para mí no no eso para mí\n",
      "REF:  eso para mí no sirve de nada\n",
      "HYPO: y se infarció por todo el contexto\n",
      "REF:  de allí se esparció por todo el continente\n",
      "HYPO: en su medio son todos modelos\n",
      "REF:  encima ellos son todos modelos\n",
      "HYPO: esperan no que dejan de un huequito\n",
      "REF:  esferas no que dejan huequitos\n",
      "HYPO: sólelo las alucinantes\n",
      "REF:  ya podés danzar\n",
      "HYPO: aplausos\n",
      "REF:  aplausos\n",
      "HYPO: yo le iba a esconder la mano para darse la mano\n",
      "REF:  yo le iba a extender la mano para dársela\n",
      "HYPO: y por qué no estás vivo\n",
      "REF:  no sé por dónde salir\n",
      "HYPO: qué está ocurriendo arrancándoos solo\n",
      "REF:  está todo el mundo arrancándose los pelos solo\n",
      "HYPO: cada uno se monta de una manera diferente\n",
      "REF:  cada uno somos de una manera en esta vida\n"
     ]
    },
    {
     "name": "stderr",
     "output_type": "stream",
     "text": [
      " 96%|█████████▌| 134/140 [01:46<00:02,  2.46it/s]"
     ]
    },
    {
     "name": "stdout",
     "output_type": "stream",
     "text": [
      "HYPO: y para saber matemáticas te cae un fuente\n",
      "REF:  si no sabes matemática se te cae el puente\n",
      "HYPO: con qué le decimos gripe o dolor\n",
      "REF:  por qué le decimos gripe española\n",
      "HYPO: echa las puertas y verás que sí\n",
      "REF:  echa las cuentas y verás que sí\n",
      "HYPO: no faltaba explicación de trabajo\n",
      "REF:  más tarde desaparecieron los caballos\n",
      "HYPO: yo soy yo a castillo no soy yo\n",
      "REF:  yo soy yo cuando escribo soy yo\n",
      "HYPO: estamos perdiendo la identidad\n",
      "REF:  estamos perdiendo la identidad\n",
      "HYPO: pero es una postritura la postritura de kenia\n",
      "REF:  se quedó en una conjetura la conjetura de kelvin\n",
      "HYPO: qué problema él se hacía que se hacía\n",
      "REF:  un teorema eso sí que es para siempre\n",
      "HYPO: cada vez me iba paseando mal\n",
      "REF:  cada vez me iba apasionando más\n",
      "HYPO: y yo estaba en la casa de mi madre en facebook\n",
      "REF:  y qué está bien de cada uno de ellos\n",
      "HYPO: circulen los dedos a los dos ojos\n",
      "REF:  círculos no que dejan huequitos\n",
      "HYPO: yo soy el otro\n",
      "REF:  yo soy el otro\n",
      "HYPO: quién me hablaba de mí\n",
      "REF:  qué maravilla\n",
      "HYPO: entonces me da suerte cuál es lo que digo\n",
      "REF:  entonces horacio dijo ay por dios\n",
      "HYPO: no me parecía tan bien que era un poco amigado\n",
      "REF:  al principio esto era muy complicado\n",
      "HYPO: y ganamos algo en este momento\n",
      "REF:  y ganamos alguna experiencia\n",
      "HYPO: no pueden estar descontrolados\n",
      "REF:  hacen la película buena o mala\n",
      "HYPO: no sé en el trato está lo que yo he vivido\n",
      "REF:  nene trae el octaedro truncado que vienen visitas\n",
      "HYPO: quién es el que se llama\n",
      "REF:  claro que sí maría\n",
      "HYPO: y me dijo abrigo lo grande soy también\n",
      "REF:  y mi hija abrió los ojos grandes y yo también\n",
      "HYPO: estamos en un latín de pecho\n",
      "REF:  estamos en la ruina pepe\n"
     ]
    },
    {
     "name": "stderr",
     "output_type": "stream",
     "text": [
      " 96%|█████████▋| 135/140 [01:47<00:01,  2.61it/s]"
     ]
    },
    {
     "name": "stdout",
     "output_type": "stream",
     "text": [
      "HYPO: podíamos conseguir murallas\n",
      "REF:  podríamos conseguir unirlas\n",
      "HYPO: no tengo ni una carretta no tengo nada\n",
      "REF:  no tengo la carrera no tengo nada\n",
      "HYPO: y lo que hicieron es cagarlo\n",
      "REF:  es lo que quiero buscar\n",
      "HYPO: y me pregunté adónde va a ser\n",
      "REF:  y moncho dijo a dónde va a ser\n",
      "HYPO: qué tuve en el momento de hacer eso\n",
      "REF:  qué tuvieron en común todas ellas\n",
      "HYPO: y yo estaba en la mente\n",
      "REF:  sí los pantalones\n",
      "HYPO: así que lo tuve claro\n",
      "REF:  así que lo tuve claro\n",
      "HYPO: no hay nada en esta mente no tenemos nada más\n",
      "REF:  no hay nada en este mundo que me guste más\n",
      "HYPO: y a la segunda le dice uds\n",
      "REF:  el segundo le dice ud\n",
      "HYPO: y estar dentro de su cuerpo\n",
      "REF:  y está dentro de tu cuerpo\n",
      "HYPO: aplausos\n",
      "REF:  aplausos\n",
      "HYPO: los que tienen química para que andamos jugando\n",
      "REF:  qué es lo que tiene el cine para que me guste tanto\n",
      "HYPO: visité la casa de mis amigos\n",
      "REF:  visité la casa de ana frank\n",
      "HYPO: yo les voy a mostrar a los profesionales\n",
      "REF:  pues os lo voy a demostrar a continuación\n",
      "HYPO: quién se dice de una danza\n",
      "REF:  siempre he querido danzar\n",
      "HYPO: y decirle a ese padre\n",
      "REF:  y decirles que se puede\n",
      "HYPO: realmente tienen un razon de juego\n",
      "REF:  realmente tienen razón los dos\n",
      "HYPO: era un ambiente muy solero\n",
      "REF:  era un ambiente muy solemne\n",
      "HYPO: pero son casi iguales\n",
      "REF:  pero somos casi iguales\n",
      "HYPO: está fuera del lenguaje de la ley\n",
      "REF:  está fuera del lenguaje de la ley\n",
      "HYPO: tú a ver a jesús te chocas\n",
      "REF:  y tú a ver a qué instrumento suenas\n",
      "HYPO: los pequeños se portaron genial\n",
      "REF:  los pequeños se portaron genial\n"
     ]
    },
    {
     "name": "stderr",
     "output_type": "stream",
     "text": [
      " 97%|█████████▋| 136/140 [01:47<00:01,  2.81it/s]"
     ]
    },
    {
     "name": "stdout",
     "output_type": "stream",
     "text": [
      "HYPO: no sé si pueden la relación es en serio\n",
      "REF:  no soy bueno en las relaciones sociales\n",
      "HYPO: te he pedido en tu vida\n",
      "REF:  pepe dijo horacio llorando\n",
      "HYPO: sin ningún capófico ninguna barrera\n",
      "REF:  sin ningún tapujo sin ninguna barrera\n",
      "HYPO: por qué está del botón\n",
      "REF:  porque está dentro tuyo\n",
      "HYPO: ese era un ejemplo\n",
      "REF:  ese era un escollo\n",
      "HYPO: acepté y no fue el caso\n",
      "REF:  acepté y nos fuimos\n",
      "HYPO: si me ocuparé el alcance de pech\n",
      "REF:  risas me ocuparé del caso b\n",
      "HYPO: y yo me fui a buscar clases\n",
      "REF:  sonido de platillos y tú a unos platillos\n",
      "HYPO: depende de lo que uno entienda por siempre\n",
      "REF:  depende lo que uno entienda por siempre\n",
      "HYPO: una de cada cuatro\n",
      "REF:  1 de cada 4\n",
      "HYPO: es lo que sube el conocimiento\n",
      "REF:  es lo que quiero encontrar\n",
      "HYPO: la libre la humanidad\n",
      "REF:  salidas una moneda\n",
      "HYPO: y eso lo hizo porque tuvo miedo\n",
      "REF:  no lo hizo porque tuvo miedo\n",
      "HYPO: esto para qué sirve\n",
      "REF:  esto para qué sirve\n",
      "HYPO: en las personas que sí\n",
      "REF:  tengo los pies limpios eh\n",
      "HYPO: el segundo es más oscuro\n",
      "REF:  el segundo es más oscuro\n",
      "HYPO: qué es lo que está en el caos\n",
      "REF:  qué lindo estar acá\n",
      "HYPO: eso fue un creguinoso\n",
      "REF:  bueno eso fue un fake news\n",
      "HYPO: y las peloterías están vivas\n",
      "REF:  y la peluquería de carmen\n",
      "HYPO: muchas gracias por vuestra atención\n",
      "REF:  muchas gracias por vuestra atención\n",
      "HYPO: y imposible\n",
      "REF:  imposible\n",
      "HYPO: y a mí también me dijo no\n",
      "REF:  me han traído\n",
      "HYPO: parece todo maravilloso no\n",
      "REF:  parece todo maravilloso no\n",
      "HYPO: risas no quería\n",
      "REF:  vale pero y quién lleva razón\n"
     ]
    },
    {
     "name": "stderr",
     "output_type": "stream",
     "text": [
      " 98%|█████████▊| 137/140 [01:47<00:00,  3.02it/s]"
     ]
    },
    {
     "name": "stdout",
     "output_type": "stream",
     "text": [
      "HYPO: animad que parezca\n",
      "REF:  animaos chicos y chicas\n",
      "HYPO: aunque mucho fracaso\n",
      "REF:  aunque moncho fracase\n",
      "HYPO: y por qué se me acaba\n",
      "REF:  veis como no os engañaba\n",
      "HYPO: y cuál es el tiempo de tener una música\n",
      "REF:  y qué tipo de cine me gusta\n",
      "HYPO: qué es el problema\n",
      "REF:  y qué es el tiempo\n",
      "HYPO: dónde están nosotros\n",
      "REF:  dónde está el nosotras\n",
      "HYPO: qué significa la tecnología\n",
      "REF:  qué significan estos números\n",
      "HYPO: qué es mi corazón\n",
      "REF:  es lo que no sé\n",
      "HYPO: estarán lo que escuchan\n",
      "REF:  estará en lo que escucho\n",
      "HYPO: era mi heroído\n",
      "REF:  estará en el oído\n",
      "HYPO: tremenda nieve\n",
      "REF:  tremenda idea\n",
      "HYPO: no es que no lo hagan\n",
      "REF:  lo ponemos en pantalla grande\n",
      "HYPO: no tiene el pan al corazón\n",
      "REF:  no tiene puertas\n",
      "HYPO: y eso es lo que yo quiero hacer hoy\n",
      "REF:  qué es lo que tenés\n",
      "HYPO: regresé gratis\n",
      "REF:  regreso gratis\n",
      "HYPO: cuánta menos fue el cambio\n",
      "REF:  cuántas monedas cuestan\n",
      "HYPO: pero es que es mucho más\n",
      "REF:  pero es que es mucho más\n",
      "HYPO: hablamos un montón\n",
      "REF:  hablamos un montón\n",
      "HYPO: hoy no tendría dónde ir a dormir\n",
      "REF:  hoy no tendría dónde ir a dormir\n",
      "HYPO: qué le haces a ti\n",
      "REF:  claro que sí\n",
      "HYPO: aplausos\n",
      "REF:  aplausos\n",
      "HYPO: a ver qué ocurrió\n",
      "REF:  está dentro tuyo\n",
      "HYPO: estábamos preparados\n",
      "REF:  no estábamos preparados\n",
      "HYPO: y mucho\n",
      "REF:  tiene que ver y mucho\n",
      "HYPO: y la siguiente dice eso es injusticia\n",
      "REF:  tu intuición te dice eso es imposible\n",
      "HYPO: y qué decir de nuevo\n",
      "REF:  y qué decir de moncho\n",
      "HYPO: y si soy un granito\n",
      "REF:  se puede dar esto\n"
     ]
    },
    {
     "name": "stderr",
     "output_type": "stream",
     "text": [
      " 99%|█████████▊| 138/140 [01:48<00:00,  3.06it/s]"
     ]
    },
    {
     "name": "stdout",
     "output_type": "stream",
     "text": [
      "HYPO: le dije no\n",
      "REF:  le dije 'no\n",
      "HYPO: y qué es el problema\n",
      "REF:  y qué es el día\n",
      "HYPO: no querían\n",
      "REF:  que en lo que veo\n",
      "HYPO: pero a la orfeo sentí\n",
      "REF:  pero algo feo sentí\n",
      "HYPO: por qué caminas así\n",
      "REF:  por qué caminaste sola\n",
      "HYPO: el asuelo de los primos años\n",
      "REF:  era todo lo que había hecho\n",
      "HYPO: que cualquier persona\n",
      "REF:  más que cualquier diamante\n",
      "HYPO: por qué quieren lo que quieran\n",
      "REF:  para qué quieren peluquera\n",
      "HYPO: una de las mejores de estas cosas\n",
      "REF:  cuál es la mejor pieza que puedo usar\n",
      "HYPO: qué sirve hacer esto\n",
      "REF:  para qué sirve hacer esto\n",
      "HYPO: y por qué siempre lo vemos\n",
      "REF:  y tu proyecto de helado\n",
      "HYPO: qué pasó acá\n",
      "REF:  qué pasó acá\n",
      "HYPO: y eso es lo que yo he hecho\n",
      "REF:  no tengan miedo\n",
      "HYPO: y estar con un montón de clientes\n",
      "REF:  y carmen no tiene clientes\n",
      "HYPO: no tiene ningún problema\n",
      "REF:  y yo le digo claro\n",
      "HYPO: me gusta lo que veo\n",
      "REF:  o está en lo que veo\n",
      "HYPO: necesito almacenar\n",
      "REF:  necesito algo fuerte\n",
      "HYPO: no hubiera la niña que se me hacía\n",
      "REF:  cómo va a ir a la luna ese muchacho\n",
      "HYPO: después te meto con tu vida\n",
      "REF:  después ya no hubo monedas\n",
      "HYPO: y no tengo eso\n",
      "REF:  no tengo eso\n",
      "HYPO: muy fácil de ver por qué\n",
      "REF:  muy fácil dijo quique\n",
      "HYPO: salgo primero\n",
      "REF:  fue alucinante\n",
      "HYPO: solos solos\n",
      "REF:  soy sorda\n",
      "HYPO: nos definimos\n",
      "REF:  cómo nos definimos\n",
      "HYPO: es una encolófica por ejemplo\n",
      "REF:  la ciencia oncológica por ejemplo\n",
      "HYPO: de reyesos\n",
      "REF:  la realidad es otra\n",
      "HYPO: cómo lo hacemos\n",
      "REF:  cómo lo hacemos\n",
      "HYPO: qué es lo que me viene de la vida\n",
      "REF:  todo el mundo lo miró\n",
      "HYPO: y ese me quedó en el primer lugar\n",
      "REF:  así se metió en europa\n",
      "HYPO: a un tetracasmo\n",
      "REF:  aunque fracase\n",
      "HYPO: cuando crecimiento\n",
      "REF:  con lo que tenés\n",
      "HYPO: qué pasó\n",
      "REF:  qué pregunta es esa\n"
     ]
    },
    {
     "name": "stderr",
     "output_type": "stream",
     "text": [
      " 99%|█████████▉| 139/140 [01:48<00:00,  3.21it/s]"
     ]
    },
    {
     "name": "stdout",
     "output_type": "stream",
     "text": [
      "HYPO: adivináis\n",
      "REF:  a tu bar\n",
      "HYPO: no es posible no preguntar\n",
      "REF:  para eso sirven las matemáticas\n",
      "HYPO: y lo fueron y lo han hecho\n",
      "REF:  y nos fue muy bien\n",
      "HYPO: te parás con los que te prendan\n",
      "REF:  si te pagan estupendo\n",
      "HYPO: los vecinos y guías\n",
      "REF:  los vecinos lo miraban\n",
      "HYPO: y le dije tranquilo\n",
      "REF:  tiene mucho sentido\n",
      "HYPO: pero no lo encontré\n",
      "REF:  pero no lo demostró\n",
      "HYPO: nos partimos\n",
      "REF:  y por qué el cine\n",
      "HYPO: por qué viajar\n",
      "REF:  por qué viajaste sola\n",
      "HYPO: hasta aquí\n",
      "REF:  ay las películas\n",
      "HYPO: casi igual\n",
      "REF:  casi iguales\n",
      "HYPO: es un proyecto que tiene aficionados\n",
      "REF:  escribes genial\n",
      "HYPO: para qué sirve la voz\n",
      "REF:  para qué sirve el amor\n",
      "HYPO: yo no lo veo\n",
      "REF:  qué es la vida\n",
      "HYPO: no no\n",
      "REF:  no no\n",
      "HYPO: ya pasaron ya\n",
      "REF:  qué ha pasado este año\n",
      "HYPO: me encanta hacerlo\n",
      "REF:  me encanta observar\n",
      "HYPO: cómo me la pido a verlo\n",
      "REF:  para qué sirve la vida misma\n",
      "HYPO: qué es decir de la poesía\n",
      "REF:  para qué sirve la poesía\n",
      "HYPO: no había ni un dron\n",
      "REF:  no había ni un bar\n",
      "HYPO: todos los son yo\n",
      "REF:  todo nos fue bien\n",
      "HYPO: de muchos amigos\n",
      "REF:  preguntó sabino\n",
      "HYPO: se paró\n",
      "REF:  se paró\n",
      "HYPO: te llegan al corazón\n",
      "REF:  te llegan al corazón\n",
      "HYPO: no no se lo sé\n",
      "REF:  no penséis mal\n",
      "HYPO: a la luz\n",
      "REF:  a la luna\n",
      "HYPO: pero eso salió muy bien\n",
      "REF:  preguntó sabino\n",
      "HYPO: me dije no me digas\n",
      "REF:  dijeron algunos\n",
      "HYPO: el asfix\n",
      "REF:  y en asia\n",
      "HYPO: cuánto\n",
      "REF:  y cuánto\n",
      "HYPO: y me bien pierde\n",
      "REF:  muy bien pepe\n",
      "HYPO: nos sabés\n",
      "REF:  unos cables\n",
      "HYPO: y me encantan todas\n",
      "REF:  preguntaron todos\n",
      "HYPO: pobre médica\n",
      "REF:  pobre moncho\n",
      "HYPO: es muy rascaleada\n",
      "REF:  escribes genial\n",
      "HYPO: determinado\n",
      "REF:  verdades eternas\n",
      "HYPO: ahí está el volcán\n",
      "REF:  ay pepe\n",
      "HYPO: nada de mí\n",
      "REF:  nada de monedas\n"
     ]
    },
    {
     "name": "stderr",
     "output_type": "stream",
     "text": [
      "100%|██████████| 140/140 [01:48<00:00,  3.48it/s]"
     ]
    },
    {
     "name": "stdout",
     "output_type": "stream",
     "text": [
      "HYPO: y no es gracia\n",
      "REF:  y nina me miró así\n",
      "HYPO: se te ha desbastecado\n",
      "REF:  risas aunque sea de plástico\n",
      "HYPO: gracias\n",
      "REF:  gracias\n",
      "HYPO: y la hacía muy bien\n",
      "REF:  la vida\n",
      "HYPO: me encanta\n",
      "REF:  me encanta\n",
      "HYPO: y dijo kiké\n",
      "REF:  dijo quique\n",
      "HYPO: vos\n",
      "REF:  vos\n",
      "HYPO: y eso qué es\n",
      "REF:  y eso qué es\n",
      "HYPO: increíble\n",
      "REF:  increíble\n",
      "HYPO: a quién le va la pan\n",
      "REF:  por qué me van a pagar\n",
      "HYPO: fantástico miedo\n",
      "REF:  contad conmigo\n",
      "HYPO: cómo estás hoy\n",
      "REF:  cómo estás hoy\n",
      "HYPO: pero no\n",
      "REF:  pero moncho\n",
      "HYPO: pero no es así\n",
      "REF:  pero no es así\n",
      "HYPO: criando un robot\n",
      "REF:  podría usar triángulos\n",
      "HYPO: no hay que perderlo\n",
      "REF:  por más que nos duela\n",
      "HYPO: no sé\n",
      "REF:  no os fieis\n",
      "HYPO: la diferencia es de verdad\n",
      "REF:  preguntó pepe\n",
      "HYPO: ya se fue\n",
      "REF:  y así fue\n",
      "HYPO: muchas gracias\n",
      "REF:  muchas gracias\n",
      "HYPO: por qué\n",
      "REF:  con qué\n",
      "HYPO: y me dijo me miraba\n",
      "REF:  y mi hija me miraba\n",
      "HYPO: ya no estaría todo\n",
      "REF:  te apuntarías\n",
      "HYPO: hasta ahora\n",
      "REF:  hasta pronto\n",
      "HYPO: qué es lo de la acción\n",
      "REF:  qué son los del ataque\n",
      "HYPO: estás por supuesto\n",
      "REF:  pues por supuesto\n",
      "HYPO: mundo africano\n",
      "REF:  todo el mundo tiene\n",
      "HYPO: sí sí\n",
      "REF:  che\n",
      "HYPO: muy poquitos\n",
      "REF:  dijo quique\n",
      "HYPO: pues no\n",
      "REF:  pues no\n",
      "HYPO: gracias\n",
      "REF:  qué esperás\n",
      "HYPO: muchas gracias\n",
      "REF:  muchas gracias\n",
      "HYPO: se pico\n",
      "REF:  se los explico\n",
      "HYPO: qué quiere decir\n",
      "REF:  qué buena idea\n",
      "HYPO: no lo sé yo\n",
      "REF:  no no suenas\n",
      "HYPO: gracias\n",
      "REF:  gracias\n",
      "HYPO: no\n",
      "REF:  moncho\n",
      "HYPO: qué hicimos\n",
      "REF:  qué hicimos\n",
      "HYPO: bueno pues\n",
      "REF:  pues\n",
      "HYPO: y yo dije\n",
      "REF:  dijo\n",
      "HYPO: eso\n",
      "REF:  esto\n",
      "HYPO: oye\n",
      "REF:  oigan\n",
      "HYPO: no\n",
      "REF:  ay\n",
      "HYPO: gracias\n",
      "REF:  claro\n",
      "HYPO: no\n",
      "REF:  ah\n",
      "HYPO: muchas gracias\n",
      "REF:  gracias\n",
      "HYPO: no\n",
      "REF:  no\n",
      "HYPO: no\n",
      "REF:  ay\n"
     ]
    },
    {
     "name": "stderr",
     "output_type": "stream",
     "text": [
      "100%|██████████| 140/140 [01:48<00:00,  1.29it/s]\n"
     ]
    }
   ],
   "source": [
    "hypo, refs = decode_model(num_batches=-1)"
   ]
  },
  {
   "cell_type": "code",
   "execution_count": 16,
   "metadata": {
    "colab": {
     "base_uri": "https://localhost:8080/"
    },
    "id": "mKAuAKJFE8lL",
    "outputId": "f5d2c1b5-6ffa-4159-ab02-fd5a4fab0dda"
   },
   "outputs": [
    {
     "name": "stdout",
     "output_type": "stream",
     "text": [
      "WER : 46.6788\n"
     ]
    }
   ],
   "source": [
    "def get_score():\n",
    "    scorer = WerScorer(\n",
    "        WerScorerConfig(\n",
    "            wer_tokenizer=\"13a\",\n",
    "            wer_remove_punct=True,\n",
    "            wer_char_level=False,\n",
    "            wer_lowercase=True\n",
    "        )\n",
    "    )\n",
    "    for h, r in zip(hypo, refs):\n",
    "        scorer.add_string(ref=r, pred=h)\n",
    "        wer = scorer.score()\n",
    "    print(\"WER : %.4f\" % wer)\n",
    "get_score()"
   ]
  },
  {
   "cell_type": "markdown",
   "metadata": {},
   "source": [
    "##### Noisy: the paper reports WER of 41.7 for Es, but that is with beam size = 5. WER of 46.67 is with beam size 1.\n",
    "##### Clean: the paper reports WER of 9.5 for Es, but that is with beam size = 5. WER of 10.16 is with beam size 1."
   ]
  },
  {
   "cell_type": "markdown",
   "metadata": {
    "id": "83rrkEo8E8lM"
   },
   "source": [
    "# Decode mWhisper-Flamingo Small for Es ASR"
   ]
  },
  {
   "cell_type": "code",
   "execution_count": 17,
   "metadata": {
    "id": "t-lkr2bKE8lM"
   },
   "outputs": [],
   "source": [
    "# avsr config\n",
    "checkpoint= 'models/whisper-flamingo_multi-all_small.pt'\n",
    "modalities = 'avsr'\n",
    "use_av_hubert_encoder = 1\n",
    "av_fusion = 'separate'\n",
    "video_model_path = 'models/mavhubert_only_weights.pt'\n",
    "av_hubert_path =  'av_hubert/avhubert'"
   ]
  },
  {
   "cell_type": "code",
   "execution_count": 18,
   "metadata": {
    "colab": {
     "base_uri": "https://localhost:8080/"
    },
    "id": "8t45sMdfE8lM",
    "outputId": "507c7a6a-983f-4c7b-bf2d-15c2b3aaa958"
   },
   "outputs": [
    {
     "name": "stderr",
     "output_type": "stream",
     "text": [
      "2025-02-12 10:57:28 | INFO | lightning_fabric.utilities.seed | Seed set to 3407\n"
     ]
    },
    {
     "name": "stdout",
     "output_type": "stream",
     "text": [
      "Removed 136 samples with missing video (before filtering lengths)\n",
      "Removed 0 samples with missing text\n",
      "Total hours train : 204.29574397569445\n",
      "es train 124717 123236\n",
      "Removed 0 samples with missing video (before filtering lengths)\n",
      "Removed 0 samples with missing text\n",
      "Total hours valid : 1.450880486111111\n",
      "es valid 905 898\n",
      "Removed 0 samples with missing video (before filtering lengths)\n",
      "Removed 0 samples with missing text\n",
      "Total hours test : 1.728941527777778\n",
      "es test 1012 1012\n",
      "Total data lengths\n",
      "123236\n",
      "898\n",
      "1012\n",
      "Multilingual: {} True\n",
      "Multilingual tokenizer : True\n",
      "Dataloader max length : None\n",
      "Loaded 1 noise wavs\n",
      "load modelmodels/whisper-flamingo_multi-all_small.pt\n",
      "Loading Whisper\n",
      "Whisper dropout rate : 0.0\n",
      "Loading AV-HuBERT encoder\n",
      "Using AV-HuBERT encoder with parameters: 325142504\n",
      "Adding gated x attn layers\n",
      "Adding gated x attn layers\n",
      "Adding gated x attn layers\n",
      "Adding gated x attn layers\n",
      "Adding gated x attn layers\n",
      "Adding gated x attn layers\n",
      "Adding gated x attn layers\n",
      "Adding gated x attn layers\n",
      "Adding gated x attn layers\n",
      "Adding gated x attn layers\n",
      "Adding gated x attn layers\n",
      "Adding gated x attn layers\n",
      "Loading checkpoint\n",
      "dict_keys(['state_dict'])\n"
     ]
    }
   ],
   "source": [
    "lang = 'es'\n",
    "tokenizer, special_token_set, dataloader = setup_data()\n",
    "whisper_model = load_model()"
   ]
  },
  {
   "cell_type": "code",
   "execution_count": 19,
   "metadata": {},
   "outputs": [
    {
     "name": "stderr",
     "output_type": "stream",
     "text": [
      "  1%|          | 1/140 [00:03<07:08,  3.08s/it]"
     ]
    },
    {
     "name": "stdout",
     "output_type": "stream",
     "text": [
      "HYPO: música de guitarra en el fondo de la guitarra hay una canción que se llama la música de la palma\n",
      "REF:  música aplausos y ahora os voy a enseñar cómo el agua puede hacer más sonidos que el que hace cuando sale del grifo\n"
     ]
    },
    {
     "name": "stderr",
     "output_type": "stream",
     "text": [
      "  1%|▏         | 2/140 [00:05<06:09,  2.68s/it]"
     ]
    },
    {
     "name": "stdout",
     "output_type": "stream",
     "text": [
      "HYPO: pónganse en situación estas chicas han experimentado llevan mucha carga muchos trastornos postraumático debido a un éxodo a una tierra que nadie les había prometido a mí esto como asesinaban a sus seres queridos a mí esto como incendiaba no bombardeaban sus casas otras desgraciadamente\n",
      "REF:  pónganse en situación estas chicas llevan mucha carga muchos trastornos postraumáticos debido a un éxodo a una tierra que nadie les había prometido han visto cómo asesinaban a sus seres queridos han visto cómo incendiaban o bombardeaban sus casas otras desgraciadamente también han sido testigos o víctimas de violaciones en su particular trasiego desde afganistán irak y siria camino a europa o camino en este caso de alemania\n"
     ]
    },
    {
     "name": "stderr",
     "output_type": "stream",
     "text": [
      "  2%|▏         | 3/140 [00:07<05:44,  2.52s/it]"
     ]
    },
    {
     "name": "stdout",
     "output_type": "stream",
     "text": [
      "HYPO: ahora si vamos a seguir esperando que las violaciones sean lo que muy rara vez son un violador que es un depredador de clase baja y no un joven universitario o un empresario que sale de levante un viernes o un sábado si vamos a seguir esperando que las víctimas sean mujeres modositas recatadas que se desmayan en la escena\n",
      "REF:  ahora si vamos a seguir esperando que las violaciones sean lo que muy rara vez son un violador que es un depravado de clase baja y no un joven universitario o un empresario que salen de levante un viernes o un sábado si vamos a seguir esperando que las víctimas sean mujeres modositas recatadas que se desmayan en la escena y no mujeres seguras de sí mismas vamos a seguir sin poder escuchar\n",
      "HYPO: una vez que nos dijeron que programar es como una red de actuación tenemos nuestro escenario donde están nuestros actores que actuarán entre sí y ocurren que vamos a poder disfrutar de nuestra consobida animaciones guayas de imágenes sonidos etcétera esa ley tiene muy buena punta pero un niño solo en su habitación programando\n",
      "REF:  una vez me dijeron que programar es como una obra de teatro tenemos nuestro escenario donde están nuestros actores que actuarán entre sí según les digamos podemos disfrazarlos para conseguir animaciones o añadir imágenes sonidos etc pensaréis tiene muy buena pinta pero un niño solo en su habitación programando no es muy social que digamos\n"
     ]
    },
    {
     "name": "stderr",
     "output_type": "stream",
     "text": [
      "  3%|▎         | 4/140 [00:09<05:22,  2.37s/it]"
     ]
    },
    {
     "name": "stdout",
     "output_type": "stream",
     "text": [
      "HYPO: la identidad es algo que se crea se forjan con función de los valores y las creencias que da tu familia que da también a tus amigos y también de la constitución de lo que tú realmente quieres ser y lo que tú quieres en tu vida es ser la constitución de tu motivación del sentimiento de pertenencia que quedas con otros grupos que son te sientes afines identificados y también en función de las interacciones con grupos que son totalmente diferentes a ti\n",
      "REF:  la identidad es algo que se crea o se forja en función de los valores y las creencias que te da tu familia te dan tus amigos y también va en función de lo que tú realmente quieres ser y lo que tú quieres realmente ser va en función de tu motivación del sentimiento de pertenencia que tienes con otros grupos con los que te sientes afín o identificado y también en función de las interacciones con grupos que son totalmente diferentes a ti\n",
      "HYPO: aplausos gracias aplausos gracias aplausos gracias gracias y a continuación voy a necesitar cuatro comentarios que aquí y ahora vamos a ver a quién suena\n",
      "REF:  risas aplausos música aplausos y a continuación voy a necesitar cuatro voluntarios porque aquí y ahora vamos a ver a qué suenan\n"
     ]
    },
    {
     "name": "stderr",
     "output_type": "stream",
     "text": [
      "  4%|▎         | 5/140 [00:11<04:57,  2.20s/it]"
     ]
    },
    {
     "name": "stdout",
     "output_type": "stream",
     "text": [
      "HYPO: si por ejemplo tienes una pobre competencia lingüística o tienes que hacer un extranjero de alejo discriminado de una región o de un mejor tenés algún tipo de discapacidad que te afecte a la producción de la lengua oral como por ejemplo la tartarugua estos son ejemplos que incluyen cómo las personas te van a aceptar te van a marginar en una sociedad\n",
      "REF:  si por ejemplo tienes una pobre competencia lingüística o tienes un acento extranjero o un dialecto determinado de una región o a lo mejor tienes algún tipo de discapacidad que te afecta a la producción de la lengua oral como por ejemplo la tartamudez todos estos son ejemplos que influyen en cómo las personas te van a aceptar o te van a marginar en una sociedad\n",
      "HYPO: risas yo recuerdo aplausos estoy recordando hace unos cuatro o cinco años atrás que me tocó participar en una convocación que había habido un techo en méxico a familia\n",
      "REF:  risas silbido en el público risas aplausos estoy recordando hace unos cuatro o cinco años atrás me tocó participar en una convocación que habíamos hecho en méxico a familiares\n"
     ]
    },
    {
     "name": "stderr",
     "output_type": "stream",
     "text": [
      "  4%|▍         | 6/140 [00:13<04:47,  2.15s/it]"
     ]
    },
    {
     "name": "stdout",
     "output_type": "stream",
     "text": [
      "HYPO: y es verdad que también hay personas que están muy a favor o empatizan con las personas que unen la guerra pero también podemos tratar que entre esas personas hay una especie de escudar a los errores políticos para no participar en las iniciativas que puedan resolver o al menos paliar estos dilemas personales tan graves\n",
      "REF:  y es verdad que también hay personas que están muy a favor o empatizan con las personas que huyen de la guerra pero también puedo constatar que entre esas personas hay una especie de escudarse ante los errores de los políticos para no actuar para no participar en iniciativas que puedan si no resolver por lo menos paliar estos dramas personales tan graves\n",
      "HYPO: y hay otro camino para deshacernos de la incomodidad y que es exactamente el inverso le subimos el volumen a las cosas que no esperábamos escuchar como yo le adquirí a mi hija que pedí que me lleve a mi casa y que acabara rápido y se lo bajamos a las cosas que siempre la vamos a escuchar el revuelver en la guantera y el aislamiento\n",
      "REF:  pero hay otro camino para deshacernos de la incomodidad y que es exactamente el inverso le subimos el volumen a las cosas que no esperábamos escuchar como yo le hablé bien le pedí que me lleve a mi casa le pedí que acabara rápido y se lo bajamos a las cosas que sí esperábamos escuchar el revólver en la guantera el aislamiento\n"
     ]
    },
    {
     "name": "stderr",
     "output_type": "stream",
     "text": [
      "  5%|▌         | 7/140 [00:15<04:20,  1.96s/it]"
     ]
    },
    {
     "name": "stdout",
     "output_type": "stream",
     "text": [
      "HYPO: mientras las nuevas tecnologías están por todas partes y los mayores las utilizan para cosas de mayores como una vez las tenemos en los coches las hemos ido construyendo móviles con telar en los redes o mandar mensajes en internet los niños las utilizamos para jugar y para eso somos niños y es lo que más nos gusta\n",
      "REF:  mientras las nuevas tecnologías están por todas partes y los mayores las utilizáis para cosas de mayores a ver ordenadores a bordo de los coches aunque mis padres a veces se siguen perdiendo móviles consultar el correo mandar mensajes comprar navegar por internet los niños las utilizamos para jugar que para eso somos niños y es lo que más nos gusta\n",
      "HYPO: y han generado también unas identidades transformadas poderosas e interculturales y estas identidades interculturales no se basan en el consenso pero sí en el respeto a uno en ese respeto a un mutuo de ponerse la piel de la otra para así tener ese sentimiento de pertenencia\n",
      "REF:  que han generado también unas identidades transformadas poderosas e interculturales y estas identidades interculturales no se basan en el consenso pero sí en el respeto mutuo en ese respeto mutuo de empatizar con la otra de ponerse en la piel de la otra para así tener ese sentimiento de pertenencia\n"
     ]
    },
    {
     "name": "stderr",
     "output_type": "stream",
     "text": [
      "  6%|▌         | 8/140 [00:17<04:06,  1.87s/it]"
     ]
    },
    {
     "name": "stdout",
     "output_type": "stream",
     "text": [
      "HYPO: precisamente para tratar de producir una nueva y poder que no era un nombre devolverla a una familia terminar con los años de espera de incertidumbre de angustia y para que esa madre continúe se pueda encontrar a un niño con su hijo aún estando en el cuarto de el cuarto\n",
      "REF:  obsesivamente insistir para tratar de producir una nueva identidad para poder reescribir de nuevo un nombre devolverlo a una familia terminar con los años de espera de incertidumbre de angustia y para que esa madre pequeñita se pueda encontrar de nuevo con su hijo aun estando ya su hijo muerto\n",
      "HYPO: el año pasado cuando estábamos dando los jueces de los muertos humanos en clases nos ocurrió hacer un juego de explicación sobre cosas pequeñas y fue la enseñanza de estos juegos y los juegos de los muertos de los cuartos humano para los que estaban mostrando el año pasado en el que el cuerpo humano se pregunta dónde está el discurso\n",
      "REF:  el año pasado cuando estábamos dando los huesos del cuerpo humano en clase se me ocurrió hacer un juego de preguntas y respuestas que es este vídeo os voy a enseñar este juego que hice sobre los huesos del cuerpo humano para mi colegio cuando lo estábamos dando el año pasado en el que el cuerpo humano te pregunta dónde están sus huesos\n"
     ]
    },
    {
     "name": "stderr",
     "output_type": "stream",
     "text": [
      "  6%|▋         | 9/140 [00:18<03:42,  1.70s/it]"
     ]
    },
    {
     "name": "stdout",
     "output_type": "stream",
     "text": [
      "HYPO: aplausos y aquí me veis un chico callado un chico tímido un chico que me ha quedado un cinco años y sin ninguna fe en mí consiguió hacer el mismo trabajo a algunos periodistas con sus mejores capacidades de presión y público\n",
      "REF:  aplausos y aquí me veis un chico callado tímido introvertido que con 15 años y sin ninguna fe en sí mismo consiguió hacer el mismo trabajo que unos periodistas con su trabajo su titulación su sueldo y sus mejores capacidades de expresión en público\n",
      "HYPO: cuando no estamos frente a una noticia en los medios o frente a una historia que una persona como yo le cuenta desde un escenario como esta cuando estamos frente a alguien que conocemos y que nos eligió para confiarnos su historia lo que le pasó vamos a tener que escucharla\n",
      "REF:  ahora cuando no estamos frente a una noticia en los medios frente a una historia que alguien como yo les cuenta desde un escenario como este cuando estamos frente a alguien que conocemos y que nos eligió para confiarnos su historia lo que le pasó vamos a tener que escucharla\n"
     ]
    },
    {
     "name": "stderr",
     "output_type": "stream",
     "text": [
      "  7%|▋         | 10/140 [00:20<03:42,  1.71s/it]"
     ]
    },
    {
     "name": "stdout",
     "output_type": "stream",
     "text": [
      "HYPO: en este punto yo les pedía a mí no que en el mundo real la idea de quique de hacer tranquilidad que es un poquito menos no sé se llama segundo rey pablo de londres y la gran pizarra donde el secretario le pone la nota a cada protesta en el mundo real se llama agencia de calificación y a veces equivocan en caerando\n",
      "REF:  en este punto yo le expliqué a nina que en el mundo real la idea de quique de ofrecer tranquilidad sobre los papelitos de moncho se llama seguros de impago de deuda y la gran pizarra donde el secretario le pone una nota a cada proyecto en el mundo real se llama agencias de calificación que a veces se equivocan sin querer y a veces se equivocan queriendo\n",
      "HYPO: y entonces tomando unas copas de vino yo estaba impactado por las historias que me gustaban estos actos porque el equipo argentino de antropología afuera es una ong que trabaja sobre casos de violación de hechos y de malas noticias tratando de que esto fuera un crime\n",
      "REF:  y entonces tomando unas copas de vino yo estaba impactado por las historias que me contaban estos antropólogos porque el equipo argentino de antropología forense es una ong que trabaja sobre casos de violación de derechos humanos universales tratando de identificar gente\n"
     ]
    },
    {
     "name": "stderr",
     "output_type": "stream",
     "text": [
      "  8%|▊         | 11/140 [00:21<03:20,  1.55s/it]"
     ]
    },
    {
     "name": "stdout",
     "output_type": "stream",
     "text": [
      "HYPO: mantienen silencio porque últimamente saben que nadie ni todos nosotros ni su familia ni los terapeutas mucho menos la policía o los magistrados estamos dispuestos a escuchar lo que ana sí hizo en ese momento\n",
      "REF:  ana se mantiene en silencio porque íntimamente sabe que nadie ni todos nosotros ni su familia ni los terapeutas mucho menos la policía o los magistrados estamos dispuestos a escuchar lo que ana sí hizo en ese momento\n",
      "HYPO: más bien las escuché como asombradas y hasta un poco orgullosas de reconocer lo lúcidas que habían estado en ese momento lo atentas a cada detalle como si eso les permitiera tener algún control sobre lo que estaba pasando\n",
      "REF:  más bien las escuché como asombradas y hasta un poco orgullosas de reconocer lo lúcidas que habían estado en ese momento lo atentas a cada detalle como si eso les permitiera tener algún control sobre lo que estaba pasando\n"
     ]
    },
    {
     "name": "stderr",
     "output_type": "stream",
     "text": [
      "  9%|▊         | 12/140 [00:23<03:49,  1.79s/it]"
     ]
    },
    {
     "name": "stdout",
     "output_type": "stream",
     "text": [
      "HYPO: la mayoría de los países los códigos siguen pidiendo que la víctima para probar su inocencia digo bien la víctima para probar su inocencia presente en marcas en el cuerpo que atestiguen que ella sostuvo una lucha tenaz y constante con su agresor\n",
      "REF:  en la mayoría de los países los códigos siguen pidiendo que la víctima para probar su inocencia digo bien la víctima para probar su inocencia presente marcas en el cuerpo que atestigüen que ella sostuvo una lucha tenaz y constante con su agresor\n",
      "HYPO: cuando bajamos el volumen a todas esas cosas que no esperábamos escuchar y que no queremos escuchar como por ejemplo cuando ella le dice que él también le gustaba o cuando nos cuenta que le hablaba como si fuera la hermana mayor o que le pidió que la llevara a la casa\n",
      "REF:  y le bajamos el volumen a todas esas cosas que no esperábamos escuchar y que no queremos escuchar como por ejemplo cuando ella le dice que él también le gustaba o cuando nos cuenta que le hablaba como si fuera la hermana mayor o que le pidió que la llevara a la casa\n"
     ]
    },
    {
     "name": "stderr",
     "output_type": "stream",
     "text": [
      "  9%|▉         | 13/140 [00:25<04:02,  1.91s/it]"
     ]
    },
    {
     "name": "stdout",
     "output_type": "stream",
     "text": [
      "HYPO: los síntomas pueden incluir pesadillas flashbacks dificultad para condensar conversarse dificultad para dormir evitar costas y lugares y pensamientos negativos qué hace bien a la mente cuando os preguntan qué es la salud mental\n",
      "REF:  los síntomas pueden incluir pesadillas reviviscencias dificultad para concentrarse dificultad para dormir evitar cosas y lugares y pensamientos negativos qué os viene a la mente cuando os pregunto qué es la salud mental\n",
      "HYPO: llegó a córdoba un grupo de mujeres y hombres antropólogos antropólogos del equipo argentino de antropología forens que venían caminando por argentina sumando fosas buscando causas de muerte analizando esos lugares tratando de identificarlos y restituyéndose a la fábrica de la cárcel\n",
      "REF:  llegó a córdoba un grupo de mujeres y hombres antropólogos y antropólogas del equipo argentino de antropología forense que venían caminando por argentina exhumando fosas buscando causas de muerte analizando esos huesos tratando de identificarlos y restituirlos a las familias\n"
     ]
    },
    {
     "name": "stderr",
     "output_type": "stream",
     "text": [
      " 10%|█         | 14/140 [00:27<03:51,  1.84s/it]"
     ]
    },
    {
     "name": "stdout",
     "output_type": "stream",
     "text": [
      "HYPO: aplausos me divertí tanto programando y me ayudaba tanto y me ayudaba tanto para aprendérmelo que se lo dejaba en mi profesora y le pedí que podíamos ver un látigo que quería mostrar a todos\n",
      "REF:  aplausos me divertí tanto programándolo y me ayudaba tanto para aprendérmelo que se lo dije a mi profesora y le pedí si podíamos verlo en clase que quería mostrárselo a todos\n",
      "HYPO: pero el resto de esto que a mí me sirve muchísimo y que lo que estoy muy orgulloso creo que lo que más me gusta o lo que más me gusta con mi trabajo es escribo algo una noticia o una crítica o un reportaje o luego me llegan a pensar que mis compañeros y mis familiares también son familiares profesionales y felices\n",
      "REF:  pero lejos de todo esto que me sirve muchísimo y de lo que estoy orgulloso creo que lo que más me gusta con lo que más disfruto con mi trabajo es cuando escribo algo una noticia crítica o reportaje lo cuelgo y recibo mensajes de compañeros amigos familiares profesores que dicen felicidades\n"
     ]
    },
    {
     "name": "stderr",
     "output_type": "stream",
     "text": [
      " 11%|█         | 15/140 [00:29<03:40,  1.77s/it]"
     ]
    },
    {
     "name": "stdout",
     "output_type": "stream",
     "text": [
      "HYPO: la cena igual que la mayoría de todos nosotros también creía que la violación se parece más a un robo amando amada un tránsito violento que dura 45 minutos y no el chamullo de un joven agradable que dura toda una noche y que termina en un secuestro\n",
      "REF:  ana al igual que la mayoría de nosotros también creía que una violación se parece más a un robo a mano armada un trámite violento que dura 4 o 5 minutos y no al chamuyo de un joven agradable que dura toda una noche y que termina en un secuestro\n",
      "HYPO: y entonces yo le dije a mi hija que estuviera cuidada porque en el mundo real las historias de los peces que intentan averiguar las historias de los monchos que quieren ser aviados a la virgen y nadie los entiende son casi siempre tropeando que no suelen tener final feliz como los cuentos infantiles\n",
      "REF:  y entonces yo le dije a mi hija que tuviera cuidado porque en el mundo real las historias de los pepes que intentan abrir bares o las historias de los monchos que quieren hacer viajes a la luna y nadie los entiende son casi siempre proyectos que no suelen tener final feliz como en los cuentos infantiles\n"
     ]
    },
    {
     "name": "stderr",
     "output_type": "stream",
     "text": [
      " 11%|█▏        | 16/140 [00:31<03:46,  1.83s/it]"
     ]
    },
    {
     "name": "stdout",
     "output_type": "stream",
     "text": [
      "HYPO: y estaban volviendo a los tesoros estaban volviendo a los objetos y apareció un tipo de probata pelado que les dijo que siempre daba malas noticias fue el que baticinó el aerocená y ese día dijo uno tiene un momento se desplomó la bolsa y todo empezó\n",
      "REF:  y estábamos viendo el noticiero estábamos almorzando y viendo el noticiero y apareció un tipo de corbata pelado un periodista que siempre daba malas noticias fue el que vaticinó el tsunami y que se cayó un avión y ese día dijo último momento se desplomó la bolsa en todo el mundo\n",
      "HYPO: además se lo voy a pasar a los niños de un tiempo amigo a mi cole que están haciendo un programa sobre los datos sobre los planos de sistemas de la ley y seguro que con él se los aprenden todos y eso me hace sentir más feliz porque sé que mis juegos sirven para más cosas que para divertirme a mis hijos\n",
      "REF:  además se lo voy a pasar a los niños de 5 años de mi cole que están haciendo un programa sobre los planetas del sistema solar y seguro que con él se los aprenden todos y eso me hace sentir más feliz porque sé que mis juegos sirven para más cosas que para divertirme a mí solo\n",
      "HYPO: y al día siguiente cuando estábamos mirando de vuelta los dijeros y cuando volví a preguntar lo que hice fue contarle a mi tía que quiero compartir con uds le digo al de ella y al de ella que había una vea un pueblo muy transgénico y que había un muchacho que se llamaba pepe el palmo que vivía en la casa más al de allá del río\n",
      "REF:  y al día siguiente cuando estábamos mirando de vuelta el noticiero y me volvió a preguntar le conté una historia que quiero compartir con uds le dije a nina ese día que había una vez un pueblo muy tranquilo y que había un muchacho que se llamaba pepe el protagonista que vivía en la casa más alejada del pueblo\n"
     ]
    },
    {
     "name": "stderr",
     "output_type": "stream",
     "text": [
      " 12%|█▏        | 17/140 [00:32<03:31,  1.72s/it]"
     ]
    },
    {
     "name": "stdout",
     "output_type": "stream",
     "text": [
      "HYPO: y si nosotros activamos esa expresión de forma conjunta nos desarrolla un espacio para generar cosas primeramente impensables que son mestizcajes de expresiones y ahí se puede empezar a ver cómo se está ojando una convivencia intercultural\n",
      "REF:  y si nosotros activamos esa expresión de forma conjunta primero se desarrolla un espacio para generar cosas primeramente impensables que son mestizajes de expresiones donde ya se puede empezar a ver cómo se está forjando una competencia intercultural\n",
      "HYPO: en los casos de refugiados en alemania se ofrece clases de alemán gratuitas y uno podría pensar es natural pensar que estas personas debían estar contentos de poder recibir estos cursos de alemán y también que deberían estar agradecidos\n",
      "REF:  en los centros de refugiados en alemania se ofrecen clases de alemán gratuitas y uno podría pensar es natural pensar que estas personas deberían estar contentas de poder recibir estos cursos de alemán y también que deberían estar agradecidas\n",
      "HYPO: y más al norte del centroamérica el salvador y el de los otros sitios y aún más al norte de la médica uruguay donde se aparecen miles de migrantes todos los años de muchos países que atravesando motos quieren lograr dejar el sueño de la palia de córdoba\n",
      "REF:  y más al norte en centroamérica el salvador la guerra de los 80 y aún más al norte en el méxico actual donde desaparecen miles de migrantes todos los años de muchos países que atravesando méxico quieren lograr llegar al sueño del país del norte\n"
     ]
    },
    {
     "name": "stderr",
     "output_type": "stream",
     "text": [
      " 13%|█▎        | 18/140 [00:34<03:26,  1.69s/it]"
     ]
    },
    {
     "name": "stdout",
     "output_type": "stream",
     "text": [
      "HYPO: me contaron historias de todos los países y por uno de esas reuniones a los que se hizo a los que se vino nos dimos cuenta de que estaban en un escenario que se estaban incorporando una tecnología nueva a este proceso complejo de identificación de la identidad\n",
      "REF:  me contaron historias de todos los países pero ahí en esa reunión en ese asado con ese vino nos dimos cuenta que estaban en un escollo había un punto muerto necesitaban incorporar una tecnología nueva a este proceso complejo de la identificación y era la genética\n",
      "HYPO: se trataba de una placa llamada makey makey para conectarla con un cáncer ordenador que podía ser pinchado en las partes de la costa porque están funcionando en las pitas funciones gaseosas gaseosas fibras agua o gusanos tocandolos hasta que funcionaran programas de forma mágica\n",
      "REF:  se trataba de una placa llamada makey makey que al conectarla con un cable al ordenador podías ir pinchando más cables a cosas tan originales como gominolas plastilina frutas grafito de lápiz agua o tan solo tocándolos hacer que funcionaran programas y juegos de forma mágica\n",
      "HYPO: el mundo como sabéis se dividió entre papistas y epipapistas hasta que 1700 años después 1700 años después en 1999 tomaste el libro de nuestro serpapo y su tula saberes que lo mejor es usar este tigre\n",
      "REF:  el mundo como sabéis se dividió entre pappistas y antipappistas hasta que 1700 años después 1700 años después en 1999 thomas hales demostró que pappus y las abejas llevaban razón que lo mejor es usar hexágonos\n"
     ]
    },
    {
     "name": "stderr",
     "output_type": "stream",
     "text": [
      " 14%|█▎        | 19/140 [00:35<03:17,  1.64s/it]"
     ]
    },
    {
     "name": "stdout",
     "output_type": "stream",
     "text": [
      "HYPO: aplausos el proyecto tuvo muchísimo más éxito de lo que nos imaginábamos\n",
      "REF:  aplausos el proyecto tuvo muchísimo más éxito de lo que nos imaginábamos\n",
      "HYPO: pero todos sabemos que a nosotros los niños se nos damos un mejor comercio eso se apaga desde el demonio que ha muchos mayores quizá porque no tenemos mediatorias para experimentar con ellos a ver qué hay aquí cuando estemos peor con ellos y a que cuando estemos más empatizados con ellos\n",
      "REF:  pero todos sabemos que a nosotros los niños se nos da mucho mejor cómo decirlo esos aparatos del demonio que a muchos mayores quizá porque no tenemos miedo a toquetearlos a experimentar con ellos a ver qué hay aquí o a estropearlos ya que luego están los padres para arreglarlo todo\n",
      "HYPO: tuvo miedo de que a la persona que ella hubiera elegido para contarles le pasara lo mismo que nos pasa a todos y que es que surgen dudas y sospechas esas preguntas cada vez que se habla de un tema como este\n",
      "REF:  tuvo miedo de que a la persona que ella hubiera elegido para contarle le pasara lo mismo que nos pasa a todos y que es que surgen dudas y sospechas esas preguntas cada vez que se habla de un tema como este\n"
     ]
    },
    {
     "name": "stderr",
     "output_type": "stream",
     "text": [
      " 14%|█▍        | 20/140 [00:36<02:58,  1.48s/it]"
     ]
    },
    {
     "name": "stdout",
     "output_type": "stream",
     "text": [
      "HYPO: otros son esos vecinos que a muerto secuestran guerras narco violencias ataques terroristas accidentes naturales y otros no tan naturales\n",
      "REF:  otros son desaparecidos que han muerto secuestros guerras narcoviolencia ataques terroristas accidentes naturales y otros no tan naturales\n",
      "HYPO: cuando escuchamos o leemos una noticia así inmediatamente se nos representa una imagen el violador un depravado de clase baja la víctima una mujer joven atractiva\n",
      "REF:  cuando escuchamos o leemos una noticia así inmediatamente se nos representa una imagen el violador un depravado de clase baja la víctima una mujer joven atractiva\n",
      "HYPO: podría haber hablado con un amigo con una hermana muy difícilmente con la pareja el menor atijo de dura en su rostro o en su voz hubiera sido devastador para ella y probablemente el final de la relación\n",
      "REF:  podría haber hablado con una amiga con una hermana muy difícilmente con la pareja el menor atisbo de duda en su rostro o en su voz hubiera sido devastador para ella y probablemente el final de la relación\n"
     ]
    },
    {
     "name": "stderr",
     "output_type": "stream",
     "text": [
      " 15%|█▌        | 21/140 [00:38<02:55,  1.47s/it]"
     ]
    },
    {
     "name": "stdout",
     "output_type": "stream",
     "text": [
      "HYPO: y es así que cuando ana llegó a mí me dijo que no sabía si el testimonio de ella me iba a servir porque no estaba segura de que lo que le había pasado hubiera sido una violación\n",
      "REF:  tanto es así que cuando ana llegó a mí me dijo que no sabía si el testimonio de ella me iba a servir porque no estaba segura de que lo que le había pasado hubiera sido una violación\n",
      "HYPO: lo que yo quiero entrar en detalle es acerca del futuro político de ángel amer que el próximo me gustaría mencionar que ella para mí es una de las personas políticas de la autoridad que tiene una autoridad moral a pesar de sus errores de la que carece la mayoría de los políticos actuales\n",
      "REF:  no quiero entrar en detalles acerca del futuro político de angela merkel pero sí que me gustaría mencionar que ella para mí es una de las personas políticas en la actualidad que tiene una autoridad moral a pesar de sus errores de la que carece la mayoría de los políticos actuales\n",
      "HYPO: aplausos\n",
      "REF:  aplausos\n"
     ]
    },
    {
     "name": "stderr",
     "output_type": "stream",
     "text": [
      " 16%|█▌        | 22/140 [00:39<02:52,  1.46s/it]"
     ]
    },
    {
     "name": "stdout",
     "output_type": "stream",
     "text": [
      "HYPO: pero no solo en argentina porque en argentina producimos algunas identificaciones otras más del cementerio de san mcdc del centro de muerte de la perla la identificación de alguna de las madres de alguna de las madres que habían sido las armadas de la guerrilla\n",
      "REF:  pero no solo en argentina porque en argentina produjimos algunas identificaciones otras más del cementerio de san vicente del centro de tortura y muerte de la perla la identificación de algunas de las madres fundadoras de plaza de mayo que habían sido arrojadas al mar y que el mar las había devuelto\n",
      "HYPO: tú tienes que responder con el número que te das en 10 o en 1 o en 10 o respondes con el 10 que te correcto y dices yay pero si respondes mal risas y yo sí\n",
      "REF:  tú tienes que responder con el número correcto si es el 10 el 11 el 1 el 2 el 3 pues respondes con el 10 que es el correcto y te dice biennnn pero si respondes mal te dice ua ua ua\n",
      "HYPO: los sonidos no se han grabado yo y los he añadido al juego también y he hecho que haya ciertos fallos que aquí pongan los números de los aciertos y de los fallos y aquí puedo hacer competiciones con mis amigos para ver si esto es lo que nos va a pasar\n",
      "REF:  los sonidos los he grabado yo y los he añadido al juego también y he hecho que haya aciertos y fallos que aquí ponga los números de los aciertos y de los fallos para así poder hacer competiciones con mis amigos para ver quién se sabe mejor los huesos del cuerpo humano\n"
     ]
    },
    {
     "name": "stderr",
     "output_type": "stream",
     "text": [
      " 16%|█▋        | 23/140 [00:41<02:55,  1.50s/it]"
     ]
    },
    {
     "name": "stdout",
     "output_type": "stream",
     "text": [
      "HYPO: para más siempre las familias de estas chicas los padres los hermanos y otros familiares la sentiden que participen en estas actividades porque piensan que a lo mejor las van a dañar aún más\n",
      "REF:  para más inri las familias de estas chicas los padres los hermanos u otros familiares les impiden que participen en estas actividades porque piensan que a lo mejor les van a dañar aún más\n",
      "HYPO: al que en todo el mundo que no lo ha oído antes les sorprende que si uno cogiera una hoja de papel de 01 mm de rosor les hace utilizar movimientos lo suficiente de interramblarla y la pudiera doblar 50 veces el rosor de ese montón ocuparía la distancia de la tierra al sol\n",
      "REF:  a casi todo el mundo que no lo ha oído antes le sorprende que si uno cogiera una hoja de papel de 01 mm de grosor esas que utilizamos normalmente lo suficientemente grande y la pudiera doblar 50 veces el grosor de ese montón ocuparía la distancia de la tierra al sol\n",
      "HYPO: aplausos el cine me ha abierto muchas más fuertes de las que ya no he invertido en un principio pensable\n",
      "REF:  aplausos el cine me ha abierto muchas más puertas de las que pensaba\n"
     ]
    },
    {
     "name": "stderr",
     "output_type": "stream",
     "text": [
      " 17%|█▋        | 24/140 [00:42<02:57,  1.53s/it]"
     ]
    },
    {
     "name": "stdout",
     "output_type": "stream",
     "text": [
      "HYPO: aplausos y no olvidéis nunca de creer siempre que no hay nada imposible todos depende de nuestro esfuerzo y van a superarlo y aunque seremos muy pequeños también tenemos muchas cosas que enseñar a los demás\n",
      "REF:  aplausos y no olvidéis nunca y creed siempre que no hay nada imposible todo depende de nuestro esfuerzo y ganas de superarnos y aunque seamos muy pequeños también tenemos muchas cosas que enseñar a los demás\n",
      "HYPO: algunos papelitos eran muy deseados por ejemplo los de pepe que trabajaba día y noche en la congresión de su barrio pero a otros papelitos no querían nada por ejemplo los de monzo porque su artefacto para ser viajes al alumno por el momento solamente costaba de dos cabas a uno de la mano\n",
      "REF:  algunos papelitos eran muy deseados por ejemplo los de pepe que trabajaba día y noche en la concreción de su bar pero a otros papelitos no los quería nadie por ejemplo los de moncho porque su artefacto para hacer viajes a la luna por el momento solamente constaba de dos caballos y un carro\n",
      "HYPO: risas aplausos y no es lo que nosotros hemos enseñado los 4 personas del equipo sino lo que nos ha enseñado las chicas\n",
      "REF:  aplausos y no es lo que nosotros hemos enseñado las cuatro personas del equipo sino lo que nos han enseñado las chicas\n"
     ]
    },
    {
     "name": "stderr",
     "output_type": "stream",
     "text": [
      " 18%|█▊        | 25/140 [00:44<03:07,  1.63s/it]"
     ]
    },
    {
     "name": "stdout",
     "output_type": "stream",
     "text": [
      "HYPO: en el sueco se puede creer en mí y aunque no todos somos expertos psicólogos ni psiquiatras todos tenemos el poder de marcar la diferencia en la vida real y jugamos un papel crítico en hacer yo una mujer\n",
      "REF:  el suicidio se puede prevenir y aunque no todos somos expertos psicólogos ni psiquiatras todos tenemos el poder de marcar la diferencia en la vida de alguien y jugamos un papel crítico en la creación de cambios\n",
      "HYPO: bob kane el de los grados kibbit ese dijo que lo mejor era usar un octa euro de truncato risas que como todos sabéis es esto de aquí\n",
      "REF:  lord kelvin el de los grados kelvin y todo eso ese dijo que lo mejor era usar un octaedro truncado risas que como todos sabéis risas es esto de aquí\n",
      "HYPO: risas aplausos música\n",
      "REF:  risas aplausos ponte por ahí tú coge este y tú coge este\n"
     ]
    },
    {
     "name": "stderr",
     "output_type": "stream",
     "text": [
      " 19%|█▊        | 26/140 [00:46<02:54,  1.53s/it]"
     ]
    },
    {
     "name": "stdout",
     "output_type": "stream",
     "text": [
      "HYPO: en el siglo xx en vez de mostrar las verdaderas causales de aquella gripe se distorsionó la realidad y el bicho estuvo fuera de control\n",
      "REF:  en el siglo xx en vez de mostrar las verdaderas causales de aquella gripe se distorsionó la realidad y el bicho estuvo fuera de control\n",
      "HYPO: el trastorno de estrés matemático es un trastorno mental que puede desarrollarse después de expresar o presenciar eventos que ponen en peligro la vida como la guerra accidentes agresiones o desastres naturales\n",
      "REF:  el trastorno de estrés postraumático es un trastorno mental que puede desarrollarse luego de experimentar o presenciar eventos que ponen en peligro la vida como la guerra accidentes agresiones o desastres naturales\n",
      "HYPO: en los 80 yo venía trabajando en hospitales clínicas en la genética de los trastornos buscando la máxima compatibilidad científica con la de las testas de los ríos previsibles al estacionamiento\n",
      "REF:  en los 80 yo venía trabajando en el hospital de clínicas en la genética de los trasplantes buscando la máxima compatibilidad genética entre donantes y receptores de órganos para evitar el rechazo del injerto\n"
     ]
    },
    {
     "name": "stderr",
     "output_type": "stream",
     "text": [
      " 19%|█▉        | 27/140 [00:47<02:44,  1.45s/it]"
     ]
    },
    {
     "name": "stdout",
     "output_type": "stream",
     "text": [
      "HYPO: como sabéis se dividió entre que el feminista es diante y que el feminista hasta que ciento y pico años después ciento y pico años después alguien nos contó una estructura mejor\n",
      "REF:  el mundo como sabéis se dividió entre kelvinistas y antikelvinistas risas hasta que ciento y pico años después ciento y pico años después alguien encontró una estructura mejor\n",
      "HYPO: desde hace cuatro años vivo en colonia en alemania y para mí también es un factor clave el aprendizaje en la lengua para poder se integrar pero no solamente para los refugiados es un factor clave sino para todos los inmigrantes en general\n",
      "REF:  desde hace cuatro años vivo en colonia en alemania y para mí también es un factor clave el aprendizaje de la lengua para poderse integrar pero no solo para los refugiados es un factor clave sino para todos los inmigrantes en general\n",
      "HYPO: pero nos queréis ahí enseñáros el mundo mandándola web para que cada vez seamos más los que nos sentemos no solo jugando con nuestra piel sino que los niños también podemos decir cómo queremos que esté en esa tarea de los niños\n",
      "REF:  pero no os quedéis ahí enseñádselo al mundo mandadlo a la web para que cada vez seamos más los que disfrutemos no solo jugando sino también sabiendo que nosotros los niños también podemos decidir cómo queremos que estén hechas las cosas\n"
     ]
    },
    {
     "name": "stderr",
     "output_type": "stream",
     "text": [
      " 20%|██        | 28/140 [00:49<02:58,  1.59s/it]"
     ]
    },
    {
     "name": "stdout",
     "output_type": "stream",
     "text": [
      "HYPO: es una comunidad pública y abierta de muchas necesidades a la que podemos pertenecer y no le podemos escanclar nuestros programas con escargados programas de aéreos para jugar con ellos ver cómo los han hecho modificarlos o mejorarlos\n",
      "REF:  es una comunidad pública y abierta a nivel mundial a la que podemos pertenecer y donde podemos publicar nuestros programas o descargar los programas ya hechos para jugar con ellos ver cómo los han hecho modificarlos o mejorarlos\n",
      "HYPO: someten a la penetración porque aunque no puedan crearlo la penetración es lo que más lejos las mantiene de una escena sexual o afectiva\n",
      "REF:  se someten a la penetración porque aunque no puedan creerlo la penetración es lo que más lejos las mantiene de una escena sexual o afectiva\n",
      "HYPO: en esos capítulos estaba livenger sparenzani gok o kosh pasillo buster hombres que con microscopio rudimentario buscaban derrotar al enemigo invisible\n",
      "REF:  en sus capítulos estaban leeuwenhoek spallanzani koch el del bacilo pasteur hombres que con microscopios rudimentarios buscaban derrotar al enemigo invisible\n"
     ]
    },
    {
     "name": "stderr",
     "output_type": "stream",
     "text": [
      " 21%|██        | 29/140 [00:50<02:38,  1.43s/it]"
     ]
    },
    {
     "name": "stdout",
     "output_type": "stream",
     "text": [
      "HYPO: tanto los argumentos que nos sirven para culpabilizar como para victimizar los tenemos todos todos en la cabeza muy amados incluidos víctimas y victimarios\n",
      "REF:  tanto los argumentos que nos sirven para culpabilizar como para victimizar los tenemos todos todos en la cabeza muy a mano incluidos víctimas y victimarios\n",
      "HYPO: y ahí son wade y fela en encontrar una esta cosita de esta estructura a la que pusieron el imaginativo nombre de la estructura de wade y fela risas para\n",
      "REF:  weaire y phelan weaire y phelan encontraron esta cosita de aquí risas esta estructura a la que pusieron el imaginativo nombre de estructura de weaire y phelan\n",
      "HYPO: es más a que se construyan los significados lo que genera una sensación de mestizaje una sensación de crear vínculos unos desarrollos interculturales que van más allá de las etiquetas\n",
      "REF:  y es en esa construcción de significado lo que genera una sensación de mestizaje una sensación de crear vínculos unos desarrollos interculturales que van más allá de las etiquetas\n"
     ]
    },
    {
     "name": "stderr",
     "output_type": "stream",
     "text": [
      " 21%|██▏       | 30/140 [00:51<02:33,  1.40s/it]"
     ]
    },
    {
     "name": "stdout",
     "output_type": "stream",
     "text": [
      "HYPO: hoy he traído aquí algunos de esos instrumentos que yo pierdo hoy gracias a mi colegio por dejarme los palestinos porque además a mí lo que me hacía sentir podía ser un poco de imaginación son unos cables y unos ordenadores\n",
      "REF:  hoy he traído aquí algunos de esos instrumentos que por cierto doy gracias a mi colegio por dejármelos para enseñaros un poco de esa magia y lo que cualquier niño podría hacer con un poco de imaginación unos cables y un ordenador\n",
      "HYPO: una de las grandes enseñanzas de aquella oportunidad fue que vamos a tener que mantenernos en guardia a un después de que pase la tormenta\n",
      "REF:  otra de las grandes enseñanzas en aquella oportunidad fue que vamos a tener que mantenernos en guardia aún después de que pase la tormenta\n",
      "HYPO: el 30 de noviembre las matemáticas es verdad que no tienen por qué servir para nada es verdad que son un edificio en principio son edificios elógicos probablemente uno de los mayores opuestos productivos que el ser humano ha hecho hablar durante el tiempo\n",
      "REF:  bueno querido 7631 las matemáticas es verdad que no tienen por qué servir para nada es verdad que son un edificio precioso un edificio lógico probablemente uno de los mayores esfuerzos colectivos que el ser humano ha hecho a lo largo de la historia\n"
     ]
    },
    {
     "name": "stderr",
     "output_type": "stream",
     "text": [
      " 22%|██▏       | 31/140 [00:53<02:42,  1.49s/it]"
     ]
    },
    {
     "name": "stdout",
     "output_type": "stream",
     "text": [
      "HYPO: en el siglo xxi en vez de ocuparse de las ratas y de la falta de género se sostenía que el estilo de vida pecaminoso de muchos había desatado la llena de vidas\n",
      "REF:  en el siglo xiv en vez de ocuparse de las ratas y de la falta de higiene se sostenía que el estilo de vida pecaminoso de muchos había desatado la ira divina\n",
      "HYPO: ahora estoy preparando este juego sobre el espaciotiempo y voy a enseñar este juego hecho sobre los plantas que se han basado en el video en el que se nos ha hablado con la cabeza los planetas o la mente\n",
      "REF:  ahora estoy preparando este juego sobre el espacio vídeo os voy a enseñar este juego que he hecho sobre los planetas del sistema solar con el sensor de vídeo en el que tú tienes que dar con la cabeza a los planetas para que no caigan al mar\n",
      "HYPO: porque todos tenemos una identidad que tenemos una individualidad que es libido afectiva de familia cultural de grupo de país pero también tenemos una identidad que es negativa\n",
      "REF:  porque todos tenemos una identidad tenemos una individualidad una identidad de individuo afectiva de familia cultural de grupo de país pero también tenemos una identidad genética\n"
     ]
    },
    {
     "name": "stderr",
     "output_type": "stream",
     "text": [
      " 23%|██▎       | 32/140 [00:55<02:48,  1.56s/it]"
     ]
    },
    {
     "name": "stdout",
     "output_type": "stream",
     "text": [
      "HYPO: pepe se sintió muy bien con la atención de todos y entonces mostró en avalitos los mil papelitos recorzados y dijo esto es importante y dijo pepe cada uno de estos mil papelitos puede ser más que un avalito\n",
      "REF:  pepe se sintió muy bien con la atención de todos y entonces mostró en abanico los 1000 papelitos recortados y dijo esto es importante nina le dije yo dijo pepe cada uno de estos 1000 papelitos cuesta 10 monedas\n",
      "HYPO: en el curso tanto a niños y a profesores que este año hemos fundado el club de programación el parano de finanzas donde ya somos miles de niños los que nos dedicamos y programamos programas individualmente con equipo\n",
      "REF:  les gustó tanto a niños y a profesores que este año hemos fundado el club de programación el páramo de villanubla donde ya somos 26 niños los que disfrutamos y programamos programas individualmente o en equipo\n",
      "HYPO: risas si queréis decirle a alguien que le queréis para siempre risas no me podréis negar a un diamante pero si queréis decir que le queréis para siempre regalad un teorema\n",
      "REF:  así que bueno si queréis decirle a alguien que le queréis para siempre risas le podéis regalar un diamante pero si le queréis decir que le queréis para siempre siempre regaladle un teorema\n"
     ]
    },
    {
     "name": "stderr",
     "output_type": "stream",
     "text": [
      " 24%|██▎       | 33/140 [00:57<03:09,  1.77s/it]"
     ]
    },
    {
     "name": "stdout",
     "output_type": "stream",
     "text": [
      "HYPO: por eso les digo si la palabra es movimiento y en mi cuerpo existe el riso de que los cuchos saben\n",
      "REF:  por eso les pido si la palabra es movimiento y en mi cuerpo existe el ritmo que no escucho saben\n",
      "HYPO: risas porque esto sí que tiene la oportunidad y aunque pase en cientos y cinco años aunque sea dentro de 1700 años alguien demuestre que esta es la mejor pérdida posible\n",
      "REF:  pero cuidado porque esta sí que tiene la oportunidad de que aunque pasen ciento y pico años aunque sea dentro de 1700 años alguien demuestra que esta es la mejor pieza posible\n",
      "HYPO: la mundo y yo también decíamos a sus papaditos por mí me decían que si yo les había dejado de darme a mis otros hijos a ellas y a los demás decimos miren que aquella era una nueva forma de ser negocio aunque nunca en la vida se les hubiera ocurrido un día de verdad\n",
      "REF:  ramón y luis también vendieron sus papelitos por menos de 10 monedas y mientras uno corría a comprar cigarros y el otro se iba al cine los demás vecinos vieron que aquella era una nueva forma de hacer negocios aunque nunca en la vida se les hubiera ocurrido una idea de verdad\n"
     ]
    },
    {
     "name": "stderr",
     "output_type": "stream",
     "text": [
      " 24%|██▍       | 34/140 [00:58<02:50,  1.61s/it]"
     ]
    },
    {
     "name": "stdout",
     "output_type": "stream",
     "text": [
      "HYPO: de hecho la prensa nos destacó como proyecto ejemplar para con restar las tendencias xenófobas que tristemente cada vez son más no solamente en alemania sino en toda europa\n",
      "REF:  de hecho la prensa nos destacó como proyecto ejemplar para contrarrestar las tendencias xenófobas que tristemente cada vez son más no solamente en alemania sino en toda europa\n",
      "HYPO: siempre intentamos poner en nuestras partidas estas acaban antes de ver esos generaciones que se ha por pasar al siguiente que vemos en una situación apropiante a la tierra\n",
      "REF:  siempre intentamos ganarnos unas partidas extras acabando antes los deberes ordenando nuestra habitación lo que sea por pasar al siguiente nivel o superar nuestra puntuación anterior\n",
      "HYPO: las quejas fueron tratadas nosotros hasta que esa villa era chica levantó su papelito y dijo a ver mi cacho dentro de tres semanas qué te llevará a ver dos en cero al teledirante que es papelito que va a comer a alguien\n",
      "REF:  las quejas fueron cada vez mayores hasta que sabino que era astuto levantó su papelito y dijo a ver muchachos dentro de tres semanas pepe le va a pagar 12 monedas al que le devuelva este papelito que yo compré a 10\n"
     ]
    },
    {
     "name": "stderr",
     "output_type": "stream",
     "text": [
      " 25%|██▌       | 35/140 [01:00<03:05,  1.76s/it]"
     ]
    },
    {
     "name": "stdout",
     "output_type": "stream",
     "text": [
      "HYPO: y es que actualmente en esta comunidad hay más de 10 000 programas compartidos que hay apartamento de niños como tal niños y profesores de colegios y institutos universidades\n",
      "REF:  y es que actualmente en esta comunidad hay más de 10 000 programas compartidos y a ella pertenecemos niños no tan niños y profesores de colegios institutos y universidades\n",
      "HYPO: es una de estas matemáticas que te dicen que esta pregunta no tiene sentido porque las matemáticas tienen un futuro propio es un paso muy difícil de quítir porque es una lógica propia y no es posible y que no hace falta que uno esté siempre mirando las posibilidades de la tecnología\n",
      "REF:  los del ataque son matemáticos que te dicen que esa pregunta no tiene sentido porque las matemáticas tienen un sentido propio en sí mismas son un edificio bellísimo que tiene una lógica propia que se construye y que no hace falta que uno esté siempre mirando las posibles aplicaciones\n",
      "HYPO: aplausos pero os hayáis gustado el todo lo que os he contado\n",
      "REF:  risas aplausos espero que os haya gustado todo lo que os he contado\n"
     ]
    },
    {
     "name": "stderr",
     "output_type": "stream",
     "text": [
      " 26%|██▌       | 36/140 [01:02<02:50,  1.64s/it]"
     ]
    },
    {
     "name": "stdout",
     "output_type": "stream",
     "text": [
      "HYPO: el juego de cada uno de los hermanos de los papeles armados de una engaña los que estaban en los campos de ropa o los peces de los soldats pero el viernes le explique que es que un bielorrador es un cuidado\n",
      "REF:  el jueves de la segunda semana los fajos de ernesto tuvieron un gran éxito entre los vecinos que buscaban como locos papelitos de pepe o del alcalde pero el viernes quique descubrió el truco y dijo cuidado vecinos cuidado\n",
      "HYPO: empezó a ofrecer lo que tenían e incluso el cura de carlos se gode en el que se atliste y dijo amigos el día que moncho puso a la venta su papelito ojo que soy cristiano reconocemos juanito con todos los puntos\n",
      "REF:  empezaron a ofrecer lo que tenían e incluso el cura ricardo llegó de la iglesia triste y dijo amigos el día que moncho puso a la venta sus papelitos yo que soy cristiano le compré unos cuantos porque es tonto\n",
      "HYPO: pero cuando hay uno de estos proyectos sí funcionan y esto es porque cuando estos proyectos funcionan cuando algo mágico pasa y funciona se llama el sueño les suelen ser maravillosos\n",
      "REF:  pero cuando alguno de estos proyectos sí funciona le dije a mi hija para terminar cuando estos proyectos funcionan cuando algo mágico pasa y funcionan se llaman sueños y suelen ser maravillosos\n"
     ]
    },
    {
     "name": "stderr",
     "output_type": "stream",
     "text": [
      " 26%|██▋       | 37/140 [01:03<02:41,  1.57s/it]"
     ]
    },
    {
     "name": "stdout",
     "output_type": "stream",
     "text": [
      "HYPO: si hablamos de cólera la viruela la peste negra la agrícola universal también podríamos agregar la fibra marilla de 1871 que asotó a las ciudades de corrientes y de buenos aires\n",
      "REF:  hablamos del cólera la viruela la peste negra la gripe universal y también podríamos agregar la fiebre amarilla de 1871 que azotó a las ciudades de corrientes y de buenos aires\n",
      "HYPO: un país española que comenzó en estados unidos con soldados norteamericanos preparándose para el final de la primera guerra mundial y que contagieron a las poblaciones de los puertos de francia donde se marcaban\n",
      "REF:  gripe española que comenzó en ee uu con soldados norteamericanos preparándose para ir al final de la primera guerra mundial y que contagiaron a las poblaciones de los puertos de francia donde se embarcaban\n",
      "HYPO: lo expliqué que los pasos de armenchón reciben el nombre de obligación de edad de euro mientras que la casa de quijote al lugar a donde van los vecinos para que se confían en uno en los factos de armenchón se llaman panza de inversión\n",
      "REF:  le expliqué que los fajos de ernesto reciben el nombre de obligaciones de deuda mientras que la casa de quique el lugar a donde van los vecinos para saber si confían o no en los fajos de ernesto se llama banca de inversión\n"
     ]
    },
    {
     "name": "stderr",
     "output_type": "stream",
     "text": [
      " 27%|██▋       | 38/140 [01:05<02:56,  1.73s/it]"
     ]
    },
    {
     "name": "stdout",
     "output_type": "stream",
     "text": [
      "HYPO: dictimización porque para poder creer que es inocente que es una víctima necesitamos pensarlas inérmes paralizadas mudas\n",
      "REF:  victimización porque para poder creer que es inocente y que es una víctima necesitamos pensarlas inermes paralizadas mudas\n",
      "HYPO: por eso mi proyecto está en creative commons desde este escenario de tedxvelolyx de sincronia a todos los que quieran participar ponér en marcha su propio proyecto que lo hagan\n",
      "REF:  por eso el proyecto está en creative commons y desde este escenario desde tedxvalladolid les invito a todos los que quieran participar y poner en marcha su propio proyecto que lo hagan\n",
      "HYPO: y subimos el volumen a todas esas cosas de la historia que esperábamos escuchar el revolver en la guantera las puertas grabadas el aislamiento del lugar\n",
      "REF:  le subimos el volumen a todas esas cosas de la historia que esperábamos escuchar el revólver en la guantera las puertas trabadas el aislamiento del lugar\n",
      "HYPO: es un cine de autor cine independiente de bajo presupuesto de de la edad justa lejos de los arquetísimos del cine de los estados unidos en los países tan raros y tematográficamente el ramón puede ser autista para escenografía o filipinas\n",
      "REF:  es un cine de autor cine independiente de bajo presupuesto de denuncia social lejos de los arquetipos del cine de los ee uu cine de países tan raros cinematográficamente como turquía palestina o filipinas\n"
     ]
    },
    {
     "name": "stderr",
     "output_type": "stream",
     "text": [
      " 28%|██▊       | 39/140 [01:07<02:57,  1.75s/it]"
     ]
    },
    {
     "name": "stdout",
     "output_type": "stream",
     "text": [
      "HYPO: las mujeres van a seguir sin poder hablar y vamos a seguir siendo todos responsables de ese silencio y de su sonrisa\n",
      "REF:  las mujeres van a seguir sin poder hablar y vamos a seguir siendo todos responsables de ese silencio y de su soledad\n",
      "HYPO: los niños y los profes se encargarían de hacer los estudios de cartón en el que me maestra mientras yo tenía casi 2 programas necesarios para que su instrumento pudiera dar vida y sonar antes de la aula\n",
      "REF:  los niños y sus profes se encargarían de hacer los instrumentos de cartón y goma eva mientras yo tenía que hacer los programas necesarios para que esos instrumentos cobraran vida y sonaran de verdad\n",
      "HYPO: por ejemplo había 10 papelitos del mar de pepo y arriba 20 papelitos de la heladería de orazzo medio y 70 papelitos del proyecto lunares de mollo abajo sin que nadie llegara\n",
      "REF:  por ejemplo había 10 papelitos del bar de pepe arriba 20 papelitos de la heladería de horacio al medio y 70 papelitos del proyecto lunar de moncho abajo sin que nadie los viera\n",
      "HYPO: cuando sintió miedo a que la maten sintió miedo a que le dejen marcas y tuvo que entregar su cuerpo para evitarlo ahí supon que la violación era otra cosa\n",
      "REF:  cuando sintió miedo a que la maten sintió miedo a que le dejen marcas y tuvo que entregar su cuerpo para evitarlo ahí supo que la violación era otra cosa\n"
     ]
    },
    {
     "name": "stderr",
     "output_type": "stream",
     "text": [
      " 29%|██▊       | 40/140 [01:08<02:45,  1.66s/it]"
     ]
    },
    {
     "name": "stdout",
     "output_type": "stream",
     "text": [
      "HYPO: sus pone que le piden que pague o que se vaya piensen los chicos piensen su trabajo piensen en la pareja que la abandonó la abra y leis\n",
      "REF:  supone que le piden que pague o que se vaya y piensa en los chicos piensa en su trabajo piensa en la pareja que la abandonó la abre y lee\n",
      "HYPO: y qué creemos porque cuando una mujer cuenta lo que le pasó dice cosas que no nos imaginamos que nos perturban que no esperamos escuchar que nos asombren\n",
      "REF:  no les creemos porque cuando una mujer cuenta lo que le pasó dice cosas que no imaginamos que nos perturban que no esperamos escuchar que nos asombran\n",
      "HYPO: pero si mi amiga no se hubiese arriesgado a preguntarnos qué tal estamos a lo mejor yo no hubiese hablado al mismo tiempo\n",
      "REF:  pero si mi amiga no se hubiese arriesgado a preguntarme que tal estaba a lo mejor yo no habría hablado nunca\n",
      "HYPO: de todas maneras para ellas esto no es lo determinante para aprender alemán para tener sueños para estar motivadas para querer realmente participar en esta nueva sociedad\n",
      "REF:  de todas maneras para ellas esto no es lo determinante para aprender alemán para tener sueños para estar motivadas para querer realmente participar en esta nueva sociedad\n"
     ]
    },
    {
     "name": "stderr",
     "output_type": "stream",
     "text": [
      " 29%|██▉       | 41/140 [01:10<02:48,  1.70s/it]"
     ]
    },
    {
     "name": "stdout",
     "output_type": "stream",
     "text": [
      "HYPO: y me viene a mitad porque el hecho ocurre en el seno mismo de la familia o con alguien conocido y eso lo hace mucho más difícil de vivir y de contar\n",
      "REF:  una mitad porque el hecho ocurre en el seno mismo de la familia o con alguien conocido y eso lo hace mucho más difícil de vivir y de contar\n",
      "HYPO: un día luciano y siempre el tesoro jugara a sus ojos pudiera crear mis propias pantallas los mamás los peces peruetas vidas estras\n",
      "REF:  un día pensé y si en vez de solo jugar a esos juegos pudiera crear mis propias pantallas héroes y malos golpes y piruetas vidas extras\n",
      "HYPO: y os aseguro que eso se va a quedar para mí para siempre porque aunque no estudiara aunque no comiera prácticamente aunque no comiera aprendí que se va a quedar para mí para siempre\n",
      "REF:  y os aseguro que eso quedará siempre aunque no estudiara aunque no comiera prácticamente aunque no durmiera aprendí y se va a quedar para mí para siempre\n",
      "HYPO: y el domingo después de miisa se fue a la plaza del pueblo vestido con su mejor fracaso y le dije a todos los vecinos que quieren estar acá queridos vecinos voy a abrir un banco en la familia de los vecinos\n",
      "REF:  y el domingo después de misa se fue a la plaza del pueblo vestido con su mejor traje y le dijo a todos los vecinos en la plaza queridos vecinos voy a abrir un bar en las afueras del pueblo\n"
     ]
    },
    {
     "name": "stderr",
     "output_type": "stream",
     "text": [
      " 30%|███       | 42/140 [01:12<02:42,  1.66s/it]"
     ]
    },
    {
     "name": "stdout",
     "output_type": "stream",
     "text": [
      "HYPO: hasta que no son ciertamente preguntas son admiens juicios y juicios que terminan en una sentencia ella se la buscó\n",
      "REF:  preguntas que no son ciertamente preguntas son más bien juicios y juicios que terminan en una sentencia ella se la buscó\n",
      "HYPO: el empujar de identidad es el comienzo de una serie de inmersiones de acuerdo a la cultura al contexto a las circunstancias que se repitan a lo largo de la historia de la humanidad\n",
      "REF:  despojar de identidad es el comienzo de una serie de humillaciones de acuerdo a la cultura al contexto a las circunstancias que se repite a lo largo de la historia de la humanidad\n",
      "HYPO: las etiquetas lo que hacen es generar estereotipos es generar prejuicios que no dan cuenta de la riqueza tan grande que somos cada uno de nosotros o que tenemos cada uno de nosotros\n",
      "REF:  las etiquetas lo único que hacen es generar estereotipos y generar prejuicios que no dan cuenta de la riqueza tan grande que somos cada uno de nosotros o que tenemos cada uno de nosotros\n",
      "HYPO: en este tiempo que he nacido prácticamente un año mi habilidad para sobrevivir y mi habilidad para expresar un huyó y mi guiate por si ingenuos me ofrecien por el cine ha llegado un meditón y me he ido medicando a pasos en gigantes de los muñequitos\n",
      "REF:  en este tiempo casi un año mi habilidad para escribir para expresarme y mi enorme afición por el cine han ido aumentando y aumentando a pasos agigantados\n"
     ]
    },
    {
     "name": "stderr",
     "output_type": "stream",
     "text": [
      " 31%|███       | 43/140 [01:13<02:23,  1.48s/it]"
     ]
    },
    {
     "name": "stdout",
     "output_type": "stream",
     "text": [
      "HYPO: nadie sabía que mi razón para entrar en este sitio fue ser encontrar un lugar donde llorar donde nadie me preguntara por qué\n",
      "REF:  nadie sabía que mi razón para entrar en este sitio fuese encontrar un lugar donde llorar donde nadie me preguntara el porqué\n",
      "HYPO: y aunque me veía a mí misma como alguien que tenía todo bajo control en lo más profundo de mi interior me estaba desmoronando\n",
      "REF:  y aunque me veía a mí misma como alguien que tenía todo bajo control en lo más profundo de mi interior me estaba desmoronando\n",
      "HYPO: también esta comisión se puede dar cuando eres adulto porque tienes un ictus o porque tienes un accidente o porque tienes una enfermedad neurodegenerativa como es el parkinson\n",
      "REF:  también esta condición se pueda dar cuando ya eres adulto porque tienes un ictus o porque tienes un accidente o porque sufres una enfermedad neurodegenerativa como es el párkinson\n",
      "HYPO: tengo una hija que tiene 3 años se venía en el 2012 cuando fue el colapso financiero en la que hacían todas las voces del mundo todo eso tenía 5 menos que ahora tendría 8 9 alicia\n",
      "REF:  tengo una hija que tiene 13 años pero en el 2012 cuando fue el colapso financiero que se cayeron todas las bolsas del mundo y todo eso tenía cinco menos que ahora tendría ocho nueve años\n"
     ]
    },
    {
     "name": "stderr",
     "output_type": "stream",
     "text": [
      " 31%|███▏      | 44/140 [01:14<02:11,  1.37s/it]"
     ]
    },
    {
     "name": "stdout",
     "output_type": "stream",
     "text": [
      "HYPO: me descubrí en todos los que sin caballos nadie iba a poder ir nunca a jugar en la cultura del pueblo y en definitiva nadie jamás podría devolver las víctimas de nela a sirenas\n",
      "REF:  pepe descubrió entonces que sin caballo nadie iba a poder ir nunca a su bar en las afueras del pueblo y entendió también que jamás podría devolver las 10 000 monedas a nadie\n",
      "HYPO: se someten a la penetración porque la penetración duele menos que los besos las caricias y las palabras suaves\n",
      "REF:  se someten a la penetración porque la penetración duele menos que los besos las caricias las palabras suaves\n",
      "HYPO: el vocabulario en un núcleo son las palabras que se repiten más en la lengua espontánea y esto sucede no solamente en alemán sino también en español en catalan en pasco en inglés etc\n",
      "REF:  el vocabulario núcleo son las palabras que se repiten más en la lengua espontánea y esto sucede no solamente en alemán sino también en español en catalán en vasco en inglés etc\n",
      "HYPO: no escuché a ninguna hablar de simenna como que hubiera quedado reducida a una cosa sonejera totalmente la voluntad del otro\n",
      "REF:  y no escuché a ninguna hablar de sí misma como que hubiera quedado reducida a una cosa sometida totalmente a la voluntad del otro\n"
     ]
    },
    {
     "name": "stderr",
     "output_type": "stream",
     "text": [
      " 32%|███▏      | 45/140 [01:15<02:01,  1.28s/it]"
     ]
    },
    {
     "name": "stdout",
     "output_type": "stream",
     "text": [
      "HYPO: de reto a romper la barrera entre los que están luchando y los que no lo están porque nadie tiene que sentirse a ver los datos del noes que vengan\n",
      "REF:  te reto a romper la barrera entre los que están luchando y los que no lo están porque nadie tiene que sentirse avergonzado de no estar bien\n",
      "HYPO: recuerdo que en ese momento nos planteamos intentemos de la fosa de san vicente con el resto peor pecerito más de tejido de algo más de tejido de algo\n",
      "REF:  recuerdo que en ese momento nos planteamos intentemos con el resto peor preservado de la fosa de san vicente con el resto más degradado más deteriorado\n",
      "HYPO: a ver a quién tú me han resucitado anda se suena el ruido\n",
      "REF:  a ver a qué instrumento suenas ruido anda tú suenas a un ruido\n",
      "HYPO: y es verdad que allá donde los científicos y donde los técnicos andan buscando teoría matemáticas modernos que les permitan avanzar ahí está en el edificio de las matemáticas que lo permean todos\n",
      "REF:  pero también es verdad que allá donde los científicos donde los técnicos andan buscando teorías matemáticas modelos que les permitan avanzar ahí están en el edificio de las matemáticas que lo permean todo\n"
     ]
    },
    {
     "name": "stderr",
     "output_type": "stream",
     "text": [
      " 33%|███▎      | 46/140 [01:16<01:53,  1.21s/it]"
     ]
    },
    {
     "name": "stdout",
     "output_type": "stream",
     "text": [
      "HYPO: risas hay un 08 que son su prima tu novia y su madre risas que saben que trabajan en algo raro pero no se recordaban en qué risas y hay un 1 que sigue la conversación\n",
      "REF:  risas hay un 08 que son tu prima tu novia y tu madre risas que saben que trabajas en algo raro pero no se acordaban en qué risas y hay un 1 que sigue la conversación\n",
      "HYPO: nosotros pensamos bueno y si hacemos un proyecto donde no solamente sea atractivo para las chicas africanas sino también atractivo para las chicas alemanas\n",
      "REF:  nosotros pensamos y si hacemos un proyecto donde no solamente sea atractivo para las chicas refugiadas sino también atractivo para las chicas alemanas\n",
      "HYPO: entonces nos van a parecer dudas preguntas sospechas y eso nos va a hacer sentir muy mal culpables\n",
      "REF:  entonces nos van a aparecer dudas preguntas sospechas y eso nos va a hacer sentir muy mal culpables\n",
      "HYPO: entonces en chula se fue a los fabricos de productos a los datos y fue la primera vez en muchos años que nadie lo estaba sudando a reparar la iglesia\n",
      "REF:  entonces el cura se fue del salón con los papelitos de moncho cabizbajo y fue la primera vez en muchos años que nadie lo estaba ayudando a reparar la iglesia\n"
     ]
    },
    {
     "name": "stderr",
     "output_type": "stream",
     "text": [
      " 34%|███▎      | 47/140 [01:17<01:48,  1.17s/it]"
     ]
    },
    {
     "name": "stdout",
     "output_type": "stream",
     "text": [
      "HYPO: organizamos un día en el que yo les enseñaba esos proyectos y más a mis compañeros de curso y les enseñé que ellos también podían hacerlo al igual que lo había hecho yo\n",
      "REF:  organizamos un día en el que yo les enseñaba esos proyectos y más a mis compañeros de curso y les enseñé que ellos también podían hacerlo al igual que lo había hecho yo\n",
      "HYPO: salimos también a caminar el camino que venían caminando de rincuad paraguad oíris donde también nos vieron estas rutas y desaparecieron londres y desaparecían\n",
      "REF:  salimos también a caminar el camino que venían caminando ellos uruguay paraguay bolivia donde también hubieron dictaduras y desaparecieron nombres e identidades\n",
      "HYPO: y era una convocatoria una cantidad de familias que venía a donar su maestro de sangre para hacer un banco de sangre y comparar los datos con la cantidad de cosas que se iba a vender en su banco\n",
      "REF:  era una convocatoria a una cantidad de familias que venían a donar sus muestras de sangre para hacer un banco de sangre y comparar los datos con la cantidad de fosas que se iban descubriendo\n",
      "HYPO: investigo diferentes aspectos de la lengua en entornos mutilingües desde hace varios años para mí la lengua no es un producto final que se puede llegar a dominar\n",
      "REF:  investigo diferentes aspectos de la lengua en entornos multilingües desde hace varios años y para mí la lengua no es un producto final que se pueda llegar a dominar\n"
     ]
    },
    {
     "name": "stderr",
     "output_type": "stream",
     "text": [
      " 34%|███▍      | 48/140 [01:18<01:45,  1.15s/it]"
     ]
    },
    {
     "name": "stdout",
     "output_type": "stream",
     "text": [
      "HYPO: siempre hay que esterquear las metáforas de la familia sobre todo cuando se nos viaja un viaje y esto no tiene nada que ver con lo que dijo el señor pelado de la aldería pero está bueno seguir\n",
      "REF:  siempre hay que testear las metáforas con los chicos sobre todo cuando son ideas complejas y ella me dijo papá esto no tiene nada que ver con lo que dijo el señor pelado de la tele pero está bueno seguí\n",
      "HYPO: y entonces mi hija que siempre me preguntaba qué es el tsunami qué es el avión etc era fácil de explicar un tsunami en el principi centro de una cocina de marte después se me ha olvidado de la simbola\n",
      "REF:  y entonces nina mi hija que siempre me preguntaba qué es el tsunami qué es el avión que se cayó y era fácil de explicar lo del tsunami es el epicentro de una cosa en el mar que después se mueren los filipinos es simple\n",
      "HYPO: el que me compre un papelito va a tener que guardar porque dentro de un mes cuando yo abra mi barro voy a pagar 12 monedas por cada papelito que uds me devolvieron\n",
      "REF:  el que me compre un papelito va a tener que guardarlo porque dentro de un mes cuando yo abra mi bar voy a pagar 12 monedas por cada papelito que uds me devuelvan\n",
      "HYPO: y de eso se trata utilizando las letras de nuestro genoma de escribir las letras del nombre y el medio de los libros que en la vida nos unen\n",
      "REF:  y de eso se trata de utilizando las letras de nuestro genoma reescribir las letras del nombre y apellido de aquellos que perdieron su identidad\n"
     ]
    },
    {
     "name": "stderr",
     "output_type": "stream",
     "text": [
      " 35%|███▌      | 49/140 [01:19<01:39,  1.10s/it]"
     ]
    },
    {
     "name": "stdout",
     "output_type": "stream",
     "text": [
      "HYPO: algunos son desaparecidos porque están vivos productos de tráfico de niños drogos de bebés tráfico de personas opciones ideales\n",
      "REF:  algunos son desaparecidos que están vivos producto de tráfico de niños robo de bebés tráfico de personas adopciones ilegales\n",
      "HYPO: para que eso no suceda yo formo parte de la red argentina de lenguaje claro donde tratamos de acercar el lenguaje de la ley al lenguaje de todos los días\n",
      "REF:  para que eso no suceda yo formo parte de la red argentina de lenguaje claro donde tratamos de acercar el lenguaje de la ley al lenguaje de todos los días\n",
      "HYPO: esta contenido se puede dar desde el nacimiento y en el caso de niños con trastornos del espectro autista aceleros o incluso niños con discapacidades con parálisis cerebral\n",
      "REF:  esta condición se puede dar desde el nacimiento por ejemplo en el caso de niños con trastornos del espectro autista severos o por ejemplo en niños con parálisis cerebral\n",
      "HYPO: pues imagina estás en un bar y salto de un estepete y te puedes hablar con una chica y al rato salen las conversaciones con qué trabajas\n",
      "REF:  os lo podéis imaginar estáis en un bar y sabes o en una discoteca todo eso y te pones a hablar con una chica y al rato pues sale en la conversación y tú en qué trabajas\n"
     ]
    },
    {
     "name": "stderr",
     "output_type": "stream",
     "text": [
      " 36%|███▌      | 50/140 [01:20<01:35,  1.06s/it]"
     ]
    },
    {
     "name": "stdout",
     "output_type": "stream",
     "text": [
      "HYPO: muchos vecinos habían pasado la noche en seda arreglándose sus propios papeles porque también habían descubierto que no podían cumplir un grupo por falta de moneda\n",
      "REF:  muchos vecinos habían pasado la noche entera recortando sus propios papelitos porque también habían descubierto tenían proyectos que no podían cumplir por falta de monedas\n",
      "HYPO: aplausos bueno los matemáticos nos dedicamos a hacer teoremas\n",
      "REF:  aplausos bueno los matemáticos nos dedicamos a hacer teoremas\n",
      "HYPO: en el mundo de la biología porque estas nuevas ideas nadie en el pueblo no toco que la alcalde niña haya ganado las faroletas ni la fuente de la plaza\n",
      "REF:  en el medio de la euforia por estas nuevas ideas nadie en el pueblo notó que el alcalde nunca había arreglado las farolas ni la fuente de la plaza\n",
      "HYPO: y una vez que la conversación sigue invariablemente en algún momento aparece una de estas dos frases a yo quiero afatar con matemáticas pero nada a tu infamix que el profesor era otro\n",
      "REF:  cuando esa conversación sigue invariablemente en algún momento aparece una de estas 2 frases a yo es que era fatal con las matemáticas pero no era culpa mía es que el profesor era horroroso\n"
     ]
    },
    {
     "name": "stderr",
     "output_type": "stream",
     "text": [
      " 36%|███▋      | 51/140 [01:21<01:29,  1.00s/it]"
     ]
    },
    {
     "name": "stdout",
     "output_type": "stream",
     "text": [
      "HYPO: como mis padres lo veía que me gustaba tanto y iba también con los estudios cuando cumplí los 7 años y regalaron una cosa que cuando la vi es tú\n",
      "REF:  como mis padres veían que me gustaba tanto y me iba tan bien con los estudios cuando cumplí los 7 años me regalaron una cosa que cuando la vi dije qué es esto\n",
      "HYPO: ahora yo me pregunto y les pregunto todo eso que hizo ella no es resistir\n",
      "REF:  ahora yo me pregunto y les pregunto todo eso que hizo ella no es resistir\n",
      "HYPO: 54 51 de los matemáticos tomaron una postura a la tarea y 57 de los matemáticos tomaron una postura a la definición\n",
      "REF:  un 5451 de los matemáticos toma una postura al ataque y un 4477 de los matemáticos toma una postura a la defensiva\n",
      "HYPO: los objetivos de este proyecto eran desarrollar primero a través de estos espacios de interacción para poder con ello desarrollar las competencias comunicativas\n",
      "REF:  los objetivos de este proyecto eran desarrollar bueno primero crear estos espacios de interacción para poder con ello desarrollar las competencias comunicativas\n"
     ]
    },
    {
     "name": "stderr",
     "output_type": "stream",
     "text": [
      " 37%|███▋      | 52/140 [01:23<01:42,  1.17s/it]"
     ]
    },
    {
     "name": "stdout",
     "output_type": "stream",
     "text": [
      "HYPO: las 12 monedas que va a pagar pepe cuando el bar funcione o las 20 monedas que dice monzo que va a pagar cuando haga viaje a la luna se llaman valores dominantes del bono\n",
      "REF:  las 12 monedas que va a pagar pepe cuando el bar funcione o las 20 monedas que dice moncho que va a pagar cuando haga viajes a la luna se llaman valor nominal del bono\n",
      "HYPO: los factos de ortex todavía todavía no en los papelitos de pepsi o de calde en la parte de la reina dicen bien el mejor fósforo de patieta y de los pacientes de pepsi es que nunca en la punta a mí la basándose en un viaje a la luna\n",
      "REF:  los fajos de ernesto a veces vienen con papelitos de pepe o del alcalde en la parte de arriba y eso está bien pero al fondo del paquete hay muchos papelitos de moncho que nunca en la puta vida va a hacer ningún viaje a la luna\n",
      "HYPO: cuando volvió su casa a la última goteja del mundo uno descubrió una cosa que nadie había descubierto nunca no había valles en el pueblo\n",
      "REF:  cuando volvió a su casa abrió una botella de vino y mientras tomaba el vino descubrió una cosa que nadie había descubierto nunca no había bares en el pueblo\n",
      "HYPO: y a mí me quedó una cosa increíble una cosa muy sencilla que se presentó en tan pocos minutos con las fotos de las chicas\n",
      "REF:  y a principios de julio del pasado julio se presentó el tranvía con las fotos de las chicas\n"
     ]
    },
    {
     "name": "stderr",
     "output_type": "stream",
     "text": [
      " 38%|███▊      | 53/140 [01:23<01:35,  1.10s/it]"
     ]
    },
    {
     "name": "stdout",
     "output_type": "stream",
     "text": [
      "HYPO: risas el 3351 de las chicas en ese momento simulan una llamada telefónica ausente y se ve\n",
      "REF:  risas el 3351 de las chicas risas en ese momento simulan una llamada telefónica urgente y se van\n",
      "HYPO: yo estoy seguro de que conoce una serie de televisión que obviamente no conocía muy famosa popular síasa new york los angeles marianos\n",
      "REF:  yo estoy seguro que conocen una serie de televisión sumamente conocida muy famosa popular csi nueva york los ángeles miami\n",
      "HYPO: paró como si todo lo que estaba pasando en ese momento hubiera sido normal paró de despertar en él el miedo a que eso después lo pudiera renunciar\n",
      "REF:  le habló como si todo lo que estaba pasando en ese momento fuera normal para no despertar en él el miedo a que ella después lo pudiera denunciar\n",
      "HYPO: pero todavía no había ido al pueblo hasta ese día sin saber que la vida dejó de ser un filósofo de papelitos que iban en el mundo cambiando de precio y de valor\n",
      "REF:  como todavía no había ido al pueblo pepe él seguía sin saber que la vida de sus vecinos era un quilombo de papelitos que iban y venían cambiando de precio y de dueño\n"
     ]
    },
    {
     "name": "stderr",
     "output_type": "stream",
     "text": [
      " 39%|███▊      | 54/140 [01:25<01:35,  1.11s/it]"
     ]
    },
    {
     "name": "stdout",
     "output_type": "stream",
     "text": [
      "HYPO: todo ese cambio un día en el vídeo irónicamente se nos va a decir no quiero que me desancupen de las ideas bueno estamos en chistuchita en vaga de neptune que nos puso esta visión de la gente\n",
      "REF:  todo esto cambió un día en el que irónicamente salgo del cine y recibo un mensaje privado de twitter hola buscamos un chico o chica en valladolid que nos cubra esta edición de la seminci\n",
      "HYPO: la verdad es que las niñas aceptaban bastante bien esos instrumentos y los dados recogidos del proyecto demuestran que sí que lo valoran positivamente\n",
      "REF:  la verdad es que las niñas aceptaron muy bien estos instrumentos y los datos recogidos en el proyecto demuestran que sí que lo valoran positivamente\n",
      "HYPO: el que tenga papelitos de mancho que para dos monedas cada noche de acá a fin de mancho y si mancho no consigue hacer viajes a la luna yo pago las 20 monedas prometidas por monito\n",
      "REF:  el que tenga papelitos de moncho me paga dos monedas cada noche de acá a fin de mes y si moncho no consigue hacer viajes a la luna yo pago las 20 monedas prometidas por moncho\n",
      "HYPO: entonces yo pensé claro lo que las mujeres hacen en estas situaciones es negociar\n",
      "REF:  entonces yo pensé claro lo que las mujeres hacen en estas situaciones es negociar\n"
     ]
    },
    {
     "name": "stderr",
     "output_type": "stream",
     "text": [
      " 39%|███▉      | 55/140 [01:26<01:34,  1.11s/it]"
     ]
    },
    {
     "name": "stdout",
     "output_type": "stream",
     "text": [
      "HYPO: ahora viene el 01 de 3000 millones de décadas y en el año 1990 ya hay menos de 3000 millones de décadas que eso es un columpio\n",
      "REF:  ahora bien el 01 de 3000 millones de letras es nada menos que tres millones de letras y eso es un número\n",
      "HYPO: en la ciudad que ya aprendí muchísimo más porque vi más películas prácticamente 20 y 7 días y fui a muchísimas más frases de prensa y les ocurre un recuento con el mando a la niña\n",
      "REF:  os aseguro que este año aprendí muchísimo más porque vi más películas prácticamente 20 en 7 días fui a muchísimas más ruedas de prensa y tuve un encuentro con imanol arias\n",
      "HYPO: al vehículo al hacer viajes de la luna del mundo de juventud dos y haciendo cenas que adivinen a la reforma de la plaza de la alcalde les puso nueve centímetros\n",
      "REF:  al vehículo para hacer viajes a la luna de moncho le puso un dos y haciéndose el distraído a las reformas de la plaza del alcalde les puso un nueve con cincuenta\n",
      "HYPO: en esta comunidad que tenemos los niños en plato rural se han quedado con los de mis propios sueños y me di cuenta de que podía aprender jugando y jugar aprendiendo\n",
      "REF:  risas esta curiosidad que tenemos los niños me ayudó a ser creador de mis propios juegos y me di cuenta de que podía aprender jugando y jugar aprendiendo\n"
     ]
    },
    {
     "name": "stderr",
     "output_type": "stream",
     "text": [
      " 40%|████      | 56/140 [01:27<01:26,  1.03s/it]"
     ]
    },
    {
     "name": "stdout",
     "output_type": "stream",
     "text": [
      "HYPO: parecía un proyecto muy interesante pero era un proyecto muy difícil porque teníamos que hacer que niños y ni pequeños nos escucharan a nosotros otros niños\n",
      "REF:  nos pareció un proyecto muy interesante pero era un reto muy difícil porque teníamos que hacer que niños muy pequeños nos escucharan a nosotros otros niños\n",
      "HYPO: de forma cómoda se iban ayudando y no era una cuestión que entendíamos menos miedo que un grupo era que entendíamos menos era simplemente cada una en su expresión\n",
      "REF:  de forma conjunta se iban ayudando y no era cuestión de quién tenía más miedo o menos miedo qué grupo era el que tenía más miedo o menos era simplemente cada una en su expresión\n",
      "HYPO: aplausos siempre me he preguntado dónde están ridimos\n",
      "REF:  aplausos fin de aplausos siempre me he preguntado dónde está el ritmo\n",
      "HYPO: ese sentimiento de miedo de vergüenza me llevaba a permanecer en silencio encontrar consuelo en un lugar donde llorar parecía estar bien\n",
      "REF:  este sentimiento de miedo vergüenza me llevaba a permanecer en silencio encontrar consuelo en un lugar donde llorar parecía estar bien\n"
     ]
    },
    {
     "name": "stderr",
     "output_type": "stream",
     "text": [
      " 41%|████      | 57/140 [01:27<01:19,  1.04it/s]"
     ]
    },
    {
     "name": "stdout",
     "output_type": "stream",
     "text": [
      "HYPO: risas solamente quedaban en el salón de los papelitos y la dirección a los que nunca les daban cuenta de que no eran solo los que tenían\n",
      "REF:  risas solamente quedaba en el salón de los papelitos un grupo de vecinos a los que nunca en la vida se les había ocurrido ningún proyecto interesante\n",
      "HYPO: teníamos un problema que nos oculta si estábamos células vivas de las dos personas que vamos a acompañar nos podríamos analizar con sus hijos\n",
      "REF:  teníamos un problema en los 80 necesitábamos células vivas de las dos personas que íbamos a comparar no podíamos analizar un hueso\n",
      "HYPO: la imagen no dura más de 10 o 20 segundos y es oscura es plana no hay movimientos no hay sonidos es como si no hubiera personas\n",
      "REF:  la imagen no dura más de 10 o 20 segundos y es oscura es plana no hay movimientos no hay sonidos es como si no hubiera personas\n",
      "HYPO: hice nuevos amigos con los que compartía clases y fui pensando que si se enseñaban los niños del colegio ellos también podrían disfrutar con mucho vacío\n",
      "REF:  hice nuevos amigos con los que compartía creaciones y fui pensando que si se lo enseñaba a los niños del cole ellos también podrían disfrutar como yo lo hacía\n"
     ]
    },
    {
     "name": "stderr",
     "output_type": "stream",
     "text": [
      " 41%|████▏     | 58/140 [01:28<01:19,  1.04it/s]"
     ]
    },
    {
     "name": "stdout",
     "output_type": "stream",
     "text": [
      "HYPO: por tanto podemos haber aprendido de una vez que la verdad es con la cual debemos manejarnos\n",
      "REF:  por lo tanto podemos haber aprendido de una vez que debemos manejarnos con la verdad\n",
      "HYPO: más cerca en el tiempo en el siglo xx en el siglo de la gripe estuvo en 1918 la gripe española\n",
      "REF:  más cerca en el tiempo en el siglo xx el siglo de las gripes tuvimos en 1918 la gripe española\n",
      "HYPO: nosotros les llamamos a eso efecto ciencia porque crea una imagen distorsionada del complejo proceso de identificación\n",
      "REF:  nosotros le llamamos a eso efecto csi porque generan una imagen distorsionada del complejo proceso de identificación\n",
      "HYPO: nuestro deseo era tener una plataforma una plataforma que forma declaración política en contra del sexismo y en contra de la xenofobia\n",
      "REF:  nuestro deseo era tener una plataforma una plataforma que fuera una declaración política en contra del sexismo y en contra de la xenofobia\n",
      "HYPO: se le dije a agafa la profesora de niños de cuatro años de psicóloga y me pidió si podíamos hacer un proyecto especial sobre la música y los instrumentos de una orquesta\n",
      "REF:  se lo dije a marga la profesora de niños de 4 años de mi cole y me pidió si podíamos hacer un proyecto especial sobre la música y los instrumentos de una orquesta\n"
     ]
    },
    {
     "name": "stderr",
     "output_type": "stream",
     "text": [
      " 42%|████▏     | 59/140 [01:29<01:19,  1.01it/s]"
     ]
    },
    {
     "name": "stdout",
     "output_type": "stream",
     "text": [
      "HYPO: al día siguiente mirad uno y qué pepe viajó a las ideas en su tema de era para los cuñadores de propias culturas volvía a su casa y se puso a trabajar\n",
      "REF:  al día siguiente era lunes y pepe viajó a la ciudad y compró madera para construir un mostrador y compró pintura volvió a su casa y se puso a trabajar\n",
      "HYPO: cuando comencé a tener pensamientos positivos mi mejor amiga me dijo que había ayuda disponible y me conectó a los servicios sanitarios y psicológicos de la universidad\n",
      "REF:  cuando comencé a tener pensamientos suicidas mi mejor amiga me dijo que había ayuda disponible y me conectó a los servicios sanitarios y psicológicos en la universidad\n",
      "HYPO: de verdad lo que miramos como si fuéramos más los bienes con una simple escala y un ordenador habíamos dejado boqui abiertos a pequeños y mayores\n",
      "REF:  de verdad nos miraban como si fuéramos magos que con unos simples cables y un ordenador habíamos dejado boquiabiertos a pequeños y mayores\n",
      "HYPO: en la primera guerra mundial murieron entre 10 y 30 millones de personas\n",
      "REF:  miren en la primera guerra mundial murieron entre 10 y 30 millones de personas\n",
      "HYPO: y sabes que cuando haces eso realmente tu trabajo aparte de pedirte bien aquí viene bien a los demás porque disfrutan y aprenden con lo que haces\n",
      "REF:  sabes que cuando haces eso tu trabajo aparte de venirte bien a ti le viene bien a los demás porque disfrutan y aprenden con lo que haces\n"
     ]
    },
    {
     "name": "stderr",
     "output_type": "stream",
     "text": [
      " 43%|████▎     | 60/140 [01:31<01:25,  1.06s/it]"
     ]
    },
    {
     "name": "stdout",
     "output_type": "stream",
     "text": [
      "HYPO: en el discurso oficioso y en el discurso oficial se destaca como algo clave para la integración de los refugiados y la aprendizaje del alemán\n",
      "REF:  en el discurso oficioso y en el discurso oficial se destaca como algo clave para la integración de los refugiados el aprendizaje del alemán\n",
      "HYPO: esto es un no era inútil y hablo bien trató de no exagerar su violencia de no darle ideas\n",
      "REF:  cuando vio que su no era inútil le habló bien trató de no exacerbar su violencia de no darle ideas\n",
      "HYPO: una mañana de marzo el alcalde de la luna de valdés en la glacia de méxico le hicieron la plaza que no estropeada después del fulórico de los papelitos\n",
      "REF:  una mañana de martes el alcalde salió al balcón con megáfono y dijo vecinos la plaza quedó estropeada después del furor de los papelitos\n",
      "HYPO: evidentemente para desarrollar las competencias comunicativas sabía que pasárpode la aprendizaje de alemán no quedaba otra y utilizamos un todo en novedoso obstáculo y comunicacional meditativa\n",
      "REF:  evidentemente para desarrollar las competencias comunicativas había que pasar por el aprendizaje del alemán no quedaba otra y utilizamos un método novedoso los tableros de comunicación aumentativa\n",
      "HYPO: y os aseguro que el músico podrá ofrecer parte de este periódico y es bastante complicado porque una película tiene muchos elementos el guión la dirección las ángulos los actores la música el sonido\n",
      "REF:  y no sé si podrá parecer fácil o difícil pero es muy complicado porque una película tiene muchos elementos el guion la dirección los actores la música el sonido\n"
     ]
    },
    {
     "name": "stderr",
     "output_type": "stream",
     "text": [
      " 44%|████▎     | 61/140 [01:32<01:26,  1.09s/it]"
     ]
    },
    {
     "name": "stdout",
     "output_type": "stream",
     "text": [
      "HYPO: una década después precisamente en el año 2003 pasó algo a mí me cambió la vida gran parte de mi profesión también de la motivación\n",
      "REF:  una década después precisamente en el año 2003 pasó algo que a mí me cambió la vida en gran parte en lo profesional y también en la motivación\n",
      "HYPO: y ese sentimiento de pertenencia es el que está oscureciendo a ustedes y les estaba contando todo esto por esto les estoy muy agradecida\n",
      "REF:  y ese sentimiento de pertenencia es el que he estado sintiendo ante uds mientras les estaba contando todo esto y por esto les estoy muy agradecida\n",
      "HYPO: petra recortó mil páginas y escribió en una páginita la frase próximamente barrio de pepe mil veces al libro ojo\n",
      "REF:  pepe recortó 1000 papelitos y escribió en cada papelito la frase próximamente bar de pepe 1000 veces escribió eso\n",
      "HYPO: pero sí son de los productores pero se les dirán que es muy bonito que mueven el cuerpo\n",
      "REF:  pero sé sorda como estoy puedo sentir el ritmo infinito que mueve mi cuerpo\n",
      "HYPO: el alzheimer ya cumplido con una paroqueñamiento de la pobreza había escapado del pueblo con 18 años\n",
      "REF:  el alcalde había cumplido con una parte solamente de la promesa había escapado del pueblo con un coche a motor\n"
     ]
    },
    {
     "name": "stderr",
     "output_type": "stream",
     "text": [
      " 44%|████▍     | 62/140 [01:33<01:34,  1.21s/it]"
     ]
    },
    {
     "name": "stdout",
     "output_type": "stream",
     "text": [
      "HYPO: risas eso sí y esto lo tendréis que demostrar que vuestro amor no se quede en lo que tú quieras\n",
      "REF:  risas eso sí quieto lo tendréis que demostrar que vuestro amor no se quede en conjetura\n",
      "HYPO: mucha gente cuando les digo que escribo para una página web que escribo para la cnv me dice sí perfecto me siento te pagan\n",
      "REF:  mucha gente cuando les digo que escribo para una página web que escribo para la seminci casi todos me dicen te pagan\n",
      "HYPO: el alcalde tuvo que poner orden y admito un nuevo tratado la manufeladuría para que los vecinos pudieran reunirse e intercambiar papelitos y traslados al amanecer\n",
      "REF:  el alcalde tuvo que poner orden y habilitó un lugar cerrado en la municipalidad para que los vecinos pudieran reunirse a intercambiar papelitos sin destrozar la plaza\n",
      "HYPO: es muy curioso que esta estructura por sus propiedades genéticas se utilizó para construir el edificio de la natación en los juegos olímpicos de pepino\n",
      "REF:  es muy muy curioso que esta estructura por sus propiedades geométricas se utilizó para construir el edificio de la natación en los juegos olímpicos de pekín\n",
      "HYPO: esta imagen de grietas y mojantes levantaron apoyos en el parlamento alemán y en muchos parlamentos europeos corriendo hacke a la unión europea\n",
      "REF:  esta imagen y otras semejantes levantaron ampollas en el parlamento alemán y en muchos parlamentos europeos poniendo en jaque a la unión europea\n"
     ]
    },
    {
     "name": "stderr",
     "output_type": "stream",
     "text": [
      " 45%|████▌     | 63/140 [01:34<01:25,  1.11s/it]"
     ]
    },
    {
     "name": "stdout",
     "output_type": "stream",
     "text": [
      "HYPO: camina de lengua es un proceso que va cambiando el olando de la vida el olando de las experiencias personales que vamos teniendo\n",
      "REF:  para mí la lengua es un proceso que va cambiando a lo largo de la vida a lo largo de las experiencias personales que vamos teniendo\n",
      "HYPO: podí experimentar crear compartir entender y razonar cómo están hechas las cosas y pasábamos iniciando con lo que estábamos estudiando\n",
      "REF:  podía experimentar crear compartir entender y razonar cómo están hechas las cosas para luego utilizarlo con lo que estábamos estudiando\n",
      "HYPO: nosotros pensamos si desarrollamos ambas cosas seguro que vamos a crear la posibilidad de que se desarrollen también competencias interculturales\n",
      "REF:  nosotros pensábamos si desarrollamos ambas cosas seguro que vamos a crear la posibilidad de que desarrollen también competencias interculturales\n",
      "HYPO: risas cuando alguien te pregunta para qué sirven las matemáticas no te estás preguntando por aplicaciones de las ciencias matemáticas\n",
      "REF:  risas cuando alguien te pregunta para qué sirven las matemáticas no te está preguntando por aplicaciones de las ciencias matemáticas\n",
      "HYPO: y a vosotros los padres os pido por favor que montéis talleres de programación en los colegios para que ningún niño se quede sin aprender todo esto\n",
      "REF:  y a vosotros los padres os pido por favor que montéis talleres de programación en los colegios para que ningún niño se quede sin aprender todo esto\n"
     ]
    },
    {
     "name": "stderr",
     "output_type": "stream",
     "text": [
      " 46%|████▌     | 64/140 [01:35<01:23,  1.09s/it]"
     ]
    },
    {
     "name": "stdout",
     "output_type": "stream",
     "text": [
      "HYPO: son encuentros con ser culturales porque estábamos fomentando la interacción cara a cara de grupos con marcos de referencia totalmente diferentes\n",
      "REF:  son encuentros interculturales porque estábamos fomentando la interacción cara a cara de grupos con marcos de referencia totalmente diferentes\n",
      "HYPO: hace años habíamos ido con las chicas de la oficina al mismo par que vamos siempre\n",
      "REF:  dice ana habíamos ido con las chicas de la oficina al mismo pub que vamos siempre\n",
      "HYPO: entonces aparecen nuevas preguntas por ejemplo quién la manda a ir a esos boliches\n",
      "REF:  entonces aparecen nuevas preguntas por ejemplo quién la manda a ir a esos boliches\n",
      "HYPO: después se dio cuenta que ya que compraba mesas chicas copas de mochila era un palenque para bien los clientes de el bar por ser en su caballo pudieran entrar a tomar\n",
      "REF:  pepe se dio cuenta de que había que comprar mesas sillas copas pintura un palenque para que los clientes del bar pusieran sus caballos y pudieran entrar a tomar\n",
      "HYPO: entonces lo que ocurrió es que cuando empezó la tercera semana del juego algunos proyectos estaban casi caminados y en cambio otros seguían en el baño de la tierra\n",
      "REF:  entonces le conté a nina que cuando empezó la tercera semana en el pueblo algunos proyectos ya estaban casi terminados y en cambio otros seguían en pañales\n"
     ]
    },
    {
     "name": "stderr",
     "output_type": "stream",
     "text": [
      " 46%|████▋     | 65/140 [01:36<01:18,  1.05s/it]"
     ]
    },
    {
     "name": "stdout",
     "output_type": "stream",
     "text": [
      "HYPO: pero es realmente significativa la ausencia de las chicas adolescentes en estos grupos de alemán en estas actividades\n",
      "REF:  pero es realmente significativa la ausencia de las chicas adolescentes en estos grupos de alemán en estas actividades\n",
      "HYPO: están poniendo las letras y cómo se mueven cuando se mueven las letras y se mueven y no se mueven\n",
      "REF:  van cayendo los planetas y tú apuntas hacia la cámara te mueves y les vas dando\n",
      "HYPO: y entonces ahora dividimos un paso hacia el as y podríamos entonces identificar una célula muerta dentro de un cuerpo o un entorno\n",
      "REF:  entonces dimos un paso hacia adelante y podíamos entonces identificar una célula muerta dentro de un cuerpo o un resto óseo\n",
      "HYPO: bueno mi madre dice que soy muy raro pero creo que es el tipo de cine que más me gusta más que más que más que más que más que más que más que más que más\n",
      "REF:  bueno mi madre dice que soy muy raro pero es el tipo de cine que más me gusta del que más disfruto con sus personajes e historias\n",
      "HYPO: según un informe de comité publicado hace escasas dos semanas la mitad de las personas que huyen de la guerra son menores de edad\n",
      "REF:  según un informe de unicef publicado hace escasas dos semanas la mitad de las personas que huyen de la guerra son menores de edad\n"
     ]
    },
    {
     "name": "stderr",
     "output_type": "stream",
     "text": [
      " 47%|████▋     | 66/140 [01:37<01:16,  1.03s/it]"
     ]
    },
    {
     "name": "stdout",
     "output_type": "stream",
     "text": [
      "HYPO: como ella se va a tener que arreglar de una forma todos sabemos que muchas veces en la argentina alguna forma es por afuera de la ley\n",
      "REF:  como ella se va a tener que arreglar de alguna forma todos sabemos que muchas veces en la argentina alguna forma es por afuera de la ley\n",
      "HYPO: desde el principio por ser sede la población alemana ante tal avalancha de refugiados precedentes de oriente camino de europa\n",
      "REF:  desde el principio no hubo consenso entre la población alemana ante tal avalancha de refugiados procedentes de oriente medio camino de europa\n",
      "HYPO: aplausos gracias\n",
      "REF:  aplausos vamos\n",
      "HYPO: pero también esos genes nos permitían justamente porque hacíamos nuestras familiares emparentados analizar y establecer vínculos de pérdida de género\n",
      "REF:  pero también esos genes nos permitían justamente porque lo hacíamos entre familiares emparentados analizar y establecer vínculos de parentesco\n",
      "HYPO: pero como sé que a veces se duela y a la gente en las sonidas son extremas me propuse hacer lo que así que escribí un cuento que se llama pensamiento crítico\n",
      "REF:  pero como soy cabeza dura y en ratos libres soy escritor también me propuse hacerlo así que escribí un cuento infantil\n"
     ]
    },
    {
     "name": "stderr",
     "output_type": "stream",
     "text": [
      " 48%|████▊     | 67/140 [01:38<01:13,  1.01s/it]"
     ]
    },
    {
     "name": "stdout",
     "output_type": "stream",
     "text": [
      "HYPO: y su idea fue estupenda trajo al diciembre de los papeles cuando una pizarrita empezó a poner leñota del 1 al 10 a cada tres de la noche\n",
      "REF:  y su idea fue estupenda trajo al salón de los papelitos una pizarra y empezó a ponerle nota del uno al diez a cada proyecto\n",
      "HYPO: en esa serie los investigadores ignoran días resuelven unos casos difíciles\n",
      "REF:  en esas series los investigadores en horas días resuelven unos casos dificilísimos\n",
      "HYPO: risas el 649 de las chicas intentan desesperadamente cambiar de tema y se van\n",
      "REF:  risas el 6469 de las chicas intentan desesperadamente cambiar de tema y se van\n",
      "HYPO: y la pregunta es qué hacer para que estas chicas empiecen a participar en esta nueva sociedad que se pueda integrar\n",
      "REF:  y la pregunta es qué hacer para que estas chicas empiecen a participar en esta nueva sociedad y que se puedan integrar\n",
      "HYPO: la sentencia se vería corroborada por el hecho de que ella después no cuenta que haya peleado para evitar la violación\n",
      "REF:  la sentencia se vería corroborada por el hecho de que ella después no cuenta que haya peleado para evitar la violación\n"
     ]
    },
    {
     "name": "stderr",
     "output_type": "stream",
     "text": [
      " 49%|████▊     | 68/140 [01:39<01:14,  1.03s/it]"
     ]
    },
    {
     "name": "stdout",
     "output_type": "stream",
     "text": [
      "HYPO: nadie sabía en ese momento que yo estaba llorando porque había sido agredida sexualmente\n",
      "REF:  nadie sabía en ese momento que yo estaba llorando porque había sido agredida sexualmente\n",
      "HYPO: el 34 de la gente ha preguntado hay un 23 o 41 que se ha callado y un 08 que no es lo que está haciendo\n",
      "REF:  un 7634 de la gente ha preguntado hay un 2341 que se ha callado y un 08 que yo no sé lo que están haciendo esos\n",
      "HYPO: cuando abro los ojos a la mañana les digo en mozco el día que me está pegando\n",
      "REF:  cuando abro los ojos a la mañana y digo qué hermoso el día que me está esperando\n",
      "HYPO: 1250 de nosotras sufrió o va a sufrir en algún momento de su vida un ataque sexual\n",
      "REF:  1250 de nosotras sufrió o va a sufrir en algún momento de su vida un ataque sexual\n",
      "HYPO: por qué me van a pagar al valor del algo realmente me gusta lo que realmente estoy haciendo encima me sirve para abrirme de tu mano\n",
      "REF:  por qué me van a pagar cuando hago lo que realmente me gusta lo que realmente siento y encima me sirve para abrirme a los demás\n"
     ]
    },
    {
     "name": "stderr",
     "output_type": "stream",
     "text": [
      " 49%|████▉     | 69/140 [01:40<01:13,  1.03s/it]"
     ]
    },
    {
     "name": "stdout",
     "output_type": "stream",
     "text": [
      "HYPO: obviamente la lengua es un poderoso instrumento de integración de inclusión pero también un poderoso instrumento de exclusión social\n",
      "REF:  obviamente la lengua es un poderoso instrumento de integración de inclusión pero también un poderoso instrumento de exclusión social\n",
      "HYPO: sus cabazos estaban cada vez más platos y tristes y se los espejaba el día y noche y no parecía que el cuatefacto estuviera volando en la misma escena\n",
      "REF:  sus caballos estaban cada vez más flacos y tristes aunque los cepillaba día y noche y no parecía que su artefacto pudiera volar en menos de una semana\n",
      "HYPO: porque en el medio aparece el nike aparecen alcalde aparecen alcalde los hectáneos que lo vengan siempre todo a paralelo\n",
      "REF:  porque en el medio aparecen quiques aparecen alcaldes aparecen ernestos y secretarios y lo echan siempre todo a perder\n",
      "HYPO: esta es la recreación por ordenador de nuestra visión queríamos que nuestras chicas estuvieran en un gran vía el gran vía del deseo\n",
      "REF:  esta es la recreación por ordenador de nuestra visión queríamos que nuestras chicas estuvieran en un tranvía el tranvía del deseo\n",
      "HYPO: y resulta que todo esto estaba aprendiendo lo que los mayores se llaman informática creativa\n",
      "REF:  y resulta que todo eso que yo estaba aprendiendo es lo que los mayores llaman informática creativa\n"
     ]
    },
    {
     "name": "stderr",
     "output_type": "stream",
     "text": [
      " 50%|█████     | 70/140 [01:41<01:09,  1.01it/s]"
     ]
    },
    {
     "name": "stdout",
     "output_type": "stream",
     "text": [
      "HYPO: las personas que no la apoyan actualmente cada vez hay más detractores y esto le va a pasar factura a américa obviamente\n",
      "REF:  las personas que no la apoyan actualmente cada vez son más cada vez hay más detractores y esto le va a pasar factura a angela merkel obviamente\n",
      "HYPO: y otras veces aunque no una de las tecnologías tan tan deteriorados que no podemos decir fracasar las redes se van a comparar con los familiares\n",
      "REF:  y otras veces aun teniendo los restos están tan deteriorados que no podemos descifrar las letras para compararlas con los familiares\n",
      "HYPO: no digo no no solamente es una cosa solo que sé que la gente puede ir a un bar acá abajo pero nadie puede volver con bach en el somo junto al bach\n",
      "REF:  no dijo moncho yo solamente sé una cosa yo lo que sé es que la gente puede ir a un bar a caballo pero nadie puede volver borracho y montando un caballo\n",
      "HYPO: esto se estudió en así leguas hasta el pueblo poniendo caritenses todos los árboles del camino varía una luna a viento todas las noches\n",
      "REF:  pepe recorrió las cinco leguas hasta el pueblo poniendo carteles en todos los árboles del camino bar la luna abierto todas las noches\n",
      "HYPO: lo más preocupante es que no lo hacen solamente sobre la gente que propone al bienes sino que hay unas autoridades que los gobiernos las vien críticamente\n",
      "REF:  lo más preocupante es que no lo hacen solamente sobre la gente popularmente sino que algunas autoridades de los gobiernos también creen que es tan fácil\n"
     ]
    },
    {
     "name": "stderr",
     "output_type": "stream",
     "text": [
      " 51%|█████     | 71/140 [01:42<01:07,  1.02it/s]"
     ]
    },
    {
     "name": "stdout",
     "output_type": "stream",
     "text": [
      "HYPO: sin embargo cuando veo películas en los ee uu y unas de factores sociales y de personas que pasan días y no aportan nada es una historia nada más\n",
      "REF:  sin embargo cuando veo películas de los ee uu llenas de efectos especiales de personajes vacíos de historias que no aportan nada solo es una historia nada más\n",
      "HYPO: el secretario que había sido jorobando el derecho a la verdad y decía la obstáculos del 35 decidió hacer algo para que nadie los pudo a lo mejor que el 50\n",
      "REF:  el secretario que había sido mano derecha del alcalde y conocía la estafa desde el principio decidió hacer algo para que nadie descubra la ausencia de su jefe\n",
      "HYPO: piden al agresor que termine rápido para que todo eso se termine igual que es posible con el menor control\n",
      "REF:  le piden al agresor que termine rápido para que todo termine lo antes posible y con el menor costo\n",
      "HYPO: mientras tanto el intercambio de papelito sirio y argumento y ya no alcanzaban los lápices para notar quién era dueño de él\n",
      "REF:  mientras tanto el intercambio de papelitos siguió en aumento y ya no alcanzaban los lápices para anotar quién era dueño de qué\n",
      "HYPO: este pensó que salva el hombre podía hacer felices a otros dando el hijo de mar y además también pensó que podía ganar alguna mujer\n",
      "REF:  pepe pensó que si abría un bar podría hacer felices a otros dándoles de tomar y además también pensó que podía ganar alguna moneda\n"
     ]
    },
    {
     "name": "stderr",
     "output_type": "stream",
     "text": [
      " 51%|█████▏    | 72/140 [01:43<01:05,  1.03it/s]"
     ]
    },
    {
     "name": "stdout",
     "output_type": "stream",
     "text": [
      "HYPO: entonces el niño me preguntó si finalmente pepe había logrado derribar por que se atabó en la cuarta semana el de frente el final de la historia\n",
      "REF:  entonces nina me preguntó si finalmente pepe había logrado abrir su bar porque ya estábamos en la cuarta semana y le conté el final de la historia\n",
      "HYPO: las parolas y las fuentes de la playa estaban destrozadas no había un solo caballo en las calles y los vecinos caminaban indiretamente hablando todo\n",
      "REF:  las farolas y la fuente de la plaza estaban destrozadas no había un solo caballo en las calles y los vecinos caminaban en redondo hablando solos\n",
      "HYPO: la música juega de tu cuerpo pero cada uno es profundo lo que se mueve en su cuerpo\n",
      "REF:  el ritmo está fuera de tu cuerpo pero qué hermoso lo que tengo en el suelo\n",
      "HYPO: y al final de la historia dijo cuando llegó la cuarta oportunidad y se escuchó el nombre ella se levantó muy temprano y caminó tranquilo frente a él\n",
      "REF:  el final de la historia dice así cuando llegó la cuarta semana y se cumplió el mes pepe se levantó muy temprano y caminó tranquilo hasta el pueblo\n",
      "HYPO: hernesto el vecino abrijo que había comprado muchos matamitros durante la primera semana ahora se quería sacar de encima los papelitos de un niño\n",
      "REF:  ernesto el vecino rico que había comprado muchos papelitos durante la primera semana ahora se quería sacar de encima los papelitos de moncho\n"
     ]
    },
    {
     "name": "stderr",
     "output_type": "stream",
     "text": [
      " 52%|█████▏    | 73/140 [01:44<01:02,  1.07it/s]"
     ]
    },
    {
     "name": "stdout",
     "output_type": "stream",
     "text": [
      "HYPO: pero el león de la gripe universal llegó a la década de 1928 la más fructífera y vanguardista de todos los tiempos\n",
      "REF:  porque luego de la gripe universal llegó la década de 1920 la más fructífera y vanguardista de todos los tiempos\n",
      "HYPO: ese sinceramiento de los datos y de los números terminaron siendo señalados como responsables de algo que no les correspondía\n",
      "REF:  por ese sinceramiento de los datos y de los números terminaron siendo señalados como responsables de algo que no les correspondía\n",
      "HYPO: estoy pensando en ese alguien que perdió su nombre y su apellido desapareció su nombre y su identidad\n",
      "REF:  estoy pensando en ese alguien que perdió su nombre y su apellido que desapareció su nombre y su apellido su identidad\n",
      "HYPO: no sirve para nada lo que tengo dentro sino tengo la oportunidad de dar a lo otro\n",
      "REF:  no sirve para nada lo que tengo dentro si no tengo posibilidad de dar al otro\n",
      "HYPO: en 2016 hubo 3559 suicidios en españa según el instituto nacional de internet\n",
      "REF:  en 2016 hubo 3569 suicidios en españa según el instituto nacional de estadística\n"
     ]
    },
    {
     "name": "stderr",
     "output_type": "stream",
     "text": [
      " 53%|█████▎    | 74/140 [01:45<01:00,  1.10it/s]"
     ]
    },
    {
     "name": "stdout",
     "output_type": "stream",
     "text": [
      "HYPO: le extendí la mano y ella me la tomó con las manos y me la dijo así yo estoy segura de que me salga y cuénteme loco\n",
      "REF:  le extendí la mano y ella me la tomó con las dos y la trajo acá así y me dijo doctorcito por favor encuéntremelo\n",
      "HYPO: necesito recalular fondos para arreglar los destrozos de las tarolas para renovar las fuentes y para comprar un coche emocional\n",
      "REF:  necesito recaudar fondos para arreglar los destrozos de las farolas para renovar la fuente y para comprarme un coche a motor\n",
      "HYPO: la otra pasión es los ordenadores de juegos y programación es de lo que vengo a hablar hoy hoy\n",
      "REF:  la otra pasión es los ordenadores los videojuegos y la programación que es de lo que vengo a hablaros hoy\n",
      "HYPO: si uds se ponen en su piel tendrían ganas de hacer unas clases de alemán o de cualquier otra cosa\n",
      "REF:  si uds se ponen en su piel tendrían ganas de hacer clases de alemán o de cualquier otra cosa\n",
      "HYPO: cuando nos fuimos todos preparados juntamos a todos los peces del hielo infantil y les enseñamos cómo sus instrumentos estaban en el mar\n",
      "REF:  cuando lo tuvimos todo preparado juntamos a todos los peques del ciclo de infantil y les enseñamos cómo sus instrumentos sonaban de verdad\n"
     ]
    },
    {
     "name": "stderr",
     "output_type": "stream",
     "text": [
      " 54%|█████▎    | 75/140 [01:46<01:01,  1.05it/s]"
     ]
    },
    {
     "name": "stdout",
     "output_type": "stream",
     "text": [
      "HYPO: comencé a experimentar ataques de pánico a menudo se originaron imágenes lugares y noticias que me recordaban en la salsona\n",
      "REF:  comencé a experimentar ataques de pánico a menudo se originaban imágenes lugares y noticias que me recordaban el asalto\n",
      "HYPO: los dos caballos flacos de mollo eran los útiles calificados que quedaban y arrastraban tres carros con dos ruedas cada uno en el centro de trenes\n",
      "REF:  los dos caballos flacos de moncho eran los únicos animales que quedaban y arrastraban tres carros con dos ruedas cada uno en forma de tren\n",
      "HYPO: queríamos trasladar nuestras fotos nuestra exposición a un espacio urbano y pensamos cuando teníamos una visión\n",
      "REF:  queríamos trasladar nuestras fotos nuestra exposición a un espacio urbano y teníamos una visión\n",
      "HYPO: hoy vamos a hablar del feriascole de la segunda mitad del siglo xix de la viñuela que está entortando todo el bien\n",
      "REF:  podríamos hablar del feroz cólera de la segunda mitad del siglo xix o de la viruela que tanto costó dominar\n",
      "HYPO: nuestro genoma el genoma humano está constituido por cuatro letras que se repiten 3000 millones de veces\n",
      "REF:  nuestro genoma el genoma humano está constituido por cuatro letras que se repiten 3000 millones de veces\n"
     ]
    },
    {
     "name": "stderr",
     "output_type": "stream",
     "text": [
      " 54%|█████▍    | 76/140 [01:47<01:01,  1.04it/s]"
     ]
    },
    {
     "name": "stdout",
     "output_type": "stream",
     "text": [
      "HYPO: cuando acabó la tradición de la sonrisa hace más de 20 años empecé a colaborar ya de manera natural con la web que es la vida que dura este tema con la vida\n",
      "REF:  cuando acabó la 58 edición de la seminci empecé a colaborar de manera regular con la web que me había acreditado que se llama esencia cine\n",
      "HYPO: y creo no despertó en mí la vocación por la medicina o la química pero sí mi pasión por la historia\n",
      "REF:  el libro no despertó en mí la vocación por la medicina o la química pero sí mi pasión por la historia\n",
      "HYPO: podríamos crear un espacio para que ella se interactuara y lidar con ello y pudiera contribuir a transformar su identidad\n",
      "REF:  podríamos crear un espacio para que ellas interactuaran y quizá con ello que se pudiera contribuir a transformar su identidad\n",
      "HYPO: es mucho más interesante para mi quedar un sábado en un sitio tranquilo con un amigo dos y en determinado intuición el calor de una noticia tan llena de calor\n",
      "REF:  es mucho más interesante para mí quedar un sábado en un sitio tranquilo con un amigo o dos que meterme en el bullicio y calor de una discoteca llena de gente\n",
      "HYPO: es decir que al edificio papel no se enteró del desastre que se iba a armar por culpa de sus familiares\n",
      "REF:  es decir le dije a nina pepe no se enteró del desastre que se iba a armar por culpa de sus papelitos\n"
     ]
    },
    {
     "name": "stderr",
     "output_type": "stream",
     "text": [
      " 55%|█████▌    | 77/140 [01:48<01:00,  1.04it/s]"
     ]
    },
    {
     "name": "stdout",
     "output_type": "stream",
     "text": [
      "HYPO: y la escuela reproduce lo que nos espartamos cuando se pregunta ante la presencia de un alumno con discapacidad crítica\n",
      "REF:  y la escuela reproduce lo que los espartanos cuando se pregunta ante la presencia de un alumno con discapacidad qué tiene\n",
      "HYPO: la joven contó que un sujeto la saltó por la espalda y dijo que no gritara que tenía un arma y que se quedara aquí de la gasta\n",
      "REF:  la joven contó que un sujeto la asaltó por la espalda le dijo que no gritara que tenía un arma que se quedara quieta\n",
      "HYPO: en todo este tiempo he visto miles de suspisiones y creo que tengo una idea mucho más global del mundo que si nunca hubiera empezado a existir toda una serie de personas\n",
      "REF:  en todo este tiempo he visto miles de esas visiones y creo que tengo una idea mucho más global del mundo que si nunca hubiera observado o visto películas\n",
      "HYPO: y así fue que el viernes todos los que tenían un proyecto se habían conseguido las monedas necesarias para llevarlo a cabo y se habían puesto a trabajar\n",
      "REF:  y así fue que el viernes todos los que tenían un proyecto ya habían conseguido las monedas necesarias para llevarlo a cabo y se habían puesto a trabajar\n",
      "HYPO: risas ves 20 años en los compradores de papelito consultado en siempre aquí antes de comprar del parto cariño\n",
      "REF:  risas desde entonces los compradores de papelitos consultaron siempre a quique antes de comprarle fajos a ernesto\n"
     ]
    },
    {
     "name": "stderr",
     "output_type": "stream",
     "text": [
      " 56%|█████▌    | 78/140 [01:48<00:56,  1.10it/s]"
     ]
    },
    {
     "name": "stdout",
     "output_type": "stream",
     "text": [
      "HYPO: y muchos vecinos se empezaron a pagar un antiguo don nobrero por ellos para asegurar el proyecto de vida\n",
      "REF:  y muchos vecinos empezaron a pagarle a quique dos monedas por noche para asegurar el proyecto de moncho\n",
      "HYPO: cada uno de nosotros tenemos que arriesgaros y tender la mano y preguntar cómo estás hoy\n",
      "REF:  cada uno de nosotros tenemos que arriesgarnos y tender la mano y preguntar cómo estás hoy\n",
      "HYPO: yo para comparar un padre y un hijo para saber si está deprimido claro si es deprime de no tengo que comparar a otro\n",
      "REF:  para comparar un padre y un hijo para saber si están vinculados en ese parentesco tengo que compararlos\n",
      "HYPO: cuando me miraron se cangó en una letra por su nombre y me dijo y de cómo nacer\n",
      "REF:  cuando les das se cambia el planeta por su nombre y lo dice y se suma un acierto\n",
      "HYPO: por ese período manda a los que valen la pena insistir en esos casos con pedagogelos por el mundo\n",
      "REF:  por ese pedidomandato es que vale la pena insistir e insistir en esos casos complejos que no podemos resolver\n",
      "HYPO: risas de pronto los vecinos se subían a las farolas de la plaza para que los otros vecinos pudieran encontrar sus papelitos\n",
      "REF:  risas de pronto los vecinos se subían a las farolas de la plaza para que los otros vecinos pudieran comprar esos papelitos\n"
     ]
    },
    {
     "name": "stderr",
     "output_type": "stream",
     "text": [
      " 56%|█████▋    | 79/140 [01:49<00:55,  1.10it/s]"
     ]
    },
    {
     "name": "stdout",
     "output_type": "stream",
     "text": [
      "HYPO: él no era la clase de tipo que necesita hacer eso para estar con una amiga él también me gustaba pero no de esa manera\n",
      "REF:  le dije que él no era la clase de tipo que necesita hacer eso para estar con una mina que él también me gustaba pero no de esa manera\n",
      "HYPO: y surgió la primera identificación el nombre es todo seríos y se ha cubierto y la primera la diferencia es el paisaje de la identidad\n",
      "REF:  y surgió la primera identificación de un resto óseo de la dictadura en la argentina en la fosa de san vicente en córdoba\n",
      "HYPO: entonces quiere decir que no resistió quiere decir que consentió\n",
      "REF:  entonces quiere decir que no resistió quiere decir que consintió\n",
      "HYPO: e incluso a mis papelitos escritos por mónico me faltó una ortografía que decían a mí me metas a desviarte de la humanidad\n",
      "REF:  e incluso había unos papelitos escritos por moncho con faltas de ortografía que decían a fin de mes aré biajes a la luna\n",
      "HYPO: aplausos a qué es muy chulo\n",
      "REF:  aplausos a que es muy chulo\n",
      "HYPO: a sí misma fueron muchas las personas que nos preguntaron si podían replicar el proyecto si ellos podían hacer su especial a lo foto\n",
      "REF:  así mismo fueron muchas las personas que nos preguntaron si podían replicar el proyecto si ellos podían hacer su especial hallofoto\n"
     ]
    },
    {
     "name": "stderr",
     "output_type": "stream",
     "text": [
      " 57%|█████▋    | 80/140 [01:51<01:00,  1.01s/it]"
     ]
    },
    {
     "name": "stdout",
     "output_type": "stream",
     "text": [
      "HYPO: para ellas los grandes significativos son los encuentros que formamos y que organizamos en malo el mundo nuestro proyecto\n",
      "REF:  para ellas lo realmente significativo son los encuentros que formamos que organizamos en hallofoto en nuestro proyecto\n",
      "HYPO: ya me cuento ahora la creedadita y podría poner mi mano en esa laguna en las 59 de la semana siguiente\n",
      "REF:  que me volví a colgar la acreditación y volví a ponerme manos a la obra en la 59 edición de la seminci\n",
      "HYPO: aplausos muchas gracias\n",
      "REF:  aplausos muchas gracias\n",
      "HYPO: cuando la gente te habla de las paredes buenas de la nariz o este tipo de transporte yo voy a tener un vero y dos caballos por patatón\n",
      "REF:  cuando la fuente eche agua cuando las farolas vuelvan a dar luz y yo tenga un coche a motor voy a devolver dos caballos por papelito\n",
      "HYPO: y llegaron a córdoba a exhumar una fosa pasiva y se metieron municipales en misiles\n",
      "REF:  y llegaron a córdoba a exhumar una fosa masiva del cementerio municipal de san vicente\n",
      "HYPO: ahora mucho lo ven de a siete monedas me dice que vale el lugar 20 y esto dijera que valía\n",
      "REF:  ahora moncho los vende a 7 monedas y dice que va a devolver 20 monedas pero es tonto y quiere hacer viajes a la luna\n"
     ]
    },
    {
     "name": "stderr",
     "output_type": "stream",
     "text": [
      " 58%|█████▊    | 81/140 [01:52<00:58,  1.00it/s]"
     ]
    },
    {
     "name": "stdout",
     "output_type": "stream",
     "text": [
      "HYPO: en el mundo real el salón de los papelitos se llama la red neuronal mientras que los papelitos tienen dos nombres\n",
      "REF:  en el mundo real el salón de los papelitos se llama la bolsa de valores mientras que los papelitos pueden tener dos nombres\n",
      "HYPO: entonces la mirada de una que me dijo ahora me parece que empieza a parecerse lo que dijo el pelado de la fila\n",
      "REF:  entonces la miré a nina que me dijo ahora me parece que empieza a parecerse a lo que dijo el pelado de la tele\n",
      "HYPO: además nuestro programar también me ayudaba para aprender de una forma más divertida lo que estábamos dando en el colegio\n",
      "REF:  además programar también me ayudaba para aprender de una forma más divertida lo que estábamos dando en el cole\n",
      "HYPO: alguna década después llegó una revolución alcohólica ahora podemos comparar moleculas\n",
      "REF:  pero una década después llegó una revolución a los laboratorios ahora podíamos comparar moléculas\n",
      "HYPO: estos tableros que utilizamos para el proyecto se componen de pictogramas y del vocabulario núcleo\n",
      "REF:  estos tableros que utilizamos para el proyecto se componen de pictogramas y del vocabulario núcleo\n",
      "HYPO: todos en el pueblo entregaron sus cabazos a la local y desde ese día las tareas empezaron a ser abierta\n",
      "REF:  todos en el pueblo entregaron sus caballos al alcalde y desde ese día las tareas se empezaron a hacer a pie\n"
     ]
    },
    {
     "name": "stderr",
     "output_type": "stream",
     "text": [
      " 59%|█████▊    | 82/140 [01:53<00:57,  1.01it/s]"
     ]
    },
    {
     "name": "stdout",
     "output_type": "stream",
     "text": [
      "HYPO: y como también tenía los apelitos de pepo y vendió algo muy íntimo a lo que bautizó los bajos de riesgo\n",
      "REF:  y como también tenía papelitos de pepe inventó algo buenísimo a lo que bautizó los fajos de ernesto\n",
      "HYPO: por supuesto el pepe no tenía 10 000 poderes por día por la noche pero durante la noche se le ocurrió una manera de conseguir un ejemplo de vida\n",
      "REF:  por supuesto pepe no tenía 10 000 monedas porque era pobre pero durante la noche se le ocurrió una manera de conseguir esas 10 000 monedas\n",
      "HYPO: el gobierno y la prensa de españa decidieron enfrentar el mal poniendo en la superficie las estadísticas\n",
      "REF:  el gobierno y la prensa de españa decidieron enfrentar el mal poniendo en la superficie las estadísticas\n",
      "HYPO: cuando respirás ya te ves guiando a ver eso\n",
      "REF:  cuando respirás exhalación ya tenés ritmo adentro\n",
      "HYPO: carmen afilado la franquera con la compromete de tubería y mónichos había pintado de baño plástico para hacer viajes a la luna\n",
      "REF:  carmen afilaba las tijeras para su flamante peluquería y moncho había comprado dos caballos flacos para hacer viajes a la luna\n",
      "HYPO: y yo me di cuenta que no tenía la menor idea de cómo explicar a berenjí qué cosa era ella\n",
      "REF:  y yo me di cuenta de que no tenía la menor idea de cómo explicarle a un chico qué cosa era eso\n"
     ]
    },
    {
     "name": "stderr",
     "output_type": "stream",
     "text": [
      " 59%|█████▉    | 83/140 [01:53<00:53,  1.07it/s]"
     ]
    },
    {
     "name": "stdout",
     "output_type": "stream",
     "text": [
      "HYPO: risas estos siempre nombran siempre nombran los puentes y las computadoras\n",
      "REF:  risas estos siempre nombran siempre nombran los puentes y las computadoras\n",
      "HYPO: y cada uno se juntan un par de cachetos y en una buena hipoteca usan risas el problema es que la obra funciona mejor\n",
      "REF:  allá donde se junten un par de catetos y una buena hipotenusa risas el teorema de pitágoras funciona a tope a tope\n",
      "HYPO: el caso es que este punto con otros encuentros este es el punto que hicimos sobre cocinas ellas ven significado\n",
      "REF:  el caso es que en este junto con otros encuentros este es el encuentro que hicimos sobre cocina ellas ven significado\n",
      "HYPO: no no lo es para todos nosotros casi todos nosotros probablemente porque no lo es para la ley de los autos\n",
      "REF:  no no lo es para todos o casi todos nosotros probablemente porque no lo es para la ley\n",
      "HYPO: la mía era apretita bien nativa mentía con su traje típico\n",
      "REF:  la miré era pequeñita bien nativa vestida con su traje típico\n",
      "HYPO: montamos un laboratorio genética donde hay chicos jóvenes que están trabajando y son chistes\n",
      "REF:  montamos un laboratorio de genética donde hay chicos jóvenes que están trabajando yo lo sé muchísimo\n"
     ]
    },
    {
     "name": "stderr",
     "output_type": "stream",
     "text": [
      " 60%|██████    | 84/140 [01:54<00:49,  1.14it/s]"
     ]
    },
    {
     "name": "stdout",
     "output_type": "stream",
     "text": [
      "HYPO: sí es importante agradecerles a hablar en alto para quien ha vivido o está viviendo en trama\n",
      "REF:  sí es importante arriesgarnos hablar en alto para quien ha vivido o está viviendo el trauma\n",
      "HYPO: es verdad que la ciencia toda la ciencia solamente tiene sentido porque nos hace comprender mejor el mundo de este hermoso que estamos\n",
      "REF:  es verdad que la ciencia toda la ciencia solamente tiene sentido porque nos hace comprender mejor el mundo este hermoso en el que estamos\n",
      "HYPO: la creatividad es la expresión afectiva y cognitiva de cada individuo\n",
      "REF:  la creatividad es la expresión afectiva y cognitiva de cada individuo\n",
      "HYPO: estoy llena de luchesistas de colores que me hablan son de estrellas\n",
      "REF:  estoy llena de lucecitas de colores que me hablan son estrellas\n",
      "HYPO: el primer grupo es de siria seguido por el grupo que vino de irak el grupo que vende afganistán\n",
      "REF:  el primer grupo es de siria seguido por el grupo que vino de irak y el grupo que vino de afganistán\n",
      "HYPO: segunda organización mundial de la salud cerca de 800000 personas mueren por cinturón cada año\n",
      "REF:  según la organización mundial de la salud cerca de 800 000 personas mueren por suicidio cada año\n"
     ]
    },
    {
     "name": "stderr",
     "output_type": "stream",
     "text": [
      " 61%|██████    | 85/140 [01:55<00:47,  1.15it/s]"
     ]
    },
    {
     "name": "stdout",
     "output_type": "stream",
     "text": [
      "HYPO: los tableros de comunicación aumentativa son ayuda a las personas que no son verbales es decir personas que no tienen lenguaje oral\n",
      "REF:  los tableros de comunicación aumentativa son ayudas para las personas que no son verbales es decir personas que no tienen lenguaje oral\n",
      "HYPO: cada de las 85 mujeres que yo entrevisté en el transcurso de una investigación que hice sobre la violación sexual\n",
      "REF:  una de las 85 mujeres que yo entrevisté en el transcurso de una investigación que hice sobre la violación sexual\n",
      "HYPO: el corazón alejado alejo crema el hielo y la sucesoria pepe que estaba se acechando en la madera para encontrar otro lugar\n",
      "REF:  horacio ya buscaba leche crema hielo para su heladería pepe ya estaba serruchando la madera para el mostrador del bar\n",
      "HYPO: y empezamos a cambiar convocamos familia y empezamos a cruzar letras para escribir en nombre de hombres\n",
      "REF:  y empezamos a caminar convocamos familiares empezamos a cruzar letras para reescribir nombres\n",
      "HYPO: hoy en este lugar somos aproximadamente 5000 mujeres\n",
      "REF:  hoy en este lugar somos aproximadamente 5000 mujeres\n",
      "HYPO: el cine te da una visión amplia total de el mundo en todas sus ciencias y todas sus ideas y todas sus formas de ver la realidad\n",
      "REF:  el cine te da una visión amplia total del mundo de todas sus gentes de todas sus ideas de todas sus formas de ver la realidad\n"
     ]
    },
    {
     "name": "stderr",
     "output_type": "stream",
     "text": [
      " 61%|██████▏   | 86/140 [01:56<00:45,  1.20it/s]"
     ]
    },
    {
     "name": "stdout",
     "output_type": "stream",
     "text": [
      "HYPO: y esa funciona por institución por creatividad y las matemáticas toman la institución y toman la creatividad\n",
      "REF:  la ciencia funciona por intuición por creatividad y las matemáticas doman la intuición y doman la creatividad\n",
      "HYPO: hacemos mucho argentino cuando nos juntamos en una casa comemos unas a gas y había vino todo el día\n",
      "REF:  lo que hacemos muchos argentinos cuando nos juntamos nos comimos un asado y había vino también\n",
      "HYPO: me sentía culpable de haberlo estada me sentía fascía y sola\n",
      "REF:  me sentía culpable y avergonzada me sentía vacía y sola\n",
      "HYPO: y esta es una gráfica donde muestra el número de refugiados que entraba en alemania durante el año pasado\n",
      "REF:  esta es una gráfica que muestra el número de refugiados que entraron en alemania durante el año pasado\n",
      "HYPO: las paredes estaban a medio pintar de azul marino y pepe estaba contentísimo con los progresos de su barrio\n",
      "REF:  las paredes estaban a medio pintar de azul marino y pepe estaba contentísimo con los progresos de su bar\n",
      "HYPO: es muy importante que la peligrosidad del virus se potencia con la desinformación\n",
      "REF:  algo muy importante que la peligrosidad del virus se potencia con la desinformación\n"
     ]
    },
    {
     "name": "stderr",
     "output_type": "stream",
     "text": [
      " 62%|██████▏   | 87/140 [01:57<00:44,  1.20it/s]"
     ]
    },
    {
     "name": "stdout",
     "output_type": "stream",
     "text": [
      "HYPO: y vamos a escuchar cosas que no vamos a poder entender ni aceptar\n",
      "REF:  y vamos a escuchar cosas que no vamos a poder entender ni aceptar\n",
      "HYPO: cuando tuve atracas de pánico tenía amigos que estaban a solamente un mesaje con llamada de distancia\n",
      "REF:  cuando tuve ataques de pánico tenía amigos que estaban a solamente un mensaje o llamada de distancia\n",
      "HYPO: en cambio carmen todavía no había encontrado un buen local para estar a su vez con la ira aunque ya tenía docenas de estrellas afiladas\n",
      "REF:  en cambio carmen todavía no había encontrado un buen local para instalar su peluquería aunque ya tenía docenas de tijeras afiladas\n",
      "HYPO: quedaría tranquila y tal vez iría al centro de acceso a justicia donde le dirían que tiene tiempo y que la van a ayudar\n",
      "REF:  y se quedaría tranquila y tal vez se iría al centro de acceso a justicia donde le dirían que tiene tiempo y que la van a ayudar\n",
      "HYPO: con el tiempo recibí la ayuda que necesitábamos y pude recuperarme contra el tono de exceso de su muerte\n",
      "REF:  con el tiempo recibí la ayuda que necesitaba y pude recuperarme del trastorno de estrés postraumático\n",
      "HYPO: esto era acá para dar o que no se dice que se quiere\n",
      "REF:  estoy acá para darles lo que no se dice que se tiene\n"
     ]
    },
    {
     "name": "stderr",
     "output_type": "stream",
     "text": [
      " 63%|██████▎   | 88/140 [01:57<00:43,  1.20it/s]"
     ]
    },
    {
     "name": "stdout",
     "output_type": "stream",
     "text": [
      "HYPO: y siguió el chico se dejó el valor y se dio el territorio por no poder tener la reabilidad humana\n",
      "REF:  y siguió el tipo dice se disparó el valor nominal del bono por no poder sostener las obligaciones de deuda\n",
      "HYPO: para crear para poder confiar en que realmente ella fue una víctima\n",
      "REF:  para creerle para poder confiar en que realmente ella fue una víctima\n",
      "HYPO: y en cura de carlos sacando algunas monedas de abajo de su sofá dijo eso vivía muy creciana\n",
      "REF:  y el cura ricardo sacando algunas monedas de abajo de su sotana dijo es una idea muy cristiana\n",
      "HYPO: y a esto les ha dado también un fuerte sultra que detrás de la seguridad informática las tarjetas en qué nos están los números primos\n",
      "REF:  ahora a estos les ha dado también por decirte que detrás de la seguridad informática y las tarjetas de crédito están los números primos\n",
      "HYPO: a la hora de jugar a los niños dos muertos de fútbol y una pelota y de arena en el interior\n",
      "REF:  a la hora de jugar a los niños nos vuelve locos la wii la psp la nintendo\n",
      "HYPO: y sirve para que podamos agarrarnos de las dudas y sentirnos más cómodos con las dudas\n",
      "REF:  sirve para que podamos agarrarnos de las dudas y sentirnos más cómodos con las dudas\n"
     ]
    },
    {
     "name": "stderr",
     "output_type": "stream",
     "text": [
      " 64%|██████▎   | 89/140 [01:58<00:43,  1.18it/s]"
     ]
    },
    {
     "name": "stdout",
     "output_type": "stream",
     "text": [
      "HYPO: entonces hubo un tucu dentro de la plaza y monzo era el tonto del pueblo el pregunte parapepe\n",
      "REF:  entonces hubo susurros en toda la plaza y moncho que era el tonto del pueblo preguntó pará pepe\n",
      "HYPO: el acto derecho del iron man no era rico pero el iron man era más rico y les sacó de las manos por 8 monedas del papelito\n",
      "REF:  trato hecho dijo ernesto que era rico pero quería ser todavía más rico y le sacó de las manos por ocho monedas el papelito\n",
      "HYPO: todas las participantes del grupo nos han mostrado formas de comunicarse y formas de interactuar\n",
      "REF:  todas las participantes del grupo nos han mostrado formas de comunicarse y formas de interactuar\n",
      "HYPO: en este espacio me sentí como si pudiera hacerlo y me quedé allí todo el tiempo que podía\n",
      "REF:  en este espacio me sentí como si pudiera hacerlo y me quedé allí todo el tiempo que pude\n",
      "HYPO: durante el verano de 2016 viajé sola a amsterdam antes de estudiar en salamanca en españa\n",
      "REF:  durante el verano del 2016 viajé sola a amsterdam antes de estudiar en salamanca en españa\n",
      "HYPO: uds alguna vez se imaginaron como llamaron a un hombre que no tiene nombre de apellidos\n",
      "REF:  uds alguna vez se imaginaron cómo llamar o nombrar a alguien que no tiene nombre ni apellido\n",
      "HYPO: aplausos\n",
      "REF:  aplausos\n"
     ]
    },
    {
     "name": "stderr",
     "output_type": "stream",
     "text": [
      " 64%|██████▍   | 90/140 [01:59<00:41,  1.20it/s]"
     ]
    },
    {
     "name": "stdout",
     "output_type": "stream",
     "text": [
      "HYPO: risas el que orna a pitágoras esto es verdad aunque salga muerto a pitágoras pero es de los dos\n",
      "REF:  risas el teorema de pitágoras eso es verdad aunque se haya muerto pitágoras te lo digo yo\n",
      "HYPO: probablemente recuerdan esta imagen de la cancillera que la meal que la dio se murió selfie con un refugiado\n",
      "REF:  probablemente recuerdan esta imagen de la cancillera angela merkel haciéndose un selfie con un refugiado\n",
      "HYPO: a esos cargos se iban subiendo mucho vacío y yo traté de una fila larga esperando para su meta\n",
      "REF:  a esos carros se iban subiendo muchos vecinos y otros hacían una fila larga esperando para subir\n",
      "HYPO: por fin a mí no me pude de canalizar mis sentimientos hacia el cine de ese espacio de abrir un mundo de vida a los demás\n",
      "REF:  por fin encontré la manera de canalizar mis sentimientos hacia el cine de expresarme de abrir mi mundo interior a los demás\n",
      "HYPO: la otra mitad no habla porque temen que no les crean\n",
      "REF:  la otra mitad no habla porque temen que no les crean\n",
      "HYPO: pero cuando yo era chica cuando yo era chica me habían ayudado a la abuela y se sumergió\n",
      "REF:  pero cuando no les das suena el sonido del agua y se suma un fallo\n",
      "HYPO: en el siglo xiv se les piste provocada por un pi ojo que se movían las ratas\n",
      "REF:  en el siglo xiv la peste negra provocada por un piojo que se movía en las ratas\n"
     ]
    },
    {
     "name": "stderr",
     "output_type": "stream",
     "text": [
      " 65%|██████▌   | 91/140 [02:00<00:40,  1.20it/s]"
     ]
    },
    {
     "name": "stdout",
     "output_type": "stream",
     "text": [
      "HYPO: esta es la pregunta que nos hicimos cuatro amigos con el tercero forza ramos que yo plena y meta\n",
      "REF:  esta es la pregunta que nos hicimos cuatro amigos con el jersey rojo sandra luego estoy yo lina y peter\n",
      "HYPO: pensé no puedo usar campaneros y cajo por ahí le digo algo y el tico nada que ver y lo fes todos\n",
      "REF:  pensé no puedo ser tan paranoica por ahí le digo algo y el tipo nada que ver y lo ofendo\n",
      "HYPO: pero me dijo que me quedara tranquila que yo le gustaba y que no iba a pasar nada si yo no quería y me hablaba bien\n",
      "REF:  pero me dijo que me quedara tranquila que yo le gustaba que no iba a pasar nada si yo no quería me hablaba bien\n",
      "HYPO: puedo llenar el espacio con piezas iguales sin dejar huecos buenos arduos cuando yo vuelva\n",
      "REF:  si quiero llenar el espacio con piezas iguales sin dejar huecos puedo usar cubos verdad\n",
      "HYPO: y no es una cosa no es fría es lo que veis en mítolos no es frío es lo que veis en frío\n",
      "REF:  y os voy a decir algo no os fieis de lo que veis de mí todos los días de lo que veis en fotos y videos\n",
      "HYPO: entonces este asesor a munch que se subió al primer carro y dijo vamos todos a la luna\n",
      "REF:  entonces pepe abrazó a moncho se subió al primer carro y gritó vamos todos a la luna\n",
      "HYPO: y hernesto era rico y en vez de decir esto él dice a mí me duele me parece que es muy muy lejano\n",
      "REF:  y ernesto que era rico y entendía de negocios dijo a mí la idea me parece muy bien\n"
     ]
    },
    {
     "name": "stderr",
     "output_type": "stream",
     "text": [
      " 66%|██████▌   | 92/140 [02:01<00:44,  1.08it/s]"
     ]
    },
    {
     "name": "stdout",
     "output_type": "stream",
     "text": [
      "HYPO: porque nuestro organismo nuestro sistema inmune es profundamente xenófobo\n",
      "REF:  porque nuestro organismo nuestro sistema inmune es profundamente xenófobo\n",
      "HYPO: a pepe solamente le afectaba clavar el palento y para que los caballos de los vecinos pasaran fuera del bar\n",
      "REF:  a pepe solamente le faltaba clavar el palenque para que los caballos de los vecinos pastaran fuera del bar\n",
      "HYPO: para tocar este chico este año hecho con niños de 4 años tengo que evitarme los zapatos de él\n",
      "REF:  para tocar este súper piano hecho por niños de cuatro años tengo que quitarme los zapatos\n",
      "HYPO: y entonces hablando por teléfono conmigo me doy cuenta cómo\n",
      "REF:  y entonces hablando por teléfono conmigo me doy cuenta cómo\n",
      "HYPO: como diciendo mis diretores favoritos las subo a tener las películas como las pedras y los zapatos que han he ido a él\n",
      "REF:  como dice uno de mis directores favoritos lars von trier las películas son como las piedras en los zapatos tienen que doler\n",
      "HYPO: yo les expliqué que en el mundo real los papelitos judiciales del alcalde se llaman círculos de eduardo ii\n",
      "REF:  yo le expliqué que en el mundo real los papelitos oficiales del alcalde se llaman títulos de deuda pública\n",
      "HYPO: se convirtió en un teorema del banal que va a ser verdad para siempre siempre es la mismas que cualquier diámetro que tengas\n",
      "REF:  y eso se convirtió en un teorema el teorema del panal que va a ser verdad para siempre siempre jamás más que cualquier diamante que tengas\n"
     ]
    },
    {
     "name": "stderr",
     "output_type": "stream",
     "text": [
      " 66%|██████▋   | 93/140 [02:02<00:46,  1.02it/s]"
     ]
    },
    {
     "name": "stdout",
     "output_type": "stream",
     "text": [
      "HYPO: y no sabemos si nos vamos a sentir mucha más tranquilidad y podremos comprar más papelitos del compro del pueblo\n",
      "REF:  dijo sabino así vamos a sentir mucha más tranquilidad y podremos comprar más papelitos del tonto del pueblo\n",
      "HYPO: llegué así a casa queriendo borrar ese deporte para que me hiciera una cosa pero todo cambió a que yo me moría\n",
      "REF:  regresé a casa queriendo borrar este recuerdo para siempre pero todo cambió rápidamente\n",
      "HYPO: los talleres de fotografía los hicieron pita y santa que son los fotógrafos del grupo\n",
      "REF:  los talleres de fotografía los hicieron peter y sandra que son los fotógrafos del grupo\n",
      "HYPO: voy a compensar dos monedas más a los que me ayudan a cumplir mis sueños que es abrir un plan\n",
      "REF:  voy a compensar con dos monedas más a los que me ayuden a cumplir mi sueño que es abrir un bar\n",
      "HYPO: se lo presentamos a nuestros fuentes públicos de colonia y se expulsó a asvalo bastante con el proyecto\n",
      "REF:  se lo presentamos a los transportes públicos de colonia y se entusiasmaron bastante con el proyecto\n",
      "HYPO: los vecinos que tenían papelitos de moncho o de carne estaban inquietos y ya no podían prenderse los anáves\n",
      "REF:  los vecinos que tenían papelitos de moncho o de carmen estaban inquietos y ya no podían vendérselos a nadie\n",
      "HYPO: imagina las ideas y compartes y puedo poner un tablet un poco de imaginación y un ordenador\n",
      "REF:  imaginas creas y compartes y todo con unos cables un poco de imaginación y un ordenador\n"
     ]
    },
    {
     "name": "stderr",
     "output_type": "stream",
     "text": [
      " 67%|██████▋   | 94/140 [02:03<00:44,  1.04it/s]"
     ]
    },
    {
     "name": "stdout",
     "output_type": "stream",
     "text": [
      "HYPO: nadie pensó que esto fuese extraño ni me habló cuando me vio llorada\n",
      "REF:  nadie pensó que esto fuese extraño ni me habló cuando me vió llorar\n",
      "HYPO: incluso la alcalde después de hablarlo con un consultoritario decidió sumar esta nueva moda\n",
      "REF:  incluso el alcalde después de hablarlo con su secretario decidió sumarse a la nueva moda\n",
      "HYPO: no queríamos una exposición al luso no queríamos una exposición en el museo en una galería de arte\n",
      "REF:  pero no queríamos hacer una exposición al uso no queríamos hacer una exposición en un museo o en una galería de arte\n",
      "HYPO: dejad de ser solo jugadores de juegos y convertiros en creadores de historias juegos programas y proyectos musicales\n",
      "REF:  dejad de ser solo jugadores de juegos y convertiros en creadores de historias juegos programas proyectos musicales\n",
      "HYPO: todo el mundo sabía que era muy generoso pero realmente no tenía a plena de nadie para comenzar las películas de vida\n",
      "REF:  todos sabían que era muy cinéfilo pero no tenía a prácticamente nadie con quien comentar las películas que veía\n",
      "HYPO: en un momento determinado simplemente bequete al carácter y ove a la voz\n",
      "REF:  en un momento determinado simplemente me quedé allí y lloré\n",
      "HYPO: me tomaron una barra de madera en el baño se había convertido en dos baños un para dama otro para vaciol\n",
      "REF:  en el comedor había una barra de madera el baño se había convertido en dos baños uno para damas otro para caballeros\n"
     ]
    },
    {
     "name": "stderr",
     "output_type": "stream",
     "text": [
      " 68%|██████▊   | 95/140 [02:04<00:45,  1.01s/it]"
     ]
    },
    {
     "name": "stdout",
     "output_type": "stream",
     "text": [
      "HYPO: en todo este tiempo desarrollado me he hecho predecir lo que es la afasia y lo que es la identidad de la palabra que te rodea\n",
      "REF:  en este tiempo he desarrollado un gusto por el cine que va más allá del significado de la palabra entretenimiento\n",
      "HYPO: para ser exacto nuestro genoma es el 999 de gente cuenta en nosotros\n",
      "REF:  para ser exacto nuestro genoma es 999 idéntico entre nosotros\n",
      "HYPO: nosotros organizamos estos encuentros interculturales por temas y los temas nos decidieron ellas\n",
      "REF:  nosotros organizamos estos encuentros interculturales por temas y los temas los decidieron ellas\n",
      "HYPO: son etiquetadas renombradas por un diagnóstico que no habla de la persona\n",
      "REF:  son etiquetadas renombradas por un diagnóstico que no habla de la persona\n",
      "HYPO: el resultado es que una semana de estímulos y más estímulos aprendí muchísimo\n",
      "REF:  el resultado fue una semana de cine cine y más cine en la que aprendí muchísimo\n",
      "HYPO: yo les puedo asegurar que en la mayoría de los casos judiciales no hay marcas de alcance\n",
      "REF:  yo les puedo asegurar que en la mayoría de los casos judiciales no hay marcas que alcancen\n",
      "HYPO: risas hardy por ejemplo es un exponente de estas técnicas\n",
      "REF:  risas hardy por ejemplo es un exponente de este ataque\n"
     ]
    },
    {
     "name": "stderr",
     "output_type": "stream",
     "text": [
      " 69%|██████▊   | 96/140 [02:05<00:43,  1.02it/s]"
     ]
    },
    {
     "name": "stdout",
     "output_type": "stream",
     "text": [
      "HYPO: con eso había conseguido batir leyes frutas para su laidería y nomás le quedaba tres barras de la ira y de la ciudad\n",
      "REF:  horacio había conseguido batir leche y frutas para su heladería y nomás le quedaba traer barras de hielo desde la ciudad\n",
      "HYPO: risas ese pérdido es un mandato\n",
      "REF:  suspiro ese pedido es un mandato\n",
      "HYPO: la importancia de la lengua la identidad no salgo a estadio el salgo te va cambiando\n",
      "REF:  la utilización de la lengua y la identidad no es algo estático es algo que va cambiando\n",
      "HYPO: en casi 10 personas al día una cada dos horas de la mañana\n",
      "REF:  casi diez personas al día una cada dos horas y media\n",
      "HYPO: sin embargo cuando quedó a la plaza del pueblo sin un funcionario de lo que estaba pasando\n",
      "REF:  sin embargo cuando llegó a la plaza del pueblo no entendió nada de lo que estaba pasando\n",
      "HYPO: es para ayudar yo lo hago por uds y así pasó la tercera semana\n",
      "REF:  es para ayudar yo lo hago por uds y así pasó la tercera semana\n",
      "HYPO: de repente me tapó la boca con una mano y con la otra se desabierto el círculo de ojos\n",
      "REF:  de repente me tapó la boca con una mano y con la otra se desabrochó el cinturón\n"
     ]
    },
    {
     "name": "stderr",
     "output_type": "stream",
     "text": [
      " 69%|██████▉   | 97/140 [02:06<00:41,  1.03it/s]"
     ]
    },
    {
     "name": "stdout",
     "output_type": "stream",
     "text": [
      "HYPO: el lenguaje les pertenece a los abogados y a las abogadas a los jueces y a las jueces pero no ud\n",
      "REF:  el lenguaje le pertenece a los abogados y a las abogadas a los jueces y a las juezas pero no a ud\n",
      "HYPO: empezó en asia y de allí pasó a venecia el puerto más cosmopolita de sudamérica\n",
      "REF:  empezó en asia y de allí pasó a venecia el puerto más cosmopolita de su tiempo\n",
      "HYPO: además de las competencias comunicativas también quisimos desarrollar las competencias creativas\n",
      "REF:  además de las competencias comunicativas también quisimos desarrollar las competencias creativas\n",
      "HYPO: así que mi hija joven un amigo mío entre las dos nos pusimos manos a la obra\n",
      "REF:  así que se lo dije a juanje un amigo mío y entre los dos nos pusimos manos a la obra\n",
      "HYPO: es necesario a ellos devolverles o describir su nombre de su aprendiz\n",
      "REF:  es necesario devolverles su identidad reescribir su nombre y su apellido\n",
      "HYPO: la música de la vida fuerte ponemos el batería en la mano y nos preguntamos dónde está la mandícola\n",
      "REF:  damos a la bandera verde lo ponemos en pantalla grande para que se vea mejor y te dice dónde está la mandíbula\n",
      "HYPO: aplausos gracias\n",
      "REF:  aplausos gracias\n"
     ]
    },
    {
     "name": "stderr",
     "output_type": "stream",
     "text": [
      " 70%|███████   | 98/140 [02:07<00:39,  1.06it/s]"
     ]
    },
    {
     "name": "stdout",
     "output_type": "stream",
     "text": [
      "HYPO: y por esta razón pensamos pues bueno nos vamos a licenciar para que todo el mundo lo pueda utilizar\n",
      "REF:  y por esta razón pensamos lo vamos a licenciar para que todo el mundo lo pueda utilizar\n",
      "HYPO: el discurso de la refugiados en contra de los refugiados es bastante colectivo pues van a ir islavizados\n",
      "REF:  el discurso en contra de los refugiados es bastante conocido nos van a islamizar\n",
      "HYPO: esa tarde joven y joven pasó por la casa de pepes y le dio un buen nombre para el barrio\n",
      "REF:  esa tarde su amigo moncho pasó por la casa de pepe y le dio un buen nombre para el bar\n",
      "HYPO: risas y yo sentadlo\n",
      "REF:  risas sonido de tambor suenas a un tambor\n",
      "HYPO: empecé a jugar a mi casa con 10 mil monedas en la mochila y se durmieron pensando en su sueño abriéndome\n",
      "REF:  pepe se fue a su casa con 10 000 monedas en la mochila y se durmió pensando en su sueño abrir un bar\n",
      "HYPO: la red de este kit que habían sido amigos durante muchos años dejaron de hablar a sus palestinos\n",
      "REF:  ernesto y quique que habían sido amigos durante muchos años dejaron de hablarse para siempre\n",
      "HYPO: y yo me dijo como se viste ellas las amigas las nini los escotes\n",
      "REF:  viste cómo se viste ella y las amigas las minis los escotes\n"
     ]
    },
    {
     "name": "stderr",
     "output_type": "stream",
     "text": [
      " 71%|███████   | 99/140 [02:08<00:41,  1.01s/it]"
     ]
    },
    {
     "name": "stdout",
     "output_type": "stream",
     "text": [
      "HYPO: en ese momento del cuento fue que me quedé mirando a mi hijo para ver si estaba entendiendo esto de él\n",
      "REF:  en ese momento del cuento yo frené y me quedé mirando a mi hija para ver si estaba entendiendo la historia\n",
      "HYPO: y por eso rechazamos un virus una bacteria cuánto más vamos a rechazar a una bacteria\n",
      "REF:  y por eso rechazamos un virus una bacteria cuánto más vamos a rechazar un órgano entero\n",
      "HYPO: esta es la de san silva que dice que el genitalista y el escenario las matemáticas están detrás del todo\n",
      "REF:  y los que están a la defensiva te dicen que aunque no te des cuenta cariño las matemáticas están detrás de todo\n",
      "HYPO: podríamos extraer moléculas de una célula viva o muerta que compagnie\n",
      "REF:  podíamos extraer moléculas de una célula viva o muerta y compararlas\n",
      "HYPO: cuando tenía cinco años y empezaba a leer mi querido abuelo carlos felipe me regaló un libro de aventuras\n",
      "REF:  cuando tenía cinco años y empezaba a leer mi querido abuelo carlos felipe me regaló un libro de aventuras\n",
      "HYPO: todos los días tenía que salir de la crónica con las películas que veía con mi papá o sr de dios con el que me había desgustado\n",
      "REF:  cada día tenía que escribir una crónica con las películas que veía lo que me había gustado de ellas lo que me había disgustado\n",
      "HYPO: mientras caminaba por los vacíos de los pisos miraba las imágenes y las historias\n",
      "REF:  mientras caminaba por los pasillos y los pisos miraba las imágenes y las historias\n"
     ]
    },
    {
     "name": "stderr",
     "output_type": "stream",
     "text": [
      " 71%|███████▏  | 100/140 [02:09<00:36,  1.09it/s]"
     ]
    },
    {
     "name": "stdout",
     "output_type": "stream",
     "text": [
      "HYPO: todo el mundo lo rasee con los papelitos con los nombres con los nombres con los nombres con todos\n",
      "REF:  todo el mundo enloqueció con los papelitos con los míos con los de carmen con los tuyos con todos\n",
      "HYPO: de esta manera tan simple que en una sola mañana pepe consiguió la puerta para venir a su casa\n",
      "REF:  de esa manera tan simple y en una sola mañana pepe consiguió la plata para abrir su bar\n",
      "HYPO: y una de las cosas que hicimos más o menos a la gente hablar de la clave entre ellos para ser un gatillo\n",
      "REF:  disfruto mucho viendo a la gente hablar interactuar entre ellos pasear sin ser un cotilla\n",
      "HYPO: por ejemplo por qué no bajó la ventanilla y pidió auxilio\n",
      "REF:  por ejemplo por qué no bajó la ventanilla y pidió auxilio\n",
      "HYPO: y aquí me tenía la idea sopitas no una caída de apetitio saco gana un hueco\n",
      "REF:  y aquí me teníais con 15 años y una acreditación de periodista colgada al cuello\n",
      "HYPO: nos que tengamos que sufrir con todas y cada una de las películas pero tenemos que sentir emociones verdaderas\n",
      "REF:  no es que tengamos que sufrir con todas y cada una de las películas pero tenemos que sentir emociones verdaderas\n",
      "HYPO: mapuz en el año 300 dijo que lo mejor era usar echar o hacer las abigas\n",
      "REF:  pappus de alejandría en el año 300 dijo que lo mejor era usar hexágonos como hacen las abejas\n"
     ]
    },
    {
     "name": "stderr",
     "output_type": "stream",
     "text": [
      " 72%|███████▏  | 101/140 [02:10<00:34,  1.12it/s]"
     ]
    },
    {
     "name": "stdout",
     "output_type": "stream",
     "text": [
      "HYPO: muchas veces tenemos los restos pero han pasado tantos años en las universidades y en los escenarios\n",
      "REF:  muchas veces tenemos los restos pero han pasado tantos años que los familiares ya no están\n",
      "HYPO: al barrio que le pasó a la peluquería de cancún le pusimos 5 para el heladería de oráxel 7\n",
      "REF:  al bar de pepe le puso un ocho a la peluquería de carmen le puso un cinco a la heladería de horacio un siete\n",
      "HYPO: pero cuando una mujer cuenta lo que le pasó su historia no cabe ni sobre este segundos\n",
      "REF:  pero cuando una mujer cuenta lo que le pasó su historia no cabe en 10 o 20 segundos\n",
      "HYPO: y ya se sabe que cuando una idea traslochada tiene un rumbre empieza a caer del aire\n",
      "REF:  y ya se sabe que cuando una idea trasnochada tiene un nombre ya empieza a caminar esa idea\n",
      "HYPO: para córdoba en muchos casos no se sabía de dónde venía el contrario\n",
      "REF:  para colmo en muchos de los casos no se sabía de dónde venía el contagio\n",
      "HYPO: la cultura del emprendida que comentaba ángel ámer que desde el principio no fue siempre valentina por todos\n",
      "REF:  la cultura de bienvenida fomentada por angela merkel desde un principio no fue siempre valorada por todos\n",
      "HYPO: saber que hay una proporción de esas letras que tienen en común es algo que hace para sentirse\n",
      "REF:  y saber que hay una proporción de esas letras que tienen en común de acuerdo a ese parentesco\n",
      "HYPO: si auto reconoce como tal y se tolera le rechaza todo lo contrario\n",
      "REF:  se autoreconoce como tal y se tolera y rechaza todo lo extraño\n"
     ]
    },
    {
     "name": "stderr",
     "output_type": "stream",
     "text": [
      " 73%|███████▎  | 102/140 [02:10<00:32,  1.16it/s]"
     ]
    },
    {
     "name": "stdout",
     "output_type": "stream",
     "text": [
      "HYPO: en otros de los secuestros los fuimos a un centro de aventuras donde había tibolinas juegos de equilibrio túneles\n",
      "REF:  en otro de los encuentros nos fuimos a un centro de aventuras donde había tirolinas había juegos de equilibrios túneles\n",
      "HYPO: creo que viene a la mente cuando escucháis las palabras las son las estrellas de un animal\n",
      "REF:  qué os viene a la mente cuando escucháis las palabras trastorno de estrés postraumático\n",
      "HYPO: para que accede encuentren amigos y movimientos\n",
      "REF:  para que a su vez encuentre caminos y movimiento\n",
      "HYPO: el peor me dice que sí el poder\n",
      "REF:  el espejo me dice que sí podés\n",
      "HYPO: primero que pierden las personas con discapacidad cuando nace es su identidad\n",
      "REF:  lo primero que pierden las personas con discapacidad cuando nacen es su identidad\n",
      "HYPO: mi ancla yendo acá para que me acerque a uds\n",
      "REF:  me han traído acá para que me acerque a ustedes\n",
      "HYPO: solo el 01 de las personas con autismo tienen autismo\n",
      "REF:  solo el 01 de nuestro genoma permite distinguirnos o identificarnos\n",
      "HYPO: es decir en las películas tú no entras en la película simplemente te dirán que es observarla desde fuera\n",
      "REF:  en el cine en las películas tú no entras simplemente te dignas a observarlas desde fuera\n"
     ]
    },
    {
     "name": "stderr",
     "output_type": "stream",
     "text": [
      " 74%|███████▎  | 103/140 [02:11<00:30,  1.20it/s]"
     ]
    },
    {
     "name": "stdout",
     "output_type": "stream",
     "text": [
      "HYPO: entonces el flaco me preguntó dónde vivía y me dijo que si me parecía bien enleasertar\n",
      "REF:  entonces el flaco me preguntó dónde vivía y me dijo que si me parecía bien él me acercaba\n",
      "HYPO: es un proyecto intercultural para chicas de adolescentes entre 13 y 17 años\n",
      "REF:  es un proyecto intercultural para chicas adolescentes entre 13 y 17 años\n",
      "HYPO: a veces como sad y a veces fueron fotógrafas ellas lo decidieron\n",
      "REF:  a veces posaron y a veces fueron fotógrafas ellas lo decidieron\n",
      "HYPO: que tienen estrellas en las manos que les miran y los abran\n",
      "REF:  tener estrellas en las manos que nos miran y nos hablan\n",
      "HYPO: en un momento terminé tomada nuestra adolescencia\n",
      "REF:  en un momento terminé de tomarle muestra a una madre\n",
      "HYPO: porque siempre había segundas y tercera sonidas que se han llevado a los depredados\n",
      "REF:  porque siempre ha habido segundas y terceras oleadas que se han llevado a los desprevenidos\n",
      "HYPO: el apoyo la acertación y tener a alguien diferente y se me hicieron buscar esta idea\n",
      "REF:  el apoyo la aceptación y tener alguien cerca me permitieron buscar esa ayuda\n",
      "HYPO: el martes fue todavía peor y el miedo con el sano se podía caminar por la plaza del río mojavega\n",
      "REF:  el martes fue todavía peor y el miércoles ya no se podía caminar por la plaza del quilombo que había\n"
     ]
    },
    {
     "name": "stderr",
     "output_type": "stream",
     "text": [
      " 74%|███████▍  | 104/140 [02:12<00:28,  1.24it/s]"
     ]
    },
    {
     "name": "stdout",
     "output_type": "stream",
     "text": [
      "HYPO: cuando un matemático lo pregunta para qué sirven las matemáticas los matemáticos dividimos el grupo\n",
      "REF:  ante esto cuando a un matemático le preguntan para qué sirven las matemáticas los matemáticos nos dividimos en grupos\n",
      "HYPO: este pequeño local se la hundó en puebla y fue la utilizado con el nombre del salón de los papelitos\n",
      "REF:  este pequeño local se inauguró el jueves y fue bautizado con el nombre de el salón de los papelitos\n",
      "HYPO: risas imaginaos que tengo aquí un campo grande enorme infinito\n",
      "REF:  por ejemplo imaginaos que tengo aquí un campo grande enorme infinito\n",
      "HYPO: para esto hicieron estos talleres de fotografía para generar esta creatividad\n",
      "REF:  para eso se hicieron estos talleres de fotografía para generar esta creatividad\n",
      "HYPO: están viendo que se vaya ahora que se vaya allá los chicos no están las cosas esparramadas\n",
      "REF:  le están pidiendo que se vaya ahora que se vaya ya los chicos no están las cosas desparramadas\n",
      "HYPO: de repente empezó a ver los papelitos que ponía y era el caldo que sacó del pueblo\n",
      "REF:  de repente empezó a haber más papelitos que monedas y el alcalde se escapó del pueblo\n",
      "HYPO: entonces si soñamos con una sociedad inclusiva la clave es la escuela\n",
      "REF:  entonces si soñamos con una sociedad inclusiva la clave está en la escuela\n",
      "HYPO: la busco y conciento de qué violación me habla\n",
      "REF:  si se la buscó y consintió de qué violación me hablan\n"
     ]
    },
    {
     "name": "stderr",
     "output_type": "stream",
     "text": [
      " 75%|███████▌  | 105/140 [02:13<00:28,  1.25it/s]"
     ]
    },
    {
     "name": "stdout",
     "output_type": "stream",
     "text": [
      "HYPO: si tuviera un traductor en el teléfono sin perder ningún informe podría leer\n",
      "REF:  si tuviera un traductor en el teléfono sin perder ninguna información podría leer esto\n",
      "HYPO: es de lunes la plaza esclavación es de gente mucho más de lunes de lunes\n",
      "REF:  ese lunes la plaza estaba llena de gente mucho más que en un lunes normal\n",
      "HYPO: las fotos nos parecían tan preciosas que pensamos que deberíamos hacerlo en una de las cosas\n",
      "REF:  las fotos nos parecieron tan preciosas que pensamos que deberíamos hacer una exposición\n",
      "HYPO: si una señora necesita ayuda para tirar el campanario y nadie le quiere usar el papelito de una señora\n",
      "REF:  yo ahora necesito monedas para arreglar el campanario y nadie me quiere comprar los papelitos de moncho\n",
      "HYPO: en cada movimiento que hacemos estos ritmos que ha creado\n",
      "REF:  en cada movimiento que hacemos está el ritmo que has creado\n",
      "HYPO: este periódico artista en la fuente rota me decía no me gustaría que fuera de mí\n",
      "REF:  pepe vio un cartel colgado en la fuente rota que decía moncho hace viajes a la luna\n",
      "HYPO: también en otros continentes áfrica por ejemplo en la sudáfrica desde la siglo xix\n",
      "REF:  también en otros continentes áfrica por ejemplo la sudáfrica que encarceló a mandela\n",
      "HYPO: ahora solamente faltaba que lloraran los vecinos a caballo con las grandes muertas de sangre\n",
      "REF:  ahora solamente faltaba que llegaran los vecinos a caballo con las gargantas muertas de sed\n"
     ]
    },
    {
     "name": "stderr",
     "output_type": "stream",
     "text": [
      " 76%|███████▌  | 106/140 [02:14<00:30,  1.10it/s]"
     ]
    },
    {
     "name": "stdout",
     "output_type": "stream",
     "text": [
      "HYPO: google dice que es demasiado caro para los pocos que somos la comunidad de los que hacemos de dentro\n",
      "REF:  google dice que es demasiado caro para los pocos que somos la comunidad de los que hacemos derecho\n",
      "HYPO: risas la banca de inversión colapsó de lo que se está suicidando los astrónomos\n",
      "REF:  risas la banca de inversión colapsó dijo se están suicidando los accionistas\n",
      "HYPO: punto renombre es el interfaccio pero cómo le explican a un nene del colapso de los 200 km de distancia\n",
      "REF:  un terremoto se explica fácil pero cómo le explican a un nene el colapso del sistema financiero\n",
      "HYPO: aplausos\n",
      "REF:  aplausos ovación\n",
      "HYPO: el eje se vio la fachada de su bañiz con el cartel de un inicio a todo caso\n",
      "REF:  de lejos se vio la fachada de su bar con el cartel luminoso a todo trapo\n",
      "HYPO: y yo dije más de quedarme en casa tranquilo al conocido viendo una película\n",
      "REF:  y no os digo más de quedarme en casa tranquilo al calorcito viendo una película\n",
      "HYPO: risas a veces son esta canción\n",
      "REF:  risas a ver si os suena esta canción\n",
      "HYPO: la magia felps la ropa 8 de la idea de oro se convirtió en el mejor nadador de todos los tiempos\n",
      "REF:  allá michael phelps ganó 8 medallas de oro se convirtió en el mejor nadador de todos los tiempos\n"
     ]
    },
    {
     "name": "stderr",
     "output_type": "stream",
     "text": [
      " 76%|███████▋  | 107/140 [02:15<00:29,  1.11it/s]"
     ]
    },
    {
     "name": "stdout",
     "output_type": "stream",
     "text": [
      "HYPO: hace unos días cambié mis últimas lembradas por un papelito de qué pegué el necesito de fumar\n",
      "REF:  hace unos días cambié mis últimas 10 monedas por un papelito de pepe y ahora necesito fumar\n",
      "HYPO: se pueden llamar donos o ciudades de países en otros países se llaman civilizaciones\n",
      "REF:  se pueden llamar bonos en algunos países en otros países se llaman obligaciones\n",
      "HYPO: la población mundial se ha redujo en un tredo de medio 100 por culpa de esa materia\n",
      "REF:  la población mundial se redujo entre 25 y 5 por culpa de esa pandemia\n",
      "HYPO: me lo dije un poco en el modelo periodístico pero creo que lo que saque de ahí fue muchísimo más que eso\n",
      "REF:  me metí un poco en el mundo periodístico pero lo que saqué de ahí fue muchísimo más que eso\n",
      "HYPO: me trataba de calmarlo le decía cosas lindas de él\n",
      "REF:  trataba de calmarlo le decía cosas lindas de él\n",
      "HYPO: y otras que las miramos desde lejos con envidia a veces pero sabiendo que somos un soporte\n",
      "REF:  y hay otras que la miramos desde lejos con envidia a veces pero sabiendo que somos su soporte\n",
      "HYPO: la realidad es un poco distinta\n",
      "REF:  la realidad nuestra risas es un poco distinta\n",
      "HYPO: y encima decidió así que tenía que hacer el mejor cine de autos de europa más magnífico\n",
      "REF:  y qué iba a decir yo a 7 días del mejor cine de autor de europa y encima gratis\n",
      "HYPO: esta canción la voy a dedicar a mi abuela que para muchísimas semanas va a ser como esta\n",
      "REF:  esta canción se la voy a dedicar a mi abuela que para la próxima semana va a ser su cumple\n"
     ]
    },
    {
     "name": "stderr",
     "output_type": "stream",
     "text": [
      " 77%|███████▋  | 108/140 [02:16<00:30,  1.03it/s]"
     ]
    },
    {
     "name": "stdout",
     "output_type": "stream",
     "text": [
      "HYPO: y cuando uno ve estas fotos piensa no está a leyes\n",
      "REF:  y cuando una ve estas fotos piensa dónde está el ellas\n",
      "HYPO: ya lo ven en las casas no pueden definir quién es quién y qué es la que tiene miedo\n",
      "REF:  ya lo ven en las caras no lo pueden definir quién es quién la que tiene miedo\n",
      "HYPO: risas al final del túnel nos esperan solas\n",
      "REF:  sí al final del túnel nos espera el sol\n",
      "HYPO: bebidas grandes la primera noche y todo el pueblo subió y aprendió\n",
      "REF:  bebidas gratis la primera noche y todo el pueblo subió y aplaudió\n",
      "HYPO: pero no siempre es fácil saber que es una verdad eterna un teorema y que es una mera conjetura\n",
      "REF:  pero no siempre es tan fácil saber qué es una verdad eterna un teorema y qué es una mera conjetura\n",
      "HYPO: si eso hubiera pasado hubiera sido tal vez peor que la violación misma\n",
      "REF:  y si eso hubiera pasado hubiera sido tal vez peor que la violación misma\n",
      "HYPO: no sé nada pero tendrás la felicidad con tu trabajo que es lo más importante\n",
      "REF:  si no serás feliz con tu trabajo que creo que es lo más importante\n",
      "HYPO: gracias a que escribimos un vecino consigo abrimos los ojos y realmente no\n",
      "REF:  gracias a que escribo sobre cine consigo abrirme consigo ser realmente yo\n",
      "HYPO: está dentro de casa casa enviada\n",
      "REF:  está dentro de cada mirada\n"
     ]
    },
    {
     "name": "stderr",
     "output_type": "stream",
     "text": [
      " 78%|███████▊  | 109/140 [02:17<00:30,  1.03it/s]"
     ]
    },
    {
     "name": "stdout",
     "output_type": "stream",
     "text": [
      "HYPO: y si su furia sobra no me podíamos ver\n",
      "REF:  y si yo fuera sorda no me podría mover\n",
      "HYPO: pero es verdad que tenemos que ir algo más al fondo vamos a ver qué hay detrás del síndrome\n",
      "REF:  es verdad que tenemos que ir algo más al fondo vamos a ver qué hay detrás de la ciencia\n",
      "HYPO: con los meses convertidos con los meses convertidos los dos me enseñó una cosa y la otra\n",
      "REF:  unos somos más extrovertidos otros más introvertidos y otros ni una cosa ni la otra\n",
      "HYPO: a mí no me gusta que un tipo avance así pero había sido amoroso toda la noche\n",
      "REF:  a mí no me gusta que un tipo avance así pero había sido amoroso toda la noche\n",
      "HYPO: desde ese momento son solo a la venta mil papelitos de piscina\n",
      "REF:  desde este momento pongo a la venta 1000 papelitos oficiales\n",
      "HYPO: y el psiquiatra le dijo son las posibilidades de gran dirección de cada proyecto\n",
      "REF:  y el secretario dijo son las posibilidades de concreción de cada proyecto\n",
      "HYPO: lo único que tenemos que hacer es convertir el empatía en un modo diferente\n",
      "REF:  lo único que tenían estos vecinos eran papelitos de otra gente\n",
      "HYPO: y empieza a oportunizar uno de cada cinco infectados murió\n",
      "REF:  en aquella oportunidad uno de cada cinco infectados murió\n",
      "HYPO: como viajero frecuente al pasado quería contarles algo de las pandemias que chocaron en el momento\n",
      "REF:  y como viajero frecuente al pasado quería contarles algo de las pandemias que azotaron a la humanidad\n"
     ]
    },
    {
     "name": "stderr",
     "output_type": "stream",
     "text": [
      " 79%|███████▊  | 110/140 [02:18<00:28,  1.06it/s]"
     ]
    },
    {
     "name": "stdout",
     "output_type": "stream",
     "text": [
      "HYPO: risas por supuesto soy megafa en el real madrid\n",
      "REF:  risas por supuesto soy megafan del real madrid\n",
      "HYPO: yo no le decía nada porque me daba miedo que se enojara que todo fuera peor\n",
      "REF:  yo no le decía nada porque me daba miedo que se enojara y todo fuera peor\n",
      "HYPO: porque nos ayuda a sortear las trampa del mundo y este dolor es con el que estamos\n",
      "REF:  y porque nos hace nos ayuda a sortear las trampas del mundo este doloroso en el que estamos\n",
      "HYPO: y sandra y elina pueden trabajar también con este grupo de la adolescencia\n",
      "REF:  y sandra y lina por trabajar también con este grupo la adolescencia\n",
      "HYPO: en ese momento pensé que me podía matar a ver cárceles\n",
      "REF:  en ese momento pensé que me podía matar ahorcar sabés\n",
      "HYPO: no pasó por la plaza del pueblo en las siguientes cuatro semanas\n",
      "REF:  no pasó por la plaza del pueblo en las siguientes cuatro semanas\n",
      "HYPO: alrededor de una alta cantidad de necesidades de vida y educación\n",
      "REF:  alrededor mío hay tanta cantidad de ritmos\n",
      "HYPO: por tanto las respuestas y las reacciones no eran efectivas para contar esta imagen\n",
      "REF:  por lo tanto las respuestas y las reacciones no eran efectivas para contrarrestar el mal\n",
      "HYPO: cada cartel que ponía iba lejos y se quedaba con un saco mirando el cartel\n",
      "REF:  cada cartel que ponía se iba lejos y se quedaba orgulloso mirando el cartel\n"
     ]
    },
    {
     "name": "stderr",
     "output_type": "stream",
     "text": [
      " 79%|███████▉  | 111/140 [02:19<00:26,  1.09it/s]"
     ]
    },
    {
     "name": "stdout",
     "output_type": "stream",
     "text": [
      "HYPO: pero hay dos pandemias que quedaron muy marcadas por sus consecuencias fatales\n",
      "REF:  pero hay dos pandemias que quedaron muy marcadas por sus consecuencias fatales\n",
      "HYPO: yo creo que si hay esa gran meta a dar la vuelta a necesitar entrar y seguir a interactuar\n",
      "REF:  yo creo que esa es la gran ventaja de estar detrás de no interactuar\n",
      "HYPO: estas son las fotos que las chicas sintieron a lo largo del proyecto\n",
      "REF:  y estas son las fotos que las chicas se hicieron a lo largo del proyecto\n",
      "HYPO: tal vez os estáis pensando en deprimir a vos y a vos y a vos y a vos\n",
      "REF:  tal vez estáis pensando en deprimida yo\n",
      "HYPO: a esa altura del mundo era casi una experta en todo esto\n",
      "REF:  a esa altura nina ya era casi una experta en todo este asunto\n",
      "HYPO: y en todo el biólogo en el medio de la plaza a múnich\n",
      "REF:  y entonces vio en el medio de la plaza a moncho\n",
      "HYPO: yo le compré 36 que estaban aquí que ni era el códiceo soy el teleno\n",
      "REF:  yo le compré 36 gritaba quique que era codicioso y altanero\n",
      "HYPO: yo tengo un héroe divertido y grababa mi oficina así como algo personal\n",
      "REF:  yo siendo un introvertido llevaba mi afición al cine como algo mío algo personal\n",
      "HYPO: podría haber recurrido a la familia pero no lo hizo\n",
      "REF:  podría haber recurrido a la familia pero no lo hizo\n"
     ]
    },
    {
     "name": "stderr",
     "output_type": "stream",
     "text": [
      " 80%|████████  | 112/140 [02:19<00:24,  1.14it/s]"
     ]
    },
    {
     "name": "stdout",
     "output_type": "stream",
     "text": [
      "HYPO: entonces para defendernos de esa incomodidad queremos un recurso\n",
      "REF:  entonces para defendernos de esa incomodidad tenemos un recurso\n",
      "HYPO: entonces el alcalde que acaba por ahí se acercó y dijo tiene sentido\n",
      "REF:  entonces el alcalde que estaba por ahí se acercó y dijo tiene sentido\n",
      "HYPO: seguramente desaparecieron varias preguntas\n",
      "REF:  seguramente les aparecieron varias preguntas\n",
      "HYPO: cuando paró el auto cerca de la autorquía ahí sitúé mi ego\n",
      "REF:  cuando paró el auto cerca de la autopista ahí sí tuve miedo\n",
      "HYPO: pero yo estoy pensando en otro área que no tiene nombre de paciente\n",
      "REF:  pero yo estoy pensando en otro alguien que no tiene nombre ni apellido\n",
      "HYPO: y después de que lo enseñe yo no podía creer lo que estaba encontrando\n",
      "REF:  pepe se quedó en silencio no podía creer lo que le estaban contando\n",
      "HYPO: el tiempo está en el hacer y en dar\n",
      "REF:  el tiempo está en el hacer y en dar\n",
      "HYPO: uno de estos vecinos ramón se quejó en mozalda la rama\n",
      "REF:  uno de estos vecinos ramón se quejó en voz alta caramba\n",
      "HYPO: en el mundo ahora en este momento miles de personas están perdidas\n",
      "REF:  en el mundo ahora en este momento miles de personas desaparecen\n"
     ]
    },
    {
     "name": "stderr",
     "output_type": "stream",
     "text": [
      " 81%|████████  | 113/140 [02:20<00:23,  1.14it/s]"
     ]
    },
    {
     "name": "stdout",
     "output_type": "stream",
     "text": [
      "HYPO: unos papequitos decían en breve eladería de oracio\n",
      "REF:  unos papelitos decían en breve heladería de horacio\n",
      "HYPO: y este es el testimonio de una mujer a la que vamos a llamar a alguien\n",
      "REF:  el siguiente es el testimonio de una mujer a la que vamos a llamar ana\n",
      "HYPO: porque la justicia al mundo la lucha cuando la ganas\n",
      "REF:  porque las estrellas alumbran cuando es la noche\n",
      "HYPO: me ha puesto tanto en casa para hablar con uds\n",
      "REF:  me han puesto tantos cables para hablar con ustedes\n",
      "HYPO: risas realmente las computadoras son solo matemáticas\n",
      "REF:  risas realmente las computadoras son todo matemáticas\n",
      "HYPO: el tema no era crear miedos sino superar el miedo\n",
      "REF:  el tema no era crear miedo sino superar el miedo\n",
      "HYPO: risas vale un 76\n",
      "REF:  el público pregunta vale\n",
      "HYPO: no hay traductor del lenguaje abogadil a un lenguaje que entendamos todos\n",
      "REF:  pero no hay traductor del lenguaje abogadil a un lenguaje que entendamos todos\n",
      "HYPO: y como yo no entero más pensé que mi negocio podría ser llevarlo de este lado de la luna\n",
      "REF:  y como yo no tomo pensé que mi negocio podría ser llevarlos y traerlos de la luna\n",
      "HYPO: el consumo de carbono en el resto del planeta en el pueblo era el lobo del monstruo\n",
      "REF:  y los únicos caballos que quedaban en el pueblo eran los de moncho\n"
     ]
    },
    {
     "name": "stderr",
     "output_type": "stream",
     "text": [
      " 81%|████████▏ | 114/140 [02:21<00:22,  1.17it/s]"
     ]
    },
    {
     "name": "stdout",
     "output_type": "stream",
     "text": [
      "HYPO: un amigo común nos juntó a lo que ocurrió en su casa\n",
      "REF:  un amigo en común nos reunió en su casa\n",
      "HYPO: les fuimos organizando entusiasmos para que todos vinieran de un caso a otro\n",
      "REF:  les fuimos organizando en turnos para que todos pudieran tocar sus instrumentos\n",
      "HYPO: lógicamente el movimiento de la ciudad\n",
      "REF:  y únicamente el movimiento me va a ayudar\n",
      "HYPO: cuando alguien se acerca y me dice que iba a lanzar\n",
      "REF:  cuando alguien se acerca y me dice quiero danzar\n",
      "HYPO: quiero decirles que no hay nada como una sonrisa\n",
      "REF:  quiero decirles que no hay nada como una sonrisa\n",
      "HYPO: entonces pensamos en unir esfuerzos y hacer algo como uno\n",
      "REF:  entonces pensamos en unir esfuerzos y hacer algo en común\n",
      "HYPO: ahora pienso por qué no presté atención a lo que sentimos\n",
      "REF:  ahora pienso por qué no presté atención a lo que sentí\n",
      "HYPO: no tenían que decir nada solamente escuchaba\n",
      "REF:  no tenían que decir nada solamente escuchaban\n",
      "HYPO: cuando sirvo no pongo la barrera que tengo de la expresión oral que tanto me cuesta\n",
      "REF:  cuando escribo rompo la barrera que tengo de la expresión oral que tanto me cuesta\n",
      "HYPO: pero sobre todo podemos aventurar tiempos maravillosos de crecimiento\n",
      "REF:  pero sobre todo podemos aventurar tiempos maravillosos de crecimiento\n"
     ]
    },
    {
     "name": "stderr",
     "output_type": "stream",
     "text": [
      " 82%|████████▏ | 115/140 [02:22<00:20,  1.20it/s]"
     ]
    },
    {
     "name": "stdout",
     "output_type": "stream",
     "text": [
      "HYPO: ellos venían caminando no solo en la ciudad sino que en muchos países del mundo\n",
      "REF:  ellos venían caminando no solo en la argentina sino por muchos países del mundo\n",
      "HYPO: y la lo dije no soy bueno interactuando con la gente pero si soy muy bueno observando\n",
      "REF:  ya he dicho que no soy bueno interactuando con la gente pero soy muy bueno observando\n",
      "HYPO: no sé lo que es el sonido de la palabra\n",
      "REF:  no sé lo que es el sonido de la palabra\n",
      "HYPO: risas me preguntó qué es esto que pasó a la papá de la bebé\n",
      "REF:  risas me preguntó qué es esto que pasó ahora papá es grave\n",
      "HYPO: parece una cosa rara pero no esta también está presente en las naturalezas\n",
      "REF:  risas parece una cosa rara pero no es tan rara también está presente en la naturaleza\n",
      "HYPO: sientes cosas con ellas sufres con ellas lloras con ellas y llores con ellas\n",
      "REF:  sientes cosas con ellas sufres con ellas lloras con ellas te ríes con ellas\n",
      "HYPO: risas y b pero eso de las matemáticas para qué sirve\n",
      "REF:  risas y b pero eso de las matemáticas para qué sirve\n",
      "HYPO: estrellas que empiecen a humillar a humillar en esta tarde\n",
      "REF:  estrellas que iluminan iluminan esta tarde\n",
      "HYPO: el 90 restante se refugia en el silencio\n",
      "REF:  el 90 restante se refugia en el silencio\n",
      "HYPO: y ella incluso aplaudió contenta y tal vez era escritora\n",
      "REF:  nina incluso aplaudió contenta el final de la historia\n"
     ]
    },
    {
     "name": "stderr",
     "output_type": "stream",
     "text": [
      " 83%|████████▎ | 116/140 [02:23<00:19,  1.24it/s]"
     ]
    },
    {
     "name": "stdout",
     "output_type": "stream",
     "text": [
      "HYPO: está preguntando y yo por qué tuve que estudiar esa mierda que me volvía a estar nunca\n",
      "REF:  te está preguntando y yo por qué tuve que estudiar esa mierda que no volví a usar nunca\n",
      "HYPO: entonces pegué toda una lista de necesidades para abrir el primer árbol de cierta edad\n",
      "REF:  entonces pepe hizo una lista de necesidades para abrir el primer bar del pueblo\n",
      "HYPO: desde muy principio había gente que la apoyó y otras personas que no\n",
      "REF:  desde un principio había gente que la apoyó y otras personas que no\n",
      "HYPO: y nuestros niños y nuestros jóvenes pueden estar dentro de nosotros\n",
      "REF:  y nuestros niños y nuestros jóvenes pueden ser reconocidos\n",
      "HYPO: le conté que la casa de cheque empezó a parecer una casa y la casa de cheque para siempre es otra cosa\n",
      "REF:  le conté que la casa de pepe ya no parecía una casa la casa de pepe parecía otra cosa\n",
      "HYPO: por ese gran punto conozco esta curiosidad\n",
      "REF:  puede ser tan simple como escuchar\n",
      "HYPO: igual si salía del auto a dónde iba\n",
      "REF:  igual si salía del auto a dónde iba\n",
      "HYPO: piensan que tu trabajo es interesante desde el centro de matemáticas\n",
      "REF:  y como piensas que tu trabajo es interesante le dices soy matemático\n",
      "HYPO: por el ritmo esto fue lo que deseé\n",
      "REF:  porque el ritmo está afuera en lo que ves\n",
      "HYPO: los papelitos oficiales entran en la venta y de ahora corran que se acaben\n",
      "REF:  los papelitos oficiales están a la venta desde ahora corran que se acaban\n"
     ]
    },
    {
     "name": "stderr",
     "output_type": "stream",
     "text": [
      " 84%|████████▎ | 117/140 [02:23<00:17,  1.32it/s]"
     ]
    },
    {
     "name": "stdout",
     "output_type": "stream",
     "text": [
      "HYPO: pero no es la primera vez que hago algo para no perderme con esto\n",
      "REF:  pero no es la primera vez que hago algo para los peques de mi colegio\n",
      "HYPO: a los cuatro les dije a mis amigas que no fuera ellas quisieron quedarse\n",
      "REF:  a eso de las 4 les dije a mis amigas que nos fuéramos ellas quisieron quedarse\n",
      "HYPO: el barrio que no era la luna como le había autizado hoy los primeros días\n",
      "REF:  el bar se llamaba la luna como lo había bautizado moncho el primer día\n",
      "HYPO: los reventadores de francia y europa que yo he podido parar de años y dejar de vivir\n",
      "REF:  los revendedores de tranquilidad de quique no pudieron pagarle a nadie y se escaparon a la noche\n",
      "HYPO: un haz mito es que sea el cine más típico de la gente de tedx\n",
      "REF:  lo admito no es que sea el cine más típico de la gente de mi edad\n",
      "HYPO: nunca me sentí tan sola como secuestrada\n",
      "REF:  nunca me sentí tan sola como secuestrada\n",
      "HYPO: quizás la palabra figera violencia o gesto\n",
      "REF:  quizás palabras como guerra violencia o ejército\n",
      "HYPO: aplausos\n",
      "REF:  aplausos\n",
      "HYPO: se preparan a la fuente para intercambiar papelitos por monedas\n",
      "REF:  se trepaban a la fuente para intercambiar papelitos por monedas\n",
      "HYPO: por eso tengo que mencionar palabras prácticas y clases de esta vida\n",
      "REF:  pero al final con la práctica casi me sale fluido\n"
     ]
    },
    {
     "name": "stderr",
     "output_type": "stream",
     "text": [
      " 84%|████████▍ | 118/140 [02:24<00:17,  1.28it/s]"
     ]
    },
    {
     "name": "stdout",
     "output_type": "stream",
     "text": [
      "HYPO: dicen que las matemáticas no tienen que servir para nada o los que dicen que realmente están en trastorno\n",
      "REF:  los que dicen que las matemáticas no tienen por qué servir para nada o los que dicen que realmente está detrás de todo\n",
      "HYPO: por qué no se bajó del auto cuando prescindió que algo feo podía pasar\n",
      "REF:  por qué no se bajó del auto cuando presintió que algo feo podría pasar\n",
      "HYPO: y sabido pregunteos pepe habréis tenido a abril de ibarca y querías irme\n",
      "REF:  y sabino preguntó pepe abriste o no el bar que querías abrir\n",
      "HYPO: y también soy contero en el equipo de futbol sala de villano de la ciudad\n",
      "REF:  también soy portero en el equipo de fútbol sala de villanubla\n",
      "HYPO: risas aunque según el mundo el terón ahora se diría siendo verdad\n",
      "REF:  risas aunque se hunda el mundo el teorema de pitágoras seguiría siendo verdad\n",
      "HYPO: eso es la energía que tenemos pongamos un laboratorio así y eso\n",
      "REF:  eso nos llenó de alegría y dijimos pongamos un laboratorio y así se hizo\n",
      "HYPO: y ese rigor les viene porque son resultados internos\n",
      "REF:  y ese rigor les viene porque sus resultados son eternos\n",
      "HYPO: ese vocablo que nos identifica tanto los antiguos y los che\n",
      "REF:  ese vocablo que nos identifica tanto a los argentinos che\n",
      "HYPO: cómo les pasa la estructura de una iglesia y a mejor hasta que salga otra mejor\n",
      "REF:  cómo le pasa a la estructura de weaire y phelan es la mejor hasta que salga otra mejor\n",
      "HYPO: y entonces llegamos a la pregunta una verdad para siempre siempre es la más\n",
      "REF:  y entonces será un teorema una verdad para siempre siempre jamás\n",
      "HYPO: imaginad lo de diferentes para mí ponerme en este punto rojo delante de casa\n",
      "REF:  imaginaos lo difícil que es para mí ponerme en este punto rojo delante de tanta gente\n"
     ]
    },
    {
     "name": "stderr",
     "output_type": "stream",
     "text": [
      " 85%|████████▌ | 119/140 [02:25<00:16,  1.28it/s]"
     ]
    },
    {
     "name": "stdout",
     "output_type": "stream",
     "text": [
      "HYPO: si nos va bien con ese seguramente no va bien con ese\n",
      "REF:  si nos va bien con ese seguramente nos va a ir bien con los otros\n",
      "HYPO: con esta idea que tengo que buscar hacer de este burbino no hay empatía\n",
      "REF:  con esta edad que tengo no encontraría a nadie que me pagara por hacer esto\n",
      "HYPO: si yo primero se costó pero en sí le costó\n",
      "REF:  si no puedo hacer otro puedo hacer el otro\n",
      "HYPO: pero no he encontrado esto como ya he dicho que es la felicidad\n",
      "REF:  pero lejos de todo esto ese felicidades\n",
      "HYPO: quiero contarles por qué pienso yo que no les creamos\n",
      "REF:  hoy quiero contarles por qué pienso yo que no les creemos\n",
      "HYPO: aplausos\n",
      "REF:  aplausos\n",
      "HYPO: risas es lo que te está diciendo ahora\n",
      "REF:  risas es lo que te está preguntando realmente\n",
      "HYPO: entonces la pregunta correcta es quiénes\n",
      "REF:  entonces la pregunta correcta es quién es\n",
      "HYPO: y es la idea básica el soporte de aquello que hay entre ellas los matemáticos\n",
      "REF:  todas las ciencias básicas son el soporte de aquellas y entre ellas las matemáticas\n",
      "HYPO: la prisión de ee uu llegó a europa por francia\n",
      "REF:  empezó en ee uu y llegó a europa por francia\n",
      "HYPO: y para mí lo más bonito que me puede hacer en la vida es ser intuitorvertido\n",
      "REF:  es lo más bonito que me pueden decir en la vida siendo un introvertido\n"
     ]
    },
    {
     "name": "stderr",
     "output_type": "stream",
     "text": [
      " 86%|████████▌ | 120/140 [02:26<00:15,  1.31it/s]"
     ]
    },
    {
     "name": "stdout",
     "output_type": "stream",
     "text": [
      "HYPO: el ósema foro me dijo que yo le gustaba y me tocó la pierna\n",
      "REF:  en un semáforo me dijo que yo le gustaba y me tocó la pierna\n",
      "HYPO: los chicos se le metieron a hacer un plasmar mis ideas tal cual la hacienden\n",
      "REF:  consigo ser realmente yo plasmar mis ideas tal cual las siento\n",
      "HYPO: seguramente los he dicho alguna vez que un diamante pareciera para la verdad\n",
      "REF:  seguramente han dicho o os han dicho alguna vez que un diamante es para siempre verdad\n",
      "HYPO: aplausos\n",
      "REF:  aplausos vítores\n",
      "HYPO: pero cuidado con lo que escribo porque ahí soy yo realmente yo\n",
      "REF:  fiaos de lo que escribo porque ahí soy yo realmente yo\n",
      "HYPO: nosotros esperamos escuchar historias como estas\n",
      "REF:  nosotros esperamos escuchar historias como esta\n",
      "HYPO: porque siempre vivo en el movimiento\n",
      "REF:  porque siempre veo el movimiento\n",
      "HYPO: conocimos unos pibes y yo me enganché con un flaco de pioja\n",
      "REF:  conocimos a unos pibes y yo me enganché con un flaco re piola\n",
      "HYPO: yo les puedo cuantificar tranquilidad de kit que para ellos me apelijan\n",
      "REF:  yo les puedo vender tranquilidad de quique para esos papelitos\n",
      "HYPO: a mí me pasa lo mismo cuando digo al fin y me prendo una moneda\n",
      "REF:  a mí me pasa lo mismo dijo luis quiero ir al cine no tengo una moneda\n",
      "HYPO: yo dije me voy a afganc a partir de la otra línea que es mi hijo\n",
      "REF:  soy un megafan a ver si adivináis de qué equipo\n"
     ]
    },
    {
     "name": "stderr",
     "output_type": "stream",
     "text": [
      " 86%|████████▋ | 121/140 [02:26<00:15,  1.27it/s]"
     ]
    },
    {
     "name": "stdout",
     "output_type": "stream",
     "text": [
      "HYPO: esa semana estuve viendo películas películas y películas\n",
      "REF:  esa semana estuve viendo películas películas y películas\n",
      "HYPO: y cuando te dicen esas aves qué es eso\n",
      "REF:  y cuando te dicen eso sabes que es genial\n",
      "HYPO: qué aprendimos de todas aquellas afatinalidades\n",
      "REF:  qué aprendimos de todas aquellas fatalidades\n",
      "HYPO: y después de todo la ley en democracia es nuestra\n",
      "REF:  después de todo la ley en democracia es nuestra\n",
      "HYPO: le conté lo que pasó en el pueblo durante la primera semana\n",
      "REF:  le conté lo que pasó en el pueblo durante la primera semana\n",
      "HYPO: y yo sé que se había equivocado y le dije te pasaste\n",
      "REF:  pensé que se había equivocado y le dije 'te pasaste\n",
      "HYPO: la gripe universal mató a 50 millones\n",
      "REF:  la gripe universal mató a 50 millones\n",
      "HYPO: y sacó la cuenta de todo eso que iba a costar en una diaplé moneda\n",
      "REF:  y sacó las cuentas y todo eso le iba a costar unas 10 000 monedas\n",
      "HYPO: este por ejemplo es la imagen de uno de los sitios web\n",
      "REF:  esto por ejemplo es la imagen de uno de los encuentros\n",
      "HYPO: hasta que apareció chico con una gran idea\n",
      "REF:  hasta que apareció quique con una gran idea\n",
      "HYPO: el conflicto escaló y ahora no lo podemos resolver charlando\n",
      "REF:  el conflicto escaló y ahora no lo podemos resolver charlando\n",
      "HYPO: me encanta hacer frases y es lo mejor que pueden tener en mi vida\n",
      "REF:  me encanta lo que haces es lo mejor que pueden decirme\n"
     ]
    },
    {
     "name": "stderr",
     "output_type": "stream",
     "text": [
      " 87%|████████▋ | 122/140 [02:27<00:14,  1.25it/s]"
     ]
    },
    {
     "name": "stdout",
     "output_type": "stream",
     "text": [
      "HYPO: pero realmente en esta vida tienes que hacer algo hazlo\n",
      "REF:  pero realmente en esta vida si quieres hacer algo hazlo\n",
      "HYPO: esta es la respuesta en el que daban su profe de matemáticas a la pregunta\n",
      "REF:  estas son las respuestas que te va a dar tu profe de matemática si le preguntas\n",
      "HYPO: aplausos sí\n",
      "REF:  aplausos sí los tengo\n",
      "HYPO: me he dado la oportunidad de hablar con ellas de 15 años\n",
      "REF:  peter y yo por tener hijas quinceañeras\n",
      "HYPO: se dice que lloran esos dinosaurios como cinco raros que dicen que están en el rato\n",
      "REF:  pero os he dicho que yo era de ese 08 raro que dice otra cosa verdad\n",
      "HYPO: preguntéme pero sabías que todos iban a quedar sin caballos\n",
      "REF:  preguntó pepe vos sabías que todos se iban a quedar sin caballo\n",
      "HYPO: y otras veces tenemos a los familiares que nos encuentran en el futuro\n",
      "REF:  y otras veces tenemos los familiares pero no se encuentran los restos\n",
      "HYPO: incluso les enseñamos que ellos también tenían música en su interior\n",
      "REF:  incluso les enseñamos que ellos también tenían música en su interior\n",
      "HYPO: y me dijeron con esos cables vas a poder hacer magia\n",
      "REF:  y me dijeron con esos cables vas a poder hacer magia\n",
      "HYPO: tengo una escasez una de fútbol\n",
      "REF:  tengo dos pasiones una el fútbol\n",
      "HYPO: por eso buscamos esa compatibilidad para evitar esos risas\n",
      "REF:  por eso buscábamos esas compatibilidades para evitar esos rechazos\n",
      "HYPO: enfermedades estadísticas de mañana no son muy transgénicas\n",
      "REF:  los familiares estaban serios venían a donar sus muestras de sangre\n"
     ]
    },
    {
     "name": "stderr",
     "output_type": "stream",
     "text": [
      " 88%|████████▊ | 123/140 [02:28<00:13,  1.27it/s]"
     ]
    },
    {
     "name": "stdout",
     "output_type": "stream",
     "text": [
      "HYPO: otros papeles con decía muy pronto perucaría de cárboles\n",
      "REF:  otros papelitos decían muy pronto peluquería de carmen\n",
      "HYPO: los cuatro por razones diferentes tenemos mucho que ver con la adolescencia\n",
      "REF:  los cuatro por razones diferentes tenemos mucho que ver con la adolescencia\n",
      "HYPO: el día que se dio por mayor pasión en los últimos 5 6 años\n",
      "REF:  el cine ha sido mi mayor pasión en los últimos 5 o 6 años\n",
      "HYPO: así que antes de comprar un saco de ornesto busquen plenamente\n",
      "REF:  así que antes de comprar fajos de ernesto busquen mi consejo\n",
      "HYPO: entonces les consejo que personas se suman a una sociedad\n",
      "REF:  entonces le conté lo que pasó la segunda semana en el pueblo\n",
      "HYPO: solo el 10 va a ser la denuncia\n",
      "REF:  solo el 10 va a hacer la denuncia\n",
      "HYPO: se pueden escribir algunos libros con 3 millones de ideas\n",
      "REF:  se pueden escribir algunos libros con tres millones de letras\n",
      "HYPO: y le llevaron a esto victimización de las víctimas\n",
      "REF:  yo llamo a esto victimización de las víctimas\n",
      "HYPO: nadie creía que eso empezara a dar un par de risas\n",
      "REF:  nadie creía que eso empezara a levantar vuelo\n",
      "HYPO: eso genera una gran frustración realmente\n",
      "REF:  eso genera una gran frustración realmente\n",
      "HYPO: cuando me solté traté de abrir la puerta pero estaba a trabajo\n",
      "REF:  cuando me solté traté de abrir la puerta pero estaba trabada\n",
      "HYPO: no hay caballos para ir a buscar tierra en el lago sida rica\n",
      "REF:  no hay caballos para ir a buscar hielo a la ciudad y el helado se derrite\n"
     ]
    },
    {
     "name": "stderr",
     "output_type": "stream",
     "text": [
      " 89%|████████▊ | 124/140 [02:29<00:12,  1.28it/s]"
     ]
    },
    {
     "name": "stdout",
     "output_type": "stream",
     "text": [
      "HYPO: el primer y principal ana dijo no\n",
      "REF:  primero y principal ana dijo no\n",
      "HYPO: y una muy nueva la tenemos abierto el cuento cada bien\n",
      "REF:  nina me miraba con los ojos abiertos el cuento estaba bien hasta ahora\n",
      "HYPO: si os digo la verdad es la que tampoco no me había hecho esa pregunta\n",
      "REF:  si os digo la verdad hasta hace poco no me había hecho esa pregunta\n",
      "HYPO: la carta no se entiende pero manda dos mensajes\n",
      "REF:  la carta no se entiende pero manda dos mensajes\n",
      "HYPO: cuando ve el ritmo de esta cueva\n",
      "REF:  cuando ves el ritmo está afuera\n",
      "HYPO: yo quiero cubrir con piezas iguales sin dejar huecos\n",
      "REF:  lo quiero cubrir con piezas iguales sin dejar huecos\n",
      "HYPO: risas olvidar el teclado de un pastá\n",
      "REF:  risas pero se olvidaron de que yo tengo pantalones\n",
      "HYPO: porque luego del lado de la piste nula surgió el recibido\n",
      "REF:  porque luego de la peste negra surgió el renacimiento\n",
      "HYPO: llamamos a esto culpabilización de la violencia\n",
      "REF:  llamo a esto culpabilización de las víctimas\n",
      "HYPO: no es como las pollas tecnicidades que te acompañan toda la vida\n",
      "REF:  no es como las huellas dactilares que es lo que te acompaña toda la vida\n",
      "HYPO: cubrir y abrir más superficie tiene un borrón de más pequeños\n",
      "REF:  la que para cubrir la misma superficie tiene un borde más pequeño\n",
      "HYPO: así que tal de preguntarme para qué llevé las matemáticas\n",
      "REF:  así que vale preguntadme para qué sirven las matemáticas\n",
      "HYPO: porque está escrito en nuestros genes en nuestra identidad\n",
      "REF:  está escrita en nuestros genes nuestra identidad\n"
     ]
    },
    {
     "name": "stderr",
     "output_type": "stream",
     "text": [
      " 89%|████████▉ | 125/140 [02:30<00:11,  1.29it/s]"
     ]
    },
    {
     "name": "stdout",
     "output_type": "stream",
     "text": [
      "HYPO: me mostró que creo que era una crugetura no lo sabemos\n",
      "REF:  no lo demostró se quedó en una conjetura dijo hexágonos\n",
      "HYPO: sin identidad no podemos ser en sociedad\n",
      "REF:  sin identidad no podemos ser en sociedad\n",
      "HYPO: de repente se me tiró encima y me quiso besar\n",
      "REF:  de repente se me tiró encima y me quiso besar\n",
      "HYPO: tienen razón porque no les creemos\n",
      "REF:  y tienen razón porque no les creemos\n",
      "HYPO: si no puede hacer esto puede hacer otro\n",
      "REF:  si no puedo hacer esto puedo hacer otro\n",
      "HYPO: la ciencia es el rigor de la matemática\n",
      "REF:  todo lo que hace a la ciencia ser ciencia es el rigor de la matemática\n",
      "HYPO: risas cuál es la mejor pieza que puede usar\n",
      "REF:  risas cuál es la mejor pieza que puedo usar\n",
      "HYPO: cómo pudo pedirle que la lleve a la casa\n",
      "REF:  cómo pudo pedirle que la lleve a la casa\n",
      "HYPO: la parejera que por ese pueblo hubiera pasado la lenta\n",
      "REF:  parecía que por ese pueblo hubiera pasado la guerra\n",
      "HYPO: y todo empezaron a comprar a los que les gustaban\n",
      "REF:  y todos empezaron a comprar papelitos de pepe\n",
      "HYPO: y yo había un nosotros grande porque entendía a la chica y le decía oye\n",
      "REF:  risas abrió los ojos grandes porque entendía la chica ochos años\n",
      "HYPO: pero por qué diputirse en esta situación\n",
      "REF:  pero por qué te pusiste en esta situación\n",
      "HYPO: ahora la argentina está desapareciendo\n",
      "REF:  ahora en argentina está desapareciendo gente\n"
     ]
    },
    {
     "name": "stderr",
     "output_type": "stream",
     "text": [
      " 90%|█████████ | 126/140 [02:30<00:10,  1.31it/s]"
     ]
    },
    {
     "name": "stdout",
     "output_type": "stream",
     "text": [
      "HYPO: pensó que se veía equivocado del camino que estaba en un pueblo diferente\n",
      "REF:  pensó que se había equivocado de camino y estaba en un pueblo diferente\n",
      "HYPO: y se puso contento como le digo a los ojos de abrir un lugar\n",
      "REF:  y se puso contento con la idea de abrir un bar\n",
      "HYPO: y me dice y yo no sé cómo puse el pálido\n",
      "REF:  y mi hija me miró así y yo me puse pálido\n",
      "HYPO: ocurrió en la medianoche cuando volví a su casa\n",
      "REF:  ocurrió en la medianoche cuando volvía a su casa\n",
      "HYPO: en los hospitales o cómo funciona el restaurante\n",
      "REF:  hospital o cómo funciona nuestra mente\n",
      "HYPO: los que todavía tengan papelitos de mochos no se preocupen\n",
      "REF:  los que todavía tengan papelitos de moncho no se preocupen\n",
      "HYPO: las competencias creativas de las chicas\n",
      "REF:  y las competencias creativas de las chicas\n",
      "HYPO: la forma que he encontrado para mí en el mundo no la cambiaría por nada\n",
      "REF:  la forma que he encontrado de abrirme no la cambiaría por nada\n",
      "HYPO: uds se preguntarán a una niña si quieren trabajar con la identidad\n",
      "REF:  y uds se preguntarán y eso qué tiene que ver con la identidad\n",
      "HYPO: le pedí que acabara rápido y me llevara a mi casa\n",
      "REF:  le pedí que acabara rápido y me llevara a mi casa\n",
      "HYPO: muchísimas veces nos quedamos en la mental\n",
      "REF:  muchísimas veces nos quedamos en la mitad\n",
      "HYPO: el primero es puse un abogado\n",
      "REF:  el primero es puse un abogado\n",
      "HYPO: de esta manera se despárramo por los cinco continentes\n",
      "REF:  de esa manera se desparramó por los cinco continentes\n",
      "HYPO: fue violada en las vías del perro carriz mi historia\n",
      "REF:  joven violada en las vías del ferrocarril mitre\n"
     ]
    },
    {
     "name": "stderr",
     "output_type": "stream",
     "text": [
      " 91%|█████████ | 127/140 [02:31<00:09,  1.33it/s]"
     ]
    },
    {
     "name": "stdout",
     "output_type": "stream",
     "text": [
      "HYPO: pero no podía ser que transformarles en gallop\n",
      "REF:  como no podía ser de otra forma les encantó\n",
      "HYPO: cuando nos atacaron no estábamos al vendedor\n",
      "REF:  que cuando nos atacaron no estábamos advertidos\n",
      "HYPO: no hay límites solo en nuestra imaginación\n",
      "REF:  no hay límite solo el de nuestra imaginación\n",
      "HYPO: de cada cuatro europeos a uno se nos llegó la pida\n",
      "REF:  de cada cuatro europeos a uno se lo llevó la peste\n",
      "HYPO: los papelitos de la calle se venyeron en tiempos de ellos\n",
      "REF:  los papelitos del alcalde se vendieron en tiempo récord\n",
      "HYPO: risas se me sacó la cabana\n",
      "REF:  sonido de relincho de caballo uy si se nos ha colado un caballo\n",
      "HYPO: risas pero qué pasa si vamos a tres dimensiones\n",
      "REF:  risas pero qué pasa si vamos a 3 dimensiones\n",
      "HYPO: y yo puedo decir por eso me gusta cantar cine\n",
      "REF:  y yo creo que por eso me gusta tanto el cine\n",
      "HYPO: el círculo no tiene fuerza\n",
      "REF:  el círculo no tiene puertas\n",
      "HYPO: eran paquetes cerrados y empeñados de todo el colorismo\n",
      "REF:  eran paquetes cerrados con 100 papelitos de todos colores\n",
      "HYPO: y tiene el poder de devolver la condición de espacio\n",
      "REF:  tiene el poder de devolver la condición de persona\n",
      "HYPO: lo quieren que nos vayan a pensar lo quieren que no podemos comprar\n",
      "REF:  lo siento padre ricardo dijeron todos no podemos comprar\n",
      "HYPO: vengo a un objetivo ahora mismo por otro motivo\n",
      "REF:  vendo mi papelito ahora mismo por ocho monedas\n",
      "HYPO: pero nombrar es un acto de resistencia\n",
      "REF:  pero nombrar es un acto de resistencia\n"
     ]
    },
    {
     "name": "stderr",
     "output_type": "stream",
     "text": [
      " 91%|█████████▏| 128/140 [02:32<00:09,  1.28it/s]"
     ]
    },
    {
     "name": "stdout",
     "output_type": "stream",
     "text": [
      "HYPO: no se la defienden vale pero y qué\n",
      "REF:  es de los de la defensiva\n",
      "HYPO: pero en ese momento dije a dónde va toda esta gente\n",
      "REF:  preguntó pepe a dónde va toda esta gente\n",
      "HYPO: yo le compré el orden de los servicios que les pongo y me lo llevé en el día\n",
      "REF:  yo le compré dos dijo sabino que era pobre pero optimista\n",
      "HYPO: siempre como eso escuela dignifica\n",
      "REF:  tan simple como eso la escuela dignifica\n",
      "HYPO: ella acaba de recibir una carta de documento\n",
      "REF:  ella acaba de recibir una carta documento\n",
      "HYPO: y me dijo la verdad mis papelitos cuestan un caballo\n",
      "REF:  dijo el alcalde mis papelitos cuestan un caballo\n",
      "HYPO: y pepe hizo un regalo al bolsillo y puso un pizarrón\n",
      "REF:  y pepe dijo no es regalar mocho es compensar\n",
      "HYPO: entre todos los vecinos de comprar algo que es patente\n",
      "REF:  entre todos los vecinos le compraron los 1000 papelitos\n",
      "HYPO: obviamente me torpe de que cada paso de otra vez\n",
      "REF:  obviamente me asusté porque estaba pasando algo grave\n",
      "HYPO: un niño de mi edad puede hacer lo mismo\n",
      "REF:  un niño de mi edad puede hacerlo\n",
      "HYPO: pero de todos tiempos hasta que salgo otro mejor no\n",
      "REF:  bueno de todos los tiempos hasta que salga otro mejor no\n",
      "HYPO: una tarde de mi que salió conmigo y llegamos ahí\n",
      "REF:  una tarde pepe salió a caminar y le agarró sed\n",
      "HYPO: entonces me acompañó y hacía lo que yo quería que me cambiara\n",
      "REF:  he puesto fallos y aciertos y aquí está el mar\n",
      "HYPO: estamos de facultad a terroristas\n",
      "REF:  estamos dejando entrar a terroristas\n",
      "HYPO: con un poza vivo que tenía mucho papelito de monje\n",
      "REF:  preguntó sabino que tenía muchos papelitos de moncho\n"
     ]
    },
    {
     "name": "stderr",
     "output_type": "stream",
     "text": [
      " 92%|█████████▏| 129/140 [02:33<00:08,  1.34it/s]"
     ]
    },
    {
     "name": "stdout",
     "output_type": "stream",
     "text": [
      "HYPO: por eso me voy a hacer un vídeo aquí que lo tengo que hacer\n",
      "REF:  por eso mi idea se llama tranquilidad de quique dijo quique\n",
      "HYPO: la escuela tiene el poder de comprar\n",
      "REF:  la escuela tiene el poder de nombrar\n",
      "HYPO: y así el cuerpo se vuelve cierto\n",
      "REF:  y así el cuerpo se vuelve signo\n",
      "HYPO: este es el tema de la que ya dije que no quería\n",
      "REF:  este es el tema maquillaje y peluquería\n",
      "HYPO: por qué vas a regalar después de todo el día\n",
      "REF:  por qué vas a regalar después dos monedas más\n",
      "HYPO: risas pero qué es menor de mostró\n",
      "REF:  risas pero kelvin no lo demostró\n",
      "HYPO: esta es mi vida y eso es ficción\n",
      "REF:  eso no es verdad eso es ficción\n",
      "HYPO: y otros también se acercaron a preguntarse por el barrio\n",
      "REF:  y otros también se acercaron a preguntar por el bar\n",
      "HYPO: yo os digo a alguno porque soy político\n",
      "REF:  yo quiero algunos de tus papelitos\n",
      "HYPO: identificar necesariamente\n",
      "REF:  identificar necesariamente es comparar\n",
      "HYPO: no lo cuenten van a pensar que estás loca\n",
      "REF:  no lo cuentes van a pensar que estás loca\n",
      "HYPO: no entiende no puede entender\n",
      "REF:  no entiende no puede entender\n",
      "HYPO: aplausos\n",
      "REF:  aplausos\n",
      "HYPO: y teniendo yo debía demostrarlo\n",
      "REF:  y tenían razón y os lo voy a demostrar hoy\n",
      "HYPO: vivo en un espejo y un árbol\n",
      "REF:  veo un espejo en mi mano\n"
     ]
    },
    {
     "name": "stderr",
     "output_type": "stream",
     "text": [
      " 93%|█████████▎| 130/140 [02:33<00:07,  1.40it/s]"
     ]
    },
    {
     "name": "stdout",
     "output_type": "stream",
     "text": [
      "HYPO: esto me ayudó a decidir buscar a alguien\n",
      "REF:  esto me ayudó a decidir buscar ayuda\n",
      "HYPO: y yo le he tomado ocho raros entre los amigos\n",
      "REF:  hay un 08 raro entre los que me incluyo\n",
      "HYPO: y hablaba como si yo fuera su hermana mayor\n",
      "REF:  le hablaba como si yo fuera su hermana mayor\n",
      "HYPO: la escuela devuelve identidad\n",
      "REF:  la escuela devuelve identidad\n",
      "HYPO: yo ya he de hacer todo un poquito más lindo\n",
      "REF:  yo tengo que decirlo soy muy introvertido\n",
      "HYPO: pues yo soy yo y eso me mola más\n",
      "REF:  pues lo he hecho yo y eso me mola más\n",
      "HYPO: el huís de costa también tengo la gran traceta\n",
      "REF:  y luis dijo yo también tengo la garganta seca\n",
      "HYPO: esto qué es esto\n",
      "REF:  pague en 48 hs si no será demandada\n",
      "HYPO: no venía a recoger una bomba en el coche\n",
      "REF:  el movimiento saben cuándo comienza\n",
      "HYPO: ahora necesito morir para comprender y abro el tenis\n",
      "REF:  ahora necesito monedas para comprar cigarros y no tengo\n",
      "HYPO: o el que me diga\n",
      "REF:  hoy es mi día\n",
      "HYPO: usando el lenguaje comparando\n",
      "REF:  usando la genética comparando\n",
      "HYPO: a ver no es que yo estoy todavía queja en el polo\n",
      "REF:  a ver vosotros cuatro de ahí que estáis muy cerca\n",
      "HYPO: yo escuché a mucha feliz\n",
      "REF:  yo escuché a muchas mujeres\n",
      "HYPO: he hablado de esto nunca con nadie\n",
      "REF:  ana no había hablado de esto nunca con nadie\n",
      "HYPO: cuando tenía que dominar siguió del árbol\n",
      "REF:  cuando tenía que doblar siguió de largo\n"
     ]
    },
    {
     "name": "stderr",
     "output_type": "stream",
     "text": [
      " 94%|█████████▎| 131/140 [02:34<00:06,  1.48it/s]"
     ]
    },
    {
     "name": "stdout",
     "output_type": "stream",
     "text": [
      "HYPO: y yo sí yo\n",
      "REF:  es un círculo\n",
      "HYPO: y yo creé lo mismo\n",
      "REF:  y los otros lo miraron dijeron oh\n",
      "HYPO: es la potencia que tocan esa aplicación con la mano\n",
      "REF:  hay ciencias que tocan esa aplicación con la mano\n",
      "HYPO: la violó y luego el cruzó\n",
      "REF:  la violó y luego huyó\n",
      "HYPO: qué pasó escuchando esta historia\n",
      "REF:  qué les pasó escuchando esta historia\n",
      "HYPO: los cazadores de microondas pol de cruz\n",
      "REF:  los cazadores de microbios de paul de kruif\n",
      "HYPO: y me gusta dar sal sal\n",
      "REF:  y me gusta danzar saben\n",
      "HYPO: algunos se subieron a la ticha otros a las mesas\n",
      "REF:  algunos se subieron a las sillas otros a las mesas\n",
      "HYPO: hace falta una demostración\n",
      "REF:  hace falta una demostración\n",
      "HYPO: no se lo podéis explicar porque es un tangible\n",
      "REF:  no se lo podés explicar porque es intangible más que nada\n",
      "HYPO: quería empezarlo pero me tenía los brazos\n",
      "REF:  quería empujarlo pero me tenía los brazos\n",
      "HYPO: yo soy de barcelona no soy elibouista\n",
      "REF:  yo soy de barcelona yo soy lingüista\n",
      "HYPO: es importante para vuestra vida\n",
      "REF:  es importante para vuestros hijos\n",
      "HYPO: bueno queréis ver cómo le hicimos\n",
      "REF:  bueno queréis ver cómo lo hicimos\n",
      "HYPO: y así pasó la primera semana\n",
      "REF:  y así pasó la primera semana\n",
      "HYPO: pero bueno no hay que añadir solo como funcional\n",
      "REF:  bueno creo que ya habéis visto cómo funciona\n",
      "HYPO: vitalizo por cada concejo es don bonella\n",
      "REF:  mi tarifa por cada consejo es dos monedas\n"
     ]
    },
    {
     "name": "stderr",
     "output_type": "stream",
     "text": [
      " 94%|█████████▍| 132/140 [02:34<00:05,  1.55it/s]"
     ]
    },
    {
     "name": "stdout",
     "output_type": "stream",
     "text": [
      "HYPO: maría y alquimbo\n",
      "REF:  maría y el ritmo\n",
      "HYPO: siempre se me ayudaban cosas a descubrir la crónica\n",
      "REF:  siempre se me olvidaban cosas en la crónica\n",
      "HYPO: me cormovié de lo que veía en el aire\n",
      "REF:  me conmovía lo que veía y leía\n",
      "HYPO: las mujeres están muy disuidas\n",
      "REF:  las fronteras están como muy diluidas\n",
      "HYPO: lo vendió a la casa de la familia blanca\n",
      "REF:  los vendedores de fajos de ernesto quebraron\n",
      "HYPO: pensé que podía tener un arma en la guardería\n",
      "REF:  pensé que podía tener un arma en la guantera\n",
      "HYPO: no no era es sencillo\n",
      "REF:  no maría es el día\n",
      "HYPO: se me quita aquello ah\n",
      "REF:  se me está cayendo algo\n",
      "HYPO: risas entonces le conté\n",
      "REF:  risas entonces le conté\n",
      "HYPO: primero que rompen estereotipos\n",
      "REF:  primero que rompen estereotipos\n",
      "HYPO: y así pasó la segunda semana\n",
      "REF:  y así pasó la segunda semana\n",
      "HYPO: entonces crean puentes\n",
      "REF:  segundo que crean puentes\n",
      "HYPO: los números y necesidades se fueron bastante similares\n",
      "REF:  los números en asia fueron bastante similares\n",
      "HYPO: así nace la iniciativa de jalo ojo\n",
      "REF:  así nació la inicativa de hallofoto\n",
      "HYPO: no lo mío fue un fracaso de corazón\n",
      "REF:  no lo mío fue un fracaso dijo horacio\n",
      "HYPO: eso de la que vencí fue el año pasado\n",
      "REF:  eso fue el año pasado\n",
      "HYPO: todo lo que más se nos había llevado a la distancia\n",
      "REF:  todos los demás se los había llevado el alcalde\n",
      "HYPO: por tanto entre 25 millones\n",
      "REF:  la mortandad fue de entre 25 y 50 millones\n"
     ]
    },
    {
     "name": "stderr",
     "output_type": "stream",
     "text": [
      " 95%|█████████▌| 133/140 [02:35<00:04,  1.51it/s]"
     ]
    },
    {
     "name": "stdout",
     "output_type": "stream",
     "text": [
      "HYPO: negocian sexo por vida\n",
      "REF:  negocian sexo por vida\n",
      "HYPO: pero cómo estoy acá arriba\n",
      "REF:  pero cómo estoy acá arriba\n",
      "HYPO: se digan no sé de nada no sé de los superiores\n",
      "REF:  no te llega no sientes no sufres no lloras\n",
      "HYPO: y él no tiene un talento en los ángulos\n",
      "REF:  quién no tiene un octaedro truncado en casa\n",
      "HYPO: pues hago la actitud no me están mal ya sé que lo sabré\n",
      "REF:  el tío dijo hexágonos uh lo peta venga hexágonos dámelo\n",
      "HYPO: no os voy a dar cuenta a lo que es verdad\n",
      "REF:  podría usar cuadrados verdad\n",
      "HYPO: no parece no\n",
      "REF:  no parece noche\n",
      "HYPO: le preguntó pepe gracias por lo que dieron\n",
      "REF:  le preguntó pepe a horacio cuando lo vio\n",
      "HYPO: pero por eso creo que me gusta tanto el cine\n",
      "REF:  pero por eso creo que me gusta tanto el cine\n",
      "HYPO: pero no cuesta 10 monedas la que me apeliga\n",
      "REF:  pero no cuesta 10 monedas cada papelito\n",
      "HYPO: eso para mí no no no sirve para nada\n",
      "REF:  eso para mí no sirve de nada\n",
      "HYPO: y se imparció por todo el continente\n",
      "REF:  de allí se esparció por todo el continente\n",
      "HYPO: en sí me ellos son todos modelos\n",
      "REF:  encima ellos son todos modelos\n",
      "HYPO: esperan no que dejan de un hueco\n",
      "REF:  esferas no que dejan huequitos\n",
      "HYPO: sólpadez al pensar\n",
      "REF:  ya podés danzar\n",
      "HYPO: aplausos\n",
      "REF:  aplausos\n",
      "HYPO: yo le iba a esconder la mano para darse la\n",
      "REF:  yo le iba a extender la mano para dársela\n",
      "HYPO: no es otra vez también\n",
      "REF:  no sé por dónde salir\n",
      "HYPO: qué está ocurriendo arrancándoos y los perros solos\n",
      "REF:  está todo el mundo arrancándose los pelos solo\n",
      "HYPO: cada uno somos de una manera estéticamente\n",
      "REF:  cada uno somos de una manera en esta vida\n"
     ]
    },
    {
     "name": "stderr",
     "output_type": "stream",
     "text": [
      " 96%|█████████▌| 134/140 [02:36<00:03,  1.54it/s]"
     ]
    },
    {
     "name": "stdout",
     "output_type": "stream",
     "text": [
      "HYPO: y ya saben matemáticas te cae un puente\n",
      "REF:  si no sabes matemática se te cae el puente\n",
      "HYPO: por qué le decimos gripe española\n",
      "REF:  por qué le decimos gripe española\n",
      "HYPO: echa las puertas y verás que sí\n",
      "REF:  echa las cuentas y verás que sí\n",
      "HYPO: un montaje de captación de trabajo\n",
      "REF:  más tarde desaparecieron los caballos\n",
      "HYPO: yo soy yo cuando escribo soy yo\n",
      "REF:  yo soy yo cuando escribo soy yo\n",
      "HYPO: estamos perdiendo la identidad\n",
      "REF:  estamos perdiendo la identidad\n",
      "HYPO: pero hay una estructura la estructura de qué\n",
      "REF:  se quedó en una conjetura la conjetura de kelvin\n",
      "HYPO: qué orea eso sí que es más simple\n",
      "REF:  un teorema eso sí que es para siempre\n",
      "HYPO: cada vez me iba paseando mal\n",
      "REF:  cada vez me iba apasionando más\n",
      "HYPO: y esta es la década del año siguiente\n",
      "REF:  y qué está bien de cada uno de ellos\n",
      "HYPO: circule eso de esa angustia\n",
      "REF:  círculos no que dejan huequitos\n",
      "HYPO: yo soy el otro\n",
      "REF:  yo soy el otro\n",
      "HYPO: quién no le ha dado nada\n",
      "REF:  qué maravilla\n",
      "HYPO: entonces en ocasiones cuál es porción\n",
      "REF:  entonces horacio dijo ay por dios\n",
      "HYPO: no es transitario si es que era un gran juzgado\n",
      "REF:  al principio esto era muy complicado\n",
      "HYPO: y ganamos al monstruo de la casa\n",
      "REF:  y ganamos alguna experiencia\n",
      "HYPO: no es que se puede estar descartado\n",
      "REF:  hacen la película buena o mala\n",
      "HYPO: no hay internet no está el otro lado que viene a visitarte\n",
      "REF:  nene trae el octaedro truncado que vienen visitas\n",
      "HYPO: y ahora qué es magia\n",
      "REF:  claro que sí maría\n",
      "HYPO: y me dijo olivia yo creo que lo grande soy también\n",
      "REF:  y mi hija abrió los ojos grandes y yo también\n",
      "HYPO: estamos en una serie de afectos\n",
      "REF:  estamos en la ruina pepe\n"
     ]
    },
    {
     "name": "stderr",
     "output_type": "stream",
     "text": [
      " 96%|█████████▋| 135/140 [02:36<00:03,  1.59it/s]"
     ]
    },
    {
     "name": "stdout",
     "output_type": "stream",
     "text": [
      "HYPO: podíamos conseguir un liares\n",
      "REF:  podríamos conseguir unirlas\n",
      "HYPO: no tengo ni una carretta no tengo nada\n",
      "REF:  no tengo la carrera no tengo nada\n",
      "HYPO: quiero que entiendan por qué\n",
      "REF:  es lo que quiero buscar\n",
      "HYPO: y me pregunté adónde va a ser\n",
      "REF:  y moncho dijo a dónde va a ser\n",
      "HYPO: qué tuvió en el común todas esas\n",
      "REF:  qué tuvieron en común todas ellas\n",
      "HYPO: y yo estaba muy contento\n",
      "REF:  sí los pantalones\n",
      "HYPO: así que lo tuve claro\n",
      "REF:  así que lo tuve claro\n",
      "HYPO: no hay nada en este mundo que me guste más\n",
      "REF:  no hay nada en este mundo que me guste más\n",
      "HYPO: y el segundo le dice uds\n",
      "REF:  el segundo le dice ud\n",
      "HYPO: y está dentro de su cuerpo\n",
      "REF:  y está dentro de tu cuerpo\n",
      "HYPO: aplausos\n",
      "REF:  aplausos\n",
      "HYPO: lo que tienen al cine para que hagamos un tanto\n",
      "REF:  qué es lo que tiene el cine para que me guste tanto\n",
      "HYPO: visité la casa de antes rehenes\n",
      "REF:  visité la casa de ana frank\n",
      "HYPO: os lo voy a mostrar a un tío abierto\n",
      "REF:  pues os lo voy a demostrar a continuación\n",
      "HYPO: quién preguiudo danza\n",
      "REF:  siempre he querido danzar\n",
      "HYPO: y decirle a ese pueblo\n",
      "REF:  y decirles que se puede\n",
      "HYPO: realmente tienen un brazo en los ojos\n",
      "REF:  realmente tienen razón los dos\n",
      "HYPO: era un ambiente menos olémbrico\n",
      "REF:  era un ambiente muy solemne\n",
      "HYPO: pero son casi iguales\n",
      "REF:  pero somos casi iguales\n",
      "HYPO: que está fuera del lenguaje de la ley\n",
      "REF:  está fuera del lenguaje de la ley\n",
      "HYPO: tú a ver a jesús te lo voy a mostrar\n",
      "REF:  y tú a ver a qué instrumento suenas\n",
      "HYPO: los pequeños se portaron genial\n",
      "REF:  los pequeños se portaron genial\n"
     ]
    },
    {
     "name": "stderr",
     "output_type": "stream",
     "text": [
      " 97%|█████████▋| 136/140 [02:37<00:02,  1.74it/s]"
     ]
    },
    {
     "name": "stdout",
     "output_type": "stream",
     "text": [
      "HYPO: no sé bueno en las relaciones sociales\n",
      "REF:  no soy bueno en las relaciones sociales\n",
      "HYPO: te he traído una sola forma\n",
      "REF:  pepe dijo horacio llorando\n",
      "HYPO: sin ningún capó con ninguna barrera\n",
      "REF:  sin ningún tapujo sin ninguna barrera\n",
      "HYPO: porque está dentro de todo\n",
      "REF:  porque está dentro tuyo\n",
      "HYPO: ese era un ejemplo\n",
      "REF:  ese era un escollo\n",
      "HYPO: acepté y no fue el mundo\n",
      "REF:  acepté y nos fuimos\n",
      "HYPO: si me ocuparé del caso de pet\n",
      "REF:  risas me ocuparé del caso b\n",
      "HYPO: y yo me fui a la universidad de quinto\n",
      "REF:  sonido de platillos y tú a unos platillos\n",
      "HYPO: depende de lo que uno entienda por siempre\n",
      "REF:  depende lo que uno entienda por siempre\n",
      "HYPO: una de cada cuatro\n",
      "REF:  1 de cada 4\n",
      "HYPO: es lo que sube el conocimiento\n",
      "REF:  es lo que quiero encontrar\n",
      "HYPO: la libre la unam la uba\n",
      "REF:  salidas una moneda\n",
      "HYPO: y eso lo hizo porque tuvo miedo\n",
      "REF:  no lo hizo porque tuvo miedo\n",
      "HYPO: esto para qué sirve\n",
      "REF:  esto para qué sirve\n",
      "HYPO: en los presentes sí\n",
      "REF:  tengo los pies limpios eh\n",
      "HYPO: el segundo es más oscuro\n",
      "REF:  el segundo es más oscuro\n",
      "HYPO: y le dije oye está engañado\n",
      "REF:  qué lindo estar acá\n",
      "HYPO: eso fue un fallecioso\n",
      "REF:  bueno eso fue un fake news\n",
      "HYPO: y la pelota ya dejaba de ver\n",
      "REF:  y la peluquería de carmen\n",
      "HYPO: muchas gracias por vuestra atención\n",
      "REF:  muchas gracias por vuestra atención\n",
      "HYPO: imposible\n",
      "REF:  imposible\n",
      "HYPO: y a anita le dijo\n",
      "REF:  me han traído\n",
      "HYPO: parece todo maravilloso no\n",
      "REF:  parece todo maravilloso no\n",
      "HYPO: risas no quería\n",
      "REF:  vale pero y quién lleva razón\n"
     ]
    },
    {
     "name": "stderr",
     "output_type": "stream",
     "text": [
      " 98%|█████████▊| 137/140 [02:37<00:01,  2.00it/s]"
     ]
    },
    {
     "name": "stdout",
     "output_type": "stream",
     "text": [
      "HYPO: animad que gana chica\n",
      "REF:  animaos chicos y chicas\n",
      "HYPO: aunque mucho fracasa\n",
      "REF:  aunque moncho fracase\n",
      "HYPO: y por qué se me acaba\n",
      "REF:  veis como no os engañaba\n",
      "HYPO: y cuál es el tipo de cine que me gusta\n",
      "REF:  y qué tipo de cine me gusta\n",
      "HYPO: qué es el tiempo\n",
      "REF:  y qué es el tiempo\n",
      "HYPO: dónde están nosotros\n",
      "REF:  dónde está el nosotras\n",
      "HYPO: qué significa esto en número\n",
      "REF:  qué significan estos números\n",
      "HYPO: qué es lo que nos suena\n",
      "REF:  es lo que no sé\n",
      "HYPO: estarán en lo que escucho\n",
      "REF:  estará en lo que escucho\n",
      "HYPO: y qué he ido y no\n",
      "REF:  estará en el oído\n",
      "HYPO: tremenda idea\n",
      "REF:  tremenda idea\n",
      "HYPO: y yo dije bueno qué tal\n",
      "REF:  lo ponemos en pantalla grande\n",
      "HYPO: no tiene puertas\n",
      "REF:  no tiene puertas\n",
      "HYPO: qué es lo que te narices\n",
      "REF:  qué es lo que tenés\n",
      "HYPO: regresé gratis\n",
      "REF:  regreso gratis\n",
      "HYPO: cuánta media de software están\n",
      "REF:  cuántas monedas cuestan\n",
      "HYPO: pero es que es mucho más\n",
      "REF:  pero es que es mucho más\n",
      "HYPO: hablamos un montón\n",
      "REF:  hablamos un montón\n",
      "HYPO: y yo no entendía dónde era dormir\n",
      "REF:  hoy no tendría dónde ir a dormir\n",
      "HYPO: qué la ganó este día\n",
      "REF:  claro que sí\n",
      "HYPO: aplausos\n",
      "REF:  aplausos\n",
      "HYPO: a ver qué os gusta\n",
      "REF:  está dentro tuyo\n",
      "HYPO: nos gustábamos preparados\n",
      "REF:  no estábamos preparados\n",
      "HYPO: y a veces a veces a muchos\n",
      "REF:  tiene que ver y mucho\n",
      "HYPO: y quién te dice eso es imposible\n",
      "REF:  tu intuición te dice eso es imposible\n",
      "HYPO: y qué decimos nosotros\n",
      "REF:  y qué decir de moncho\n",
      "HYPO: y si pueden dar eso\n",
      "REF:  se puede dar esto\n"
     ]
    },
    {
     "name": "stderr",
     "output_type": "stream",
     "text": [
      " 99%|█████████▊| 138/140 [02:37<00:00,  2.17it/s]"
     ]
    },
    {
     "name": "stdout",
     "output_type": "stream",
     "text": [
      "HYPO: le dije no\n",
      "REF:  le dije 'no\n",
      "HYPO: y qué es el día\n",
      "REF:  y qué es el día\n",
      "HYPO: yo no me reojo\n",
      "REF:  que en lo que veo\n",
      "HYPO: pero a la confusión sentí\n",
      "REF:  pero algo feo sentí\n",
      "HYPO: por qué caminas en su lugar\n",
      "REF:  por qué caminaste sola\n",
      "HYPO: el asuelo es lo primero que pasa\n",
      "REF:  era todo lo que había hecho\n",
      "HYPO: que cualquier cosa se aprende\n",
      "REF:  más que cualquier diamante\n",
      "HYPO: por qué quieren que lo quieran\n",
      "REF:  para qué quieren peluquera\n",
      "HYPO: una de las mejores ideas que he tenido\n",
      "REF:  cuál es la mejor pieza que puedo usar\n",
      "HYPO: qué sirve hacer esto\n",
      "REF:  para qué sirve hacer esto\n",
      "HYPO: y tu proyecto de lado\n",
      "REF:  y tu proyecto de helado\n",
      "HYPO: qué pasó acá\n",
      "REF:  qué pasó acá\n",
      "HYPO: no se ha cambiado\n",
      "REF:  no tengan miedo\n",
      "HYPO: y darme un fin de cliente\n",
      "REF:  y carmen no tiene clientes\n",
      "HYPO: no se me ve como un árbol\n",
      "REF:  y yo le digo claro\n",
      "HYPO: me gusta lo que veo\n",
      "REF:  o está en lo que veo\n",
      "HYPO: necesito algo fuerte\n",
      "REF:  necesito algo fuerte\n",
      "HYPO: y si no hubiera la misma desenmovía\n",
      "REF:  cómo va a ir a la luna ese muchacho\n",
      "HYPO: después te meto con un hígado\n",
      "REF:  después ya no hubo monedas\n",
      "HYPO: y no tengo eso\n",
      "REF:  no tengo eso\n",
      "HYPO: muy fácil de ver por qué\n",
      "REF:  muy fácil dijo quique\n",
      "HYPO: y con los primeros días\n",
      "REF:  fue alucinante\n",
      "HYPO: son solo ellas\n",
      "REF:  soy sorda\n",
      "HYPO: nos definimos\n",
      "REF:  cómo nos definimos\n",
      "HYPO: es un cológicoprofondo\n",
      "REF:  la ciencia oncológica por ejemplo\n",
      "HYPO: de renecciones\n",
      "REF:  la realidad es otra\n",
      "HYPO: cómo lo hacemos\n",
      "REF:  cómo lo hacemos\n",
      "HYPO: y el mundo lo miró\n",
      "REF:  todo el mundo lo miró\n",
      "HYPO: y ese me quedó en el lugar de europa\n",
      "REF:  así se metió en europa\n",
      "HYPO: aún que fracasen\n",
      "REF:  aunque fracase\n",
      "HYPO: con lo que tiene que hacer\n",
      "REF:  con lo que tenés\n",
      "HYPO: qué puta césar\n",
      "REF:  qué pregunta es esa\n"
     ]
    },
    {
     "name": "stderr",
     "output_type": "stream",
     "text": [
      " 99%|█████████▉| 139/140 [02:38<00:00,  2.41it/s]"
     ]
    },
    {
     "name": "stdout",
     "output_type": "stream",
     "text": [
      "HYPO: adurránse\n",
      "REF:  a tu bar\n",
      "HYPO: no sirve de las malas manchas\n",
      "REF:  para eso sirven las matemáticas\n",
      "HYPO: y lo fueron viendo\n",
      "REF:  y nos fue muy bien\n",
      "HYPO: este para por si estupendas\n",
      "REF:  si te pagan estupendo\n",
      "HYPO: los vecinos lo viven\n",
      "REF:  los vecinos lo miraban\n",
      "HYPO: y le dije tranquilo\n",
      "REF:  tiene mucho sentido\n",
      "HYPO: pero no lo vemos todos\n",
      "REF:  pero no lo demostró\n",
      "HYPO: por qué el terapeuta\n",
      "REF:  y por qué el cine\n",
      "HYPO: por qué viajar solo\n",
      "REF:  por qué viajaste sola\n",
      "HYPO: ah y las películas\n",
      "REF:  ay las películas\n",
      "HYPO: casi igual\n",
      "REF:  casi iguales\n",
      "HYPO: esas que llevas a kenia\n",
      "REF:  escribes genial\n",
      "HYPO: para qué sirve la robótica\n",
      "REF:  para qué sirve el amor\n",
      "HYPO: en la vida\n",
      "REF:  qué es la vida\n",
      "HYPO: no no\n",
      "REF:  no no\n",
      "HYPO: y ha pasado en diario\n",
      "REF:  qué ha pasado este año\n",
      "HYPO: me encanta observar\n",
      "REF:  me encanta observar\n",
      "HYPO: cómo la vida es más\n",
      "REF:  para qué sirve la vida misma\n",
      "HYPO: qué es decir ver la poesía\n",
      "REF:  para qué sirve la poesía\n",
      "HYPO: no había nombres\n",
      "REF:  no había ni un bar\n",
      "HYPO: todos son viables\n",
      "REF:  todo nos fue bien\n",
      "HYPO: de un sos de vida\n",
      "REF:  preguntó sabino\n",
      "HYPO: se paró\n",
      "REF:  se paró\n",
      "HYPO: te llegan al corazón\n",
      "REF:  te llegan al corazón\n",
      "HYPO: no no es un proceso\n",
      "REF:  no penséis mal\n",
      "HYPO: al alejarnos\n",
      "REF:  a la luna\n",
      "HYPO: pero hay mucho trabajo\n",
      "REF:  preguntó sabino\n",
      "HYPO: me dijeron algo\n",
      "REF:  dijeron algunos\n",
      "HYPO: y qué le das\n",
      "REF:  y en asia\n",
      "HYPO: cuánto\n",
      "REF:  y cuánto\n",
      "HYPO: y me bien pierde\n",
      "REF:  muy bien pepe\n",
      "HYPO: buenas tardes\n",
      "REF:  unos cables\n",
      "HYPO: y me encantan los ojos\n",
      "REF:  preguntaron todos\n",
      "HYPO: pobre muy hombre\n",
      "REF:  pobre moncho\n",
      "HYPO: sirve de señal\n",
      "REF:  escribes genial\n",
      "HYPO: se terminó\n",
      "REF:  verdades eternas\n",
      "HYPO: ahí está el problema\n",
      "REF:  ay pepe\n",
      "HYPO: nada de mi gusto\n",
      "REF:  nada de monedas\n"
     ]
    },
    {
     "name": "stderr",
     "output_type": "stream",
     "text": [
      "100%|██████████| 140/140 [02:38<00:00,  1.13s/it]"
     ]
    },
    {
     "name": "stdout",
     "output_type": "stream",
     "text": [
      "HYPO: y niña me miró así\n",
      "REF:  y nina me miró así\n",
      "HYPO: es el trate básico\n",
      "REF:  risas aunque sea de plástico\n",
      "HYPO: gracias\n",
      "REF:  gracias\n",
      "HYPO: la vida\n",
      "REF:  la vida\n",
      "HYPO: me encanta\n",
      "REF:  me encanta\n",
      "HYPO: y dijo quíquen\n",
      "REF:  dijo quique\n",
      "HYPO: vos\n",
      "REF:  vos\n",
      "HYPO: y eso qué es\n",
      "REF:  y eso qué es\n",
      "HYPO: increíble\n",
      "REF:  increíble\n",
      "HYPO: lo que me va a dar para acá\n",
      "REF:  por qué me van a pagar\n",
      "HYPO: fantástico miedo\n",
      "REF:  contad conmigo\n",
      "HYPO: cómo estás hoy\n",
      "REF:  cómo estás hoy\n",
      "HYPO: y los niños\n",
      "REF:  pero moncho\n",
      "HYPO: pero no es así\n",
      "REF:  pero no es así\n",
      "HYPO: criarnos\n",
      "REF:  podría usar triángulos\n",
      "HYPO: no es marketing o cuidad\n",
      "REF:  por más que nos duela\n",
      "HYPO: no es feliz\n",
      "REF:  no os fieis\n",
      "HYPO: pero no yo pierdo\n",
      "REF:  preguntó pepe\n",
      "HYPO: ya se fue\n",
      "REF:  y así fue\n",
      "HYPO: muchas gracias\n",
      "REF:  muchas gracias\n",
      "HYPO: por qué\n",
      "REF:  con qué\n",
      "HYPO: y me dijo me miraba\n",
      "REF:  y mi hija me miraba\n",
      "HYPO: ya está bien\n",
      "REF:  te apuntarías\n",
      "HYPO: hasta arriba\n",
      "REF:  hasta pronto\n",
      "HYPO: qué es lo de la tarea\n",
      "REF:  qué son los del ataque\n",
      "HYPO: es por supuesto\n",
      "REF:  pues por supuesto\n",
      "HYPO: mundo africano\n",
      "REF:  todo el mundo tiene\n",
      "HYPO: sí\n",
      "REF:  che\n",
      "HYPO: muy común\n",
      "REF:  dijo quique\n",
      "HYPO: pues no\n",
      "REF:  pues no\n",
      "HYPO: gracias\n",
      "REF:  qué esperás\n",
      "HYPO: muchas gracias\n",
      "REF:  muchas gracias\n",
      "HYPO: no se pico\n",
      "REF:  se los explico\n",
      "HYPO: muy bien\n",
      "REF:  qué buena idea\n",
      "HYPO: no lo sé\n",
      "REF:  no no suenas\n",
      "HYPO: gracias\n",
      "REF:  gracias\n",
      "HYPO: no\n",
      "REF:  moncho\n",
      "HYPO: qué hicimos\n",
      "REF:  qué hicimos\n",
      "HYPO: bueno\n",
      "REF:  pues\n",
      "HYPO: y yo digo\n",
      "REF:  dijo\n",
      "HYPO: eso\n",
      "REF:  esto\n",
      "HYPO: oiga\n",
      "REF:  oigan\n",
      "HYPO: no\n",
      "REF:  ay\n",
      "HYPO: gracias\n",
      "REF:  claro\n",
      "HYPO: a qué\n",
      "REF:  ah\n",
      "HYPO: muchas gracias\n",
      "REF:  gracias\n",
      "HYPO: no\n",
      "REF:  no\n",
      "HYPO: a qué\n",
      "REF:  ay\n"
     ]
    },
    {
     "name": "stderr",
     "output_type": "stream",
     "text": [
      "\n"
     ]
    }
   ],
   "source": [
    "# decode on noisy audio\n",
    "hypo, refs = decode_model(num_batches=-1)"
   ]
  },
  {
   "cell_type": "code",
   "execution_count": 20,
   "metadata": {
    "colab": {
     "base_uri": "https://localhost:8080/"
    },
    "id": "kbgjdDu578Wi",
    "outputId": "1ff04ba0-c68e-4418-e999-2f2fbcd53525"
   },
   "outputs": [
    {
     "name": "stdout",
     "output_type": "stream",
     "text": [
      "WER : 38.6676\n"
     ]
    }
   ],
   "source": [
    "get_score()"
   ]
  },
  {
   "cell_type": "markdown",
   "metadata": {},
   "source": [
    "##### Noisy: the paper reports WER of 33.6 for Es, but that is with beam size = 5. WER of 38.7 is with beam size 1."
   ]
  }
 ],
 "metadata": {
  "accelerator": "GPU",
  "colab": {
   "gpuType": "T4",
   "provenance": []
  },
  "kernelspec": {
   "display_name": "muavic",
   "language": "python",
   "name": "python3"
  },
  "language_info": {
   "codemirror_mode": {
    "name": "ipython",
    "version": 3
   },
   "file_extension": ".py",
   "mimetype": "text/x-python",
   "name": "python",
   "nbconvert_exporter": "python",
   "pygments_lexer": "ipython3",
   "version": "3.8.16"
  }
 },
 "nbformat": 4,
 "nbformat_minor": 0
}
