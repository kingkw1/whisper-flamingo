{
 "cells": [
  {
   "cell_type": "markdown",
   "metadata": {},
   "source": [
    " # Download the lrs2 dataset\n",
    " reference: https://github.com/burchim/AVEC/blob/master/nnet/datasets.py"
   ]
  },
  {
   "cell_type": "code",
   "execution_count": 12,
   "metadata": {},
   "outputs": [],
   "source": [
    "import requests\n",
    "import os\n",
    "from tqdm import tqdm"
   ]
  },
  {
   "cell_type": "code",
   "execution_count": null,
   "metadata": {},
   "outputs": [],
   "source": [
    "def download_file(url, path):\n",
    "    # Download, Open and Write\n",
    "    with requests.get(url, auth=('username', 'password'), stream=True) as r:\n",
    "        with open(path, 'wb') as f:\n",
    "            for chunk in tqdm(r.iter_content(chunk_size=1024)):\n",
    "                f.write(chunk)"
   ]
  },
  {
   "cell_type": "code",
   "execution_count": 6,
   "metadata": {},
   "outputs": [],
   "source": [
    "output_root = '/data/sls/scratch/roudi/datasets/lrs2'"
   ]
  },
  {
   "cell_type": "code",
   "execution_count": null,
   "metadata": {},
   "outputs": [],
   "source": [
    "download_root = 'https://thor.robots.ox.ac.uk//lip_reading/data2/'"
   ]
  },
  {
   "cell_type": "code",
   "execution_count": 16,
   "metadata": {},
   "outputs": [
    {
     "name": "stderr",
     "output_type": "stream",
     "text": [
      "36it [00:00, 22492.92it/s]\n"
     ]
    }
   ],
   "source": [
    "files = ['pretrain.txt', 'train.txt', 'val.txt', 'test.txt']\n",
    "for file in files:\n",
    "    output_file = os.path.join(output_root, file)\n",
    "    if not os.path.exists(output_file):\n",
    "        download_file(download_root + file, output_file)"
   ]
  },
  {
   "cell_type": "code",
   "execution_count": null,
   "metadata": {},
   "outputs": [
    {
     "name": "stderr",
     "output_type": "stream",
     "text": [
      "52359030it [26:39, 32729.47it/s]\n"
     ]
    }
   ],
   "source": [
    "file = 'lrs2_v1.tar'\n",
    "output_file = os.path.join(output_root, file)\n",
    "download_file(download_root + file, output_file)"
   ]
  },
  {
   "cell_type": "code",
   "execution_count": null,
   "metadata": {},
   "outputs": [],
   "source": []
  }
 ],
 "metadata": {
  "kernelspec": {
   "display_name": "muavic",
   "language": "python",
   "name": "python3"
  },
  "language_info": {
   "codemirror_mode": {
    "name": "ipython",
    "version": 3
   },
   "file_extension": ".py",
   "mimetype": "text/x-python",
   "name": "python",
   "nbconvert_exporter": "python",
   "pygments_lexer": "ipython3",
   "version": "3.8.16"
  }
 },
 "nbformat": 4,
 "nbformat_minor": 2
}
