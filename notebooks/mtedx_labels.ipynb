{
 "cells": [
  {
   "cell_type": "code",
   "execution_count": null,
   "metadata": {},
   "outputs": [],
   "source": [
    "muavic_root = '/data/sls/scratch/roudi/datasets/muavic/muavic'"
   ]
  },
  {
   "cell_type": "markdown",
   "metadata": {},
   "source": [
    "# Normalize the MuAViC / mTedX text"
   ]
  },
  {
   "cell_type": "code",
   "execution_count": 2,
   "metadata": {},
   "outputs": [],
   "source": [
    "import unicodedata\n",
    "import sacrebleu as sb\n",
    "import re\n",
    "tokenizer = sb.BLEU(tokenize=str('13a')).tokenizer\n",
    "\n",
    "def normalize_text(sent):\n",
    "    tokenized = tokenizer(sent)\n",
    "    text = ' '.join(\n",
    "        t\n",
    "        for t in tokenized.split(' ')\n",
    "        if not all(unicodedata.category(c)[0] == \"P\" for c in t)\n",
    "    )\n",
    "    # text = re.sub(r\"[^\\w\\s]\", \"\", text)\n",
    "    text = re.sub(r\"[^\\w\\s']\", \"\", text) # remove everything except apostrophe\n",
    "    # text = re.sub(r'[¿¡“”]', '', text) # remove more puncutation\n",
    "    text = re.sub(r\"'([^']*)'\", r\"\\1\", text) # remove double pair of single apostreophe\n",
    "    return text.lower()"
   ]
  },
  {
   "cell_type": "code",
   "execution_count": 28,
   "metadata": {},
   "outputs": [],
   "source": [
    "import os\n",
    "for lang in ['es', 'fr', 'it', 'pt']:\n",
    "    for split in ['train', 'valid', 'test']:\n",
    "        os.makedirs(os.path.join(muavic_root, lang, 'muavic_normalized'), exist_ok=True)\n",
    "        label = os.path.join(muavic_root, lang, split + '.' + lang)\n",
    "        output = os.path.join(muavic_root, lang, 'muavic_normalized', split + '.' + lang)\n",
    "        with open(label, 'r') as label_in, open(output, 'w') as label_out:\n",
    "            for line in label_in:\n",
    "                normalized_line = normalize_text(line.strip())\n",
    "                label_out.write(normalized_line + '\\n')\n"
   ]
  },
  {
   "cell_type": "code",
   "execution_count": null,
   "metadata": {},
   "outputs": [],
   "source": [
    "# setup low resource langs\n",
    "import os\n",
    "import shutil\n",
    "for lang in ['ar', 'de', 'el', 'ru']:\n",
    "    for split in ['train', 'valid', 'test']:\n",
    "        os.makedirs(os.path.join(muavic_root, lang, 'muavic_normalized'), exist_ok=True)\n",
    "        label = os.path.join(muavic_root, lang, split + '.' + lang)\n",
    "        output = os.path.join(muavic_root, lang, 'muavic_normalized', split + '.' + lang)\n",
    "        with open(label, 'r') as label_in, open(output, 'w') as label_out:\n",
    "            for line in label_in:\n",
    "                normalized_line = normalize_text(line.strip())\n",
    "                label_out.write(normalized_line + '\\n')\n",
    "        tsv_in = os.path.join(muavic_root, lang, split + '.tsv')\n",
    "        tsv_out = os.path.join(muavic_root, lang, 'muavic_normalized', split + '.tsv')\n",
    "        shutil.copyfile(tsv_in, tsv_out)"
   ]
  },
  {
   "cell_type": "code",
   "execution_count": null,
   "metadata": {},
   "outputs": [],
   "source": []
  }
 ],
 "metadata": {
  "kernelspec": {
   "display_name": "muavic",
   "language": "python",
   "name": "python3"
  },
  "language_info": {
   "codemirror_mode": {
    "name": "ipython",
    "version": 3
   },
   "file_extension": ".py",
   "mimetype": "text/x-python",
   "name": "python",
   "nbconvert_exporter": "python",
   "pygments_lexer": "ipython3",
   "version": "3.8.16"
  }
 },
 "nbformat": 4,
 "nbformat_minor": 2
}
