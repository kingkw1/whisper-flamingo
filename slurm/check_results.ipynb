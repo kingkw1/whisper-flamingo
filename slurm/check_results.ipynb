{
 "cells": [
  {
   "cell_type": "markdown",
   "metadata": {},
   "source": [
    "After submitting all jobs with `source slurm/whisper_decode_video_slurm_wrapper.sh`, use this notebook to print the results of all decoding runs. It will load the decoding WER / BLEU scores and print them in a convinient table."
   ]
  },
  {
   "cell_type": "code",
   "execution_count": 9,
   "metadata": {},
   "outputs": [
    {
     "name": "stdout",
     "output_type": "stream",
     "text": [
      "../decode/models/whisper-flamingo_en-x_small.pt/en/test/asr/snr-1000/visible-0/beam-15/muavic/wer.368862\n",
      "../decode/models/whisper-flamingo_en-x_small.pt/en/test/avsr/snr-1000/visible-0/beam-15/muavic/wer.368862\n",
      "../decode/models/whisper-flamingo_en-x_small.pt/en/test/asr/snr-0/visible-0/beam-15/muavic/wer.368862\n",
      "../decode/models/whisper-flamingo_en-x_small.pt/en/test/avsr/snr-0/visible-0/beam-15/muavic/wer.368862\n",
      "../decode/models/whisper-flamingo_en-x_small.pt/el/test/asr/snr-1000/visible-0/beam-15/muavic/bleu.368862\n",
      "../decode/models/whisper-flamingo_en-x_small.pt/el/test/avsr/snr-1000/visible-0/beam-15/muavic/bleu.368862\n",
      "../decode/models/whisper-flamingo_en-x_small.pt/el/test/asr/snr-0/visible-0/beam-15/muavic/bleu.368862\n",
      "../decode/models/whisper-flamingo_en-x_small.pt/el/test/avsr/snr-0/visible-0/beam-15/muavic/bleu.368862\n",
      "../decode/models/whisper-flamingo_en-x_small.pt/es/test/asr/snr-1000/visible-0/beam-15/muavic/bleu.368862\n",
      "../decode/models/whisper-flamingo_en-x_small.pt/es/test/avsr/snr-1000/visible-0/beam-15/muavic/bleu.368862\n",
      "../decode/models/whisper-flamingo_en-x_small.pt/es/test/asr/snr-0/visible-0/beam-15/muavic/bleu.368862\n",
      "../decode/models/whisper-flamingo_en-x_small.pt/es/test/avsr/snr-0/visible-0/beam-15/muavic/bleu.368862\n",
      "../decode/models/whisper-flamingo_en-x_small.pt/fr/test/asr/snr-1000/visible-0/beam-15/muavic/bleu.368862\n",
      "../decode/models/whisper-flamingo_en-x_small.pt/fr/test/avsr/snr-1000/visible-0/beam-15/muavic/bleu.368862\n",
      "../decode/models/whisper-flamingo_en-x_small.pt/fr/test/asr/snr-0/visible-0/beam-15/muavic/bleu.368862\n",
      "../decode/models/whisper-flamingo_en-x_small.pt/fr/test/avsr/snr-0/visible-0/beam-15/muavic/bleu.368862\n",
      "../decode/models/whisper-flamingo_en-x_small.pt/it/test/asr/snr-1000/visible-0/beam-15/muavic/bleu.368862\n",
      "../decode/models/whisper-flamingo_en-x_small.pt/it/test/avsr/snr-1000/visible-0/beam-15/muavic/bleu.368862\n",
      "../decode/models/whisper-flamingo_en-x_small.pt/it/test/asr/snr-0/visible-0/beam-15/muavic/bleu.368862\n",
      "../decode/models/whisper-flamingo_en-x_small.pt/it/test/avsr/snr-0/visible-0/beam-15/muavic/bleu.368862\n",
      "../decode/models/whisper-flamingo_en-x_small.pt/pt/test/asr/snr-1000/visible-0/beam-15/muavic/bleu.368862\n",
      "../decode/models/whisper-flamingo_en-x_small.pt/pt/test/avsr/snr-1000/visible-0/beam-15/muavic/bleu.368862\n",
      "../decode/models/whisper-flamingo_en-x_small.pt/pt/test/asr/snr-0/visible-0/beam-15/muavic/bleu.368862\n",
      "../decode/models/whisper-flamingo_en-x_small.pt/pt/test/avsr/snr-0/visible-0/beam-15/muavic/bleu.368862\n",
      "../decode/models/whisper-flamingo_en-x_small.pt/ru/test/asr/snr-1000/visible-0/beam-15/muavic/bleu.368862\n",
      "../decode/models/whisper-flamingo_en-x_small.pt/ru/test/avsr/snr-1000/visible-0/beam-15/muavic/bleu.368862\n",
      "../decode/models/whisper-flamingo_en-x_small.pt/ru/test/asr/snr-0/visible-0/beam-15/muavic/bleu.368862\n",
      "../decode/models/whisper-flamingo_en-x_small.pt/ru/test/avsr/snr-0/visible-0/beam-15/muavic/bleu.368862\n"
     ]
    }
   ],
   "source": [
    "import os\n",
    "# NOTE: select checkpoint to run\n",
    "checkpoint='whisper-flamingo_en-x_small.pt'\n",
    "\n",
    "noises =[1000, 0] # clean, 0\n",
    "modalities = ['asr', 'avsr']\n",
    "\n",
    "# select the beam size\n",
    "# beam = 1\n",
    "beam = 15\n",
    "\n",
    "# root = '../decode/models/checkpoint/'\n",
    "root = '../decode/models/'\n",
    "langs = ['en', 'el', 'es', 'fr', 'it', 'pt', 'ru'] \n",
    "\n",
    "noise_fn = 'muavic'\n",
    "# noise_fn = 'lrs3'\n",
    "\n",
    "results = {lang: {modality: {noise: 0 for noise in noises} for modality in modalities} for lang in langs}\n",
    "for lang in langs:\n",
    "    for noise in noises:\n",
    "        for modality in modalities:\n",
    "            try:\n",
    "                file = 'wer.368862' if lang == 'en' else 'bleu.368862'\n",
    "                print(os.path.join(root, checkpoint, lang, 'test', modality, 'snr-{}'.format(noise), 'visible-0', 'beam-{}'.format(beam), noise_fn, file))\n",
    "                with open(os.path.join(root, checkpoint, lang, 'test', modality, 'snr-{}'.format(noise), 'visible-0', 'beam-{}'.format(beam), noise_fn, file)) as f:                    \n",
    "                    first_line = f.readline().strip('\\n')\n",
    "                    prefix = 5 if lang == 'en' else 6\n",
    "                    results[lang][modality][noise] = round(float(first_line[prefix:]), 1)\n",
    "            except:\n",
    "                continue"
   ]
  },
  {
   "cell_type": "code",
   "execution_count": 10,
   "metadata": {},
   "outputs": [
    {
     "name": "stdout",
     "output_type": "stream",
     "text": [
      "whisper-flamingo_en-x_small.pt\n",
      "Languages en el es fr it pt ru \n",
      "Audio-Clean 0 0 0 0 0 0 0 \n",
      "Audio-Visual-Clean 2.0 22.7 27.0 24.7 20.7 21.3 15.5 \n",
      "Audio-Babble-LRS3 0 0 0 0 0 0 0 \n",
      "Audio-Visual-Babble-LRS3 10.6 18.9 22.1 21.1 17.1 18.3 13.1 \n"
     ]
    }
   ],
   "source": [
    "# Extract languages\n",
    "languages = list(results.keys())\n",
    "\n",
    "# Extract results\n",
    "audio_clean = [results[lang][modalities[0]][noises[0]] for lang in languages]\n",
    "audio_visual_clean = [results[lang][modalities[1]][noises[0]] for lang in languages]\n",
    "audio_babble_lrs3 = [results[lang][modalities[0]][noises[1]] for lang in languages]\n",
    "audio_visual_babble_lrs3 = [results[lang][modalities[1]][noises[1]] for lang in languages]\n",
    "\n",
    "# Print table headers\n",
    "print(checkpoint)\n",
    "# Print language row\n",
    "print('Languages ', end='')\n",
    "for lang in languages:\n",
    "    print(lang + ' ', end='')\n",
    "print()\n",
    "\n",
    "# Print Audio-Clean row\n",
    "print('Audio-Clean ', end='')\n",
    "for val in audio_clean:\n",
    "    print(str(val) + ' ', end='')\n",
    "print()\n",
    "\n",
    "# Print Audio-Visual-Clean row\n",
    "print('Audio-Visual-Clean ', end='')\n",
    "for val in audio_visual_clean:\n",
    "    print(str(val) + ' ', end='')\n",
    "print()\n",
    "\n",
    "# Print Audio-Babble row\n",
    "print('Audio-Babble-LRS3 ', end='')\n",
    "for val in audio_babble_lrs3:\n",
    "    print(str(val) + ' ', end='')\n",
    "print()\n",
    "\n",
    "# Print Audio-Visual-Babble row\n",
    "print('Audio-Visual-Babble-LRS3 ', end='')\n",
    "for val in audio_visual_babble_lrs3:\n",
    "    print(str(val) + ' ', end='')\n",
    "print()\n"
   ]
  },
  {
   "cell_type": "code",
   "execution_count": null,
   "metadata": {},
   "outputs": [],
   "source": []
  }
 ],
 "metadata": {
  "kernelspec": {
   "display_name": "muavic",
   "language": "python",
   "name": "python3"
  },
  "language_info": {
   "codemirror_mode": {
    "name": "ipython",
    "version": 3
   },
   "file_extension": ".py",
   "mimetype": "text/x-python",
   "name": "python",
   "nbconvert_exporter": "python",
   "pygments_lexer": "ipython3",
   "version": "3.8.16"
  }
 },
 "nbformat": 4,
 "nbformat_minor": 2
}
